{
 "cells": [
  {
   "cell_type": "markdown",
   "id": "6aa5eeff-aad0-4fa5-9b9a-5c70ae0f5eb8",
   "metadata": {},
   "source": [
    "### Units 1 - 6 Summative Project\n",
    "\n",
    "In this project, you will write a Python program to create a basic calculator.  The specifications for this project are as follows:\n",
    "\n",
    "1) You will ask the user for 3 different inputs - two will be numbers to be operated on, and one will ask for the operation to be used.  You will save these three items to properly named variables.\n",
    "\n",
    "2) You will cast the variables to different types as needed (note, consider what types of items you are asking for and cast appropriately.\n",
    "\n",
    "3) Your casting of variables must occur in side of a try/except framework.\n",
    "\n",
    "4) You will create 5 different functions - one each for addition, subtraction, multiplication, division, and exponentiation.  Each function will require two parameters.  The function will apply the appropriate operation to the two parameters and return the result.\n",
    "\n",
    "5) Using boolean conditional structure if/elif/else, you will calculate the answer using the appropriate operator.  For example, if the user has selected multiplication, your if/else structure will calculate the answer by calling the multiplication function and passing the arguments.  You will save the result of the calculation in an answer variable.\n",
    "\n",
    "6) You will then format a string that describes the operation and the result.  An example string would be \"5.6 * 10 equals 56\".  You must use either an f-style formatted string or utilize the .format() method.  You will pass the two given numeric variables and the answer into the formatted string.\n",
    "\n",
    "7) Print the formatted string.\n",
    "\n",
    "8) Your code must include comments documenting each significant block of code.  You must also include docstrings in all of your functions."
   ]
  },
  {
   "cell_type": "code",
   "execution_count": 16,
   "id": "c1b37452-4512-48be-b8d0-7361717fbbf0",
   "metadata": {},
   "outputs": [
    {
     "name": "stdin",
     "output_type": "stream",
     "text": [
      "Enter a number:  9\n",
      "Enter another number:  8\n",
      "Enter the operator:  *\n"
     ]
    }
   ],
   "source": [
    "# Ask the user for 3 inputs, two numbers and an operation to be carried out\n",
    "# Prompt the user to type the appropriate operator (i.e., + for addition, etc.)\n",
    "# Add comments to describe what you are doing in the code\n",
    "\n",
    "int1 = input(\"Enter a number: \") #getting a string for the first and second num\n",
    "int2 = input(\"Enter another number: \") \n",
    "opp = input(\"Enter the operator: \") #getting a string for the operator\n"
   ]
  },
  {
   "cell_type": "code",
   "execution_count": 18,
   "id": "b7b16fc3-6368-479e-a967-823e60465582",
   "metadata": {},
   "outputs": [],
   "source": [
    "# Cast the numeric variables appropriately\n",
    "# Make sure you cast inside of try/except blocks\n",
    "# To handle exception, print an appropriate message to the user\n",
    "# Make comments to describe what you are doing in the code\n",
    "\n",
    "try:\n",
    "    int1 = int(int1)\n",
    "    int2 = int(int2)\n",
    "\n",
    "except:\n",
    "    print(\"Invalid format\")"
   ]
  },
  {
   "cell_type": "code",
   "execution_count": 20,
   "id": "45bb3a66-4d96-44f8-8489-d9e5509b1564",
   "metadata": {},
   "outputs": [],
   "source": [
    "# Define 5 different functions for each of the operations\n",
    "# Addition, subtraction, multiplication, division, exponentiation\n",
    "# Make sure to include docstrings in your functions\n",
    "\n",
    "def add (int1, int2):\n",
    "    '''\n",
    "    This function adds 2 numbers together\n",
    "    \n",
    "    args: integer 1 and 2\n",
    "    \n",
    "    Returns the sum of the 2 integers\n",
    "    '''\n",
    "    return (int1 + int2)\n",
    "\n",
    "def sub (int1, int2):\n",
    "    '''\n",
    "    This function subtracts 2 numbers\n",
    "    \n",
    "    args: integer 1 and 2\n",
    "    \n",
    "    Returns the difference of the 2 integers\n",
    "    '''\n",
    "    return (int1 - int2)\n",
    "\n",
    "def multi (int1, int2):\n",
    "    '''\n",
    "    This function multiplies 2 numbers together\n",
    "    \n",
    "    args: integer 1 and 2\n",
    "    \n",
    "    Returns the product of the 2 integers\n",
    "    '''\n",
    "    return (int1 * int2)\n",
    "\n",
    "def divide (int1, int2):\n",
    "    '''\n",
    "    This function divides 2 numbers\n",
    "    \n",
    "    args: integer 1 and 2\n",
    "    \n",
    "    Returns the division of the 2 integers\n",
    "    '''\n",
    "    return (int1 / int2)\n",
    "\n",
    "def expo (int1, int2):\n",
    "    '''\n",
    "    This function puts one number to the exponent of another\n",
    "    \n",
    "    args: integer 1 and 2\n",
    "    \n",
    "    Returns the sum of the exponent of the number\n",
    "    '''\n",
    "    return (int1 ** int2)\n",
    "    "
   ]
  },
  {
   "cell_type": "code",
   "execution_count": 22,
   "id": "c4e82057-1c65-46b7-8b07-22a471e36845",
   "metadata": {},
   "outputs": [],
   "source": [
    "# Use a conditional structure to calculate the answer\n",
    "# Save the result in an answer variable\n",
    "# Make comments to describe what you are doing in the code\n",
    "\n",
    "answer = 0 #setting a default value to answer\n",
    "\n",
    "if opp == \"+\": #checking if the operator is addition\n",
    "    answer = add(int1, int2)\n",
    "elif opp == \"-\": #checking if the operator is subtraction\n",
    "    answer = sub(int1, int2)\n",
    "elif opp == \"*\": #checking if the operator is multiplication\n",
    "    answer = multi(int1, int2)\n",
    "elif opp == \"/\": #checking if the operator is division\n",
    "    answer = divide(int1, int2)\n",
    "elif opp == \"**\": #checking if the operator is exponent\n",
    "    answer = expo(int1, int2)\n",
    "else: #if not any of them, invalid input and revert to default value\n",
    "    print(\"Invalid operation, setting num to default value\")"
   ]
  },
  {
   "cell_type": "code",
   "execution_count": 24,
   "id": "0b08ef7c-f5f0-4d95-a878-8b45268a9cfc",
   "metadata": {},
   "outputs": [
    {
     "name": "stdout",
     "output_type": "stream",
     "text": [
      "9 * 8 is equal to 72\n"
     ]
    }
   ],
   "source": [
    "# Create a formatted string that prints a result message\n",
    "# Include the operands, the operator and the result in the message\n",
    "# Use ONLY f-style or .format() method to create your string\n",
    "# Make comments to describe what you are doing in the code\n",
    "\n",
    "print(f\"{int1} {opp} {int2} is equal to {answer}\") #prints out with formatting each number and operator in"
   ]
  }
 ],
 "metadata": {
  "kernelspec": {
   "display_name": "anaconda-2022.05-py39",
   "language": "python",
   "name": "conda-env-anaconda-2022.05-py39-py"
  },
  "language_info": {
   "codemirror_mode": {
    "name": "ipython",
    "version": 3
   },
   "file_extension": ".py",
   "mimetype": "text/x-python",
   "name": "python",
   "nbconvert_exporter": "python",
   "pygments_lexer": "ipython3",
   "version": "3.9.12"
  }
 },
 "nbformat": 4,
 "nbformat_minor": 5
}
