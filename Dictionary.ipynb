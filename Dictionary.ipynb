{
 "cells": [
  {
   "cell_type": "code",
   "execution_count": 7,
   "id": "5b3ce4f2-9af0-4ae4-acdd-a285e0f5c5ab",
   "metadata": {},
   "outputs": [
    {
     "name": "stdout",
     "output_type": "stream",
     "text": [
      "['Bluffton', 'Harriston', 'Billsburg', 'Milton', 'Marcustown']\n",
      "[346, 908, 505, 243, 242]\n",
      "('Billsburg', 505)\n",
      "Bluffton\n",
      "Harriston\n",
      "Billsburg\n",
      "Milton\n",
      "Marcustown\n",
      "Bluffton 346\n",
      "Harriston 908\n",
      "Billsburg 505\n",
      "Milton 243\n",
      "Marcustown 242\n"
     ]
    }
   ],
   "source": [
    "dict1 = {\"Bluffton\" : 346, \"Harriston\": 908, \"Billsburg\": 505, \"Milton\": 243}\n",
    "\n",
    "#print(dict1[\"Milton\"])\n",
    "\n",
    "dict1[\"Marcustown\"] = 242\n",
    "\n",
    "#print(dict1)\n",
    "\n",
    "print(list(dict1.keys())) #getting only keys\n",
    "print(list(dict1.values())) #getting only values\n",
    "#print(list(dict1.items())) #can be indexed\n",
    "\n",
    "items = list(dict1.items())\n",
    "print(items[2])\n",
    "\n",
    "for item in dict1:\n",
    "    print(item)\n",
    "\n",
    "for key, value in dict1.items():\n",
    "    print(key, value)"
   ]
  },
  {
   "cell_type": "code",
   "execution_count": null,
   "id": "c51cdab4-4751-41a0-b959-d2050ed7e57a",
   "metadata": {},
   "outputs": [],
   "source": []
  }
 ],
 "metadata": {
  "kernelspec": {
   "display_name": "anaconda-panel-2023.05-py310",
   "language": "python",
   "name": "conda-env-anaconda-panel-2023.05-py310-py"
  },
  "language_info": {
   "codemirror_mode": {
    "name": "ipython",
    "version": 3
   },
   "file_extension": ".py",
   "mimetype": "text/x-python",
   "name": "python",
   "nbconvert_exporter": "python",
   "pygments_lexer": "ipython3",
   "version": "3.11.5"
  }
 },
 "nbformat": 4,
 "nbformat_minor": 5
}
