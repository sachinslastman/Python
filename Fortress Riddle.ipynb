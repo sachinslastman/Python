{
 "cells": [
  {
   "cell_type": "code",
   "execution_count": 3,
   "id": "d937a7e1-1c0b-44c6-95f0-f449c3c235a8",
   "metadata": {},
   "outputs": [
    {
     "name": "stdout",
     "output_type": "stream",
     "text": [
      "There will need to be 23 wall segments which will to be 43 meters long and an additional 1 wall segment(s) that's 11 meters long.\n"
     ]
    }
   ],
   "source": [
    "def calcWall(a, b, c, length):\n",
    "    nums = []\n",
    "    newNums = []\n",
    "    valid = True\n",
    "    \n",
    "    #Creating all the invalid combinations of numbers\n",
    "    for x in range(0, 10):\n",
    "        for y in range(0, 10):\n",
    "            for z in range (0, 10):\n",
    "                if (a*z + b*y + c*x < 100):\n",
    "                    nums.append(a*z + b*y + c*x)\n",
    "                    nums = list(set(nums))\n",
    "    \n",
    "    #Checking to see if a number is in the invalid list and adds the inverse to a valid list\n",
    "    for num in range (0, len(nums)):\n",
    "        if num not in nums:\n",
    "            newNums.append(num)\n",
    "            newNums.sort(reverse=True)\n",
    "\n",
    "    #Checking for an invalid combination and handling the error\n",
    "    if (len(newNums) < 1):\n",
    "        return (\"There is no possible wall length for the combination inputted\")\n",
    "    \n",
    "    #Finding the main wall length and the leftover segments    \n",
    "    mainLen = max(newNums)\n",
    "    leftOver = length%mainLen\n",
    "    \n",
    "    #Immediately printing out the result if there is no leftover\n",
    "    if (length%mainLen == 0):\n",
    "        return (f\"There will need to be {length//mainLen} wall segments which need to be {mainLen} meters long.\")\n",
    "    \n",
    "    #Calculating the leftover from the max to the min and using a multiple to try and check for multiple leftover pieces\n",
    "    else:\n",
    "        for n in range (0, len(newNums)):\n",
    "            for a in range (1, 10):\n",
    "                if (leftOver//(newNums[n]*a) == 1):\n",
    "                    return(f\"There will need to be {length//mainLen} wall segments which will to be {mainLen} meters long and an additional {a} wall segment(s) that's {newNums[n]} meters long.\") \n",
    "        \n",
    "                \n",
    "        \n",
    "\n",
    "print(calcWall(6, 9, 20, 1000))"
   ]
  },
  {
   "cell_type": "code",
   "execution_count": null,
   "id": "f9e3d883-ca06-4746-9abd-bc2ce16e6c37",
   "metadata": {},
   "outputs": [],
   "source": []
  }
 ],
 "metadata": {
  "kernelspec": {
   "display_name": "anaconda-panel-2023.05-py310",
   "language": "python",
   "name": "conda-env-anaconda-panel-2023.05-py310-py"
  },
  "language_info": {
   "codemirror_mode": {
    "name": "ipython",
    "version": 3
   },
   "file_extension": ".py",
   "mimetype": "text/x-python",
   "name": "python",
   "nbconvert_exporter": "python",
   "pygments_lexer": "ipython3",
   "version": "3.11.5"
  }
 },
 "nbformat": 4,
 "nbformat_minor": 5
}
