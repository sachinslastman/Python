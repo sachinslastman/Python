{
 "cells": [
  {
   "cell_type": "code",
   "execution_count": 63,
   "id": "b9a48592-6914-4766-9d89-741232ce3a2a",
   "metadata": {},
   "outputs": [],
   "source": [
    "a = \"Raleigh\"\n",
    "a = \"North Carolina\".upper()\n",
    "b = [\"a\", 1, a]"
   ]
  },
  {
   "cell_type": "code",
   "execution_count": 67,
   "id": "e319c052-cf9e-470b-8c6a-dcf855a3d209",
   "metadata": {},
   "outputs": [
    {
     "name": "stdout",
     "output_type": "stream",
     "text": [
      "<class 'list'>\n",
      "A\n"
     ]
    }
   ],
   "source": [
    "print(type(b))\n",
    "print(b[2][7])"
   ]
  },
  {
   "cell_type": "code",
   "execution_count": 69,
   "id": "a73860a9-59d8-449f-a15d-dd4830cb9d17",
   "metadata": {},
   "outputs": [],
   "source": [
    "data = [('Dan', 34, 'Raleigh'), ('Rob', 40, 'Cary'), ('Anne', 29, 'Apex'), ('Emma', 31, 'Garner')]"
   ]
  },
  {
   "cell_type": "code",
   "execution_count": 120,
   "id": "c887bae6-5be8-4ac0-8b42-a13bb8f28c8b",
   "metadata": {},
   "outputs": [
    {
     "name": "stdout",
     "output_type": "stream",
     "text": [
      "('Rob', 40)\n"
     ]
    }
   ],
   "source": [
    "print(data[1][0:2])"
   ]
  },
  {
   "cell_type": "code",
   "execution_count": 236,
   "id": "e96b3e1d-235e-4d1c-a8f4-5585acbab87d",
   "metadata": {},
   "outputs": [],
   "source": [
    "a = [2,3,4]"
   ]
  },
  {
   "cell_type": "code",
   "execution_count": 232,
   "id": "46f65b6a-44ff-4e51-a401-e80939da93d2",
   "metadata": {},
   "outputs": [
    {
     "name": "stdout",
     "output_type": "stream",
     "text": [
      "[2, 3, 3.5, 4, 6]\n",
      "[2, 3, 3.5, 4, 6, 6]\n",
      "[2, 3, 3.5, 3.5, 4, 6, 6]\n",
      "0\n",
      "2\n",
      "[2, 3, 3.5, 3.5, 4, 6] 6\n"
     ]
    }
   ],
   "source": [
    "print(a)\n",
    "a.append(6)\n",
    "print(a)\n",
    "a.insert(2, 3.5)\n",
    "print(a)\n",
    "print(a.index(2))\n",
    "print(a.count(6))\n",
    "b = a.pop(-1)\n",
    "print(a, b)"
   ]
  },
  {
   "cell_type": "code",
   "execution_count": 200,
   "id": "b3d75c1c-fe14-40bf-9ebb-607abbe0d5f8",
   "metadata": {},
   "outputs": [],
   "source": [
    "s = \"str\"\n",
    "s = s.lower()"
   ]
  },
  {
   "cell_type": "code",
   "execution_count": 238,
   "id": "becd0bf5-4eac-4804-8290-e6e89352c8e7",
   "metadata": {},
   "outputs": [
    {
     "name": "stdout",
     "output_type": "stream",
     "text": [
      "[2, 3, 4, 5, 6, 7]\n"
     ]
    }
   ],
   "source": [
    "c = [5,6,7]\n",
    "d = a + c\n",
    "print(d)"
   ]
  },
  {
   "cell_type": "code",
   "execution_count": null,
   "id": "ff95c8f5-be5b-4ade-ad65-01bd71e12c5e",
   "metadata": {},
   "outputs": [],
   "source": []
  }
 ],
 "metadata": {
  "kernelspec": {
   "display_name": "anaconda-panel-2023.05-py310",
   "language": "python",
   "name": "conda-env-anaconda-panel-2023.05-py310-py"
  },
  "language_info": {
   "codemirror_mode": {
    "name": "ipython",
    "version": 3
   },
   "file_extension": ".py",
   "mimetype": "text/x-python",
   "name": "python",
   "nbconvert_exporter": "python",
   "pygments_lexer": "ipython3",
   "version": "3.11.5"
  }
 },
 "nbformat": 4,
 "nbformat_minor": 5
}
