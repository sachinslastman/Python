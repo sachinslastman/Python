{
 "cells": [
  {
   "cell_type": "markdown",
   "id": "90dc8489-fc82-4d86-986b-70921b6be3eb",
   "metadata": {},
   "source": [
    "#### TED Ed Fortress Riddle\n",
    "\n",
    "Solve the fortress riddle using Python.  What is the largest wall segment (less than or equal to 1000 meters wide) that can't be broken down by any combination of wall busters.  The enemy wall busters can be combined to destroy any combination of 6, 9 and 20 meter wide walls.  Since it takes the same time to build a large wall as a small wall, your engineers should focus on the largest possible walls that can't be destroyed.  See video below:\n",
    "\n",
    "[YouTube Video](https://www.youtube.com/watch?v=s5CLtBaRIwY)"
   ]
  },
  {
   "cell_type": "code",
   "execution_count": 36,
   "id": "968c3170-8a80-45ab-a909-c41043dede86",
   "metadata": {},
   "outputs": [
    {
     "name": "stdout",
     "output_type": "stream",
     "text": [
      "The optimal wall segment length is 39 \n",
      "\n",
      "Walls to build:\n",
      "You will need 25 segment(s) of 39 meters long\n",
      "You will need 1 segment(s) of 24 meters long\n",
      "You will need 1 segment(s) of 1 meters long\n"
     ]
    }
   ],
   "source": [
    "# initialize global variables\n",
    "\n",
    "clowns = 5\n",
    "royals = 11\n",
    "redheads = 21\n",
    "exclusions = []\n",
    "valid_walls = []\n",
    "optimal_wall = 0\n",
    "count = 1\n",
    "total_width = 0\n",
    "final_wall = []\n",
    "\n",
    "# Start by identifying all segment sizes that can be destroyed\n",
    "# calculate every possible value of c*6 + r*9 + h*20 where c,r,h are the number of lengths of that size\n",
    "# add those lengths to the exclusions list as those are walls that can be destroyed by the enemy\n",
    "\n",
    "for c in range (0, 1000 // clowns + 1):\n",
    "    for r in range (0, 1000 // royals + 1):\n",
    "        for h in range (0, 1000 // redheads + 1):\n",
    "            exclude = c * clowns + r * royals + h * redheads\n",
    "            if exclude <= 1000:\n",
    "                exclusions.append(exclude)\n",
    "\n",
    "for i in range (1, 1001):\n",
    "    if i not in exclusions:\n",
    "        optimal_wall = i\n",
    "\n",
    "valid_walls = [wall for wall in range(1, 1001) if wall not in exclusions]\n",
    "\n",
    "print(f\"The optimal wall segment length is {optimal_wall} \\n\")\n",
    "\n",
    "while total_width < 1000:\n",
    "    curr_wall = valid_walls[-count]\n",
    "    seg_count = (1000 - total_width) // curr_wall\n",
    "    if seg_count >= 1:\n",
    "        final_wall.append((seg_count, curr_wall))\n",
    "        total_width += seg_count * curr_wall\n",
    "    count += 1\n",
    "\n",
    "print(\"Walls to build:\")\n",
    "for entry in final_wall:\n",
    "    print(f\"You will need {entry[0]} segment(s) of {entry[1]} meters long\") "
   ]
  },
  {
   "cell_type": "code",
   "execution_count": null,
   "id": "82174aeb-1a53-489d-9701-b6fab2baeba3",
   "metadata": {},
   "outputs": [],
   "source": []
  }
 ],
 "metadata": {
  "kernelspec": {
   "display_name": "anaconda-panel-2023.05-py310",
   "language": "python",
   "name": "conda-env-anaconda-panel-2023.05-py310-py"
  },
  "language_info": {
   "codemirror_mode": {
    "name": "ipython",
    "version": 3
   },
   "file_extension": ".py",
   "mimetype": "text/x-python",
   "name": "python",
   "nbconvert_exporter": "python",
   "pygments_lexer": "ipython3",
   "version": "3.11.5"
  }
 },
 "nbformat": 4,
 "nbformat_minor": 5
}
