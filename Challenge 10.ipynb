{
 "cells": [
  {
   "cell_type": "markdown",
   "id": "ee538af3-4820-43b2-bc87-bb677c7d0995",
   "metadata": {},
   "source": [
    "Write a function named mid that takes a string as its parameter. Your function should extract and return the middle letter. If there is no middle letter, your function should return an empty string.\n",
    "\n",
    "For example, mid(\"abc\") should return \"b\" and mid(\"aaaa\") should return \"\"."
   ]
  },
  {
   "cell_type": "code",
   "execution_count": 5,
   "id": "4a254c5c-bffb-43ea-97bc-44d7975053bf",
   "metadata": {},
   "outputs": [
    {
     "data": {
      "text/plain": [
       "'d'"
      ]
     },
     "execution_count": 5,
     "metadata": {},
     "output_type": "execute_result"
    }
   ],
   "source": [
    "# Enter code here\n",
    "def mid(str):\n",
    "    if len(str)%2 == 1: return(str[len(str)//2]) \n",
    "    return \"\"\n",
    "\n",
    "mid(\"middles\")"
   ]
  }
 ],
 "metadata": {
  "kernelspec": {
   "display_name": "anaconda-2022.05-py39",
   "language": "python",
   "name": "conda-env-anaconda-2022.05-py39-py"
  },
  "language_info": {
   "codemirror_mode": {
    "name": "ipython",
    "version": 3
   },
   "file_extension": ".py",
   "mimetype": "text/x-python",
   "name": "python",
   "nbconvert_exporter": "python",
   "pygments_lexer": "ipython3",
   "version": "3.9.12"
  }
 },
 "nbformat": 4,
 "nbformat_minor": 5
}
