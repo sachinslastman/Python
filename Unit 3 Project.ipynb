{
 "cells": [
  {
   "cell_type": "markdown",
   "id": "17c39d24",
   "metadata": {
    "cell_id": "00000-ec811175-11d1-4de5-ac81-3bbd5d4d4ff7",
    "deepnote_cell_type": "markdown",
    "slideshow": {
     "slide_type": "slide"
    }
   },
   "source": [
    "# Unit 3 Coding Project\n",
    "  \n",
    "- Basic Data Types\n",
    "- Variables\n",
    "- Operators\n",
    "- Comments and Docstrings\n",
    "\n",
    "-----\n",
    "\n",
    "### Student will be able to\n",
    "- Use Python 3 to create Interactive Python Notebooks in Jupyter or VS Code\n",
    "- Create/Identify object types\n",
    "- Assign variables\n",
    "- Use Operators\n",
    "- Use Comments and Docstrings in Code"
   ]
  },
  {
   "cell_type": "markdown",
   "id": "1170d641",
   "metadata": {},
   "source": [
    "# Task 1\n",
    "\n",
    "In the code cell below, create 3 different variables named 'first_name', 'age', and 'gpa' and assign values to them using the following data types:\n",
    "\n",
    "- 'first_name' should be a string\n",
    "- 'age' should be an integer\n",
    "- 'gpa' should be a float\n",
    "\n",
    "Make sure to execute the code cell so those variables are saved and the objects created."
   ]
  },
  {
   "cell_type": "code",
   "execution_count": 11,
   "id": "45db947d",
   "metadata": {},
   "outputs": [],
   "source": [
    "# Enter Your Code Below\n",
    "first_name = \"Sachin\"\n",
    "age = 16\n",
    "gpa = 4.5"
   ]
  },
  {
   "cell_type": "markdown",
   "id": "1af4cce9",
   "metadata": {},
   "source": [
    "# Task 2\n",
    "\n",
    "### Using the type() function\n",
    "\n",
    "Python has a built-in function that will tell you the type of an object called type().  Inside the parenthesis, you can enter a literal object or the name of a variable and type() will tell you what class the object belongs to (i.e., its type).  Use the type() function inside of a print() function to see what the type() function returns.  Here is an example:\n",
    "\n",
    "`print(type('Python'))`\n",
    "\n",
    "`Output:`<br>\n",
    "`<class 'str'>`\n",
    "\n",
    "In the code cell below, write three different print() statements to print out the type() of each of the 3 variables you created above.  Your output should be:\n",
    "\n",
    "`Output:`<br>\n",
    "`<class 'str'>`<br>\n",
    "`<class 'int'>`<br>\n",
    "`<class 'float'>`<br>\n",
    "\n"
   ]
  },
  {
   "cell_type": "code",
   "execution_count": 13,
   "id": "69eefefd",
   "metadata": {},
   "outputs": [
    {
     "name": "stdout",
     "output_type": "stream",
     "text": [
      "<class 'str'>\n",
      "<class 'int'>\n",
      "<class 'float'>\n"
     ]
    }
   ],
   "source": [
    "# Enter Your Code Below\n",
    "print(type(first_name))\n",
    "print(type(age))\n",
    "print(type(gpa))"
   ]
  },
  {
   "cell_type": "markdown",
   "id": "2cc76d1c",
   "metadata": {},
   "source": [
    "# Task 3\n",
    "\n",
    "In the code cell below, create a new variable called 'married' and set its value to either True or False.  Then print the type of this variable.\n",
    "\n",
    "What do you think is the type of 'married'?"
   ]
  },
  {
   "cell_type": "code",
   "execution_count": 15,
   "id": "5067c8d5",
   "metadata": {},
   "outputs": [
    {
     "name": "stdout",
     "output_type": "stream",
     "text": [
      "<class 'bool'>\n"
     ]
    }
   ],
   "source": [
    "# Enter Your Code Below\n",
    "married = False\n",
    "print(type(married))"
   ]
  },
  {
   "cell_type": "markdown",
   "id": "b278e3e7",
   "metadata": {},
   "source": [
    "# Task 4\n",
    "\n",
    "### Operators\n",
    "\n",
    "In the code cell below, write a print statement for each of the following arithmetic operators:\n",
    "\n",
    "`+` --> Addition<br>\n",
    "`-` --> Subtraction<br>\n",
    "`*` --> Multiplication<br>\n",
    "`/` --> Division<br>\n",
    "`**` --> Exponentiation<br>\n",
    "`%` --> Modulo<br>\n",
    "`//` --> Integer Division<br>\n",
    "\n",
    "Here is an example using the modulo operator:\n",
    "\n",
    "`print(17 % 7)`\n",
    "\n",
    "`Output:`<br>\n",
    "`3`"
   ]
  },
  {
   "cell_type": "code",
   "execution_count": 19,
   "id": "dbb79736",
   "metadata": {},
   "outputs": [
    {
     "name": "stdout",
     "output_type": "stream",
     "text": [
      "7\n",
      "16\n",
      "36\n",
      "13.5\n",
      "16\n",
      "1\n",
      "8\n"
     ]
    }
   ],
   "source": [
    "# Enter Your Code Here (1 for each of the 7 operators listed above)\n",
    "print(4 + 3)\n",
    "print(18 - 2)\n",
    "print(4 * 9)\n",
    "print(54 / 4)\n",
    "print(2 ** 4)\n",
    "print(89 % 4)\n",
    "print(42 // 5)"
   ]
  },
  {
   "cell_type": "markdown",
   "id": "8676080c",
   "metadata": {},
   "source": [
    "# Task 5\n",
    "\n",
    "### String Addition or Concatenation\n",
    "\n",
    "In the code cell below\n",
    "\n",
    "- create a new variale called 'last_name' and set it equal to a last name as a string\n",
    "- create another variable called 'full_name'\n",
    "- assign it the value of adding 'first_name' and 'last_name'\n",
    "- print the value of 'full_name'\n",
    "- print the type of 'full_name'"
   ]
  },
  {
   "cell_type": "code",
   "execution_count": 27,
   "id": "15dcc470",
   "metadata": {},
   "outputs": [
    {
     "name": "stdout",
     "output_type": "stream",
     "text": [
      "SachinLalka\n",
      "<class 'str'>\n"
     ]
    }
   ],
   "source": [
    "# Enter Your Code Below\n",
    "last_name = \"Lalka\"\n",
    "full_name = first_name+ last_name\n",
    "print(full_name)\n",
    "print(type(full_name))\n"
   ]
  },
  {
   "cell_type": "markdown",
   "id": "fafe5827",
   "metadata": {},
   "source": [
    "# Task 6\n",
    "\n",
    "Improve the 'full_name' variable by adding a space between 'first_name' and 'last_name'.  Do this by reassigning the value of 'full_name'.  Print 'full_name' again."
   ]
  },
  {
   "cell_type": "code",
   "execution_count": 31,
   "id": "5f693d7f",
   "metadata": {},
   "outputs": [
    {
     "name": "stdout",
     "output_type": "stream",
     "text": [
      "Sachin Lalka\n"
     ]
    }
   ],
   "source": [
    "# Enter Your Code Here\n",
    "full_name = first_name + \" \" + last_name\n",
    "print(full_name)"
   ]
  },
  {
   "cell_type": "markdown",
   "id": "18d37960",
   "metadata": {},
   "source": [
    "# Task 7\n",
    "\n",
    "### Sequence\n",
    "\n",
    "In the code cells below, add or rearrange parenthesis to the equations to achieve the desired outputs."
   ]
  },
  {
   "cell_type": "code",
   "execution_count": 33,
   "id": "805f4fc0",
   "metadata": {},
   "outputs": [
    {
     "name": "stdout",
     "output_type": "stream",
     "text": [
      "15\n"
     ]
    }
   ],
   "source": [
    "# Add parenthesis to get the result equal to 15\n",
    "\n",
    "\n",
    "result = 5 * (5 - 2)\n",
    "print(result)"
   ]
  },
  {
   "cell_type": "code",
   "execution_count": 43,
   "id": "9a162223",
   "metadata": {},
   "outputs": [
    {
     "name": "stdout",
     "output_type": "stream",
     "text": [
      "125.0\n"
     ]
    }
   ],
   "source": [
    "# Add parenthesis to get the result equal to 125.0\n",
    "\n",
    "result = (5 ** 5) / (55 - 30)\n",
    "print(result)"
   ]
  },
  {
   "cell_type": "code",
   "execution_count": 47,
   "id": "bb720d9e",
   "metadata": {},
   "outputs": [
    {
     "name": "stdout",
     "output_type": "stream",
     "text": [
      "30\n"
     ]
    }
   ],
   "source": [
    "# Rearrange the parenthesis to get the result equal to 30\n",
    "\n",
    "result = (9 + 3) * 3 - 6\n",
    "print(result)"
   ]
  },
  {
   "cell_type": "markdown",
   "id": "f4a9d23f",
   "metadata": {},
   "source": [
    "# Task 8\n",
    "\n",
    "### Multi-Line Docstring\n",
    "\n",
    "In the code cell below, create a multi-line docstring.  In it, write a few sentences about your favorite thing you did this summer."
   ]
  },
  {
   "cell_type": "code",
   "execution_count": 45,
   "id": "cbdefabe",
   "metadata": {},
   "outputs": [
    {
     "data": {
      "text/plain": [
       "'\\nI went to Hawaii this summer\\nI did not have to wake up early\\nI got to go to summer camp for a week\\n'"
      ]
     },
     "execution_count": 45,
     "metadata": {},
     "output_type": "execute_result"
    }
   ],
   "source": [
    "'''\n",
    "I went to Hawaii this summer\n",
    "I did not have to wake up early\n",
    "I got to go to summer camp for a week\n",
    "'''"
   ]
  },
  {
   "cell_type": "markdown",
   "id": "3800e36a",
   "metadata": {},
   "source": [
    "# Task 9\n",
    "\n",
    "### Casting\n",
    "\n",
    "Recall that there are several ways in Python to change the data type of an object - what is known as casting.  There are built-in functions (int(), str(), float()) as well as arithmetic tricks to do this.  Here are examples:\n",
    "\n",
    "To cast the integer 7 to a string:<br>\n",
    "`str(7)`\n",
    "\n",
    "To cast the string digit 7 to an integer:<br>\n",
    "`int('7')`\n",
    "\n",
    "To cast the string digit 7 to a float:<br>\n",
    "`float('7')`\n",
    "\n",
    "To cast the integer 7 to a float:<br>\n",
    "`float(7)`\n",
    "\n",
    "or\n",
    "\n",
    "`7 * 1.0`\n",
    "\n",
    "or\n",
    "\n",
    "`7 / 1`\n",
    "\n",
    "In the code cell below, enter code to cast the variables as follows:\n",
    "\n",
    "cast 'score' to an integer<br>\n",
    "cast 'rating' to a float using a function<br>\n",
    "cast 'temp' to a float arithmetically<br>\n",
    "cast 'count' to a string\n",
    "\n",
    "\n"
   ]
  },
  {
   "cell_type": "code",
   "execution_count": 49,
   "id": "23fa0466",
   "metadata": {},
   "outputs": [
    {
     "name": "stdout",
     "output_type": "stream",
     "text": [
      "Original types: <class 'str'> <class 'int'> <class 'int'> <class 'int'>\n",
      "New types     : <class 'int'> <class 'float'> <class 'float'> <class 'str'>\n"
     ]
    }
   ],
   "source": [
    "# Existing variables (don't change)\n",
    "\n",
    "score = '76'\n",
    "rating = 93\n",
    "temp = 86\n",
    "count = 17\n",
    "\n",
    "print('Original types:', type(score), type(rating), type(temp), type(count))\n",
    "\n",
    "# Enter Your Code Here\n",
    "score = int(score)\n",
    "rating = float(rating)\n",
    "temp = temp/1\n",
    "count = str(count)\n",
    "\n",
    "# This code prints the types of the variables again, they should be different\n",
    "print('New types     :', type(score), type(rating), type(temp), type(count))\n"
   ]
  },
  {
   "cell_type": "markdown",
   "id": "65af22c1",
   "metadata": {},
   "source": [
    "# Task 10\n",
    "\n",
    "### Comparison and Logical Operators\n",
    "\n",
    "In the code cell below are a number of expressions.  Your task is to alter the operators (==, !=, >, <=, >, >=, and, or, not) such that all expressions evaluate to True.  You can only change operators NOT OPERANDS!  Here is an example:\n",
    "\n",
    "Original expression:<br>\n",
    "`print(5 > 3 and 6 > 9)`\n",
    "\n",
    "`Output:`<br>\n",
    "`False`\n",
    "\n",
    "Corrected expression (version 1):<br>\n",
    "`print(5 > 3 and 6 < 9)`\n",
    "\n",
    "`Output:`<br>\n",
    "`True`\n",
    "\n",
    "Corrected expression (version 2):<br>\n",
    "`print(5 > 3 or 6 < 9)`\n",
    "\n",
    "`Output:`<br>\n",
    "`True`"
   ]
  },
  {
   "cell_type": "code",
   "execution_count": 57,
   "id": "11da61e4",
   "metadata": {},
   "outputs": [
    {
     "name": "stdout",
     "output_type": "stream",
     "text": [
      "True\n",
      "True\n",
      "True\n",
      "True\n",
      "True\n",
      "True\n",
      "True\n"
     ]
    }
   ],
   "source": [
    "# Alter the operators to achieve a result of True in each case\n",
    "\n",
    "print(5 > 3)\n",
    "print('test' == 'test')\n",
    "print(6 != 7)\n",
    "print(5==5 and 4>=3.9)\n",
    "print(True or False)\n",
    "print(7 > 6 and not 6 > 7)\n",
    "print(5 in {1,2,3,4,5})\n"
   ]
  },
  {
   "cell_type": "markdown",
   "id": "61b0cefb",
   "metadata": {},
   "source": [
    "When you have finished each of the 10 tasks, make sure to save your file.  You will submit this assignment by using the green \"Share\" button at the top of this page.  Copy the notebook link and submit that link back into the Canvas assignment page.  If you have any problems or questions submitting this, please let me know so I can help you."
   ]
  }
 ],
 "metadata": {
  "anaconda-cloud": {},
  "deepnote": {},
  "deepnote_execution_queue": [],
  "deepnote_notebook_id": "ea2c8a30-1b2e-4b0a-9c6e-46854c6c3d97",
  "kernelspec": {
   "display_name": "anaconda-2022.05-py39",
   "language": "python",
   "name": "conda-env-anaconda-2022.05-py39-py"
  },
  "language_info": {
   "codemirror_mode": {
    "name": "ipython",
    "version": 3
   },
   "file_extension": ".py",
   "mimetype": "text/x-python",
   "name": "python",
   "nbconvert_exporter": "python",
   "pygments_lexer": "ipython3",
   "version": "3.9.12"
  }
 },
 "nbformat": 4,
 "nbformat_minor": 5
}
