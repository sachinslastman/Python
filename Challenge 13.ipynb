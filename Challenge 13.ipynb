{
 "cells": [
  {
   "cell_type": "markdown",
   "metadata": {},
   "source": [
    "Challenge 13\r\n",
    "\r\n",
    "You have a bag containing tiles with numbers [1, 2, 3, …, 100] written on them. Each number appears exactly once, so there are 100 tiles and 100 numbers. Now, without looking, one number tile is randomly picked out of the bag and discarded. Write a function, missingNo, that will find the missing number.\r\n",
    "\r\n",
    "Steps:\r\n",
    "\r\n",
    "1) Use a list comprehension to create a list containing the numbers 1 to 100 called 'bag'\r\n",
    "2) Use a function from the random library and either the remove or pop method to remove 1 number from the list 'bag'\r\n",
    "3) Write a user-function that will detect what number is missing and print it out\r\n",
    "- The function will be called missingNo\r\n",
    "- The function will take the bag as an argument\r\n",
    "- The function will determine the missing number and return it<br>\r\n",
    "\r\n",
    "Note: The function RETURNS the missing number, you will print that missing number OUTSIDE of the function."
   ]
  },
  {
   "cell_type": "code",
   "execution_count": 265,
   "metadata": {},
   "outputs": [],
   "source": [
    "# Enter code here\n",
    "import random\n",
    "\n",
    "bag = [i for i in range (1, 100)]\n",
    "bag.remove(random.randint(1, 101))\n",
    "\n",
    "def missingNo(bag):\n",
    "    for n in range (1, 101):\n",
    "        if bag.count(n) == 0:\n",
    "            return n\n",
    "\n",
    "print(f\"The missing number is: {missingNo(bag)}\")"
   ]
  }
 ],
 "metadata": {
  "kernelspec": {
   "display_name": "anaconda-panel-2023.05-py310",
   "language": "python",
   "name": "conda-env-anaconda-panel-2023.05-py310-py"
  },
  "language_info": {
   "codemirror_mode": {
    "name": "ipython",
    "version": 3
   },
   "file_extension": ".py",
   "mimetype": "text/x-python",
   "name": "python",
   "nbconvert_exporter": "python",
   "pygments_lexer": "ipython3",
   "version": "3.11.5"
  }
 },
 "nbformat": 4,
 "nbformat_minor": 4
}
