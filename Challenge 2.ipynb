{
 "cells": [
  {
   "cell_type": "markdown",
   "id": "d0902874-5038-46a1-9d31-27406ba92ddf",
   "metadata": {},
   "source": [
    "### Challenge 2\n",
    "\n",
    "Write a Python program that accepts a list of integers and calculates the length of the list and the value of the fourth element. Return true if the length of the list is 8 and the fourth element occurs thrice in the said list."
   ]
  },
  {
   "cell_type": "code",
   "execution_count": 63,
   "id": "16d179b9-9c08-4903-b9c3-a2023b9868c7",
   "metadata": {},
   "outputs": [
    {
     "name": "stdout",
     "output_type": "stream",
     "text": [
      "True False False\n"
     ]
    }
   ],
   "source": [
    "# Students are given these lists\n",
    "\n",
    "nums1 = [19,19,15,5,3,5,5,2]\n",
    "nums2 = [19,15,15,5,3,3,5,2]\n",
    "nums3 = [19,19,5,5,5,5,5]\n",
    "\n",
    "def checkValid (lst):\n",
    "    if len(lst) == 8:\n",
    "        if lst.count(lst[3]) == 3:\n",
    "            return True\n",
    "        \n",
    "    return False\n",
    "\n",
    "print(checkValid(nums1),checkValid(nums2), checkValid(nums3))"
   ]
  },
  {
   "cell_type": "code",
   "execution_count": 61,
   "id": "a7968074-4dd0-4a92-bb64-f583cbee7602",
   "metadata": {},
   "outputs": [
    {
     "data": {
      "text/plain": [
       "1124000727777607680000"
      ]
     },
     "execution_count": 61,
     "metadata": {},
     "output_type": "execute_result"
    }
   ],
   "source": [
    "def factorial(n):\n",
    "    if n == 0:\n",
    "        return 1\n",
    "    return n * factorial(n - 1)\n",
    "\n",
    "factorial(22)"
   ]
  },
  {
   "cell_type": "code",
   "execution_count": 87,
   "id": "f92b9498-e29a-4653-95e4-f96e835b4477",
   "metadata": {},
   "outputs": [
    {
     "data": {
      "text/plain": [
       "[0, 1, 1, 2, 3, 5, 8, 13, 21, 34, 55, 89, 144, 233, 377]"
      ]
     },
     "execution_count": 87,
     "metadata": {},
     "output_type": "execute_result"
    }
   ],
   "source": [
    "def fibo(n):\n",
    "    nums = [0, 1]\n",
    "    for i in range(2, n):\n",
    "        nums.append(num[-1] + nums[-2])\n",
    "    return nums\n",
    "\n",
    "fibo(15)"
   ]
  }
 ],
 "metadata": {
  "kernelspec": {
   "display_name": "anaconda-2022.05-py39",
   "language": "python",
   "name": "conda-env-anaconda-2022.05-py39-py"
  },
  "language_info": {
   "codemirror_mode": {
    "name": "ipython",
    "version": 3
   },
   "file_extension": ".py",
   "mimetype": "text/x-python",
   "name": "python",
   "nbconvert_exporter": "python",
   "pygments_lexer": "ipython3",
   "version": "3.9.12"
  }
 },
 "nbformat": 4,
 "nbformat_minor": 5
}
