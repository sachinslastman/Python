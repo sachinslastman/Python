{
 "cells": [
  {
   "cell_type": "markdown",
   "id": "242932a7-2bc3-4454-bb54-d2d0d2fe11a4",
   "metadata": {},
   "source": [
    "### Challenge 4b\n",
    "\n",
    "In this challenge, you will be creating a simple hashing algorithm.  You will define a function called \"custom_hash\" that takes a single argument, which is a string.  The function will use an algorithm to calculate the hash value of that string and return it.  The hash value will be an integer.  Here is how your hashing algorithm will work:\n",
    "\n",
    "Part 1\n",
    "- First, initialize your output variable \"hash_value\" to be equal to 1\n",
    "- Loop through all of the characters in the input string and convert each character to its Unicode point value using ord(char) - see example\n",
    "- Inside the loop, update the value of \"hash_value\" by multiplying its current value by the current ASCII value\n",
    "- When the loop is done, reassign the \"hash_value\" to be equal to the modulo of \"hash_value\" and 9 times the length of the input string\n",
    "\n",
    "When complete, create a password and save the hash value in the variable \"hash\" in the second code block.  Then test it to make sure it works.\n",
    "\n",
    "Part 2\n",
    "- Experiment with changing the algorithm that \"custom_hash\" uses\n",
    "- Try several similar passwords"
   ]
  },
  {
   "cell_type": "code",
   "execution_count": 2,
   "id": "50ee232b-f4ea-45b3-8da6-787bb342d2df",
   "metadata": {},
   "outputs": [
    {
     "ename": "SyntaxError",
     "evalue": "EOL while scanning string literal (1868011189.py, line 7)",
     "output_type": "error",
     "traceback": [
      "\u001b[0;36m  Input \u001b[0;32mIn [2]\u001b[0;36m\u001b[0m\n\u001b[0;31m    alpahebt_people == \"lgbtq\u001b[0m\n\u001b[0m                             ^\u001b[0m\n\u001b[0;31mSyntaxError\u001b[0m\u001b[0;31m:\u001b[0m EOL while scanning string literal\n"
     ]
    }
   ],
   "source": [
    "# Example of how to use the ord() function to calculate the Unicode point value of a string character\n",
    "\n",
    "example = ord('X')\n",
    "\n",
    "print(example)\n"
   ]
  },
  {
   "cell_type": "code",
   "execution_count": 7,
   "id": "a8053182-a7ad-4e8e-94fc-1273989f3293",
   "metadata": {},
   "outputs": [
    {
     "name": "stdout",
     "output_type": "stream",
     "text": [
      "65373520293612\n"
     ]
    }
   ],
   "source": [
    "# Create a hashing algorithm to store passwords securely\n",
    "\n",
    "# Define your function here\n",
    "def custom_hash (strng):\n",
    "    # Initialize the hash value\n",
    "    hash_value = 1\n",
    "    \n",
    "    # Iterate over each character in the input string\n",
    "    for i in range (0, len(strng)):\n",
    "        # Convert the character to its ASCII value and add it to the hash value\n",
    "        hash_value *= ord(strng[i])\n",
    "        \n",
    "    # Modulo the hash value to keep it within a reasonable range    \n",
    "    hash_value = hash_value%(9 ** len(strng))\n",
    "\n",
    "    # Return the hash value\n",
    "    return hash_value\n",
    "\n",
    "# Example usage:\n",
    "print(custom_hash(\"wa98trujq30wa9y\"))\n",
    "\n"
   ]
  },
  {
   "cell_type": "code",
   "execution_count": 9,
   "id": "530a7247-25b2-4c44-8459-b7a445e8ee2b",
   "metadata": {
    "editable": true,
    "slideshow": {
     "slide_type": ""
    },
    "tags": []
   },
   "outputs": [
    {
     "name": "stdin",
     "output_type": "stream",
     "text": [
      "Enter your password wa98trujq30wa9y\n"
     ]
    },
    {
     "name": "stdout",
     "output_type": "stream",
     "text": [
      "Verified\n"
     ]
    }
   ],
   "source": [
    "# Use this code to test your hashed password\n",
    "\n",
    "hash = 65373520293612\n",
    "\n",
    "while True:\n",
    "    pwd = input(\"Enter your password\")\n",
    "    if custom_hash(pwd) == hash:\n",
    "        print(\"Verified\")\n",
    "        break\n",
    "    else:\n",
    "        print(\"Invalid\")\n"
   ]
  },
  {
   "cell_type": "code",
   "execution_count": null,
   "id": "860f20e9-b75b-42ff-8efa-0f05d4fca6f4",
   "metadata": {},
   "outputs": [],
   "source": []
  }
 ],
 "metadata": {
  "kernelspec": {
   "display_name": "anaconda-2022.05-py39",
   "language": "python",
   "name": "conda-env-anaconda-2022.05-py39-py"
  },
  "language_info": {
   "codemirror_mode": {
    "name": "ipython",
    "version": 3
   },
   "file_extension": ".py",
   "mimetype": "text/x-python",
   "name": "python",
   "nbconvert_exporter": "python",
   "pygments_lexer": "ipython3",
   "version": "3.9.12"
  }
 },
 "nbformat": 4,
 "nbformat_minor": 5
}
