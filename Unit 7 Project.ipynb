{
 "cells": [
  {
   "cell_type": "markdown",
   "id": "374a9727-a2e4-471e-8b36-314f047cd6ab",
   "metadata": {},
   "source": [
    "## Data Collection Types in Python\n",
    "\n",
    "Python provides a number of collection datatypes, both built-in types and those in the collections module in the Python Standard Library. Different data collection types serve different purposes, provide different functionality, and present potentially very different computational performance for similar sorts of calculations. Thus, choosing the right type for the task at hand is an important step in achieving good performance. The core built-in data collection types in Python are strings, lists, tuples, dictionaries, and sets.\n",
    "\n",
    "- list: a mutable sequence type, holding a collection of objects in a defined order (indexed by integers)\n",
    "- tuple: an immutable sequence type, holding a collection of objects in a defined order (indexed by integers)\n",
    "- dict: a mapping type, associating keys to values (unordered, indexed by keys)\n",
    "- set: an unordered collection of unique elements (accessed through set operations)\n",
    "\n",
    "All of these container types are iterables, that is, objects that can be iterated over such that each element in the container is visited once. Various operations can often be implemented using these different container types, but with potentially different performance for large datasets, as well as more or less compact programming interfaces."
   ]
  },
  {
   "cell_type": "markdown",
   "id": "2bef5a9e-eb54-4bee-862d-778e9245b7f3",
   "metadata": {
    "tags": []
   },
   "source": [
    "## Working with Lists in Python\n",
    "\n",
    "### What is a list?\n",
    "A list in python is one of 4 data types built into Python that are used to store collections of data.  Any particular List is an instance of the List class and it has it's own built-in methods and it has certain attributes.  Lists are 'mutable', which means that you can alter the contents of the list in your code as you go.\n",
    "\n",
    "### How to you create a list?\n",
    "You create a list by using the square brackets.  This line of code creates an empty list in the variable x:\n",
    "\n",
    "`x = []`\n",
    "\n",
    "To populate your list with items, simply include the data inside the square brackets, separated by commas.  For example:\n",
    "\n",
    "`x = ['Arizona', 'California', 'Nevada', 'Utah', 'Colorado', 'New Mexico']`\n",
    "\n",
    "### Some of the most popular and useful methods that you can apply to a list are:\n",
    "\n",
    "- `x.append(item)` - This method apppends the specified item to the end of the list\n",
    "- `x.insert(pos, item)` - This method inserts the item at the specified position\n",
    "- `x.remove(item)` - This method removes the specified item from the list\n",
    "- `x.count(item)` - This method counts how many instances of the specified item in the list\n",
    "- `x.extend(list2)` - This method will add list2 on to the end of list x\n",
    "- `x.index(item)` - This method returns the index of a given item in a list\n",
    "\n",
    "A useful Python function to know how many entries there are in a list is the `len()` function\n",
    "\n",
    "You can also use the `in` keyword when working with lists to see if something is there or to loop through it.  We will learn more about looping in Module 8.  Combining Data Containers with Looping is when Python starts to become very powerful!"
   ]
  },
  {
   "cell_type": "code",
   "execution_count": 1,
   "id": "ce9a4698-3481-4b19-b7e0-6caf8037f32d",
   "metadata": {},
   "outputs": [
    {
     "name": "stdout",
     "output_type": "stream",
     "text": [
      "['dan', 'phil', 'steve']\n"
     ]
    }
   ],
   "source": [
    "# Create a list\n",
    "mylist = ['dan', 'phil', 'steve']\n",
    "print(mylist)"
   ]
  },
  {
   "cell_type": "code",
   "execution_count": 3,
   "id": "b2fac2a0-d4f8-4faa-a75e-e9e3b9ca6a43",
   "metadata": {},
   "outputs": [
    {
     "name": "stdout",
     "output_type": "stream",
     "text": [
      "['Anna', 5, 3.14, 36, 4.0]\n"
     ]
    }
   ],
   "source": [
    "# Here is a list with different types of data\n",
    "\n",
    "x = 6 * 6\n",
    "\n",
    "diff_list = ['Anna', 5, 3.14, x, (12 / 3)]\n",
    "\n",
    "print(diff_list)"
   ]
  },
  {
   "cell_type": "code",
   "execution_count": 5,
   "id": "ea7997bc-3c2e-4600-bf2e-c13b751e079b",
   "metadata": {},
   "outputs": [
    {
     "name": "stdout",
     "output_type": "stream",
     "text": [
      "[[1, 2, 3], [10, 15, 20], ['Five', 'Six', 'Seven']]\n"
     ]
    }
   ],
   "source": [
    "# Lists can also include other lists\n",
    "\n",
    "multi_list = [[1,2,3],[10,15,20],['Five', 'Six', 'Seven']]\n",
    "\n",
    "print(multi_list)"
   ]
  },
  {
   "cell_type": "code",
   "execution_count": 7,
   "id": "f7365c7c-5d59-4ca9-bd7d-9064b05fd6dd",
   "metadata": {},
   "outputs": [
    {
     "name": "stdout",
     "output_type": "stream",
     "text": [
      "['dan', 'phil', 'steve', 'mark']\n"
     ]
    }
   ],
   "source": [
    "# Append a new item to the list\n",
    "mylist.append('mark')\n",
    "print(mylist)"
   ]
  },
  {
   "cell_type": "code",
   "execution_count": 9,
   "id": "66fef0c6-677e-4e04-b11b-f087799298f6",
   "metadata": {},
   "outputs": [
    {
     "name": "stdout",
     "output_type": "stream",
     "text": [
      "['dan', 'phil', 'henry', 'steve', 'mark']\n"
     ]
    }
   ],
   "source": [
    "# Insert an item at a specified index\n",
    "mylist.insert(2,'henry')\n",
    "print(mylist)"
   ]
  },
  {
   "cell_type": "code",
   "execution_count": 11,
   "id": "33b397ec-d4c7-4c47-9a08-fc1d0de9ba76",
   "metadata": {},
   "outputs": [
    {
     "name": "stdout",
     "output_type": "stream",
     "text": [
      "['dan', 'henry', 'steve', 'mark']\n"
     ]
    }
   ],
   "source": [
    "# Revmoe gets rid of a specified item\n",
    "mylist.remove('phil')\n",
    "print(mylist)"
   ]
  },
  {
   "cell_type": "code",
   "execution_count": 13,
   "id": "9236b999-c0a6-4645-90a8-79a38d23c85d",
   "metadata": {},
   "outputs": [
    {
     "name": "stdout",
     "output_type": "stream",
     "text": [
      "1\n"
     ]
    }
   ],
   "source": [
    "# Use count to see how many of a given item there is in the list\n",
    "print(mylist.count('dan'))"
   ]
  },
  {
   "cell_type": "code",
   "execution_count": 15,
   "id": "3490eeb6-705c-452f-b79c-1ff414766837",
   "metadata": {},
   "outputs": [
    {
     "name": "stdout",
     "output_type": "stream",
     "text": [
      "['dan', 'henry', 'steve', 'mark', 'herb', 'joe', 'jon', 'dominick']\n"
     ]
    }
   ],
   "source": [
    "# Using Extend to put the elements of two lists together\n",
    "mylist2 = ['herb', 'joe', 'jon', 'dominick']\n",
    "mylist.extend(mylist2)\n",
    "print(mylist)"
   ]
  },
  {
   "cell_type": "code",
   "execution_count": 17,
   "id": "941d6391-fef6-4253-9e96-24001e902ece",
   "metadata": {},
   "outputs": [
    {
     "name": "stdout",
     "output_type": "stream",
     "text": [
      "4\n"
     ]
    }
   ],
   "source": [
    "# Index will return the index position of a specified list item\n",
    "print(mylist.index('herb'))"
   ]
  },
  {
   "cell_type": "code",
   "execution_count": 19,
   "id": "4725c36a-0fd9-468f-b627-26fd9f840ef4",
   "metadata": {},
   "outputs": [
    {
     "name": "stdout",
     "output_type": "stream",
     "text": [
      "8\n"
     ]
    }
   ],
   "source": [
    "# The len function is handy to learn how many elements there are in a list\n",
    "print(len(mylist))"
   ]
  },
  {
   "cell_type": "code",
   "execution_count": 21,
   "id": "a7918e03-7f91-47e0-bdb7-24635160253b",
   "metadata": {},
   "outputs": [
    {
     "name": "stdout",
     "output_type": "stream",
     "text": [
      "True\n"
     ]
    }
   ],
   "source": [
    "# Here is an example to test if a particular value is in a list using the 'in' keyword\n",
    "\n",
    "print('steve' in mylist)"
   ]
  },
  {
   "cell_type": "markdown",
   "id": "d8993c0d-3bb1-48fa-a0ab-426c49eb04e4",
   "metadata": {},
   "source": [
    "## Task 1 - Create Lists\n",
    "\n",
    "- First list: Create a list made up of integers, assign this list as the value of variable 'x'\n",
    "- Second list: Create a list of strings, assign this list as the value of variable 'y'\n",
    "- Third list: Create a list that combines x and y, use the + operator to add the two lists together, assign to variable 'z'\n"
   ]
  },
  {
   "cell_type": "code",
   "execution_count": 23,
   "id": "3e664652-9435-4d80-a292-0962d7b70f9a",
   "metadata": {},
   "outputs": [
    {
     "name": "stdout",
     "output_type": "stream",
     "text": [
      "[12, 4, 2, 6, 8, 3]\n",
      "['hello', 'why', 'bye', 'run']\n",
      "[12, 4, 2, 6, 8, 3, 'hello', 'why', 'bye', 'run']\n"
     ]
    }
   ],
   "source": [
    "# Assign variable x to be equal to a list of integers\n",
    "x = [12, 4, 2, 6, 8, 3]\n",
    "\n",
    "# Assign a variable y to be equal to a list of strings\n",
    "y = ['hello', 'why', 'bye', 'run']\n",
    "\n",
    "# Assign a variable z to be equal to a both x and y using the concatenation ('+') operator\n",
    "z = x + y\n",
    "\n",
    "print(x)\n",
    "print(y)\n",
    "print(z)"
   ]
  },
  {
   "cell_type": "markdown",
   "id": "bb2fe2e9-d972-4b8b-8df3-5c4ba4275f68",
   "metadata": {},
   "source": [
    "## Task 2 - Create a List and change it using methods\n",
    "\n",
    "Elements:\n",
    "- Create a variable called 'task_list'\n",
    "- Set it equal to a list\n",
    "- The elements in the list are the names of your classes this year\n",
    "- Names of classes should be entered as strings\n",
    "- Print the list\n",
    "- Then use the .append() method to append the string 'dinner' to your list\n",
    "- Print the list again\n",
    "- Then use the .insert() method to insert the string 'breakfast' in the first position of your list\n",
    "- Print the list again"
   ]
  },
  {
   "cell_type": "code",
   "execution_count": 33,
   "id": "c4bf1a3f-c2bb-4f0f-b2be-65dc8c8fb18d",
   "metadata": {},
   "outputs": [
    {
     "name": "stdout",
     "output_type": "stream",
     "text": [
      "['Robotics', 'Calculus', 'Earth Science', 'Drafting', 'Python', 'Spanish', 'History']\n",
      "['Robotics', 'Calculus', 'Earth Science', 'Drafting', 'Python', 'Spanish', 'History', 'Dinner']\n",
      "['Breakfast', 'Robotics', 'Calculus', 'Earth Science', 'Drafting', 'Python', 'Spanish', 'History', 'Dinner']\n"
     ]
    }
   ],
   "source": [
    "# Create your list variable here and print it\n",
    "task_list = ['Robotics', 'Calculus', 'Earth Science', 'Drafting', 'Python', 'Spanish', 'History']\n",
    "print(task_list)\n",
    "\n",
    "# Use the .append() method to add 'dinner' to the end of your list and print it again\n",
    "task_list.append('Dinner')\n",
    "print(task_list)\n",
    "\n",
    "# Use the .insert() method to insert 'breakfast' to the beginning of your list and print it again\n",
    "task_list.insert(0, \"Breakfast\")\n",
    "print(task_list)"
   ]
  },
  {
   "cell_type": "markdown",
   "id": "a1063409-5862-4342-b640-90802234d746",
   "metadata": {},
   "source": [
    "## Working with items in a Python list\n",
    "\n",
    "As mentioned above, Python lists are \"ordered\".  That means that the items in the list are in a particular order and you can identify that order using integers.  Each item in the list has an **index** which is the integer that is assigned to that **position** in the list.  It is important to distinguish **position** from the **value** of the item in the list!  Why?  Because lists are **mutable** which means you can change the items inside the list.  If each **index** were tied to a specific **value** that changed, the list would be very confusing.  So lists are **ordered** which means that order matters - if you have two lists with the same items, but in a different order, then those are two lists are not equal!\n",
    "\n",
    "Python lists are **zero-based** - that means that the first item in a list will have an index of zero.  Then subsequent elements have the sequentially higher integer.  For example, consider this list with the associated indexes:\n",
    "\n",
    "        foods = ['eggs', 'ham', 'spam', 'bacon', 'bicuits', 'pancakes']\n",
    "        index      0       1       2       3         4           5\n",
    "\n",
    "### Indexing\n",
    "\n",
    "Accessing individual items in a list is done by **indexing** which is done by specifying the name of the list and the index in brackets:\n",
    "\n",
    "```\n",
    "In:  foods[3]\n",
    "Out: 'bacon'\n",
    "```\n",
    "\n",
    "Remember that the first item in the list is always 0, so the code:\n",
    "\n",
    "```\n",
    "In:  foods[0]\n",
    "Out: 'eggs'\n",
    "```\n",
    "\n",
    "### Slicing\n",
    "\n",
    "You can also access groups of items in a list by **slicing** which is done by specifying the name of the list and the range of indexes you want to access in brackets with the start and end value separated by a \":\".  Notice that the end value is \"exclusive\" meaning it will not be included in your slice:\n",
    "\n",
    "Syntax:  `list_name[initial, end, indexjump]`\n",
    "\n",
    "Where:\n",
    "\n",
    "- initial is the first item to be inclued\n",
    "- end is the the end of the slice, exclusive\n",
    "- indexjump is a optional parameter that allows you to skip values or reverse order\n",
    "\n",
    "```\n",
    "In: foods[0:3]\n",
    "Out: ['eggs', 'ham', 'spam']\n",
    "```\n",
    "\n",
    "In this case, the slice specified items in the list starting with index 0 and ending with, but not including, item 3.  Since there is more than one item returned, it returns another list.\n",
    "\n",
    "Here are some examples of indexing and slicing lists:"
   ]
  },
  {
   "cell_type": "code",
   "execution_count": 35,
   "id": "bd8f68f1-d642-49ff-a3de-cd1561a39cc3",
   "metadata": {},
   "outputs": [],
   "source": [
    "# This code creates a simple list\n",
    "\n",
    "mylist = [1,2,3,4,5,6]"
   ]
  },
  {
   "cell_type": "code",
   "execution_count": 37,
   "id": "941e1bc4-3a91-44cd-9a98-57a0a2f166e8",
   "metadata": {},
   "outputs": [
    {
     "name": "stdout",
     "output_type": "stream",
     "text": [
      "5 <class 'int'>\n"
     ]
    }
   ],
   "source": [
    "# This example accesses the 5th item in the list (i.e., index = 4)\n",
    "# Notice indexing a single value from a list returns a scalar value (i.e., a single value with its associated type) of the same type\n",
    "\n",
    "print(mylist[4], type(mylist[4]))\n"
   ]
  },
  {
   "cell_type": "code",
   "execution_count": 39,
   "id": "44c8846c-131a-411b-9b4b-877597a5a4b6",
   "metadata": {},
   "outputs": [
    {
     "data": {
      "text/plain": [
       "6"
      ]
     },
     "execution_count": 39,
     "metadata": {},
     "output_type": "execute_result"
    }
   ],
   "source": [
    "# this example uses index -1 which accesses the last item in a list (-2 is the next to the last and so on...)\n",
    "\n",
    "mylist[-1]"
   ]
  },
  {
   "cell_type": "code",
   "execution_count": 41,
   "id": "182ba666-8f61-40c8-a78d-9f449278b98a",
   "metadata": {},
   "outputs": [
    {
     "name": "stdout",
     "output_type": "stream",
     "text": [
      "[1, 2, 3] <class 'list'>\n"
     ]
    }
   ],
   "source": [
    "# This example prints the first 3 items \n",
    "# Notice slicing returns a list\n",
    "\n",
    "print(mylist[0:3], type(mylist[0:3]))"
   ]
  },
  {
   "cell_type": "code",
   "execution_count": 43,
   "id": "c0fb0811-08c4-4d81-8294-2518bc276984",
   "metadata": {},
   "outputs": [
    {
     "data": {
      "text/plain": [
       "[5, 6]"
      ]
     },
     "execution_count": 43,
     "metadata": {},
     "output_type": "execute_result"
    }
   ],
   "source": [
    "# This example shows that leaving the end argument blank just returns from the initial value to the end of the list\n",
    "\n",
    "mylist[4:]"
   ]
  },
  {
   "cell_type": "code",
   "execution_count": 45,
   "id": "9f64b064-714a-400c-ae60-1c563d7839f6",
   "metadata": {},
   "outputs": [
    {
     "data": {
      "text/plain": [
       "[1, 3, 5]"
      ]
     },
     "execution_count": 45,
     "metadata": {},
     "output_type": "execute_result"
    }
   ],
   "source": [
    "# This example prints every other item starting with the first\n",
    "\n",
    "mylist[0::2]"
   ]
  },
  {
   "cell_type": "code",
   "execution_count": 47,
   "id": "9ab295a0-aa92-477f-b67e-87d6dda39158",
   "metadata": {},
   "outputs": [
    {
     "data": {
      "text/plain": [
       "[6, 5, 4, 3, 2, 1]"
      ]
     },
     "execution_count": 47,
     "metadata": {},
     "output_type": "execute_result"
    }
   ],
   "source": [
    "# This example uses -1 in the indexjump argument which tells Python to slice in reverse order starting with the last item\n",
    "\n",
    "mylist[-1::-1]"
   ]
  },
  {
   "cell_type": "code",
   "execution_count": 51,
   "id": "42beb162-b317-4e22-9bd4-a8711fcbbdd4",
   "metadata": {},
   "outputs": [
    {
     "name": "stdout",
     "output_type": "stream",
     "text": [
      "Red\n",
      "Blue\n",
      "Green\n",
      "155\n",
      "233\n",
      "17\n"
     ]
    }
   ],
   "source": [
    "# Here are some simple indexing and slicing using list of list\n",
    "# Notice that the first index is for the main list, then the next index is for the sublist\n",
    "\n",
    "lol = [['Red', 'Blue', 'Green'],[155, 233, 17]]\n",
    "\n",
    "print(lol[0][0]) # prints the first item of the first list\n",
    "print(lol[0][1]) # prints the second item of the first list\n",
    "print(lol[0][2]) # prints the third item of the first list\n",
    "print(lol[1][0]) # prints the first item of the second list\n",
    "print(lol[1][1]) # prints the second item of the second list\n",
    "print(lol[1][2]) # prints the third item of the second list"
   ]
  },
  {
   "cell_type": "code",
   "execution_count": 53,
   "id": "59b0df27-629c-47ef-b9c2-f5828617c0f1",
   "metadata": {},
   "outputs": [
    {
     "name": "stdout",
     "output_type": "stream",
     "text": [
      "[['1A', '2A', '3A', '4A'], ['Excel', 'Python', 'Planning', 'Excel'], [27, 29, 0, 28]]\n",
      "['1A', '2A', '3A', '4A']\n",
      "['Excel', 'Python', 'Planning', 'Excel']\n",
      "[27, 29, 0, 28]\n",
      "\n",
      "----------------------------------------------------------------------------------------------------------------\n",
      "Item 0 is period 1A, which is Excel and has 27 students\n",
      "Item 1 is period 2A, which is Python and has 29 students\n",
      "Item 2 is period 3A, which is Planning and has 0 students\n",
      "Item 3 is period 4A, which is Excel and has 28 students\n",
      "\n",
      "----------------------------------------------------------------------------------------------------------------\n",
      "Item 0 is period 1A which is Excel and has 27 students\n",
      "Item 1 is period 2A which is Python and has 29 students\n",
      "Item 2 is period 3A which is Planning and has 0 students\n",
      "Item 3 is period 4A which is Excel and has 28 students\n"
     ]
    }
   ],
   "source": [
    "# Here is an example of a list of lists and some more complicated indexing and slicing results\n",
    "\n",
    "multi_list = [['1A', '2A', '3A', '4A'],['Excel', 'Python', 'Planning', 'Excel'],[27, 29, 0, 28]]\n",
    "\n",
    "periods = multi_list[0]\n",
    "classes = multi_list[1]\n",
    "sizes = multi_list[2]\n",
    "\n",
    "print(multi_list)\n",
    "print(periods)\n",
    "print(classes)\n",
    "print(sizes)\n",
    "\n",
    "print('\\n----------------------------------------------------------------------------------------------------------------')\n",
    "\n",
    "\n",
    "for cls in range (0,4):\n",
    "    print(f'Item {cls} is period {periods[cls]}, which is {classes[cls]} and has {sizes[cls]} students')\n",
    "    \n",
    "print('\\n----------------------------------------------------------------------------------------------------------------')\n",
    "    \n",
    "for cls in range (0,4):\n",
    "    print(f'Item {cls} is period {multi_list[0][cls]} which is {multi_list[1][cls]} and has {multi_list[2][cls]} students')\n"
   ]
  },
  {
   "cell_type": "code",
   "execution_count": 55,
   "id": "6b1bb422-185b-4883-98e6-c3dbfc349a55",
   "metadata": {},
   "outputs": [
    {
     "data": {
      "text/plain": [
       "False"
      ]
     },
     "execution_count": 55,
     "metadata": {},
     "output_type": "execute_result"
    }
   ],
   "source": [
    "# This example shows two lists with the same items but in different order --> they are not the same!!\n",
    "# Run this code block and see what it returns\n",
    "\n",
    "list1 = ['Phil', 'Dave', 'Steve']\n",
    "list2 = ['Dave', 'Steve', 'Phil']\n",
    "\n",
    "list1 == list2"
   ]
  },
  {
   "cell_type": "markdown",
   "id": "2d68068d-860d-450e-bb94-43ed4eb9f69d",
   "metadata": {},
   "source": [
    "## Task 3 - Indexing a List\n",
    "\n",
    "The code below defines a list that consists of two other lists.  One is the first 6 positive odd integers and the other is the first 6 positive even integers.\n",
    "\n",
    "- Create 2 lists called 'evens' and 'odds' that consist of only the even and odd integers respectively.\n",
    "- Complete the code to define prod to be equal to the 4th item in each list (evens, odds) multiplied by each other\n",
    "- The answer to the previous task should be 56"
   ]
  },
  {
   "cell_type": "code",
   "execution_count": 63,
   "id": "73bb30b1-5e56-47db-a489-839394fe45ee",
   "metadata": {},
   "outputs": [
    {
     "name": "stdout",
     "output_type": "stream",
     "text": [
      "56\n"
     ]
    }
   ],
   "source": [
    "even_odds = [[1,3,5,7,9,11],[2,4,6,8,10,12]]\n",
    "# ------- Enter your code below this line -------------------------------------------------------\n",
    "\n",
    "evens = even_odds[1]\n",
    "odds = even_odds[0]\n",
    "\n",
    "prod = evens[3] * odds[3]\n",
    "\n",
    "print(prod)\n"
   ]
  },
  {
   "cell_type": "markdown",
   "id": "37e84014-8d0f-4432-988a-46ecadb2bd1b",
   "metadata": {},
   "source": [
    "## Task 4 - Slicing a List\n",
    "\n",
    "The code below defins a list that consists of the days of the week.\n",
    "\n",
    "- create a new list called 'weekdays' that slices just the days Monday through Friday from the week list"
   ]
  },
  {
   "cell_type": "code",
   "execution_count": 65,
   "id": "7d156a34-b911-4e76-8265-1e1418e7be65",
   "metadata": {},
   "outputs": [
    {
     "name": "stdout",
     "output_type": "stream",
     "text": [
      "['Monday', 'Tuesday', 'Wednesday', 'Thursday', 'Friday']\n"
     ]
    }
   ],
   "source": [
    "week = ['Sunday', 'Monday', 'Tuesday', 'Wednesday', 'Thursday', 'Friday', 'Saturday']\n",
    "# ------- Enter your code below this line -------------------------------------------------------\n",
    "\n",
    "weekdays = week[1:6]\n",
    "\n",
    "print(weekdays)\n",
    "\n"
   ]
  },
  {
   "cell_type": "markdown",
   "id": "4d704198-5944-4e87-b83a-75bba9854f19",
   "metadata": {},
   "source": [
    "## Working with Tuples in Python\n",
    "\n",
    "A Tuple (pronounced 'tuh-pull') in python is another one of the 4 data types that can store collections of data.  A Tuple is similar to a List with 2 key differences: 1) Lists are 'mutable' and Tuples are 'immutable', and 2) Lists are defined using the `[]` square brackets while Tuples are defined using `()` parenthesis.  When you create a Tuple object, you create a new instance of the class 'tuple'.\n",
    "\n",
    "### How do you create a Tuple?\n",
    "\n",
    "To create a Tuple, enclose the Tuple items in parenthesis.\n",
    "\n",
    "`mytuple = ('item1', 'item2', 'item3'...)`\n",
    "\n",
    "### Tuples are immutable, what does that mean?\n",
    "\n",
    "**Mutable**: Mutable is when something is changeable or has the ability to change. In Python, ‘mutable’ is the ability of objects to change their values. These are often the objects that store a collection of data.\n",
    "\n",
    "**Immutable**: Immutable is the when no change is possible over time. In Python, if the value of an object cannot be changed over time, then it is known as immutable. Once created, the value of these objects is permanent.\n",
    "    \n",
    "So sometimes, mutability can get confusing!\n",
    "\n",
    "### There are only two methods for working with Tuples because they are immutable\n",
    "\n",
    "- mytuple.count()\n",
    "- mytuple.index()\n",
    "\n",
    "### Indexing and Slicing\n",
    "\n",
    "Good news! The techniques you learned for indexing and slicing lists work with Tuples too!  Sweet...\n",
    "\n",
    "Here are some examples of working with Tuples:"
   ]
  },
  {
   "cell_type": "code",
   "execution_count": 67,
   "id": "f676fbc8-3605-4ca4-9cd4-da7984d1810a",
   "metadata": {},
   "outputs": [
    {
     "name": "stdout",
     "output_type": "stream",
     "text": [
      "('History', 'Math', 'Physics', 'CompSci')\n",
      "<class 'tuple'>\n"
     ]
    }
   ],
   "source": [
    "# Instantiating a Tuple\n",
    "tuple_1 = ('History', 'Math', 'Physics', 'CompSci')\n",
    "print(tuple_1)\n",
    "print(type(tuple_1)) # You see that our Tuple 'tuple_1' is an instance of the class tuple"
   ]
  },
  {
   "cell_type": "code",
   "execution_count": 69,
   "id": "ced5f369-f81d-4d61-a71b-51b18dd04fca",
   "metadata": {},
   "outputs": [
    {
     "name": "stdout",
     "output_type": "stream",
     "text": [
      "Physics <class 'str'>\n"
     ]
    }
   ],
   "source": [
    "# Index a Tuple just like a list - put the index number in square brackets [] (remember 0 is the first element)\n",
    "third_item = tuple_1[2]\n",
    "print(third_item, type(third_item)) # notice indexing a string returns a single value of its type in the tuple"
   ]
  },
  {
   "cell_type": "code",
   "execution_count": 71,
   "id": "05e92e59-e349-42a9-a113-03b9cea50cc3",
   "metadata": {},
   "outputs": [
    {
     "name": "stdout",
     "output_type": "stream",
     "text": [
      "('Math', 'Physics') <class 'tuple'>\n"
     ]
    }
   ],
   "source": [
    "# Slicing is the same as well\n",
    "subslice = tuple_1[1:3]\n",
    "print(subslice, type(subslice)) # notice slicing a tuple returns another tuple"
   ]
  },
  {
   "cell_type": "code",
   "execution_count": 73,
   "id": "5c464ee2-fac6-498f-b1a2-afb46b3ebbc3",
   "metadata": {},
   "outputs": [
    {
     "name": "stdout",
     "output_type": "stream",
     "text": [
      "1\n"
     ]
    }
   ],
   "source": [
    "# Use the count method to see how many times a particular item occurs in a Tuple\n",
    "print(tuple_1.count('Math'))"
   ]
  },
  {
   "cell_type": "code",
   "execution_count": 75,
   "id": "d31215a4-4f2f-406f-ad4f-cdc02d1b3b50",
   "metadata": {},
   "outputs": [
    {
     "name": "stdout",
     "output_type": "stream",
     "text": [
      "3\n"
     ]
    }
   ],
   "source": [
    "# Use the index method to find the index of an item given its value\n",
    "print(tuple_1.index('CompSci'))"
   ]
  },
  {
   "cell_type": "code",
   "execution_count": 77,
   "id": "145cebb6-d801-40dd-9eb6-091ed35e6d51",
   "metadata": {},
   "outputs": [
    {
     "name": "stdout",
     "output_type": "stream",
     "text": [
      "['Footballday', 'Monday', 'Tuesday', 'Wednesday', 'Thursday', 'Friday', 'Saturday']\n"
     ]
    },
    {
     "ename": "TypeError",
     "evalue": "'tuple' object does not support item assignment",
     "output_type": "error",
     "traceback": [
      "\u001b[0;31m---------------------------------------------------------------------------\u001b[0m",
      "\u001b[0;31mTypeError\u001b[0m                                 Traceback (most recent call last)",
      "Input \u001b[0;32mIn [77]\u001b[0m, in \u001b[0;36m<cell line: 10>\u001b[0;34m()\u001b[0m\n\u001b[1;32m      6\u001b[0m \u001b[38;5;28mprint\u001b[39m(week)             \u001b[38;5;66;03m# notice that this prints with the new value\u001b[39;00m\n\u001b[1;32m      8\u001b[0m \u001b[38;5;66;03m# Now I will try to change the first item of the 'tuple_1' tuple from 'History' to 'English'\u001b[39;00m\n\u001b[0;32m---> 10\u001b[0m tuple_1[\u001b[38;5;241m0\u001b[39m] \u001b[38;5;241m=\u001b[39m \u001b[38;5;124m'\u001b[39m\u001b[38;5;124mEnglish\u001b[39m\u001b[38;5;124m'\u001b[39m \u001b[38;5;66;03m# here I am trying to change the first item in tuple_1 to 'English'\u001b[39;00m\n\u001b[1;32m     12\u001b[0m \u001b[38;5;28mprint\u001b[39m(tuple_1)\n",
      "\u001b[0;31mTypeError\u001b[0m: 'tuple' object does not support item assignment"
     ]
    }
   ],
   "source": [
    "# Here is an example demonstrating the immutability of a Tuple compared to the mutability of a list\n",
    "\n",
    "# First I change the first item of the 'week' list from 'Sunday' to 'Footballday'\n",
    "\n",
    "week[0] = 'Footballday' # this line changes the first value in the list\n",
    "print(week)             # notice that this prints with the new value\n",
    "\n",
    "# Now I will try to change the first item of the 'tuple_1' tuple from 'History' to 'English'\n",
    "\n",
    "tuple_1[0] = 'English' # here I am trying to change the first item in tuple_1 to 'English'\n",
    "\n",
    "print(tuple_1)\n",
    "\n",
    "# Run this code and read the error message below - notice that changing the list worked\n"
   ]
  },
  {
   "cell_type": "markdown",
   "id": "26cbfd98-5683-465c-aa70-c894a2993ad3",
   "metadata": {},
   "source": [
    "## Task 5 - Create a Tuple\n",
    "\n",
    "- name your tuple 'mytuple'\n",
    "- define a variable called num and set it equal to the number of elements in the tuple using .count() method\n",
    "- use the .index() method to print the index of one of the elements of your tuple"
   ]
  },
  {
   "cell_type": "code",
   "execution_count": 83,
   "id": "19336140-9046-42b8-a579-011a9f360459",
   "metadata": {},
   "outputs": [
    {
     "name": "stdout",
     "output_type": "stream",
     "text": [
      "5\n"
     ]
    }
   ],
   "source": [
    "# Create a tuple named 'mytuple'\n",
    "myTuple = (123, 5, 64, 8, 234, 9, 2)\n",
    "\n",
    "# Define 'num' equal to the number of elements in the tuple using len() function\n",
    "num = len(myTuple)\n",
    "# Print the index of an element in your tuple using .index() method\n",
    "print(myTuple.index(9))\n"
   ]
  },
  {
   "cell_type": "markdown",
   "id": "40e753aa-8691-443c-8a2d-cbd30723b269",
   "metadata": {},
   "source": [
    "## Bonus Coding Challenge\n",
    "\n",
    "### Combine the .index() method with slicing to return a subset of the tuple trip_list\n",
    "\n",
    "Criteria:\n",
    "\n",
    "- print the subset of trip_list from 'Wilma' to 'Jeff' by slicing\n",
    "- you may not use any numbers in your slicing with the exception of using '+ 1'\n",
    "\n",
    "First five students to complete successfully get a prize.\n"
   ]
  },
  {
   "cell_type": "code",
   "execution_count": 85,
   "id": "46eed333-b494-490c-9b3f-fefc848d96c9",
   "metadata": {},
   "outputs": [
    {
     "name": "stdout",
     "output_type": "stream",
     "text": [
      "('Wilma', 'Greg', 'Hank', 'Anna', 'Max', 'Harry', 'Dustin', 'Megan', 'Jeff')\n"
     ]
    }
   ],
   "source": [
    "trip_list = ('Paul', 'Dave', 'Kara', 'Emily', 'Wilma', 'Greg', 'Hank', 'Anna', 'Max', 'Harry', 'Dustin', 'Megan', 'Jeff', 'Emma', 'Deb')\n",
    "\n",
    "print(trip_list[trip_list.index('Wilma'):trip_list.index('Jeff')+1])"
   ]
  },
  {
   "cell_type": "markdown",
   "id": "c01d5d30-724a-4f4b-8a33-05f0e67b9a45",
   "metadata": {},
   "source": [
    "## Working with Sets in Python\n",
    "\n",
    "Sets are another one of the 4 data types that are used to store collections of data in Python.  Sets are a little bit different from the other types.  here are the key aspects of sets:\n",
    "\n",
    "- Set **items** are immutable (meaning you can't change their value)\n",
    "- You can add to or remove items from a set\n",
    "- Sets are unordered (meaning there is not relevance to the order in which items appear)\n",
    "- Sets are unindexed (you can't use an index number to retrieve or manipulate items)\n",
    "- Sets ignore duplicates\n",
    "\n",
    "### How do you create a Set?\n",
    "\n",
    "Sets are created using the curly brackets, like this:\n",
    "\n",
    "`y = {5,2,8,9}`\n",
    "\n",
    "### What are sets useful for?\n",
    "\n",
    "- Sets are useful for removing duplicates\n",
    "- Sets are optimized for testing to see if an item is in a set of data.  If you have to do alot of 'in' checks, sets are faster becuase they are smaller and simpler.\n",
    "\n",
    "### Sets have quite a few methods, here are just a few of the most common\n",
    "\n",
    "- y.add(item) - This method adds the item to the Set\n",
    "- y.remove(item) - This method removes the item from the Set\n",
    "- y.clear() - This method removes all items from the Set\n",
    "- y.copy() - This method makes a duplicate of the Set\n",
    "- y.difference() - This returns just the difference between two sets"
   ]
  },
  {
   "cell_type": "code",
   "execution_count": 87,
   "id": "2d019d5a-ae1c-4b73-b8cf-c653f5218fe7",
   "metadata": {},
   "outputs": [
    {
     "name": "stdout",
     "output_type": "stream",
     "text": [
      "{1, 3, 5, 7, 9}\n",
      "<class 'set'>\n"
     ]
    }
   ],
   "source": [
    "# Example of creating a set\n",
    "\n",
    "set_1 = {1,3,5,7,9}\n",
    "\n",
    "print(set_1)\n",
    "print(type(set_1))"
   ]
  },
  {
   "cell_type": "code",
   "execution_count": 89,
   "id": "a6faccc1-a4f3-4e1b-80aa-a8c885cab52d",
   "metadata": {},
   "outputs": [
    {
     "name": "stdout",
     "output_type": "stream",
     "text": [
      "{1, 3, 5, 7, 9, 11}\n"
     ]
    }
   ],
   "source": [
    "# You can add elements to a set\n",
    "\n",
    "set_1.add(11)\n",
    "print(set_1)\n"
   ]
  },
  {
   "cell_type": "code",
   "execution_count": 91,
   "id": "855149cb-4602-4ce0-bf07-2f506cb36031",
   "metadata": {},
   "outputs": [
    {
     "name": "stdout",
     "output_type": "stream",
     "text": [
      "{1, 3, 5, 7, 9}\n"
     ]
    }
   ],
   "source": [
    "# You can also remove elements of a set\n",
    "\n",
    "set_1.remove(11)\n",
    "print(set_1)"
   ]
  },
  {
   "cell_type": "code",
   "execution_count": 93,
   "id": "5f8e06bc-825b-4099-8c6c-f2bfdc68181d",
   "metadata": {},
   "outputs": [
    {
     "name": "stdout",
     "output_type": "stream",
     "text": [
      "False\n"
     ]
    }
   ],
   "source": [
    "# Just like with Lists and Tuples, we can use the in keyword to see if an item is present in the list\n",
    "\n",
    "print(11 in set_1)"
   ]
  },
  {
   "cell_type": "code",
   "execution_count": 95,
   "id": "0f25bd35-78c7-48ba-871e-220328583b55",
   "metadata": {},
   "outputs": [
    {
     "name": "stdout",
     "output_type": "stream",
     "text": [
      "{1, 3, 5, 7, 9}\n"
     ]
    }
   ],
   "source": [
    "# This example uses copy to make a duplicate of set_1\n",
    "\n",
    "set_2 = set_1.copy()\n",
    "print(set_2)"
   ]
  },
  {
   "cell_type": "code",
   "execution_count": 97,
   "id": "641ff3ea-76da-4855-8ad7-c54f25629907",
   "metadata": {},
   "outputs": [
    {
     "name": "stdout",
     "output_type": "stream",
     "text": [
      "set()\n"
     ]
    }
   ],
   "source": [
    "# In this example, clear() is used to remove all items from set_2\n",
    "\n",
    "set_2.clear()\n",
    "print(set_2)"
   ]
  },
  {
   "cell_type": "code",
   "execution_count": 99,
   "id": "501b9603-7b75-42b7-b056-4949e8726be0",
   "metadata": {},
   "outputs": [
    {
     "name": "stdout",
     "output_type": "stream",
     "text": [
      "{'Harry', 'Ron', 'Kevin'}\n"
     ]
    }
   ],
   "source": [
    "# This example uses difference() to create a new set that is the difference between the other two\n",
    "\n",
    "invites = {'Ron', 'Dave', 'Steve', 'Pete', 'Harry', 'Thomas', 'Kevin', 'Tim'}\n",
    "attends = {'Dave', 'Steve', 'Pete', 'Thomas', 'Tim'}\n",
    "\n",
    "no_shows = invites.difference(attends)\n",
    "print(no_shows)"
   ]
  },
  {
   "cell_type": "markdown",
   "id": "873fad64-0315-43f3-bd45-b41f559cde91",
   "metadata": {},
   "source": [
    "## Task 6 - Create a Set\n",
    "\n",
    "- name your set 'my_set'\n",
    "- enter any data into the set and print it\n",
    "- use the .add() method to add a new item to the set\n",
    "- print it again\n",
    "- use the .remove() method to remove an item from the set\n",
    "- print it again\n",
    "- use the `in` keyword to test if an item is in the set\n",
    "- print it again\n",
    "- use a method to clear the set and print again\n",
    "- finally, print the type() of the set\n"
   ]
  },
  {
   "cell_type": "code",
   "execution_count": 107,
   "id": "6c42e287-8788-4b1b-b854-078661cbd68d",
   "metadata": {},
   "outputs": [
    {
     "name": "stdout",
     "output_type": "stream",
     "text": [
      "{32, 3, 8, 12, 8766, 76}\n",
      "{32, 3, 243, 8, 12, 8766, 76}\n",
      "{32, 3, 243, 12, 8766, 76}\n",
      "False\n",
      "set()\n",
      "<class 'set'>\n"
     ]
    }
   ],
   "source": [
    "# Create a set called my_set and print\n",
    "mySet = {12, 76, 32, 8, 3, 8766}\n",
    "print(mySet)\n",
    "# use a method to add an element to the set and print\n",
    "mySet.add(243)\n",
    "print(mySet)\n",
    "# use a method to remove an element from the set and print\n",
    "mySet.remove(8)\n",
    "print(mySet)\n",
    "# return a boolean if an element is in the set and print\n",
    "print(42 in mySet)\n",
    "#use a method to clear the set and print\n",
    "mySet.clear()\n",
    "print(mySet)\n",
    "#print the type of my_set\n",
    "print(type(mySet))"
   ]
  },
  {
   "cell_type": "markdown",
   "id": "72cc83b9-b976-4573-80f6-d109377e2441",
   "metadata": {},
   "source": [
    "## Working with Dictionaries in Python\n",
    "\n",
    "### What is a dictionary?\n",
    "A dictionary in python is one of 4 data types built into Python that are used to store collections of data.  Any particular dictionary is an instance of the dictionary class and it has it's own built-in methods and it has certain attributes.  Lists are 'mutable', which means that you can alter the contents of the list in your code as you go.\n",
    "\n",
    "### How to you create a dictionary?\n",
    "You create a list by using the curly brackets.  This line of code creates an empty dictionary in the variable d:\n",
    "\n",
    "`d = {}`\n",
    "\n",
    "Dictionaries are organized a bit differently from the other containers we have covered.  Each entry in a dictionary consists of a key and a value - the key:value pair.  Unlike lists and tuples that have integer-based indexes, a dictionary is organized based on the key values.  Each key:value is pair and they are stored together.  You can think of this like a simple database where the 'key' is the name of the field and the 'value' is the entry for that particular field.\n",
    "\n",
    "To populate your dictionary with items, simply input the key:value pair joined by the colon inside the {}, separated by commas.  For example:\n",
    "\n",
    "`d = {'Phoenix':'Arizona', 'Austin':'Texas'}`\n",
    "\n",
    "The colon (':') is the operator that ties the key to its corresponding value.\n",
    "\n",
    "### Some of the most popular and useful methods that you can apply to a dictionary are:\n",
    "\n",
    "- `d.clear()` - This method clears d\n",
    "- `d.keys()` - Returns a list of all keys\n",
    "- `d.values()` - Returns a list of all values\n",
    "- `d.items()` - Returns a list of the data as tuples\n",
    "- `d.pop(key)` - Returns the value and removes pair from d\n",
    "- `d.update()` - Updates d with values from another dict\n",
    "\n",
    "\n",
    "\n",
    "A useful Python function to know how many entries there are in a list is the `len()` function\n",
    "\n",
    "You can also use the `in` keyword when working with dictionaries to see if something is there or to loop through it.  We will learn more about looping in Module 8.  Combining Data Containers with Looping is when Python starts to become very powerful!\n",
    "\n"
   ]
  },
  {
   "cell_type": "code",
   "execution_count": 109,
   "id": "e431e445-f79a-41bb-9f17-05b183fcdb8f",
   "metadata": {},
   "outputs": [],
   "source": [
    "# creating a dictionary\n",
    "tds = {'Scott': 4, 'Metcalf': 3, 'Godwin': 4, 'Hill': 8}"
   ]
  },
  {
   "cell_type": "code",
   "execution_count": 111,
   "id": "72ecc028-08a5-4135-b260-424d21c6afeb",
   "metadata": {},
   "outputs": [
    {
     "name": "stdout",
     "output_type": "stream",
     "text": [
      "{'Scott': 4, 'Metcalf': 3, 'Godwin': 4, 'Hill': 8}\n",
      "{'Scott': 4, 'Metcalf': 3, 'Godwin': 4, 'Hill': 8, 'Evans': 6}\n"
     ]
    }
   ],
   "source": [
    "# Add a new key:value pair to the dictionary\n",
    "print(tds)\n",
    "\n",
    "tds['Evans'] = 6\n",
    "\n",
    "print(tds)"
   ]
  },
  {
   "cell_type": "code",
   "execution_count": 113,
   "id": "62bb4178-0ca6-43d7-bc53-3847e764b41c",
   "metadata": {},
   "outputs": [
    {
     "data": {
      "text/plain": [
       "True"
      ]
     },
     "execution_count": 113,
     "metadata": {},
     "output_type": "execute_result"
    }
   ],
   "source": [
    "# using the `in` keyword to see if a value is a key in the dictionary\n",
    "'Scott' in tds"
   ]
  },
  {
   "cell_type": "code",
   "execution_count": 115,
   "id": "6ef68089-43a1-4393-ac01-1957a3522bef",
   "metadata": {},
   "outputs": [
    {
     "data": {
      "text/plain": [
       "dict_keys(['Scott', 'Metcalf', 'Godwin', 'Hill', 'Evans'])"
      ]
     },
     "execution_count": 115,
     "metadata": {},
     "output_type": "execute_result"
    }
   ],
   "source": [
    "# Getting a list of all the keys in a dictionary\n",
    "tds.keys()"
   ]
  },
  {
   "cell_type": "code",
   "execution_count": 117,
   "id": "e625e74c-b661-4380-b331-70f48cdf9ea9",
   "metadata": {},
   "outputs": [
    {
     "data": {
      "text/plain": [
       "dict_values([4, 3, 4, 8, 6])"
      ]
     },
     "execution_count": 117,
     "metadata": {},
     "output_type": "execute_result"
    }
   ],
   "source": [
    "# Getting all of the values of a dictionary\n",
    "tds.values()"
   ]
  },
  {
   "cell_type": "code",
   "execution_count": 119,
   "id": "f2123657-e621-40b8-a2f0-8db7601b0df4",
   "metadata": {},
   "outputs": [
    {
     "name": "stdout",
     "output_type": "stream",
     "text": [
      "{'Scott': 4, 'Metcalf': 3, 'Godwin': 4, 'Hill': 8, 'Evans': 6, 'Smith': 11, 'Harris': 5}\n"
     ]
    }
   ],
   "source": [
    "# Update a dictionary with another dictionary\n",
    "\n",
    "tds2 = {'Smith':11, 'Harris':5}\n",
    "\n",
    "tds.update(tds2)\n",
    "print(tds)"
   ]
  },
  {
   "cell_type": "code",
   "execution_count": 121,
   "id": "dcdc2bda-bf6c-4af1-83a8-be1fad315e32",
   "metadata": {},
   "outputs": [
    {
     "name": "stdout",
     "output_type": "stream",
     "text": [
      "{'Scott': 4, 'Metcalf': 3, 'Godwin': 4, 'Hill': 8, 'Evans': 6, 'Smith': 11, 'Harris': 5}\n",
      "{'Scott': 4, 'Metcalf': 3, 'Hill': 8, 'Evans': 6, 'Smith': 11, 'Harris': 5}\n",
      "4\n"
     ]
    }
   ],
   "source": [
    "# Use pop() to remove a key:value pair from a dictionary and return the value onlyu\n",
    "print(tds)\n",
    "tds3 = tds.pop('Godwin')\n",
    "print(tds)\n",
    "print(tds3)\n"
   ]
  },
  {
   "cell_type": "markdown",
   "id": "722c1a08-9a00-4f62-a7f6-84feb5324968",
   "metadata": {},
   "source": [
    "## Accessing values in a dictionary\n",
    "\n",
    "To access a value in a python dictionary, use the following syntax:\n",
    "\n",
    "`dict_value = dict_name['key']`\n",
    "\n",
    "For example, consider the dictionary `cal = {'egg': 175, 'bacon': 450, 'grits': 480}`\n",
    "\n",
    "to access the value for 'bacon' use:\n",
    "\n",
    "`cal['bacon']` which returns the value 450"
   ]
  },
  {
   "cell_type": "code",
   "execution_count": 123,
   "id": "95f13f0c-5384-4768-b0d1-367e81cb593c",
   "metadata": {},
   "outputs": [
    {
     "data": {
      "text/plain": [
       "233"
      ]
     },
     "execution_count": 123,
     "metadata": {},
     "output_type": "execute_result"
    }
   ],
   "source": [
    "cal = {'eggs':233, 'bacon':343, 'grits':232}\n",
    "cal['eggs']"
   ]
  },
  {
   "cell_type": "markdown",
   "id": "8350eabf-8c73-41e6-99e9-c6822b336598",
   "metadata": {},
   "source": [
    "## Task 7 - Create a Dictionary\n",
    "\n",
    "- Create a dictionary called 'ant' using the following key:value pairs or any other antonym pairs you want:\n",
    "\n",
    "'happy':'sad'<br>\n",
    "'day':'night'<br>\n",
    "'hot':'cold'<br>\n",
    "'big':'little'<br>\n",
    "'hard':'easy'<br>\n",
    "'friend':'enemy<br>\n",
    "\n",
    "- Choose 3 of the keys and define a variable with the values of each of those entries in the dictionary\n",
    "\n",
    "- Create a string using the variable names that prints the antonyms using string formatting (see example)\n",
    "\n",
    "The code \"f'I'm feeling {happy} to{day} because my {big} brother is my {friend}.\"` will create the string:\n",
    "\n",
    "I'm feeling sad tonight because my little brother is my enemy.\n",
    "\n",
    "- print the string\n",
    "\n"
   ]
  },
  {
   "cell_type": "code",
   "execution_count": 129,
   "id": "9b7872e8-7eb8-4499-bd78-76965554984e",
   "metadata": {},
   "outputs": [
    {
     "name": "stdout",
     "output_type": "stream",
     "text": [
      "Today is a very cold night and it is very easy to see\n"
     ]
    }
   ],
   "source": [
    "# Create the dictionary 'ant'\n",
    "ant = {'happy':'sad', 'day':'night', 'hot':'cold', 'big':'little', 'hard':'easy', 'friend':'enemy'}\n",
    "\n",
    "\n",
    "# Create 3 variables, use the names of 3 keys from the dictionary, set their values equal to the dictionary values\n",
    "day = ant['day']\n",
    "hot = ant['hot']\n",
    "hard = ant['hard']\n",
    "\n",
    "# Create a string sentence using the variable names that prints the antonyms usng f-style string formatting\n",
    "print(f\"Today is a very {hot} {day} and it is very {hard} to see\")\n",
    "\n"
   ]
  },
  {
   "cell_type": "markdown",
   "id": "b11f4961-ab8e-4243-9913-f3c5e52a350c",
   "metadata": {},
   "source": [
    "## When you have completed all examples and tasks, save this workbook and submit in Canvas"
   ]
  }
 ],
 "metadata": {
  "kernelspec": {
   "display_name": "anaconda-2022.05-py39",
   "language": "python",
   "name": "conda-env-anaconda-2022.05-py39-py"
  },
  "language_info": {
   "codemirror_mode": {
    "name": "ipython",
    "version": 3
   },
   "file_extension": ".py",
   "mimetype": "text/x-python",
   "name": "python",
   "nbconvert_exporter": "python",
   "pygments_lexer": "ipython3",
   "version": "3.9.12"
  }
 },
 "nbformat": 4,
 "nbformat_minor": 5
}
