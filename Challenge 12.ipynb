{
 "cells": [
  {
   "cell_type": "markdown",
   "metadata": {},
   "source": [
    "Part 1\n",
    "\n",
    "I am a number between 1 and 100. If you add my digits together, the sum is a prime number. If you square me, the result is a multiple of 7. I have many have twins.  Find me and all my twins.\n",
    "\n",
    "Write a Python algorithm to solve this riddle.\n",
    "\n",
    "Hints:\n",
    "\n",
    "1) Consider defining a function that can sum the digits of an integer first.\n",
    "2) You will need a function that can determine if a number is prime (look at prior challenges)\n",
    "3) When summing the digits, you might try converting the integer to string and back to integer."
   ]
  },
  {
   "cell_type": "code",
   "execution_count": 30,
   "metadata": {},
   "outputs": [
    {
     "name": "stdout",
     "output_type": "stream",
     "text": [
      "7\n",
      "14\n",
      "21\n",
      "49\n",
      "56\n",
      "70\n",
      "98\n"
     ]
    }
   ],
   "source": [
    "# Enter code here\n",
    "def sumDigs (num):\n",
    "    return (num//10 + num%10) if num < 100 else 1\n",
    "\n",
    "def factAll (nums):\n",
    "    factList = []\n",
    "    for n in range(1, int((nums)**.5)+1):\n",
    "        if nums%n == 0:\n",
    "            factList.append(nums)\n",
    "    return(factList)\n",
    "    \n",
    "for i in range(1, 101):\n",
    "    if len(factAll(sumDigs(i))) <= 1:\n",
    "       if ((i**2)%7 == 0):\n",
    "           print(i)"
   ]
  },
  {
   "cell_type": "code",
   "execution_count": null,
   "metadata": {},
   "outputs": [],
   "source": []
  }
 ],
 "metadata": {
  "kernelspec": {
   "display_name": "anaconda-2022.05-py39",
   "language": "python",
   "name": "conda-env-anaconda-2022.05-py39-py"
  },
  "language_info": {
   "codemirror_mode": {
    "name": "ipython",
    "version": 3
   },
   "file_extension": ".py",
   "mimetype": "text/x-python",
   "name": "python",
   "nbconvert_exporter": "python",
   "pygments_lexer": "ipython3",
   "version": "3.9.12"
  }
 },
 "nbformat": 4,
 "nbformat_minor": 4
}
