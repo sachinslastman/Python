{
 "cells": [
  {
   "cell_type": "markdown",
   "id": "72ce700a-da1c-4555-b1ac-4c5dc66110f4",
   "metadata": {},
   "source": [
    "Coding Challenge\n",
    "\n",
    "In this challenge, you will be manipulating elements of an encrypted string to decypher a password.  The password is buried in a larger string. Here are the steps to unlocking the password:\n",
    "\n",
    "1) From the original string \"os\", slice the characters from index 15 to 17 and save in a variable \"e1\"\n",
    "2) Reverse the original string os and save in a variable \"rs\"\n",
    "3) From the reversed string (\"rs\"), extract characters at indexes 7,8,9,12,14,17,19 and save in a var \"e2\"\n",
    "4) Combine the to variables\"e1\" and \"e2\" with character extracts into a new variable \"combined\"\n",
    "5) Reverse the string saved in the new variable \"combined\"\n",
    "6) Print the result"
   ]
  },
  {
   "cell_type": "code",
   "execution_count": 40,
   "id": "fcf2ac5c-bfa0-4722-a6fe-20498b1e1830",
   "metadata": {},
   "outputs": [
    {
     "name": "stdout",
     "output_type": "stream",
     "text": [
      "encryption\n"
     ]
    }
   ],
   "source": [
    "os = \"efnbdcwrmnyptxxnoizl\"\n",
    "e1 = os[15:18]\n",
    "rs = os[::-1]\n",
    "e2 = rs[7] + rs[8] + rs[9]+ rs[12] + rs[14] + rs[17] + rs[19]\n",
    "combined = e1 + e2\n",
    "combined = combined[::-1]\n",
    "print(combined)"
   ]
  },
  {
   "cell_type": "code",
   "execution_count": null,
   "id": "855abcfa-8319-4807-8a37-fb125fd4619e",
   "metadata": {},
   "outputs": [],
   "source": []
  }
 ],
 "metadata": {
  "kernelspec": {
   "display_name": "anaconda-panel-2023.05-py310",
   "language": "python",
   "name": "conda-env-anaconda-panel-2023.05-py310-py"
  },
  "language_info": {
   "codemirror_mode": {
    "name": "ipython",
    "version": 3
   },
   "file_extension": ".py",
   "mimetype": "text/x-python",
   "name": "python",
   "nbconvert_exporter": "python",
   "pygments_lexer": "ipython3",
   "version": "3.11.5"
  }
 },
 "nbformat": 4,
 "nbformat_minor": 5
}
