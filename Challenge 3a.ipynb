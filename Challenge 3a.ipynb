{
 "cells": [
  {
   "cell_type": "markdown",
   "id": "242932a7-2bc3-4454-bb54-d2d0d2fe11a4",
   "metadata": {},
   "source": [
    "### Challenge 3\n",
    "\n",
    "Write a Python program that accepts an integer input from the user and determines whether it is greater than 4^4 and if it is a multiple of 4.  It will return True if both conditions are met, otherwise False."
   ]
  },
  {
   "cell_type": "code",
   "execution_count": 9,
   "id": "a8053182-a7ad-4e8e-94fc-1273989f3293",
   "metadata": {},
   "outputs": [
    {
     "name": "stdin",
     "output_type": "stream",
     "text": [
      "Enter a number:  356\n"
     ]
    },
    {
     "data": {
      "text/plain": [
       "True"
      ]
     },
     "execution_count": 9,
     "metadata": {},
     "output_type": "execute_result"
    }
   ],
   "source": [
    "# Write your code here\n",
    "def numCheck (number):\n",
    "    if number > (4**4) and number % 4 == 0:\n",
    "        return True\n",
    "    return False\n",
    "    \n",
    "userInt = int(input(\"Enter a number: \"))\n",
    "numCheck(userInt)"
   ]
  }
 ],
 "metadata": {
  "kernelspec": {
   "display_name": "anaconda-2022.05-py39",
   "language": "python",
   "name": "conda-env-anaconda-2022.05-py39-py"
  },
  "language_info": {
   "codemirror_mode": {
    "name": "ipython",
    "version": 3
   },
   "file_extension": ".py",
   "mimetype": "text/x-python",
   "name": "python",
   "nbconvert_exporter": "python",
   "pygments_lexer": "ipython3",
   "version": "3.9.12"
  }
 },
 "nbformat": 4,
 "nbformat_minor": 5
}
