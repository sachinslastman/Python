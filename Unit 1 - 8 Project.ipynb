{
 "cells": [
  {
   "cell_type": "markdown",
   "id": "5773f09e-791d-4ea6-bc9c-225f99b17ee4",
   "metadata": {
    "tags": []
   },
   "source": [
    "### Units 1 - 8 Summative Project\n",
    "\n",
    "In this project, you will be creating a number guessing game.  There are two parts to this project - a BASE version and a BONUS version.  The game will work as follows:\n",
    "\n",
    "<u>BASE Game Version - Maximum Score 85%</u>\n",
    "\n",
    "- The computer will generate a random number between 1 and 10 (this code is provided).\n",
    "- You code will ask the user for a guess.\n",
    "- If the user guesses correctly, the code will print a relevant response.\n",
    "- If the user guesses incorrectly, the program will print a response ask for a new guess.\n",
    "- This will continue until the user guesses correctly.\n",
    "\n",
    "<u>BONUS Game Version - Maximum Score 100%</u>\n",
    "\n",
    "- The BASE game will be augmented so that the random number is between 1 and 100.\n",
    "- You will ask the user for a difficulty level (easy, medium, hard).\n",
    "- Depending on their selection, the user has 5, 9, 15 guesses to get it right.\n",
    "- After each guess, the program will provide the user with feedback if they were \"too high\" or \"too low\".\n",
    "- Your program will keep track of how many guesses the user has made.\n",
    "- The program will end if the maximum number of guesses for that diffculty has been exceeded.\n",
    "- If this happens the program will print an appropriate message.\n",
    "\n",
    "<u>Requirements</u>\n",
    "\n",
    "- You must use a `while` loop\n",
    "- You must use the `break` keyword\n",
    "- Your user guess input and any casting of that variable must occur in a `try` block\n",
    "- If the `try` block raises an error, your loop should continue to ask the user for a guess\n",
    "\n",
    "<u>Hints</u>\n",
    "\n",
    "- Get the user input inside of the loop\n",
    "- What is the type of the random number and what is the type of the guess? Must the the same to compare.\n",
    "- Don't forget to stop the loop when the user answers correctly\n"
   ]
  },
  {
   "cell_type": "code",
   "execution_count": null,
   "id": "30711864-e999-4bf2-959f-0c4db4e6496a",
   "metadata": {},
   "outputs": [
    {
     "name": "stdin",
     "output_type": "stream",
     "text": [
      "Enter a number between 1 - 10:  h\n"
     ]
    },
    {
     "name": "stdout",
     "output_type": "stream",
     "text": [
      "Invalid input\n"
     ]
    },
    {
     "name": "stdin",
     "output_type": "stream",
     "text": [
      "Enter a number between 1 - 10:  s\n"
     ]
    },
    {
     "name": "stdout",
     "output_type": "stream",
     "text": [
      "Invalid input\n"
     ]
    },
    {
     "name": "stdin",
     "output_type": "stream",
     "text": [
      "Enter a number between 1 - 10:  1\n"
     ]
    },
    {
     "name": "stdout",
     "output_type": "stream",
     "text": [
      "Try again\n"
     ]
    },
    {
     "name": "stdin",
     "output_type": "stream",
     "text": [
      "Enter a number between 1 - 10:  2\n"
     ]
    },
    {
     "name": "stdout",
     "output_type": "stream",
     "text": [
      "Try again\n"
     ]
    },
    {
     "name": "stdin",
     "output_type": "stream",
     "text": [
      "Enter a number between 1 - 10:  3\n"
     ]
    },
    {
     "name": "stdout",
     "output_type": "stream",
     "text": [
      "Try again\n"
     ]
    },
    {
     "name": "stdin",
     "output_type": "stream",
     "text": [
      "Enter a number between 1 - 10:  4\n"
     ]
    },
    {
     "name": "stdout",
     "output_type": "stream",
     "text": [
      "That is correct\n"
     ]
    }
   ],
   "source": [
    "# Code that generates the random number\n",
    "from random import randint\n",
    "correct_number = randint(1, 10)\n",
    "\n",
    "# Enter your BASE version code below\n",
    "user_guess = 0\n",
    "\n",
    "while True:\n",
    "    user_guess = input(\"Enter a number between 1 - 10: \")\n",
    "    try: \n",
    "        user_guess = int(user_guess)\n",
    "        if user_guess == correct_number:\n",
    "            print(\"That is correct\")\n",
    "            break\n",
    "        else:\n",
    "            print(\"Try again\")\n",
    "    except:\n",
    "        print(\"Invalid input\")\n",
    "        continue"
   ]
  },
  {
   "cell_type": "code",
   "execution_count": null,
   "id": "7a00c0f3-9d3f-461d-b5e9-df0ab6cf962b",
   "metadata": {},
   "outputs": [
    {
     "name": "stdin",
     "output_type": "stream",
     "text": [
      "Enter your difficulty (easy, medium, hard):  sa\n"
     ]
    },
    {
     "name": "stdout",
     "output_type": "stream",
     "text": [
      "Invalid input, defaulting to hard\n"
     ]
    }
   ],
   "source": [
    "# Code that generates the random number\n",
    "from random import randint\n",
    "correct_number = randint(1, 100)\n",
    "\n",
    "# Enter your BASE version code below\n",
    "inter = 5\n",
    "win = False\n",
    "user_guess = 0\n",
    "\n",
    "user_diff = input(\"Enter your difficulty (easy, medium, hard): \")\n",
    "if user_diff.lower() == \"easy\":\n",
    "    inter = 15\n",
    "elif user_diff.lower() == \"medium\":\n",
    "    inter = 9\n",
    "else:\n",
    "    print(\"Invalid input, defaulting to hard\")\n",
    "    \n",
    "for i in range (0, inter):\n",
    "    user_guess = input(\"Enter a number between 1 - 100: \")\n",
    "    try: \n",
    "        user_guess = int(user_guess)\n",
    "        if user_guess == correct_number:\n",
    "            print(\"That is correct\")\n",
    "            win = True\n",
    "            break\n",
    "        elif user_guess < correct_number:\n",
    "            print(\"Guess is too low\")\n",
    "        elif user_guess > correct_number:\n",
    "            print(\"Guess is too high\")\n",
    "            \n",
    "    except:\n",
    "        print(\"Invalid input\")\n",
    "        continue\n",
    "        \n",
    "if win == False:\n",
    "    print(f\"You ran out of guesses, the correct number was {correct_number}\")"
   ]
  },
  {
   "cell_type": "code",
   "execution_count": null,
   "id": "161cabaf-3040-48b7-bf7c-b361114b5959",
   "metadata": {},
   "outputs": [],
   "source": []
  }
 ],
 "metadata": {
  "kernelspec": {
   "display_name": "anaconda-panel-2023.05-py310",
   "language": "python",
   "name": "conda-env-anaconda-panel-2023.05-py310-py"
  },
  "language_info": {
   "codemirror_mode": {
    "name": "ipython",
    "version": 3
   },
   "file_extension": ".py",
   "mimetype": "text/x-python",
   "name": "python",
   "nbconvert_exporter": "python",
   "pygments_lexer": "ipython3",
   "version": "3.11.5"
  }
 },
 "nbformat": 4,
 "nbformat_minor": 5
}
