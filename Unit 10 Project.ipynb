{
 "cells": [
  {
   "cell_type": "markdown",
   "metadata": {
    "id": "Ay_Im88lElvc"
   },
   "source": [
    "# Python Unit 10 Project\n",
    "\n",
    "In this project, we are going to create the beginnings of a card game.\n",
    "\n",
    "Your task is to create code that will make a deck of 52 cards that includes the following values and suits:\n",
    "\n",
    "values: 2,3,4,5,6,7,8,9,10,Jack,Queen,King,Ace<br>\n",
    "suits: Hearts, Diamonds, Clubs, Spades\n",
    "\n",
    "Once you have the deck created, use a random method to create a list called 'hand' that selects N cards at random.  The number of cards to be dealt (N) will be input by the user.\n",
    "\n",
    "There are several ways you can accomplish this task; however, here is pseudocode with examples that demonstrate one approach:\n",
    "\n",
    "Step 1: import proper modules<br>\n",
    "Step 2: create collections of values and suits<br>\n",
    "Step 3: create an algorithm to make a 52 card deck<br>\n",
    "Step 4: use the sample method to randomly choose N characters from the deck:<br>\n",
    "Step 5: print out the hand that is dealt\n",
    "\n",
    "Example of how to use the sample method from the random module\n",
    "\n",
    "\n",
    "### Grading Rubric\n",
    "\n",
    "The key outcomes to be graded are:\n",
    "\n",
    "- You get user input\n",
    "- You cast it to the correct data type\n",
    "- You have data collections for values and suits\n",
    "- You create a collection representing a 52 card deck\n",
    "- You print an N-card hand from your deck ramdomly\n",
    "\n",
    "80% of the grade will be based on how much functional code you have created that helps to progress toward a solution.  If your code works exactly as described above, then you will receive 80% from this category regardless of what method you use.  Even if your code doesn't work as described, partial credit will be given if you have written code that makes progress towards a solution.\n",
    "\n",
    "20% of the grade will be based on your work ethic toward completing this project.  If you are repeatedly on your phone or working on other things while this project is not complete, you will not receive full credit from this category.  Make sure you are using your class time to complete the project - phones and computer games are not to be used during instructional time.\n"
   ]
  },
  {
   "cell_type": "code",
   "execution_count": 30,
   "metadata": {},
   "outputs": [
    {
     "name": "stdin",
     "output_type": "stream",
     "text": [
      "How many cards do you want (1 - 52)? 3\n"
     ]
    },
    {
     "name": "stdout",
     "output_type": "stream",
     "text": [
      "[('3', '♢'), ('5', '♢'), ('6', '♢')]\n"
     ]
    }
   ],
   "source": [
    "from random import sample\n",
    "\n",
    "def make_deck():\n",
    "    '''\n",
    "    make_deck adds all of the suits and values to make a deck of cards\n",
    "        \n",
    "    arg(s):\n",
    "    no arguments are taken\n",
    "        \n",
    "    returns:\n",
    "    returns the full deck of cards\n",
    "    '''\n",
    "    \n",
    "    suits = ['♠','♡','♢','♣']\n",
    "    value = ['2','3','4','5','6','7','8','9','10','J','Q','K','A']\n",
    "    deck = [(val, suit) for suit in suits for val in value]\n",
    "    return deck\n",
    "    \n",
    "#error checking and handling code\n",
    "while True:\n",
    "    try:\n",
    "        num_cards = int(input(\"How many cards do you want (1 - 52)?\"))\n",
    "        if num_cards < 1 or num_cards > 52:\n",
    "            raise ValueError\n",
    "        break\n",
    "    except ValueError:\n",
    "        print(\"Invalid input, try again\")\n",
    "    \n",
    "deck = make_deck()\n",
    "hand = (sample(deck, num_cards))\n",
    "\n",
    "print(hand)"
   ]
  }
 ],
 "metadata": {
  "colab": {
   "collapsed_sections": [],
   "name": "Python Modules_Unit_Project.ipynb",
   "provenance": []
  },
  "kernelspec": {
   "display_name": "anaconda-2022.05-py39",
   "language": "python",
   "name": "conda-env-anaconda-2022.05-py39-py"
  },
  "language_info": {
   "codemirror_mode": {
    "name": "ipython",
    "version": 3
   },
   "file_extension": ".py",
   "mimetype": "text/x-python",
   "name": "python",
   "nbconvert_exporter": "python",
   "pygments_lexer": "ipython3",
   "version": "3.9.12"
  }
 },
 "nbformat": 4,
 "nbformat_minor": 4
}
