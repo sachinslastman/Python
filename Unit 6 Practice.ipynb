{
 "cells": [
  {
   "cell_type": "markdown",
   "id": "166f9b8c",
   "metadata": {
    "cell_id": "74b86bc5-6fac-4465-9f28-990ec1d435ae",
    "deepnote_cell_type": "markdown"
   },
   "source": [
    "# Unit 6 - Conditionals\n",
    "\n",
    "## Conditionals: Boolean Strings\n",
    "- **`if`, `else`, `elif`**\n",
    "  - **Conditionals using Boolean string methods**\n",
    " \n",
    "### Student will be able to\n",
    "- **Control code flow with `if`... `else` conditional logic**\n",
    "- **Handle multiple branching flow with the `elif` statement**\n",
    "- **Use Boolean string methods (`.isupper(), .isalpha(), startswith()...`)**"
   ]
  },
  {
   "cell_type": "markdown",
   "id": "bc57d279",
   "metadata": {},
   "source": [
    "### Quick Review - Conditional Expressions"
   ]
  },
  {
   "cell_type": "code",
   "execution_count": 3,
   "id": "c771edab-e8eb-49e0-a3f6-7ce780956d7f",
   "metadata": {},
   "outputs": [
    {
     "data": {
      "text/plain": [
       "True"
      ]
     },
     "execution_count": 3,
     "metadata": {},
     "output_type": "execute_result"
    }
   ],
   "source": [
    "7 == 7"
   ]
  },
  {
   "cell_type": "code",
   "execution_count": 1,
   "id": "da23f63d-6cbc-4b42-ba2b-41fc5a93be2c",
   "metadata": {},
   "outputs": [
    {
     "data": {
      "text/plain": [
       "True"
      ]
     },
     "execution_count": 1,
     "metadata": {},
     "output_type": "execute_result"
    }
   ],
   "source": [
    "10 > 9"
   ]
  },
  {
   "cell_type": "code",
   "execution_count": 5,
   "id": "4e6ffda0-c5ec-4058-8aca-891902f078d1",
   "metadata": {},
   "outputs": [
    {
     "data": {
      "text/plain": [
       "True"
      ]
     },
     "execution_count": 5,
     "metadata": {},
     "output_type": "execute_result"
    }
   ],
   "source": [
    "'tho' in 'python'"
   ]
  },
  {
   "cell_type": "code",
   "execution_count": 7,
   "id": "c987cf73-2031-438c-94ca-7373ea54f074",
   "metadata": {},
   "outputs": [
    {
     "data": {
      "text/plain": [
       "True"
      ]
     },
     "execution_count": 7,
     "metadata": {},
     "output_type": "execute_result"
    }
   ],
   "source": [
    "'Enloe'.istitle()"
   ]
  },
  {
   "cell_type": "code",
   "execution_count": 9,
   "id": "34cd2663-ea6e-4010-ba61-2d7694a797b0",
   "metadata": {},
   "outputs": [
    {
     "data": {
      "text/plain": [
       "True"
      ]
     },
     "execution_count": 9,
     "metadata": {},
     "output_type": "execute_result"
    }
   ],
   "source": [
    "(2 * 5) > (11 - 2)"
   ]
  },
  {
   "cell_type": "code",
   "execution_count": 11,
   "id": "ff676335-7023-4fa9-bd17-2c1ad7ae0d9f",
   "metadata": {},
   "outputs": [
    {
     "data": {
      "text/plain": [
       "False"
      ]
     },
     "execution_count": 11,
     "metadata": {},
     "output_type": "execute_result"
    }
   ],
   "source": [
    "7 == 8"
   ]
  },
  {
   "cell_type": "code",
   "execution_count": 13,
   "id": "320b03e0-68c6-4be9-9294-f1e7313c6578",
   "metadata": {},
   "outputs": [
    {
     "data": {
      "text/plain": [
       "False"
      ]
     },
     "execution_count": 13,
     "metadata": {},
     "output_type": "execute_result"
    }
   ],
   "source": [
    "7 > 8"
   ]
  },
  {
   "cell_type": "code",
   "execution_count": 15,
   "id": "363edd8f-e269-4736-9906-152bb4ab9cf2",
   "metadata": {},
   "outputs": [
    {
     "data": {
      "text/plain": [
       "False"
      ]
     },
     "execution_count": 15,
     "metadata": {},
     "output_type": "execute_result"
    }
   ],
   "source": [
    "'THO' in 'python'"
   ]
  },
  {
   "cell_type": "code",
   "execution_count": 17,
   "id": "2e4349f8-0f3f-4963-923a-e571ef55836d",
   "metadata": {},
   "outputs": [
    {
     "data": {
      "text/plain": [
       "False"
      ]
     },
     "execution_count": 17,
     "metadata": {},
     "output_type": "execute_result"
    }
   ],
   "source": [
    "'enloe'.istitle()"
   ]
  },
  {
   "cell_type": "code",
   "execution_count": 19,
   "id": "2b8c37d3-3737-4b0b-ad6e-148996692671",
   "metadata": {},
   "outputs": [
    {
     "data": {
      "text/plain": [
       "False"
      ]
     },
     "execution_count": 19,
     "metadata": {},
     "output_type": "execute_result"
    }
   ],
   "source": [
    "(2 * 5) < (11 - 2)"
   ]
  },
  {
   "cell_type": "markdown",
   "id": "ab0719e7",
   "metadata": {
    "cell_id": "00002-4d399f51-e33b-46bb-a935-e596497082fa",
    "deepnote_cell_type": "markdown"
   },
   "source": [
    "### How to Use the `if` `else` conditional statements\n",
    "\n",
    "Here are some examples of using `if` `else` to evaluate logical statements and run the appropriate code."
   ]
  },
  {
   "cell_type": "code",
   "execution_count": 21,
   "id": "f5a53875",
   "metadata": {
    "cell_id": "00003-db7e74f1-01a0-47c9-bf9d-c58afca1c982",
    "collapsed": false,
    "deepnote_cell_type": "code",
    "jupyter": {
     "outputs_hidden": false
    }
   },
   "outputs": [
    {
     "name": "stdout",
     "output_type": "stream",
     "text": [
      "True means do something\n"
     ]
    }
   ],
   "source": [
    "\n",
    "if True:\n",
    "    print(\"True means do something\")\n",
    "else:\n",
    "    print(\"False means do something else\")"
   ]
  },
  {
   "cell_type": "code",
   "execution_count": 23,
   "id": "f9bc5917-8226-4b2a-81e5-d6a6c132a2c5",
   "metadata": {},
   "outputs": [
    {
     "name": "stdout",
     "output_type": "stream",
     "text": [
      "The age is 45\n"
     ]
    }
   ],
   "source": [
    "age = 45 # Notice the use of the single = when you are assigning a value\n",
    "\n",
    "if age == 45: # Notice the use of the == (double equals as a comparison operator)\n",
    "    print(\"The age is 45\")\n",
    "else:\n",
    "    print('The age is not 56')"
   ]
  },
  {
   "cell_type": "code",
   "execution_count": 25,
   "id": "0589a661-6363-4111-8bc8-098a5c2b735e",
   "metadata": {},
   "outputs": [
    {
     "name": "stdout",
     "output_type": "stream",
     "text": [
      "The statement 3 > 5 is False!\n"
     ]
    }
   ],
   "source": [
    "# Try running this code, then changing the value of x to some other values to see what happens\n",
    "\n",
    "x = 3\n",
    "\n",
    "if  x > 5:\n",
    "    print(f'The statement {x} > 5 is True!')\n",
    "else:\n",
    "    print(f'The statement {x} > 5 is False!')\n"
   ]
  },
  {
   "cell_type": "code",
   "execution_count": 27,
   "id": "41cbdf99",
   "metadata": {
    "cell_id": "00004-08cbfbe5-6209-4f3e-8d01-f3cef219ed19",
    "collapsed": false,
    "deepnote_cell_type": "code",
    "jupyter": {
     "outputs_hidden": false
    }
   },
   "outputs": [
    {
     "name": "stdout",
     "output_type": "stream",
     "text": [
      "I sure could go for a cold Cheerwine.\n"
     ]
    }
   ],
   "source": [
    "drinks = ['Coke', 'Pepsi', 'Sierra Mist', 'Dr. Pepper', 'Mountain Dew']\n",
    "\n",
    "if 'Cheerwine' in drinks:\n",
    "    print(\"It's one of my favorites\")\n",
    "else:\n",
    "    print(\"I sure could go for a cold Cheerwine.\")"
   ]
  },
  {
   "cell_type": "code",
   "execution_count": 29,
   "id": "1bdf178e-a389-4427-8e63-bb7c939734d3",
   "metadata": {},
   "outputs": [
    {
     "data": {
      "text/plain": [
       "True"
      ]
     },
     "execution_count": 29,
     "metadata": {},
     "output_type": "execute_result"
    }
   ],
   "source": [
    "# This function finds out if number a is a factor of number b\n",
    "\n",
    "def is_factor(a,b):\n",
    "    \n",
    "    if b % a == 0:\n",
    "        return True\n",
    "    else:\n",
    "        return False\n",
    "    \n",
    "is_factor(7,49)"
   ]
  },
  {
   "cell_type": "markdown",
   "id": "7409c9d2",
   "metadata": {
    "cell_id": "00007-57090209-9e52-4bc2-a046-1eef7a74221a",
    "deepnote_cell_type": "markdown"
   },
   "source": [
    "## Task 1: Conditionals\n",
    "### Using Boolean with `if, else`\n",
    "\n",
    "- **Give a weather report using `if, else`**"
   ]
  },
  {
   "cell_type": "code",
   "execution_count": 31,
   "id": "134a80d4",
   "metadata": {
    "cell_id": "00008-79ee8eee-6278-4508-a198-bc9f7717ebee",
    "collapsed": false,
    "deepnote_cell_type": "code",
    "jupyter": {
     "outputs_hidden": false
    }
   },
   "outputs": [
    {
     "name": "stdout",
     "output_type": "stream",
     "text": [
      "It sure is sunny\n"
     ]
    }
   ],
   "source": [
    "sunny_today = True\n",
    "# [ ] test if it is sunny_today and print proper responses using if and else\n",
    "if sunny_today:\n",
    "    print(\"It sure is sunny\")\n",
    "else:\n",
    "    print(\"Man I wish it was sunny\")"
   ]
  },
  {
   "cell_type": "code",
   "execution_count": 35,
   "id": "c0da7bdc",
   "metadata": {
    "cell_id": "00009-30dc2018-7cc2-4198-89eb-bd404406d34e",
    "collapsed": false,
    "deepnote_cell_type": "code",
    "jupyter": {
     "outputs_hidden": false
    }
   },
   "outputs": [
    {
     "name": "stdout",
     "output_type": "stream",
     "text": [
      "Man I wish it was sunny\n"
     ]
    }
   ],
   "source": [
    "sunny_today = False\n",
    "# [ ] use code you created above and test sunny_today = False\n",
    "if sunny_today:\n",
    "    print(\"It sure is sunny\")\n",
    "else:\n",
    "    print(\"Man I wish it was sunny\")"
   ]
  },
  {
   "cell_type": "markdown",
   "id": "fb29fc5b",
   "metadata": {
    "cell_id": "00010-6fc4c23c-e853-4847-8a25-6ff6f6f1362b",
    "deepnote_cell_type": "markdown"
   },
   "source": [
    "## Concept: Conditional with Boolean String Methods\n",
    "### Boolean string test methods with `if`\n",
    "\n",
    "```python\n",
    "if student_name.isalpha():\n",
    "```  \n",
    "- **`.isalnum()`**\n",
    "- **`.istitle()`**\n",
    "- **`.isdigit()`**\n",
    "- **`.islower()`**\n",
    "- **`.startswith()`**\n"
   ]
  },
  {
   "cell_type": "markdown",
   "id": "49aad9e3",
   "metadata": {
    "cell_id": "00011-2a19eae7-c86f-42db-9419-43649eb95941",
    "deepnote_cell_type": "markdown"
   },
   "source": [
    "### Examples"
   ]
  },
  {
   "cell_type": "code",
   "execution_count": 37,
   "id": "f49f345c",
   "metadata": {
    "cell_id": "00012-3834d2e5-9641-445c-8c08-32fb8ad6dcc7",
    "collapsed": false,
    "deepnote_cell_type": "code",
    "jupyter": {
     "outputs_hidden": false
    }
   },
   "outputs": [
    {
     "name": "stdin",
     "output_type": "stream",
     "text": [
      "Enter the title of a favorite book:  dairy of a wimpy kid\n"
     ]
    },
    {
     "name": "stdout",
     "output_type": "stream",
     "text": [
      "dairy of a wimpy kid - consider capitalization throughout for book titles.\n"
     ]
    }
   ],
   "source": [
    "# review code and run cell\n",
    "favorite_book = input(\"Enter the title of a favorite book: \")\n",
    "\n",
    "if favorite_book.istitle():\n",
    "    print(favorite_book, \"- nice capitalization in that title!\")\n",
    "else:\n",
    "    print(favorite_book, \"- consider capitalization throughout for book titles.\")"
   ]
  },
  {
   "cell_type": "code",
   "execution_count": 41,
   "id": "6fa1dc58",
   "metadata": {
    "cell_id": "00013-cebeb24d-80f3-4a45-8c7c-f039daa7b042",
    "collapsed": false,
    "deepnote_cell_type": "code",
    "jupyter": {
     "outputs_hidden": false
    }
   },
   "outputs": [
    {
     "name": "stdin",
     "output_type": "stream",
     "text": [
      "enter a positive integer number:  wsrfws\n"
     ]
    },
    {
     "name": "stdout",
     "output_type": "stream",
     "text": [
      "wsrfws is not a positive integer\n",
      "wsrfws is more like a word\n"
     ]
    }
   ],
   "source": [
    "# review code and run cell\n",
    "a_number = input(\"enter a positive integer number: \")\n",
    "\n",
    "if a_number.isdigit():\n",
    "    print(a_number, \"is a positive integer\")\n",
    "else:\n",
    "    print(a_number, \"is not a positive integer\")\n",
    "    \n",
    "# another if\n",
    "if a_number.isalpha():\n",
    "    print(a_number, \"is more like a word\")\n",
    "else:\n",
    "    pass"
   ]
  },
  {
   "cell_type": "code",
   "execution_count": 47,
   "id": "29d7ea9c",
   "metadata": {
    "cell_id": "00014-bc924179-b6da-48ad-82d4-0ced9250f44e",
    "collapsed": false,
    "deepnote_cell_type": "code",
    "jupyter": {
     "outputs_hidden": false
    }
   },
   "outputs": [
    {
     "name": "stdin",
     "output_type": "stream",
     "text": [
      "\"enter a type of vehicle that starts with \"P\":  prius\n"
     ]
    },
    {
     "name": "stdout",
     "output_type": "stream",
     "text": [
      "\n",
      " prius starts with \"P\"\n"
     ]
    }
   ],
   "source": [
    "# review code and run cell\n",
    "vehicle_type = input('\"enter a type of vehicle that starts with \"P\": ')\n",
    "\n",
    "if vehicle_type.upper().startswith(\"P\"):\n",
    "    print('\\n', vehicle_type, 'starts with \"P\"')\n",
    "else:\n",
    "    print('\\n', vehicle_type, 'does not start with \"P\"')\n",
    "    \n",
    "# the '\\n' character above just enters a new line"
   ]
  },
  {
   "cell_type": "markdown",
   "id": "20afbc50",
   "metadata": {
    "cell_id": "00015-f1d6e16e-50a4-4fa4-a4d9-1377cbf5b7d8",
    "deepnote_cell_type": "markdown"
   },
   "source": [
    "## Task 2 (multi-part): Evaluating Boolean conditionals \n",
    "### Create evaluations for `.islower()`\n",
    "- Print output describing **if** each of the 2 strings is all lowercase or not\n"
   ]
  },
  {
   "cell_type": "code",
   "execution_count": 49,
   "id": "0c858987",
   "metadata": {
    "cell_id": "00016-10b5c539-daf4-4e32-811b-b21e245773e3",
    "collapsed": false,
    "deepnote_cell_type": "code",
    "jupyter": {
     "outputs_hidden": false
    }
   },
   "outputs": [
    {
     "name": "stdout",
     "output_type": "stream",
     "text": [
      "welcome is lowercase\n",
      "I have $3 isn't lowercase\n"
     ]
    }
   ],
   "source": [
    "test_string_1 = \"welcome\"\n",
    "test_string_2 = \"I have $3\"\n",
    "# [ ] use if, else to test for .islower() for the 2 strings\n",
    "# create 2 different if else blocks\n",
    "if test_string_1.islower():\n",
    "    print(test_string_1, \"is lowercase\")\n",
    "else:\n",
    "    print(test_string_1, \"isn't lowercase\")\n",
    "if test_string_2.islower():\n",
    "    print(test_string_2, \"is lowercase\")\n",
    "else:\n",
    "    print(test_string_2, \"isn't lowercase\")\n"
   ]
  },
  {
   "cell_type": "markdown",
   "id": "b93543ec",
   "metadata": {
    "cell_id": "00017-15f84ab6-f560-4f4e-80ff-2a8caf80c99a",
    "deepnote_cell_type": "markdown"
   },
   "source": [
    "#### Task 2 continued...\n",
    "### Create a function using `startswith('w')` called w_start_test()\n",
    " \n",
    "- Function should have a parameter for `test_string`\n",
    "- w_start_test() tests if starts with \"w\"\n",
    "- if the argument passed starts with a \"w\" the function should print \"The string DOES start with a w\"\n",
    "- if the argument passed does not shart with a \"w\" the function should print \"The string DOES NOT start with a w\"\n",
    "- Call the function 3 times to test each of the string variables provided\n"
   ]
  },
  {
   "cell_type": "code",
   "execution_count": 59,
   "id": "ccdeb1d6",
   "metadata": {
    "cell_id": "00018-74b2523a-450e-480e-b46f-7e132b0ccba1",
    "collapsed": false,
    "deepnote_cell_type": "code",
    "jupyter": {
     "outputs_hidden": false
    }
   },
   "outputs": [
    {
     "name": "stdout",
     "output_type": "stream",
     "text": [
      "The string DOES start with a w\n",
      "The string DOES NOT start with a w\n",
      "The string DOES start with a w\n"
     ]
    }
   ],
   "source": [
    "test_string_1 = \"welcome\"\n",
    "test_string_2 = \"I have $3\"\n",
    "test_string_3 = \"With a function it's efficient to repeat code\"\n",
    "# [ ] create a function w_start_test() use if & else to test with .startswith('w')\n",
    "def w_start_test (string):\n",
    "    if string.lower().startswith('w'):\n",
    "        return \"The string DOES start with a w\"\n",
    "    else:\n",
    "        return \"The string DOES NOT start with a w\"\n",
    "\n",
    "# [ ] Test the 3 string variables provided by calling w_start_test()\n",
    "print(w_start_test(test_string_1))\n",
    "print(w_start_test(test_string_2))\n",
    "print(w_start_test(test_string_3))"
   ]
  },
  {
   "cell_type": "markdown",
   "id": "b380a48d",
   "metadata": {
    "cell_id": "7fef298f-5c95-4829-b614-860c6961baba",
    "deepnote_cell_type": "markdown"
   },
   "source": [
    "# Concept 2\n",
    "## Conditionals: Comparison Operators\n",
    "- **`if`, `else`**  \n",
    "- **Comparison operators**\n",
    " \n",
    "----- \n",
    "\n",
    "### Student will be able to\n",
    "- **Control code flow with `if`... `else` conditional logic**  \n",
    "  - **Using comparison (`>, <, >=, <=, ==, !=`)**  "
   ]
  },
  {
   "cell_type": "markdown",
   "id": "df4a4d28",
   "metadata": {
    "cell_id": "00001-4b1b24d9-30d7-4634-b113-b7013def7842",
    "deepnote_cell_type": "markdown"
   },
   "source": [
    "## Concept: Comparison Operators \n",
    " - **`>`** --> Greater Than Operator\n",
    " - **`<`** --> Less Than Operator\n",
    " - **`>=`** --> Greater Than or Equal to Operator\n",
    " - **`<=`** --> Less Than or Equal to Operator\n",
    " - **`==`** --> Equal to Operator\n",
    " - Assign **`=`** vs compare **`==`**\n",
    " - **`!=`** --> Not Equal to Operaor\n",
    " \n",
    "[view video](https://youtu.be/8X0sv357cxs)"
   ]
  },
  {
   "cell_type": "markdown",
   "id": "0c11a380",
   "metadata": {
    "cell_id": "00002-c4b47679-1534-4218-b915-2fa70387f27f",
    "deepnote_cell_type": "markdown"
   },
   "source": [
    "### Examples"
   ]
  },
  {
   "cell_type": "code",
   "execution_count": 63,
   "id": "73ab9e67",
   "metadata": {
    "cell_id": "00003-1e5b66ab-b810-461a-8a17-6b3757f553ab",
    "collapsed": false,
    "deepnote_cell_type": "code",
    "jupyter": {
     "outputs_hidden": false
    }
   },
   "outputs": [
    {
     "data": {
      "text/plain": [
       "False"
      ]
     },
     "execution_count": 63,
     "metadata": {},
     "output_type": "execute_result"
    }
   ],
   "source": [
    "# [ ] review and run code to see if 3 greater than 5\n",
    "3 > 5"
   ]
  },
  {
   "cell_type": "code",
   "execution_count": 65,
   "id": "683c8cbb",
   "metadata": {
    "cell_id": "00004-ee39e647-eba9-474f-ab02-0fe62b5d8faa",
    "collapsed": false,
    "deepnote_cell_type": "code",
    "jupyter": {
     "outputs_hidden": false
    }
   },
   "outputs": [
    {
     "data": {
      "text/plain": [
       "True"
      ]
     },
     "execution_count": 65,
     "metadata": {},
     "output_type": "execute_result"
    }
   ],
   "source": [
    "# [ ] review and run code to see if 3 less than or equal to 5\n",
    "3 <= 5"
   ]
  },
  {
   "cell_type": "code",
   "execution_count": 67,
   "id": "8536936b",
   "metadata": {
    "cell_id": "00005-32f3fc12-b7ee-41f5-a4c1-4154e7c40e12",
    "collapsed": false,
    "deepnote_cell_type": "code",
    "jupyter": {
     "outputs_hidden": false
    }
   },
   "outputs": [
    {
     "data": {
      "text/plain": [
       "False"
      ]
     },
     "execution_count": 67,
     "metadata": {},
     "output_type": "execute_result"
    }
   ],
   "source": [
    "# [ ] review and run code \n",
    "\n",
    "# assign x equal to 3\n",
    "x = 3\n",
    "\n",
    "# test if x is equal to\n",
    "x == 9"
   ]
  },
  {
   "cell_type": "code",
   "execution_count": 69,
   "id": "6b00034c",
   "metadata": {
    "cell_id": "00006-9596fbf6-7b50-4bda-86f8-ad256f383714",
    "collapsed": false,
    "deepnote_cell_type": "code",
    "jupyter": {
     "outputs_hidden": false
    }
   },
   "outputs": [
    {
     "name": "stdout",
     "output_type": "stream",
     "text": [
      "x not equal 9 is True\n",
      "x equal 3 is True\n"
     ]
    }
   ],
   "source": [
    "# [ ] review and run code \n",
    "x = 3\n",
    "print(\"x not equal 9 is\", x != 9)\n",
    "print(\"x equal 3 is\", x == 3)"
   ]
  },
  {
   "cell_type": "markdown",
   "id": "b4754d11",
   "metadata": {
    "cell_id": "00007-7e0860f0-f0d6-4b10-a39e-5c024e741c01",
    "deepnote_cell_type": "markdown"
   },
   "source": [
    "## Task 3: Comparison operators"
   ]
  },
  {
   "cell_type": "code",
   "execution_count": 79,
   "id": "3c1d4e37",
   "metadata": {
    "cell_id": "00008-e49c47f6-b022-4d06-81cb-aa41f2be433b",
    "collapsed": false,
    "deepnote_cell_type": "code",
    "jupyter": {
     "outputs_hidden": false
    }
   },
   "outputs": [
    {
     "name": "stdout",
     "output_type": "stream",
     "text": [
      "x is equal to 13 True\n"
     ]
    }
   ],
   "source": [
    "X = 9 + 4\n",
    "# [ ] create a test to print() True or False for x is equal to 13\n",
    "print(\"x is equal to 13\", X == 13)\n"
   ]
  },
  {
   "cell_type": "code",
   "execution_count": 81,
   "id": "a65f00ff",
   "metadata": {
    "cell_id": "00009-ea9574f7-c157-474c-9d94-2aefb17ee274",
    "collapsed": false,
    "deepnote_cell_type": "code",
    "jupyter": {
     "outputs_hidden": false
    }
   },
   "outputs": [
    {
     "name": "stdout",
     "output_type": "stream",
     "text": [
      "3 + 3 is greater than 2 + 4 False\n"
     ]
    }
   ],
   "source": [
    "# [ ] create a test to print True or False for 3 + 3 is greater than 2 + 4\n",
    "print(\"3 + 3 is greater than 2 + 4\", (3+3) > (2+4))\n"
   ]
  },
  {
   "cell_type": "markdown",
   "id": "a44f3072",
   "metadata": {
    "cell_id": "00010-7eba72cc-e45c-4147-bcde-a92158e73b07",
    "deepnote_cell_type": "markdown"
   },
   "source": [
    "## Concept:  Comparison Operators in Conditionals\n",
    "### Conditionals: Comparison operators with `if`\n",
    "\n",
    "Comparison operators evaluate to Boolean **`True`** and **`False`** to direct the flow of **`if`** conditionals.\n",
    "\n",
    "[view video](https://youtu.be/rwOxrt69ysY)"
   ]
  },
  {
   "cell_type": "markdown",
   "id": "0f39f13e",
   "metadata": {
    "cell_id": "00011-2afe55e6-4b9a-48bf-8e45-37618d9b2c8b",
    "deepnote_cell_type": "markdown"
   },
   "source": [
    "### Examples"
   ]
  },
  {
   "cell_type": "code",
   "execution_count": 83,
   "id": "b384ee1a",
   "metadata": {
    "cell_id": "00012-eda22a09-42d6-44b9-87e5-cdbc289fbd6e",
    "collapsed": false,
    "deepnote_cell_type": "code",
    "jupyter": {
     "outputs_hidden": false
    }
   },
   "outputs": [
    {
     "name": "stdout",
     "output_type": "stream",
     "text": [
      "x was 21\n",
      "now x is 25\n"
     ]
    }
   ],
   "source": [
    "# review code and run cell\n",
    "x = 21\n",
    "if x > 25:\n",
    "    print(\"x is already bigger than 25\")\n",
    "else:\n",
    "    print(\"x was\", x)\n",
    "    x = 25\n",
    "    print(\"now x is\", x)"
   ]
  },
  {
   "cell_type": "code",
   "execution_count": 85,
   "id": "bcfff4bc",
   "metadata": {
    "cell_id": "00013-ef9563b8-9e6c-4d74-ab9e-e521221a3ba9",
    "collapsed": false,
    "deepnote_cell_type": "code",
    "jupyter": {
     "outputs_hidden": false
    }
   },
   "outputs": [
    {
     "name": "stdout",
     "output_type": "stream",
     "text": [
      "Pass: x + 18 is equal to 36\n"
     ]
    }
   ],
   "source": [
    "# review code and run cell\n",
    "x = 18\n",
    "if x + 18 == x + x:\n",
    "    print(\"Pass: x + 18 is equal to\", x + x)\n",
    "else:\n",
    "    print(\"Fail: x + 18 is not equal to\", x + x)"
   ]
  },
  {
   "cell_type": "code",
   "execution_count": 87,
   "id": "4b0283a3",
   "metadata": {
    "cell_id": "00014-b3e59858-b3f0-4179-b755-8eb6e2c44ada",
    "collapsed": false,
    "deepnote_cell_type": "code",
    "jupyter": {
     "outputs_hidden": false
    }
   },
   "outputs": [
    {
     "name": "stdout",
     "output_type": "stream",
     "text": [
      "x is 18\n"
     ]
    }
   ],
   "source": [
    "# review code and run cell. \"!\" means \"not\"\n",
    "x = 18\n",
    "test_value = 18\n",
    "if x != test_value:\n",
    "    print('x is not', test_value)\n",
    "else:\n",
    "    print('x is', test_value)\n"
   ]
  },
  {
   "cell_type": "code",
   "execution_count": 89,
   "id": "e5416f77",
   "metadata": {
    "cell_id": "00015-0ebbf24d-991e-4dcf-a421-386ac3869de9",
    "collapsed": false,
    "deepnote_cell_type": "code",
    "jupyter": {
     "outputs_hidden": false
    }
   },
   "outputs": [
    {
     "ename": "SyntaxError",
     "evalue": "invalid syntax (2165412095.py, line 5)",
     "output_type": "error",
     "traceback": [
      "\u001b[0;36m  Input \u001b[0;32mIn [89]\u001b[0;36m\u001b[0m\n\u001b[0;31m    if x = 2:\u001b[0m\n\u001b[0m         ^\u001b[0m\n\u001b[0;31mSyntaxError\u001b[0m\u001b[0;31m:\u001b[0m invalid syntax\n"
     ]
    }
   ],
   "source": [
    "# review code and run cell\n",
    "# DON'T ASSIGN (x = 2) when you mean to COMPARE (x == 2)\n",
    "x = 2\n",
    "\n",
    "if x = 2:\n",
    "    print('\"==\" tests for, is equal to')\n",
    "else:\n",
    "    pass"
   ]
  },
  {
   "cell_type": "markdown",
   "id": "b1b6a880",
   "metadata": {
    "cell_id": "00016-9b7577c4-76fd-4f09-a336-c5d57c2a9706",
    "deepnote_cell_type": "markdown"
   },
   "source": [
    "## Task 4: Evaluating a comparison operator in `if`"
   ]
  },
  {
   "cell_type": "code",
   "execution_count": 97,
   "id": "b5d1e54d",
   "metadata": {
    "cell_id": "00017-8e6662f9-2d5a-4345-9023-04d4d927d2f4",
    "collapsed": false,
    "deepnote_cell_type": "code",
    "jupyter": {
     "outputs_hidden": false
    }
   },
   "outputs": [
    {
     "name": "stdout",
     "output_type": "stream",
     "text": [
      "y greater than or equal to x + x is True\n"
     ]
    }
   ],
   "source": [
    "# [ ] create an if/else statement that tests if y is greater than or equal x + x \n",
    "# [ ] print output: \"y greater than or equal x + x is\" True/False ...or a similar output\n",
    "\n",
    "x = 7\n",
    "y = x + 8\n",
    "\n",
    "if y >= x+x:\n",
    "    print(\"y greater than or equal to x + x is\", y>=(x+x))\n",
    "else:\n",
    "    print(\"y is not greater than or equal to x + x\")\n"
   ]
  },
  {
   "cell_type": "markdown",
   "id": "00bcee5f",
   "metadata": {
    "cell_id": "6cf52678-362b-441e-91a4-7a68428e38ed",
    "deepnote_cell_type": "markdown"
   },
   "source": [
    "# Concept 3\n",
    "## Conditionals: String Comparison\n",
    "- **`if`, `else`**\n",
    "- **String comparisons**\n",
    "\n",
    "----- \n",
    "\n",
    "### Student will be able to\n",
    "- **Control code flow with `if`... `else` conditional logic**  \n",
    "- **Using strings in comparisons**  \n",
    "- use a method you learned previously to add comments to the top of the assignment to include your name, date, assignment name and something you learned while completing the assignment"
   ]
  },
  {
   "cell_type": "markdown",
   "id": "30d4e900",
   "metadata": {
    "cell_id": "00001-4d37dd5c-ca12-494f-ab5d-cabf3d087307",
    "deepnote_cell_type": "markdown"
   },
   "source": [
    "\n",
    "## Concept: String Comparisons\n",
    "- ### Strings can be equal `==` or unequal `!=`\n",
    "- ### Strings can be greater than `>` or less than `<` \n",
    "- ### Alphabetically `\"A\"` is less than `\"B\"`\n",
    "- ### Lowercase `\"a\"` is greater than uppercase `\"A\"`"
   ]
  },
  {
   "cell_type": "markdown",
   "id": "cf8463d5",
   "metadata": {
    "cell_id": "00002-c1483ed9-897e-4de9-82b6-795fe11afe0e",
    "deepnote_cell_type": "markdown"
   },
   "source": [
    "### Examples"
   ]
  },
  {
   "cell_type": "code",
   "execution_count": 99,
   "id": "c32014f5",
   "metadata": {
    "cell_id": "00003-0e034f11-780a-426b-b5ed-5aa3794fd3e4",
    "collapsed": false,
    "deepnote_cell_type": "code",
    "jupyter": {
     "outputs_hidden": false
    }
   },
   "outputs": [
    {
     "data": {
      "text/plain": [
       "False"
      ]
     },
     "execution_count": 99,
     "metadata": {},
     "output_type": "execute_result"
    }
   ],
   "source": [
    "# review and run code\n",
    "\"hello\" < \"Hello\""
   ]
  },
  {
   "cell_type": "code",
   "execution_count": 101,
   "id": "0a7d0a66",
   "metadata": {
    "cell_id": "00004-238f595e-0f94-4c64-8784-3ff1aebe9b9a",
    "collapsed": false,
    "deepnote_cell_type": "code",
    "jupyter": {
     "outputs_hidden": false
    }
   },
   "outputs": [
    {
     "data": {
      "text/plain": [
       "False"
      ]
     },
     "execution_count": 101,
     "metadata": {},
     "output_type": "execute_result"
    }
   ],
   "source": [
    "# review and run code\n",
    "\"Aardvark\" > \"Zebra\""
   ]
  },
  {
   "cell_type": "code",
   "execution_count": 103,
   "id": "a2e03003",
   "metadata": {
    "cell_id": "00005-2b67b3f0-97f6-4eea-9fe7-3c7f46d02318",
    "collapsed": false,
    "deepnote_cell_type": "code",
    "jupyter": {
     "outputs_hidden": false
    }
   },
   "outputs": [
    {
     "data": {
      "text/plain": [
       "True"
      ]
     },
     "execution_count": 103,
     "metadata": {},
     "output_type": "execute_result"
    }
   ],
   "source": [
    "# review and run code\n",
    "'student' != 'Student'"
   ]
  },
  {
   "cell_type": "code",
   "execution_count": 105,
   "id": "67f6d7f5",
   "metadata": {
    "cell_id": "00006-19efceb6-3872-44f7-8a9c-484bc20f64fd",
    "collapsed": false,
    "deepnote_cell_type": "code",
    "jupyter": {
     "outputs_hidden": false
    }
   },
   "outputs": [
    {
     "name": "stdout",
     "output_type": "stream",
     "text": [
      "'student' >= 'Student' is True\n",
      "'student' != 'Student' is True\n"
     ]
    }
   ],
   "source": [
    "# review and run code\n",
    "print(\"'student' >= 'Student' is\", 'student' >= 'Student')\n",
    "print(\"'student' != 'Student' is\", 'student' != 'Student')\n"
   ]
  },
  {
   "cell_type": "code",
   "execution_count": 107,
   "id": "286245a0",
   "metadata": {
    "cell_id": "00007-f99e0235-2e87-47a9-a192-042ded24a0ee",
    "collapsed": false,
    "deepnote_cell_type": "code",
    "jupyter": {
     "outputs_hidden": false
    }
   },
   "outputs": [
    {
     "data": {
      "text/plain": [
       "True"
      ]
     },
     "execution_count": 107,
     "metadata": {},
     "output_type": "execute_result"
    }
   ],
   "source": [
    "# review and run code\n",
    "\"Hello \" + \"World!\" == \"Hello World!\""
   ]
  },
  {
   "cell_type": "markdown",
   "id": "9fd644f8",
   "metadata": {
    "cell_id": "00008-f032f414-a673-4fb1-819e-b45e04350b86",
    "deepnote_cell_type": "markdown"
   },
   "source": [
    "## Task 5: String Comparisons"
   ]
  },
  {
   "cell_type": "code",
   "execution_count": 20,
   "id": "3e251624",
   "metadata": {
    "cell_id": "00009-041da673-5ddc-45fc-a08e-d7a0c7527324",
    "collapsed": false,
    "deepnote_cell_type": "code",
    "jupyter": {
     "outputs_hidden": false
    }
   },
   "outputs": [
    {
     "name": "stdout",
     "output_type": "stream",
     "text": [
      "'msg' == 'Hello' is True\n"
     ]
    }
   ],
   "source": [
    "msg = \"Hello\"\n",
    "# [ ] print the True/False results of testing if msg string equals \"Hello\" string\n",
    "print(\"'msg' == 'Hello' is\", msg == \"Hello\")\n"
   ]
  },
  {
   "cell_type": "code",
   "execution_count": 24,
   "id": "226fa834",
   "metadata": {
    "cell_id": "00010-2c3e8cd6-729d-46ed-b884-ec6dbb8042fe",
    "collapsed": false,
    "deepnote_cell_type": "code",
    "jupyter": {
     "outputs_hidden": false
    }
   },
   "outputs": [
    {
     "name": "stdin",
     "output_type": "stream",
     "text": [
      "Say Hello  Hello\n"
     ]
    },
    {
     "name": "stdout",
     "output_type": "stream",
     "text": [
      "'msg1' == 'Hello' is True\n"
     ]
    }
   ],
   "source": [
    "greeting = \"Hello\"\n",
    "# [ ] get input for variable named msg1, and ask user to 'Say \"Hello\"'\n",
    "# [ ] print the results of testing if msg1 string equals greeting string\n",
    "msg1 = input(\"Say Hello \")\n",
    "\n",
    "print(\"'msg1' == 'Hello' is\", msg1 == \"Hello\")\n",
    "\n"
   ]
  },
  {
   "cell_type": "markdown",
   "id": "e0dea4c5",
   "metadata": {
    "cell_id": "00011-8f3ab3f4-e5ba-450d-b182-9151b9172eb6",
    "deepnote_cell_type": "markdown"
   },
   "source": [
    "## Concept: String Comparisons with `if`\n",
    "[view video](https://youtu.be/uo-e12srAG8)\n",
    "\n",
    "### Examples"
   ]
  },
  {
   "cell_type": "code",
   "execution_count": 26,
   "id": "2ad2b7a4",
   "metadata": {
    "cell_id": "00013-cb7fe897-e031-4ec0-9c1c-7aaa2d87c840",
    "collapsed": false,
    "deepnote_cell_type": "code",
    "jupyter": {
     "outputs_hidden": false
    }
   },
   "outputs": [
    {
     "name": "stdout",
     "output_type": "stream",
     "text": [
      "message as expected\n"
     ]
    }
   ],
   "source": [
    "# [ ] review and run code\n",
    "msg = \"Save the notebook\"\n",
    "\n",
    "if msg.lower() == \"save the notebook\":\n",
    "    print(\"message as expected\")\n",
    "else:\n",
    "    print(\"message not as expected\")"
   ]
  },
  {
   "cell_type": "code",
   "execution_count": 28,
   "id": "b2f10f47",
   "metadata": {
    "cell_id": "00014-544dfa71-1b7b-4c3b-ac45-009f5167d3f6",
    "deepnote_cell_type": "code"
   },
   "outputs": [
    {
     "name": "stdout",
     "output_type": "stream",
     "text": [
      "message as expected\n"
     ]
    }
   ],
   "source": [
    "# [ ] review and run code\n",
    "msg = \"Save the notebook\"\n",
    "prediction = \"save the notebook\"\n",
    "\n",
    "if msg.lower() == prediction.lower():\n",
    "    print(\"message as expected\")\n",
    "else:\n",
    "    print(\"message not as expected\")"
   ]
  },
  {
   "cell_type": "markdown",
   "id": "135012ef",
   "metadata": {
    "cell_id": "00015-023134f4-3d9e-4b2a-a4d6-1d498a523045",
    "deepnote_cell_type": "markdown"
   },
   "source": [
    "## Task 6: Using Comparison Operators with `if`\n"
   ]
  },
  {
   "cell_type": "code",
   "execution_count": 36,
   "id": "b836c131",
   "metadata": {
    "cell_id": "00016-dcf76049-d66e-478f-9a7e-93bfef67ba4b",
    "collapsed": false,
    "deepnote_cell_type": "code",
    "jupyter": {
     "outputs_hidden": false
    }
   },
   "outputs": [
    {
     "name": "stdin",
     "output_type": "stream",
     "text": [
      "What is 8 + 13 21\n"
     ]
    },
    {
     "name": "stdout",
     "output_type": "stream",
     "text": [
      "Correct\n"
     ]
    }
   ],
   "source": [
    "# [ ] get input for a variable, answer, and ask user 'What is 8 + 13? : '\n",
    "# [ ] print messages for correct answer \"21\" or incorrect answer using if/else\n",
    "# note: input returns a \"string\"\n",
    "userInput = int(input(\"What is 8 + 13\"))\n",
    "if userInput == 21:\n",
    "    print(\"Correct\")\n",
    "else:\n",
    "    print(\"Incorrect\")\n"
   ]
  },
  {
   "cell_type": "markdown",
   "id": "8af05a71",
   "metadata": {
    "cell_id": "00017-a51334fb-97ee-45af-82d9-dfe7f383aa73",
    "deepnote_cell_type": "markdown"
   },
   "source": [
    "## Task 7 (program): True False Quiz Function\n",
    "\n",
    "### Define and use `tf_quiz()` function\n",
    "- **`tf_quiz()`** has **2 parameters** which are both string arguments  \n",
    "  - **`answer`**: a string indicating what answer the user has provided to the question, either **\"T\"** or **\"F\"**\n",
    "  - **`correct_ans`**: a string indicating the *correct answer*, either **\"T\"** or **\"F\"** \n",
    "- **`tf_quiz()`** returns a string:  \"correct\" or \"incorrect\" accordingly\n",
    "- Define a variable that is equal to user input for the answer to a True/False question called **`user_answer`**\n",
    "- The argument to your input function will be the question for the user\n",
    "- Call tf_quiz() to return whether the user_answer was correct or incorrect\n"
   ]
  },
  {
   "cell_type": "code",
   "execution_count": 48,
   "id": "093976aa",
   "metadata": {
    "cell_id": "00018-78642911-29fd-410f-af86-d0abf51ff4b4",
    "collapsed": false,
    "deepnote_cell_type": "code",
    "jupyter": {
     "outputs_hidden": false
    }
   },
   "outputs": [
    {
     "name": "stdin",
     "output_type": "stream",
     "text": [
      "What's the biggest country?  russia\n"
     ]
    },
    {
     "data": {
      "text/plain": [
       "'Correct'"
      ]
     },
     "execution_count": 48,
     "metadata": {},
     "output_type": "execute_result"
    }
   ],
   "source": [
    "# [ ] Create the program, run tests\n",
    "def tf_quiz (answer, correct_ans):\n",
    "    if answer == correct_ans:\n",
    "        return \"Correct\"\n",
    "    else:\n",
    "        return \"Incorrect\"\n",
    "\n",
    "user_name = input(\"What's the biggest country? \").lower()\n",
    "tf_quiz(user_name, \"russia\")"
   ]
  },
  {
   "cell_type": "markdown",
   "id": "b0a5e13b",
   "metadata": {
    "cell_id": "545da87c-0f8f-4659-8b9f-c9cda612fe72",
    "deepnote_cell_type": "markdown"
   },
   "source": [
    "# Concept 4  \n",
    "## Incorporating the `elif` clause in your `if` `else` framework  \n",
    "- **Conditionals: `elif`**\n",
    "- **Casting**  \n",
    "\n",
    "-----\n",
    "\n",
    "### Student will be able to\n",
    "- **Code more than two choices using `elif`** \n",
    "- **Gather numeric input using type casting**  \n"
   ]
  },
  {
   "cell_type": "markdown",
   "id": "e6824190",
   "metadata": {
    "cell_id": "00001-f07a7fc2-20f0-4f5c-bb16-25644fadcd15",
    "deepnote_cell_type": "markdown"
   },
   "source": [
    "## Concept: Conditional `elif`\n",
    "\n",
    "[view video](https://youtu.be/Hm3HKhetObk)\n",
    "\n",
    "### A little review  \n",
    "- **`if`** means \"**if** a condition exists then do some task.\" **`if`** is usually followed by **`else`**.  \n",
    "- **`else`** means \"**or else** after we have tested **if**, then do an alternative task\".  \n",
    "\n",
    "When there  is a need to test for multiple conditions there is&nbsp; **`elif`**.\n",
    "- **`elif`**&nbsp; statement follows &nbsp;**`if`**, and means **\"else, if \"** another condition exists do something else\n",
    "- **`elif`**&nbsp; can be used many times\n",
    "- **`else`**&nbsp; is used after the last test condition (**`if`** or **`elif`**)\n",
    "\n",
    "#### In pseudo code  \n",
    "**If** it is raining bring an umbrella  \n",
    "or **Else If** &nbsp;(`elif`) it is snowing bring a warm coat  \n",
    "or **Else** go as usual  \n",
    "\n",
    "Like **`else`**, the **`elif`** only executes when the `if` conditional statement is False."
   ]
  },
  {
   "cell_type": "markdown",
   "id": "1194f9ff",
   "metadata": {
    "cell_id": "00002-12eb9500-680e-454e-b344-f589e9295737",
    "deepnote_cell_type": "markdown"
   },
   "source": [
    "### Examples"
   ]
  },
  {
   "cell_type": "code",
   "execution_count": 50,
   "id": "fce04182",
   "metadata": {
    "cell_id": "00003-36b39d61-fac1-4456-a53b-ef18347dfe48",
    "collapsed": false,
    "deepnote_cell_type": "code",
    "jupyter": {
     "outputs_hidden": false
    }
   },
   "outputs": [
    {
     "name": "stdin",
     "output_type": "stream",
     "text": [
      "Enter weather (sunny, rainy, snowy):  snowy\n"
     ]
    },
    {
     "name": "stdout",
     "output_type": "stream",
     "text": [
      "Wear a warm coat and hat\n"
     ]
    }
   ],
   "source": [
    "# [ ] review the code then run testing different inputs\n",
    "# WHAT TO WEAR\n",
    "weather = input(\"Enter weather (sunny, rainy, snowy): \") \n",
    "\n",
    "if weather.lower() == \"sunny\":\n",
    "    print(\"Wear a t-shirt\")\n",
    "elif weather.lower() == \"rainy\":\n",
    "    print(\"Bring an umbrella and boots\")\n",
    "elif weather.lower() == \"snowy\":\n",
    "    print(\"Wear a warm coat and hat\")\n",
    "else:\n",
    "    print(\"Sorry, not sure what to suggest for\", weather)"
   ]
  },
  {
   "cell_type": "code",
   "execution_count": 52,
   "id": "4c115283",
   "metadata": {
    "cell_id": "00004-c5a71ba7-5351-4ae8-a950-295d7aa2e32d",
    "collapsed": false,
    "deepnote_cell_type": "code",
    "jupyter": {
     "outputs_hidden": false
    }
   },
   "outputs": [
    {
     "name": "stdin",
     "output_type": "stream",
     "text": [
      "Enter a guess for the secret number (1-3):  2\n"
     ]
    },
    {
     "name": "stdout",
     "output_type": "stream",
     "text": [
      "Guess is right\n"
     ]
    }
   ],
   "source": [
    "# [ ] review the code then run testing different inputs\n",
    "# SECRET NUMBER GUESS\n",
    "secret_num = \"2\"\n",
    "\n",
    "guess = input(\"Enter a guess for the secret number (1-3): \")\n",
    "\n",
    "if guess.isdigit() == False:\n",
    "    print(\"Invalid: guess should only use digits\")\n",
    "elif guess == \"1\":\n",
    "    print(\"Guess is too low\")\n",
    "elif guess == secret_num:\n",
    "    print(\"Guess is right\")\n",
    "elif guess == \"3\":\n",
    "    print(\"Guess is too high\")\n",
    "else:\n",
    "    print(guess, \"is not a valid guess (1-3)\")"
   ]
  },
  {
   "cell_type": "markdown",
   "id": "e0183028",
   "metadata": {
    "cell_id": "00005-9a8b11dc-e250-460e-97dc-0e3ec6e91ca9",
    "deepnote_cell_type": "markdown"
   },
   "source": [
    "## Task 8 (program): Shirt Sale\n",
    "### Complete the program using `if, elif, else`\n",
    "- Get user input for variable size (S, M, L)\n",
    "- Reply with each shirt size and price (Small = 6, Medium = 7, Large = 8)\n",
    "- If the reply is other than S, M, L, give a message for not available\n",
    "- *Optional*: Add additional sizes"
   ]
  },
  {
   "cell_type": "code",
   "execution_count": 68,
   "id": "8964e62f",
   "metadata": {
    "cell_id": "00006-95103405-a576-451c-81f7-42df94dc02d5",
    "collapsed": false,
    "deepnote_cell_type": "code",
    "jupyter": {
     "outputs_hidden": false
    }
   },
   "outputs": [
    {
     "name": "stdin",
     "output_type": "stream",
     "text": [
      "Enter the size xxxxxxxxxxxxxl\n"
     ]
    },
    {
     "name": "stdout",
     "output_type": "stream",
     "text": [
      "Invalid size\n"
     ]
    }
   ],
   "source": [
    "# [ ] code and test SHIRT SALE\n",
    "size = input(\"Enter the size\")\n",
    "if size == \"s\":\n",
    "    print(\"Small = $6.00\")\n",
    "elif size == \"m\":\n",
    "    print(\"Medium = $7.00\")\n",
    "elif size == \"l\":\n",
    "    print(\"Large = $8.00\")\n",
    "elif size == \"xl\":\n",
    "    print(\"Extra Large = $9.00\")\n",
    "elif size == \"xxl\":\n",
    "    print(\"Extra Extra Large = $10.00\")\n",
    "else:\n",
    "    print(\"Invalid size\")\n"
   ]
  },
  {
   "cell_type": "markdown",
   "id": "a20a72ad-eece-4481-a528-ce69f56766d6",
   "metadata": {
    "cell_id": "a2b9c0c0-5b6b-4068-b3b5-88a532ed3dde",
    "deepnote_cell_type": "markdown"
   },
   "source": [
    "# Concept 5 - Using Operator Keywords `and` and `or` to make compound conditionals\n",
    "  \n",
    "### Student will be able to\n",
    "- **use the `and` and `or` keywords inside of `if` conditional**\n",
    "\n",
    "The Operator Keywords in Python are `and` `or` `not` `in` `is`.  You have already learned how to use the `in` keyword to return a boolean.  Now we will learn how to use `and` and `or` to make compound conditional statements inside of our `if` `else` code.\n",
    "\n",
    "Using `and`:\n",
    "\n",
    "The `and` keyword is used to evaluate more than one statement at a time.  It will return True only if ALL of the statements that are joined by the `and` keyword evaluate to True.\n",
    "\n",
    "Using `or`:\n",
    "\n",
    "The `or` keyword is used to evaluate more than one statement at a time.  It will return True if ANY of the statements that are joined by the `or` keyword evaluate to True.\n",
    "\n",
    "Here are a few examples of using the `and` and `or` keywords to evaluate more than one conditional statement.  Notice that even though there are multiple conditions, there is only one True or False return.\n"
   ]
  },
  {
   "cell_type": "code",
   "execution_count": 76,
   "id": "0f2a4de3-0f0c-485a-bb4d-ce351fd76c32",
   "metadata": {},
   "outputs": [
    {
     "data": {
      "text/plain": [
       "True"
      ]
     },
     "execution_count": 76,
     "metadata": {},
     "output_type": "execute_result"
    }
   ],
   "source": [
    "(5 > 3) and (5 < 10) # The parenthesis are not necessary, but it makes it easier to read in this case"
   ]
  },
  {
   "cell_type": "code",
   "execution_count": 74,
   "id": "7169187b-a56e-4676-8e14-021c1f5b9b9d",
   "metadata": {},
   "outputs": [
    {
     "data": {
      "text/plain": [
       "True"
      ]
     },
     "execution_count": 74,
     "metadata": {},
     "output_type": "execute_result"
    }
   ],
   "source": [
    "('one' in 'Bone') and ('one'.islower()) # Both statements are True so the overall result is True"
   ]
  },
  {
   "cell_type": "code",
   "execution_count": 72,
   "id": "83b15d46-d47b-4f2e-911c-cef8a6106176",
   "metadata": {},
   "outputs": [
    {
     "data": {
      "text/plain": [
       "True"
      ]
     },
     "execution_count": 72,
     "metadata": {},
     "output_type": "execute_result"
    }
   ],
   "source": [
    "temp = 86\n",
    "\n",
    "(temp > 80) or (temp < 55) # One of these statements is True so the overall result is True"
   ]
  },
  {
   "cell_type": "markdown",
   "id": "2dc84e13-5beb-44ef-8d74-118ce0826174",
   "metadata": {},
   "source": [
    "### Examples of using `and` and `or` in an `if` `else` statement"
   ]
  },
  {
   "cell_type": "code",
   "execution_count": 78,
   "id": "63e9a400-f0d9-4b5f-88f5-065938371fcb",
   "metadata": {},
   "outputs": [
    {
     "name": "stdout",
     "output_type": "stream",
     "text": [
      "We have your shoe and size in stock\n"
     ]
    }
   ],
   "source": [
    "brand = 'Nike'\n",
    "size = 11\n",
    "\n",
    "if brand == 'Nike' and size == 11:\n",
    "    print(\"We have your shoe and size in stock\")\n",
    "else:\n",
    "    print(\"I'm sorry, we don't have that shoe in your size\")"
   ]
  },
  {
   "cell_type": "code",
   "execution_count": 80,
   "id": "b1d33e0f-ee6e-477b-8d70-a571761d8d81",
   "metadata": {},
   "outputs": [
    {
     "name": "stdout",
     "output_type": "stream",
     "text": [
      "Today's temperature is Extreme\n"
     ]
    }
   ],
   "source": [
    "temp = 90\n",
    "condition = 'Moderate'\n",
    "\n",
    "if (temp > 80) or (temp < 55):\n",
    "    condition = 'Extreme'\n",
    "    print(\"Today's temperature is\",condition)\n",
    "else:\n",
    "    print(\"Today's temperature is\",condition)"
   ]
  },
  {
   "cell_type": "markdown",
   "id": "b6608656-610a-4a90-8e75-5b9335377cb5",
   "metadata": {
    "cell_id": "00016-ff72dcf9-9e9f-4d95-b5e9-959006490906",
    "deepnote_cell_type": "markdown",
    "tags": []
   },
   "source": [
    "elif size == \"l\":\n",
    "    print(\"Large = $8.00\")## Task 9: Using and and or keywords simultaneously\n",
    "\n",
    "### Create an `if` `else` statement that uses BOTH `and` and `or`\n",
    "\n",
    "- the variables lives_in, age, and hs_graduate are already pre-defined\n",
    "- if lives_in is 'Raleigh' AND age is 18 or greater OR hs_graduate is True then\n",
    "    - print the statement \"Mark Andrews is eligible to serve on the board\"\n",
    "    - else print \"Mark Andews is not eligible to serve on the board\"\n",
    "- Make sure to use the variable for user_name in your print\n",
    "\n"
   ]
  },
  {
   "cell_type": "code",
   "execution_count": 86,
   "id": "4fa3ce4e-2663-4f7d-a920-9b6f5bc21407",
   "metadata": {},
   "outputs": [
    {
     "name": "stdout",
     "output_type": "stream",
     "text": [
      "Mark Andrews is eligible to serve on the board\n"
     ]
    }
   ],
   "source": [
    "user_name = 'Mark Andrews'\n",
    "lives_in = 'Morrisville'\n",
    "age = 19\n",
    "hs_graduate = True\n",
    "\n",
    "# Write your code below -------------------------------------------------------------------\n",
    "if (lives_in == \"Raleigh\" and age >= 18) or hs_graduate == True:\n",
    "    print(\"Mark Andrews is eligible to serve on the board\")\n",
    "else:\n",
    "    print(\"Mark Andrews is not eligible to serve on the board\")"
   ]
  }
 ],
 "metadata": {
  "anaconda-cloud": {},
  "deepnote": {},
  "deepnote_execution_queue": [],
  "deepnote_notebook_id": "c293fdfa-8234-4648-a74a-7195d436c737",
  "kernelspec": {
   "display_name": "anaconda-2022.05-py39",
   "language": "python",
   "name": "conda-env-anaconda-2022.05-py39-py"
  },
  "language_info": {
   "codemirror_mode": {
    "name": "ipython",
    "version": 3
   },
   "file_extension": ".py",
   "mimetype": "text/x-python",
   "name": "python",
   "nbconvert_exporter": "python",
   "pygments_lexer": "ipython3",
   "version": "3.9.12"
  }
 },
 "nbformat": 4,
 "nbformat_minor": 5
}
