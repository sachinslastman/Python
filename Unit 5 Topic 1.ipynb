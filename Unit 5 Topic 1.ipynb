{
 "cells": [
  {
   "cell_type": "code",
   "execution_count": 11,
   "id": "2d44d532-e17c-497a-bd88-896bb514a897",
   "metadata": {},
   "outputs": [
    {
     "name": "stdin",
     "output_type": "stream",
     "text": [
      "Enter 10 number seperated by commas. They can be float or intergers:  4,8,5,6,10.5,6.4,2\n"
     ]
    },
    {
     "name": "stdout",
     "output_type": "stream",
     "text": [
      "4,8,5,6,10.5,6.4,2 <class 'str'> \n",
      "\n",
      "The lowest number in the list is 2.0 and the largest is 10.5\n",
      "Here is the list of numbers sorted [2.0, 4.0, 5.0, 6.0, 6.4, 8.0, 10.5]\n"
     ]
    }
   ],
   "source": [
    "# This function turns a string of numbers into a list of floats (if it can)\n",
    "\n",
    "def transform(inp):\n",
    "    try:\n",
    "        out = []\n",
    "        out = inp.split(\",\")\n",
    "        for i, num in enumerate(out):\n",
    "            out[i] = float(num)\n",
    "        return out\n",
    "    except:\n",
    "        return [0,999]\n",
    "\n",
    "\n",
    "#-----------------------------Read and Enter Code Based on Prompts------------------------------------------#\n",
    "\n",
    "# Use the input function to ask for 10 numbers separated by commas save in variable 'numbers'\n",
    "# The prompt should be \"Enter 10 numbers separated by commas.  They can be float or integer\"\n",
    "\n",
    "user_nums = input(\"Enter 10 number seperated by commas. They can be float or intergers: \")\n",
    "\n",
    "# Print the value and type of numbers\n",
    "\n",
    "print(user_nums, type(user_nums), \"\\n\")\n",
    "\n",
    "# Use the transform function to transform your string of numbers (note reassign the value of numbers)\n",
    "\n",
    "new_nums = transform(user_nums)\n",
    "\n",
    "\n",
    "# Use an f-style string and the min and max functions to print a sentence about the highest\n",
    "# and lowest numbers stored in the variable numbers\n",
    "# Statement should have the form \"The lowest number in the list is x.x and the largest is y.y\"\n",
    "\n",
    "print(f\"The lowest number in the list is {min(new_nums)} and the largest is {max(new_nums)}\")\n",
    "\n",
    "# use an f-style string to printe a sentence that includes all the numbers sorted (use the sorted function)\n",
    "# Statement should have the form \"Here is the list of numbers sorted: [x.x, y.y, z.z]\"\n",
    "\n",
    "print(f\"Here is the list of numbers sorted {sorted(new_nums)}\")\n",
    "\n",
    "\n",
    "    \n"
   ]
  }
 ],
 "metadata": {
  "kernelspec": {
   "display_name": "anaconda-panel-2023.05-py310",
   "language": "python",
   "name": "conda-env-anaconda-panel-2023.05-py310-py"
  },
  "language_info": {
   "codemirror_mode": {
    "name": "ipython",
    "version": 3
   },
   "file_extension": ".py",
   "mimetype": "text/x-python",
   "name": "python",
   "nbconvert_exporter": "python",
   "pygments_lexer": "ipython3",
   "version": "3.11.5"
  }
 },
 "nbformat": 4,
 "nbformat_minor": 5
}
