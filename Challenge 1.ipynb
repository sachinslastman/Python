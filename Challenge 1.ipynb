{
 "cells": [
  {
   "cell_type": "markdown",
   "id": "1a2c8306-0bf9-43c1-85a3-51cacb2c7689",
   "metadata": {},
   "source": [
    "### Challenge 1\n",
    "\n",
    "In this challenge, you will create a user defined function that can evaluate the contents of a collection such as a list, or tuple.  The function will determine if the collection contains exactly two occurences of the number 19 AND at least three occurrences of the number 5.  If both of those criteria are met, the function will return True, otherwise it will return False.\n",
    "\n",
    "Specifications:\n",
    "- Must create a user-defined function\n",
    "- Function will take exactly one argument\n",
    "- Function will return a Boolean value\n",
    "- Function will have a properly formatted docstring\n",
    "- Function will be called to evaluate the 3 given collections"
   ]
  },
  {
   "cell_type": "code",
   "execution_count": 54,
   "id": "dc87c904-f51b-4f6e-8379-d65735024f8e",
   "metadata": {},
   "outputs": [
    {
     "name": "stdout",
     "output_type": "stream",
     "text": [
      "True False True\n",
      "True False True\n"
     ]
    }
   ],
   "source": [
    "# Students are given these lists\n",
    "nums1 = [19,19,15,5,3,5,5,2]\n",
    "nums2 = [19,15,15,5,3,3,5,2]\n",
    "nums3 = [19,19,5,5,5,5,5]\n",
    "\n",
    "# Brute force checking the answers\n",
    "def bruteCheck (listNums):\n",
    "    num19 = 0\n",
    "    num5 = 0\n",
    "    for num in listNums:\n",
    "        if num == 19:\n",
    "            num19 += 1\n",
    "    \n",
    "    for num in listNums:\n",
    "        if num == 5:\n",
    "            num5 += 1\n",
    "            \n",
    "    return (num19 == 2 and num5 >= 3)\n",
    "    \n",
    "# Checking more advance and shorter way\n",
    "def smartCheck (listNums): return (listNums.count(19) == 2 and listNums.count(5) >= 3)\n",
    "\n",
    "print(bruteCheck(nums1), bruteCheck(nums2), bruteCheck(nums3))\n",
    "print(smartCheck(nums1), smartCheck(nums2), smartCheck(nums3))\n"
   ]
  },
  {
   "cell_type": "code",
   "execution_count": null,
   "id": "94a81540-cfa8-426e-8d69-020912bff553",
   "metadata": {},
   "outputs": [],
   "source": []
  }
 ],
 "metadata": {
  "kernelspec": {
   "display_name": "anaconda-2022.05-py39",
   "language": "python",
   "name": "conda-env-anaconda-2022.05-py39-py"
  },
  "language_info": {
   "codemirror_mode": {
    "name": "ipython",
    "version": 3
   },
   "file_extension": ".py",
   "mimetype": "text/x-python",
   "name": "python",
   "nbconvert_exporter": "python",
   "pygments_lexer": "ipython3",
   "version": "3.9.12"
  }
 },
 "nbformat": 4,
 "nbformat_minor": 5
}
