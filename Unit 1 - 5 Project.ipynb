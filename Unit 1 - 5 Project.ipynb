{
 "cells": [
  {
   "cell_type": "markdown",
   "id": "16ac49c0-47cc-4e3d-9650-77eee140b836",
   "metadata": {},
   "source": [
    "### Summative Project Units 1 - 5\n",
    "\n",
    "In this project, you will be given a partial program below.  Your task is to complete the code and fix any errors that may exist.  Read the comments in the code for instructions on what to do.  I recommend that you make a copy of the code cell and work on the copy so that you always have the original code in case you need to restart or you have inadvertently deleted parts of it.\n",
    "\n",
    "This program will calculate, return and print the volume of a sphere.  You will accomplish by writing blocks of code in different code cells as described below.\n",
    "\n",
    "The formula for the volume of a sphere is given by:\n",
    "\n",
    "$$V = \\frac{4}{3}\\pi r^3$$\n",
    "\n",
    "Where:\n",
    "- \\(V\\) is the volume of the sphere.\n",
    "- \\(pi\\) is a mathematical constant approximately equal to 3.14159265359.\n",
    "- \\(r\\) is the radius of the sphere.\n",
    "\n",
    "\n"
   ]
  },
  {
   "cell_type": "code",
   "execution_count": 4,
   "id": "b1e3b2e3-cda1-4687-9fae-87c75124f5b5",
   "metadata": {},
   "outputs": [
    {
     "name": "stdin",
     "output_type": "stream",
     "text": [
      "Enter the radius:  12\n"
     ]
    }
   ],
   "source": [
    "#  Step 1: In this block, we are creating two variables pi and radius\n",
    "# pi is already defined, use the input function to create a variable 'radius'\n",
    "\n",
    "pi = 3.1416\n",
    "radius = input(\"Enter the radius: \")\n",
    "\n"
   ]
  },
  {
   "cell_type": "code",
   "execution_count": 62,
   "id": "8f8129c3-9716-424b-81bd-29dfb617fcf4",
   "metadata": {},
   "outputs": [],
   "source": [
    "# Step 2: In this block, cast the variable 'radius' to float type\n",
    "# Hint: What function do you use to cast to a float?\n",
    "# Hint: Remember, you are reassigning the value of a variable\n",
    "\n",
    "radius = float(radius)\n"
   ]
  },
  {
   "cell_type": "code",
   "execution_count": 64,
   "id": "6b9dfd52-e91d-43ae-a216-32f6ab9da1cf",
   "metadata": {},
   "outputs": [],
   "source": [
    "# Step 3: In this block define a function called 'sphere' that calculates the volume of a sphere\n",
    "# The function should have one parameter for the radius\n",
    "# the function should return the volume of the sphere (see formula above)\n",
    "\n",
    "def sphere(radius):\n",
    "    volume = (4/3)*((pi)*(radius**3))\n",
    "    return volume\n"
   ]
  },
  {
   "cell_type": "code",
   "execution_count": 66,
   "id": "cc212570-ff93-4893-bb8d-86818df7d75e",
   "metadata": {},
   "outputs": [],
   "source": [
    "# Step 4: In this block, call your function\n",
    "# Save the result of the function in the variable 'answer'\n",
    "# Hint: remember, your function requires one argument\n",
    "\n",
    "answer = sphere(radius)\n"
   ]
  },
  {
   "cell_type": "code",
   "execution_count": 68,
   "id": "44a61fa3-f79a-4a2d-942f-b95aa9ae0f40",
   "metadata": {},
   "outputs": [],
   "source": [
    "# Step 5: In this block, you will create a formatted string output\n",
    "# use either the .format() method or the f-string method to create the string\n",
    "# save the string in the variable named 'outstring'\n",
    "# your string should read \"The volume of a sphere with radius X is Y\"\n",
    "# but your string will replace X and Y with the actual radius and volume\n",
    "# use formatting codes to format your numbers as float with 2 decimal places\n",
    "# Hint: curly braces and variable names\n",
    "\n",
    "outstring = (f\"The volume of the sphere with a radius {radius} is {answer}\")\n"
   ]
  },
  {
   "cell_type": "code",
   "execution_count": 70,
   "id": "29005c06-7287-4eaf-845b-c224c028f440",
   "metadata": {},
   "outputs": [
    {
     "name": "stdout",
     "output_type": "stream",
     "text": [
      "The volume of the sphere with a radius 12.0 is 7238.2464\n"
     ]
    }
   ],
   "source": [
    "#Step 6: Print out your variable 'outstring' to the console\n",
    "\n",
    "print(outstring)\n"
   ]
  },
  {
   "cell_type": "code",
   "execution_count": null,
   "id": "c7f463ff-aac8-4b73-9d77-59914e226a79",
   "metadata": {},
   "outputs": [],
   "source": [
    "# Project Complete - Submit on Canvas - Make sure there are no errors!"
   ]
  }
 ],
 "metadata": {
  "kernelspec": {
   "display_name": "anaconda-panel-2023.05-py310",
   "language": "python",
   "name": "conda-env-anaconda-panel-2023.05-py310-py"
  },
  "language_info": {
   "codemirror_mode": {
    "name": "ipython",
    "version": 3
   },
   "file_extension": ".py",
   "mimetype": "text/x-python",
   "name": "python",
   "nbconvert_exporter": "python",
   "pygments_lexer": "ipython3",
   "version": "3.11.5"
  }
 },
 "nbformat": 4,
 "nbformat_minor": 5
}
