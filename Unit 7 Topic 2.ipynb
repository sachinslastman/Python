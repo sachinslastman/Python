{
 "cells": [
  {
   "cell_type": "code",
   "execution_count": 29,
   "id": "52f28dc2-b356-40e9-9633-8d76dcb7a782",
   "metadata": {},
   "outputs": [
    {
     "name": "stdout",
     "output_type": "stream",
     "text": [
      "{1, 2, 3}\n",
      "{3, 4, 5, 6}\n"
     ]
    }
   ],
   "source": [
    "s1 = {1,2,3,3}\n",
    "print(s1)\n",
    "s2 = set([3,4,5,6])\n",
    "print(s2)"
   ]
  },
  {
   "cell_type": "code",
   "execution_count": 31,
   "id": "63a953f4-5d2d-4ccb-8b27-8b4cb3c7935f",
   "metadata": {},
   "outputs": [
    {
     "name": "stdout",
     "output_type": "stream",
     "text": [
      "{3}\n"
     ]
    }
   ],
   "source": [
    "s3 = s1 & s2\n",
    "print(s3)"
   ]
  },
  {
   "cell_type": "code",
   "execution_count": 33,
   "id": "519c657e-2766-4490-8368-135d62ff7562",
   "metadata": {},
   "outputs": [
    {
     "name": "stdout",
     "output_type": "stream",
     "text": [
      "{1, 2, 3, 4, 5, 6}\n"
     ]
    }
   ],
   "source": [
    "s4 = s1 | s2\n",
    "print(s4)"
   ]
  },
  {
   "cell_type": "code",
   "execution_count": 41,
   "id": "1a92aa68-77e6-4003-aa07-cad99574a1c1",
   "metadata": {},
   "outputs": [
    {
     "data": {
      "text/plain": [
       "False"
      ]
     },
     "execution_count": 41,
     "metadata": {},
     "output_type": "execute_result"
    }
   ],
   "source": [
    "7 in s4"
   ]
  },
  {
   "cell_type": "code",
   "execution_count": 44,
   "id": "6fe79768-ec58-471d-b455-6f9b2b86b513",
   "metadata": {},
   "outputs": [
    {
     "name": "stdout",
     "output_type": "stream",
     "text": [
      "[45, 56, 123, 8, 48, 36, 45, 123]\n"
     ]
    }
   ],
   "source": [
    "lst = [45, 56, 123, 8, 48, 36, 45, 123]\n",
    "print(lst)"
   ]
  },
  {
   "cell_type": "code",
   "execution_count": 48,
   "id": "370683d8-2432-4b17-8785-7633aecc7d2f",
   "metadata": {},
   "outputs": [
    {
     "name": "stdout",
     "output_type": "stream",
     "text": [
      "[36, 8, 45, 48, 56, 123] <class 'list'>\n"
     ]
    }
   ],
   "source": [
    "lst = list(set(lst))\n",
    "print(lst, type(lst))"
   ]
  },
  {
   "cell_type": "code",
   "execution_count": 50,
   "id": "7eb34fb2-bbe4-4d9d-b0c6-0554f756131d",
   "metadata": {},
   "outputs": [],
   "source": [
    "xList = {\"Daniel\": [\"Naughty\", \"iPhone\"], \"Carter\": [\"Nice\", \"Laptop\"], \"Max\": [\"Naughty\", \"Bicycle\"]}"
   ]
  },
  {
   "cell_type": "code",
   "execution_count": 65,
   "id": "e88bf4eb-ec1d-44c5-8643-f707cbcf15f2",
   "metadata": {},
   "outputs": [
    {
     "data": {
      "text/plain": [
       "'Bicycle'"
      ]
     },
     "execution_count": 65,
     "metadata": {},
     "output_type": "execute_result"
    }
   ],
   "source": [
    "xList[\"Max\"][1]"
   ]
  },
  {
   "cell_type": "code",
   "execution_count": 135,
   "id": "69d33a73-4bce-4777-bb2d-461a457a0e79",
   "metadata": {},
   "outputs": [
    {
     "name": "stdout",
     "output_type": "stream",
     "text": [
      "Max has been naughty and will recieve coal\n"
     ]
    }
   ],
   "source": [
    "if \"Nice\" in xList[\"Max\"][0]:\n",
    "    print(f\"Max has been nice and will receive a {xList['Max'][1]}\")\n",
    "\n",
    "else:\n",
    "    xList['Max'][1] = \"coal\"\n",
    "    print(f\"Max has been naughty and will recieve {xList['Max'][1]}\")"
   ]
  }
 ],
 "metadata": {
  "kernelspec": {
   "display_name": "anaconda-panel-2023.05-py310",
   "language": "python",
   "name": "conda-env-anaconda-panel-2023.05-py310-py"
  },
  "language_info": {
   "codemirror_mode": {
    "name": "ipython",
    "version": 3
   },
   "file_extension": ".py",
   "mimetype": "text/x-python",
   "name": "python",
   "nbconvert_exporter": "python",
   "pygments_lexer": "ipython3",
   "version": "3.11.5"
  }
 },
 "nbformat": 4,
 "nbformat_minor": 5
}
