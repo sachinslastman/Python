{
 "cells": [
  {
   "cell_type": "markdown",
   "id": "85391fc4",
   "metadata": {
    "id": "2S9quqsuYMxL"
   },
   "source": [
    "# Section 1: Using Python Modules\n",
    "* import, import as, from \"\" import\n",
    "* math: sqrt, //, %, \\**\n",
    "* order of operations\n",
    "* ceil, floor\n",
    "* random: random.randint(a, b), randrange(start, stop[,step])\n",
    "* random: random.choice(seq), random.shuffle(x[,random])\n",
    "\n",
    "### Students will be able to:\n",
    "* Import different Python modules\n",
    "* Compute mathematical expressions using functions from the math module\n",
    "* Recognize the effect of operator precedence\n",
    "* Round real numbers to the nearest integer\n",
    "* Generate (pseudo-)random integers\n",
    "* Select a random element from a list\n",
    "* Shuffle the elements of a list"
   ]
  },
  {
   "cell_type": "markdown",
   "id": "a6f85b15",
   "metadata": {
    "id": "kA7qbnqKYMxM"
   },
   "source": [
    "---\n",
    "<font size=\"6\" color=\"#00A0B2\"  face=\"verdana\"> <B>Modules</B></font>  \n",
    "\n",
    "\n",
    "## Importing Modules\n",
    "[View video](https://youtu.be/pTFF7frBFm4)\n",
    "\n",
    "When writing code, you do not have to create everything from scratch. As a matter of fact, you are encouraged to use previously developed functions written by other programmers. Such code is usually distributed as a library of functions and other facilities. Libraries are further organized into `modules` that contain related code. \n",
    "\n",
    "A module is basically a file that contains functions, variable, and classes. To use a function from a module, you need to import that module to your code. There are several ways to import a module; the following examples show you how to import and use the power function `pow` to compute 2<sup>3</sup>, and 5<sup>2</sup>.\n",
    "\n",
    "### Importing the whole library\n",
    "```python\n",
    "# import the whole math library\n",
    "import math\n",
    "\n",
    "# compute 2 to the power 3\n",
    "math.pow(2, 3)\n",
    "\n",
    "# compute 5 to the power 2\n",
    "math.pow(5, 2)\n",
    "```\n",
    "\n",
    "### Importing the whole library and renaming it\n",
    "```python\n",
    "# import the whole math library and rename it ml\n",
    "import math as ml\n",
    "\n",
    "# compute 2 to the power 3\n",
    "ml.pow(2, 3)\n",
    "\n",
    "# compute 5 to the power 2\n",
    "ml.pow(5, 2)\n",
    "```\n",
    "\n",
    "### Importing only the `pow` function\n",
    "In this case, there is no need to refer to the `math` module when using `pow`.\n",
    "\n",
    "```python\n",
    "# import the `pow` function\n",
    "from math import pow\n",
    "\n",
    "# compute 2 to the power 3\n",
    "pow(2, 3)\n",
    "\n",
    "# compute 5 to the power 2\n",
    "pow(5, 2)\n",
    "```"
   ]
  },
  {
   "cell_type": "markdown",
   "id": "f93b1854",
   "metadata": {
    "id": "qIPPSaC5YMxM"
   },
   "source": [
    "---\n",
    "<font size=\"6\" color=\"#00A0B2\"  face=\"verdana\"> <B>Examples</B></font>\n",
    "\n",
    "### Importing the `fabs` Function\n",
    "The following examples show you how to import and use the 'fabs' function, which calculates the absolute value of a number.\n",
    "* |-5| = 5\n",
    "* |12| = 12"
   ]
  },
  {
   "cell_type": "code",
   "execution_count": 1,
   "id": "b4a2d53c",
   "metadata": {
    "id": "Lkmkk9yHYMxN"
   },
   "outputs": [
    {
     "data": {
      "text/plain": [
       "5.0"
      ]
     },
     "execution_count": 1,
     "metadata": {},
     "output_type": "execute_result"
    }
   ],
   "source": [
    "import math\n",
    "x = -5\n",
    "math.fabs(x)"
   ]
  },
  {
   "cell_type": "code",
   "execution_count": null,
   "id": "1ecfe1e6",
   "metadata": {
    "id": "dQ2-AVvxYMxO"
   },
   "outputs": [],
   "source": [
    "import math as ml\n",
    "y = 12\n",
    "ml.fabs(y)"
   ]
  },
  {
   "cell_type": "code",
   "execution_count": null,
   "id": "ef5bfa3a",
   "metadata": {
    "id": "a8KhhkRMYMxO"
   },
   "outputs": [],
   "source": [
    "from math import fabs\n",
    "fabs(-5)"
   ]
  },
  {
   "cell_type": "markdown",
   "id": "92b1b7dd",
   "metadata": {
    "id": "A25tNuPAYMxO"
   },
   "source": [
    "---\n",
    "<font size=\"6\" color=\"#B24C00\" face=\"verdana\"><B>Task 1</B></font>\n",
    "\n",
    "## Importing Modules\n",
    "\n",
    "### Using Documentation to Find a Function\n",
    "The `math` module contains many useful functions. Skim through the Python Documentation Site's math page at https://docs.python.org/3/library/math.html and find an appropriate function that can compute the greatest common divisor of two numbers."
   ]
  },
  {
   "cell_type": "code",
   "execution_count": 1,
   "id": "9243bba5",
   "metadata": {
    "id": "bYlGM2IlYMxO"
   },
   "outputs": [
    {
     "data": {
      "text/plain": [
       "4"
      ]
     },
     "execution_count": 1,
     "metadata": {},
     "output_type": "execute_result"
    }
   ],
   "source": [
    "# [ ] Import the math module and find the greatest common divisor of 16 and 28\n",
    "# [ ] print the result\n",
    "import math\n",
    "math.gcd(16, 28)"
   ]
  },
  {
   "cell_type": "code",
   "execution_count": 5,
   "id": "2da2a292",
   "metadata": {
    "id": "G9hGFvdQYMxP"
   },
   "outputs": [
    {
     "name": "stdin",
     "output_type": "stream",
     "text": [
      "Enter a number:  4\n",
      "Enter another number:  12\n"
     ]
    },
    {
     "data": {
      "text/plain": [
       "4"
      ]
     },
     "execution_count": 5,
     "metadata": {},
     "output_type": "execute_result"
    }
   ],
   "source": [
    "# [ ] Prompt the user to input 2 positive integers then print their greatest common divisor\n",
    "num1 = int(input(\"Enter a number: \"))\n",
    "num2 = int(input(\"Enter another number: \"))\n",
    "math.gcd(num1, num2)"
   ]
  },
  {
   "cell_type": "markdown",
   "id": "66c3efce",
   "metadata": {
    "id": "Lx5bKvaDYMxP"
   },
   "source": [
    "---\n",
    "<font size=\"6\" color=\"#00A0B2\"  face=\"verdana\"> <B>Concepts</B></font>  \n",
    "\n",
    "## Using `math` Functions\n",
    "[View video](https://youtu.be/2gx4K2M0HMc)\n",
    "\n",
    "The Python Documentation Site's page on [math](https://docs.python.org/3.6/library/math.html) module contains a lot of mathematically useful functions and constants. For example, it contains trigonometric functions such as `cos` and `sin`, and other functions such as `sqrt`.\n",
    "\n",
    "### Square root\n",
    "\n",
    "The `sqrt` function computes the square root of a number. The following examples show how to compute:\n",
    "* $\\sqrt{5}$\n",
    "* $\\sqrt{30}$\n",
    "\n",
    "```python\n",
    "from math import sqrt\n",
    "\n",
    "#compute the square root of 5\n",
    "sqrt(5)\n",
    "\n",
    "#compute the square root of 30\n",
    "sqrt(30)\n",
    "```"
   ]
  },
  {
   "cell_type": "markdown",
   "id": "1bfe6337",
   "metadata": {
    "id": "cY5lUXchYMxQ"
   },
   "source": [
    "---\n",
    "<font size=\"6\" color=\"#00A0B2\" face=\"verdana\"><B>Examples</B></font>\n",
    "\n",
    "### Pythagorean theorem\n",
    "\n",
    "We can use the Pythagorean theorem (see the Wikipedia Site page on the [Pythagorean theorem](https://en.wikipedia.org/wiki/Pythagorean_theorem)) to compute the hypotenuse length of a right triangle as follows:\n",
    "\n",
    "$h^2 = (a^2 + b^2)$\n",
    "\n",
    "$h = \\sqrt{a^2 + b^2}$\n",
    "\n",
    "In Python, we can compute `h` using the sqrt function as follows:\n"
   ]
  },
  {
   "cell_type": "code",
   "execution_count": 3,
   "id": "080791d5",
   "metadata": {
    "id": "QKukAhMEYMxQ"
   },
   "outputs": [
    {
     "name": "stdout",
     "output_type": "stream",
     "text": [
      "5.0\n"
     ]
    }
   ],
   "source": [
    "from math import sqrt\n",
    "a = 3\n",
    "b = 4\n",
    "h = sqrt(a ** 2 + b ** 2)\n",
    "print(h)"
   ]
  },
  {
   "cell_type": "markdown",
   "id": "dd81d22c",
   "metadata": {},
   "source": [
    "We could have also just used the `hypot` function from the math module like this:"
   ]
  },
  {
   "cell_type": "code",
   "execution_count": 2,
   "id": "2a7e0dbd",
   "metadata": {},
   "outputs": [
    {
     "name": "stdout",
     "output_type": "stream",
     "text": [
      "5.0\n"
     ]
    }
   ],
   "source": [
    "from math import hypot\n",
    "print(hypot(3, 4))"
   ]
  },
  {
   "cell_type": "markdown",
   "id": "17aedb74",
   "metadata": {
    "id": "GPsdNDRXYMxQ"
   },
   "source": [
    "### Even or Odd?\n",
    "\n",
    "To test if a number is even or odd, we usually divide it by 2 and check the remainder. If the remainder is 0, the number is even; otherwise, the number is odd. We can use the modulo operator to test for the remainder as follows:"
   ]
  },
  {
   "cell_type": "code",
   "execution_count": null,
   "id": "d93955bb",
   "metadata": {
    "id": "JLYQ1zCSYMxQ"
   },
   "outputs": [],
   "source": [
    "# Even number (print 0)\n",
    "print(102 % 2)\n",
    "\n",
    "# Odd Number (print 1)\n",
    "print(77 % 2)"
   ]
  },
  {
   "cell_type": "markdown",
   "id": "8cd5d2e3",
   "metadata": {
    "id": "S3-7tx6AYMxQ"
   },
   "source": [
    "---\n",
    "<font size=\"6\" color=\"#B24C00\"  face=\"verdana\"> <B>Task 2</B></font>\n",
    "\n",
    "## Using `math` Functions"
   ]
  },
  {
   "cell_type": "code",
   "execution_count": 7,
   "id": "972a6ff2",
   "metadata": {
    "id": "l7nH_exaYMxR",
    "tags": []
   },
   "outputs": [
    {
     "name": "stdout",
     "output_type": "stream",
     "text": [
      "Number is even\n"
     ]
    }
   ],
   "source": [
    "# [ ] Fill out the function is_even with a code block that returns True if n is even and returns False if n is odd\n",
    "\n",
    "def is_even(n):\n",
    "    if n % 2 == 0:\n",
    "        return True\n",
    "    else:\n",
    "        return False\n",
    "\n",
    "# Test the function \n",
    "x = 50\n",
    "if is_even(x):\n",
    "    print(\"Number is even\")\n",
    "else:\n",
    "    print(\"Number is odd\")\n"
   ]
  },
  {
   "cell_type": "code",
   "execution_count": 45,
   "id": "ea6fa084",
   "metadata": {
    "id": "2eJXCpf-YMxR",
    "tags": []
   },
   "outputs": [
    {
     "name": "stdout",
     "output_type": "stream",
     "text": [
      "5.830951894845301\n",
      "1.4142135623730951\n",
      "5.0990195135927845\n",
      "6.6332495807108\n"
     ]
    }
   ],
   "source": [
    "# [ ] Use the function is_even to print the square root of all the even numbers in the following list\n",
    "def is_even(n):\n",
    "    if n % 2 == 0:\n",
    "        return True\n",
    "    else:\n",
    "        return False\n",
    "    \n",
    "from math import sqrt\n",
    "lis = [25, 34, 193, 2, 81, 26, 44]\n",
    "for i in range (7):\n",
    "    if is_even(lis[i]):\n",
    "        print(sqrt(lis[i]))"
   ]
  },
  {
   "cell_type": "markdown",
   "id": "1cc931fa",
   "metadata": {
    "id": "w_47eNDnYMxU"
   },
   "source": [
    "---\n",
    "<font size=\"6\" color=\"#00A0B2\"  face=\"verdana\"> <B>Concepts</B></font>  \n",
    "\n",
    "\n",
    "## Rounding Numbers\n",
    "[View video](https://youtu.be/x5s8mUqNLsE)\n",
    "\n",
    "In some cases, you need to round a real number into an integer. For example, 31.8 can be rounded up to the next integer (32), and it can also be rounded down (to 31).\n",
    "\n",
    "#### Ceiling\n",
    "A real number can be rounded up in Python using the `ceil` function from the `math` module. The function takes a real number `x` and returns the smallest integer value greater than or equal to `x`.\n",
    "\n",
    "```python\n",
    "# importing the math library\n",
    "import math\n",
    "\n",
    "# round up\n",
    "x = math.ceil(31.8)\n",
    "print(x) #will print 32\n",
    "```  \n",
    "\n",
    "#### Truncate\n",
    "The function `trunc` from the `math` module can round a real number into an integer by ignoring (truncating) the fraction part.\n",
    "\n",
    "```python\n",
    "# importing the math library\n",
    "import math\n",
    "x = math.trunc(31.8)\n",
    "print(x) #will print 31\n",
    "```\n",
    "\n",
    "#### Floor\n",
    "A real number can be rounded down in Python using the `floor` function from the `math` module. The function takes a real number `x` and returns the largest integer value less than or equal to `x`.\n",
    "\n",
    "```python\n",
    "# importing the math library\n",
    "import math\n",
    "\n",
    "# round down\n",
    "x = math.floor(31.8)\n",
    "print(x) #will print 31\n",
    "```  "
   ]
  },
  {
   "cell_type": "markdown",
   "id": "fec8fe54",
   "metadata": {
    "id": "Uv60ZD3YYMxU"
   },
   "source": [
    "---\n",
    "<font size=\"6\" color=\"#00A0B2\" face=\"verdana\"><B>Examples</B></font>\n",
    "\n",
    "You and a friend participated in a programming contest. Your hard work paid off, and your team won a prize of \\$213, which you decide to split evenly. Unfortunately, you were given the prize in \\$1 bills and neither of you has any coins. How should you split the prize?\n",
    "\n",
    "An equal division of the prize is <sup>213</sup>/<sub>2</sub> = 106.5; however, you cannot get \\$0.5 without destroying one of the \\$1 bills, so you decide to use Python to round:"
   ]
  },
  {
   "cell_type": "code",
   "execution_count": 48,
   "id": "3524873b",
   "metadata": {
    "id": "tYbu1DffYMxU"
   },
   "outputs": [
    {
     "name": "stdout",
     "output_type": "stream",
     "text": [
      "You get 106  and your friend gets  107\n"
     ]
    }
   ],
   "source": [
    "from math import floor, ceil, trunc\n",
    "\n",
    "prize = 213\n",
    "\n",
    "option1 = floor(213 / 2)\n",
    "print(\"You get\", option1, \" and your friend gets \", prize - option1)"
   ]
  },
  {
   "cell_type": "code",
   "execution_count": 50,
   "id": "1a4e06e4",
   "metadata": {
    "id": "BsXABiNMYMxU"
   },
   "outputs": [
    {
     "name": "stdout",
     "output_type": "stream",
     "text": [
      "You get 107  and your friend gets  106\n"
     ]
    }
   ],
   "source": [
    "from math import floor, ceil, trunc\n",
    "\n",
    "prize = 213\n",
    "\n",
    "option2 = ceil(213 / 2)\n",
    "print(\"You get\", option2, \" and your friend gets \", prize - option2)"
   ]
  },
  {
   "cell_type": "markdown",
   "id": "283005f9",
   "metadata": {
    "id": "JCC7zNyjYMxV"
   },
   "source": [
    "---\n",
    "<font size=\"6\" color=\"#B24C00\"  face=\"verdana\"> <B>Task 3</B></font>\n",
    "\n",
    "## Rounding Numbers\n"
   ]
  },
  {
   "cell_type": "code",
   "execution_count": 52,
   "id": "226f6a7b",
   "metadata": {
    "id": "TZsSIjEjYMxV",
    "tags": []
   },
   "outputs": [
    {
     "name": "stdout",
     "output_type": "stream",
     "text": [
      "75\n"
     ]
    }
   ],
   "source": [
    "# [ ] Use an appropriate rounding function to round 75.34 to 75 and then to 76\n",
    "\n",
    "import math\n",
    "\n",
    "x = 75.34\n",
    "\n",
    "print(floor(x))"
   ]
  },
  {
   "cell_type": "markdown",
   "id": "d5220bc2",
   "metadata": {
    "id": "SH4JlhqxYMxW"
   },
   "source": [
    "### `float` error rounding\n",
    "Representing `float` numbers in a computer is prone to rounding errors. In this task you should use one of the rounding functions to fix the error."
   ]
  },
  {
   "cell_type": "code",
   "execution_count": 56,
   "id": "353846d2",
   "metadata": {
    "id": "FUggR1JjYMxX"
   },
   "outputs": [
    {
     "name": "stdout",
     "output_type": "stream",
     "text": [
      "Total price:  869.9999999999999\n",
      "Total price:  870\n"
     ]
    }
   ],
   "source": [
    "# [ ] Use an appropriate rounding function to fix the following `float` error\n",
    "\n",
    "# Price of a chocolate box\n",
    "p = 4.35\n",
    "\n",
    "# Quantity needed\n",
    "q = 200\n",
    "\n",
    "# Order total price (Should be 4.35 * 200 = $870.00)\n",
    "total = p * q\n",
    "\n",
    "print(\"Total price: \", total)\n",
    "\n",
    "# --Completed--\n",
    "import math\n",
    "\n",
    "# Price of a chocolate box\n",
    "p = 4.35\n",
    "\n",
    "# Quantity needed\n",
    "q = 200\n",
    "\n",
    "# Total price (Should be 4.35 * 200 = $870.00)\n",
    "# use rounding method here\n",
    "total =p * q\n",
    "\n",
    "print(\"Total price: \", ceil(total))\n"
   ]
  },
  {
   "cell_type": "markdown",
   "id": "f43f242a",
   "metadata": {
    "id": "Sg8cV18vYMxX"
   },
   "source": [
    "---\n",
    "<font size=\"6\" color=\"#00A0B2\"  face=\"verdana\"> <B>Concepts</B></font>  \n",
    "\n",
    "\n",
    "## Generating Random Integers\n",
    "[View video](https://youtu.be/1gpxW4J2820)\n",
    "\n",
    "If you are programming a Sudoku game that generates the same pattern every time you start it, chances are you will not play it many times. Introducing some randomness would make the game much more interesting. Python has several random number generator functions in the `random` module. You need only to import the module and use an appropriate function that suits your application.\n",
    "\n",
    "#### Random integer between a and b\n",
    "The function `randint(a, b)` generates a random number n, where a &leq; n &leq; b\n",
    "\n",
    "The following generates a number between 1 and 10:\n"
   ]
  },
  {
   "cell_type": "code",
   "execution_count": null,
   "id": "ef2e926e",
   "metadata": {
    "id": "cMozW30eYMxX"
   },
   "outputs": [],
   "source": [
    "from random import randint\n",
    "print(randint(1, 10))"
   ]
  },
  {
   "cell_type": "markdown",
   "id": "077677a0",
   "metadata": {
    "id": "Z1wiWcqOYMxX"
   },
   "source": [
    "#### Random integer from a range\n",
    "The randrange(start, stop[, step]) function generates a random number from a range of integers between start (included) and stop (excluded) with an optional step. The following generates a number between 1 and 10:"
   ]
  },
  {
   "cell_type": "code",
   "execution_count": null,
   "id": "65c5954b",
   "metadata": {
    "id": "Gw3tplvuYMxX"
   },
   "outputs": [],
   "source": [
    "from random import randrange\n",
    "print(randrange(1, 11))"
   ]
  },
  {
   "cell_type": "markdown",
   "id": "64226227",
   "metadata": {
    "id": "n8F43HZYYMxY"
   },
   "source": [
    "In this case start = 1 and stop = 11 and we didn't specify the step value, which is 1 by default.\n",
    "\n",
    "If step were specified as a value other than 1, such as 2, then `randrange(1, 11, 2)` would generate a number from the following range [1, 3, 5, 7, 9]. In other words, the randrange randomly selects a value from the range of integer numbers between 1 (included) and 11 (excluded) where the elements are separated by 2."
   ]
  },
  {
   "cell_type": "code",
   "execution_count": null,
   "id": "ab1f7fa1",
   "metadata": {
    "id": "ELLmIugiYMxY"
   },
   "outputs": [],
   "source": [
    "from random import randrange\n",
    "print(randrange(1, 11, 2))"
   ]
  },
  {
   "cell_type": "markdown",
   "id": "e552ca43",
   "metadata": {
    "id": "P4XnfjHNYMxY"
   },
   "source": [
    "---\n",
    "<font size=\"6\" color=\"#00A0B2\" face=\"verdana\"><B>Examples</B></font>\n",
    "\n",
    "### Die roller\n",
    "If you are designing a game, it will be useful to have a function that can roll a die for you. The following shows a function that generates a single die roll:"
   ]
  },
  {
   "cell_type": "code",
   "execution_count": null,
   "id": "ef787c02",
   "metadata": {
    "id": "5GbmICYdYMxY"
   },
   "outputs": [],
   "source": [
    "from random import randint\n",
    "\n",
    "def die_roller ():\n",
    "    return (randint(1, 6))\n",
    "\n",
    "\n",
    "# roll a die\n",
    "print(die_roller())"
   ]
  },
  {
   "cell_type": "markdown",
   "id": "be9d1f12",
   "metadata": {
    "id": "xMuWxg6AYMxY"
   },
   "source": [
    "### Odd random integers\n",
    "The following example shows you how to generate a random odd integer n, such that 1 &leq; n < 102:"
   ]
  },
  {
   "cell_type": "code",
   "execution_count": null,
   "id": "baad58b8",
   "metadata": {
    "id": "H-E3_ddbYMxY"
   },
   "outputs": [],
   "source": [
    "from random import randrange\n",
    "\n",
    "def odd_random():\n",
    "    return (randrange(1, 102, 2))\n",
    "\n",
    "# Generate an odd random integer\n",
    "print(odd_random())"
   ]
  },
  {
   "cell_type": "markdown",
   "id": "9c239f20",
   "metadata": {
    "id": "DY4Qg1Z9YMxZ"
   },
   "source": [
    "---\n",
    "<font size=\"6\" color=\"#B24C00\" face=\"verdana\"><B>Task 4</B></font>\n",
    "\n",
    "## Generating Random Integers\n"
   ]
  },
  {
   "cell_type": "code",
   "execution_count": 58,
   "id": "019a4250",
   "metadata": {
    "id": "5F6HycMiYMxZ"
   },
   "outputs": [],
   "source": [
    "# [ ] Modify the die_roller() function to use randrange instead of randint\n",
    "\n",
    "from random import randint\n",
    "\n",
    "def die_roller():\n",
    "    return(randrange(1, 7))"
   ]
  },
  {
   "cell_type": "code",
   "execution_count": 60,
   "id": "588cd32f",
   "metadata": {
    "id": "Dbt6bgeIYMxZ"
   },
   "outputs": [],
   "source": [
    "# [ ] Modify the odd_random() function to use randint instead of randrange\n",
    "\n",
    "def odd_random():\n",
    "    return(randint(1, 102) * 2 - 1"
   ]
  },
  {
   "cell_type": "code",
   "execution_count": 139,
   "id": "be3f565e",
   "metadata": {
    "id": "lQomwGb9YMxZ"
   },
   "outputs": [
    {
     "name": "stdout",
     "output_type": "stream",
     "text": [
      "5\n",
      "2\n"
     ]
    }
   ],
   "source": [
    "# [ ] Complete the function dice_roller() so it rolls 2 dice\n",
    "# Use the die_roller function\n",
    "\n",
    "from random import randint\n",
    "\n",
    "def die_roller():\n",
    "    return(randint(1, 6))\n",
    "\n",
    "def dice_roller():\n",
    "    return die_roller()\n",
    "\n",
    "print(die_roller())\n",
    "print(dice_roller())\n",
    "\n"
   ]
  },
  {
   "cell_type": "markdown",
   "id": "0bdc5b1b",
   "metadata": {
    "id": "K2RutV2uYMxZ"
   },
   "source": [
    "---\n",
    "<font size=\"6\" color=\"#00A0B2\"  face=\"verdana\"> <B>Concepts</B></font>  \n",
    "\n",
    "\n",
    "## Random Sequences\n",
    "[View video](https://youtu.be/Atpp3A0pceI)\n",
    "\n",
    "### Selecting an element from a list\n",
    "In certain cases, you want to select an element from a range of non-integers or even a list of non-numeric elements. In such cases `randint` and `randrange` will not work; however, the `random` module comes with a `choice` function that returns a randomly chosen element from a list passed as an argument. For example, if you are designing a \"Rock, Paper, Scissors\" game, and you want the computer to choose one of the `string` options randomly, you need to use the `choice` function.\n"
   ]
  },
  {
   "cell_type": "code",
   "execution_count": null,
   "id": "98f11914",
   "metadata": {
    "id": "4ZF3ZcXQYMxa"
   },
   "outputs": [],
   "source": [
    "from random import choice\n",
    "\n",
    "# Select Rock, Paper, or Scissors\n",
    "def RPS():\n",
    "    options = ['Rock', 'Paper', 'Scissors']\n",
    "    # return one of the elements at random\n",
    "    return (choice(options))\n",
    "\n",
    "# Generate an option\n",
    "print(RPS());"
   ]
  },
  {
   "cell_type": "markdown",
   "id": "5d228453",
   "metadata": {
    "id": "c-eoBu5HYMxa"
   },
   "source": [
    "### Shuffling the elements of a list\n",
    "\n",
    "Sometimes you do not want to choose a random element from a list, but rather you want to shuffle the content of a list. Say you want to rearrange a list of names to a random order. The function `shuffle` shuffles the elements of list in place as illustrated below:\n"
   ]
  },
  {
   "cell_type": "code",
   "execution_count": 8,
   "id": "3c89f4b3",
   "metadata": {
    "id": "qLEV733MYMxa"
   },
   "outputs": [
    {
     "name": "stdout",
     "output_type": "stream",
     "text": [
      "['Ana', 'Mike', 'John', 'Sally']\n"
     ]
    }
   ],
   "source": [
    "from random import shuffle\n",
    "\n",
    "x = ['Ana', 'John', 'Mike', 'Sally']\n",
    "\n",
    "shuffle(x)\n",
    "\n",
    "print(x)"
   ]
  },
  {
   "cell_type": "markdown",
   "id": "9bda4e7c",
   "metadata": {
    "id": "TSH0BCxeYMxa"
   },
   "source": [
    "---\n",
    "<font size=\"6\" color=\"#00A0B2\"  face=\"verdana\"> <B>Examples</B></font>\n",
    "\n",
    "### Picking a random playing card\n",
    "\n",
    "Say you want to design a card game, and you want a function to pick one of the 52 cards at random. The `choice` function is a good fit."
   ]
  },
  {
   "cell_type": "code",
   "execution_count": 14,
   "id": "15828a88",
   "metadata": {
    "id": "cIDfIVgEYMxb"
   },
   "outputs": [
    {
     "name": "stdout",
     "output_type": "stream",
     "text": [
      "[10, 'Diamonds']\n"
     ]
    }
   ],
   "source": [
    "from random import choice\n",
    "\n",
    "def pick_card():\n",
    "    card_type = ['Clubs', 'Diamonds', 'Hearts', 'Spades']\n",
    "    card_number = ['Ace', 2, 3, 4, 5, 6, 7, 8, 9, 10, 'Jack', 'Queen', 'King']\n",
    "    \n",
    "    # choose a type at random\n",
    "    t = choice(card_type)\n",
    "    n = choice(card_number)\n",
    "    \n",
    "    return [n, t]\n",
    "\n",
    "# Show the randomly picked card\n",
    "print(pick_card())"
   ]
  },
  {
   "cell_type": "markdown",
   "id": "942349c1",
   "metadata": {
    "id": "781xjLLIYMxb"
   },
   "source": [
    "---\n",
    "<font size=\"6\" color=\"#B24C00\"  face=\"verdana\"> <B>Task 5</B></font>\n",
    "\n",
    "## Random Sequences"
   ]
  },
  {
   "cell_type": "code",
   "execution_count": 68,
   "id": "e8477ab7",
   "metadata": {},
   "outputs": [],
   "source": [
    "# A 52-card deck\n",
    "\n",
    "deck = ['A♠', '2♠', '3♠', '4♠', '5♠', '6♠', '7♠', '8♠', '9♠', '10♠', 'J♠', 'Q♠', 'K♠',\n",
    "        'A♡', '2♡', '3♡', '4♡', '5♡', '6♡', '7♡', '8♡', '9♡', '10♡', 'J♡', 'Q♡', 'K♡',\n",
    "        'A♢', '2♢', '3♢', '4♢', '5♢', '6♢', '7♢', '8♢', '9♢', '10♢', 'J♢', 'Q♢', 'K♢',\n",
    "        'A♣', '2♣', '3♣', '4♣', '5♣', '6♣', '7♣', '8♣', '9♣', '10♣', 'J♣', 'Q♣', 'K♣']\n",
    "\n",
    "# Three empty hands\n",
    "\n",
    "hand1 = []\n",
    "hand2 = []\n",
    "hand3 = []"
   ]
  },
  {
   "cell_type": "code",
   "execution_count": 70,
   "id": "62936947",
   "metadata": {
    "id": "u7svohoTYMxb"
   },
   "outputs": [
    {
     "name": "stdout",
     "output_type": "stream",
     "text": [
      "['A♠', 'K♢', '5♡', 'Q♠', 'Q♠']\n"
     ]
    }
   ],
   "source": [
    "# [ ] Import the choice function from the random module\n",
    "# [ ] Use the choice function in a for loop to populate \"hand1\"\n",
    "from random import choice\n",
    "\n",
    "for i in range (5):\n",
    "    hand1.append(choice(deck))\n",
    "    \n",
    "print(hand1)\n",
    "# Consider this method, is there a problem doing it this way?\n",
    "\n",
    "# use the shuffle method to shuffle the list \"deck\""
   ]
  },
  {
   "cell_type": "code",
   "execution_count": 72,
   "id": "ea0f730a",
   "metadata": {},
   "outputs": [
    {
     "name": "stdout",
     "output_type": "stream",
     "text": [
      "['5♡', '3♠', '6♠', '2♠', '9♣']\n"
     ]
    }
   ],
   "source": [
    "# [ ] Import the shuffle method from the random module\n",
    "# [ ] Shuffle the deck and then deal 5 cards off the top and place in \"hand2\"\n",
    "# [ ] You can use a loop or just slice the last 5 cards from the deck\n",
    "from random import shuffle\n",
    "\n",
    "random.shuffle(deck)\n",
    "for i in range (5):\n",
    "    hand2.append(deck[i])\n",
    "    \n",
    "print(hand2)\n",
    "\n",
    "\n",
    "# Consider this method, is it better than using choice in a loop?"
   ]
  },
  {
   "cell_type": "code",
   "execution_count": 78,
   "id": "5c272cb0",
   "metadata": {},
   "outputs": [
    {
     "name": "stdout",
     "output_type": "stream",
     "text": [
      "['Q♣', 'K♡', '5♠', 'A♢', '7♢']\n"
     ]
    }
   ],
   "source": [
    "# [ ] Import the sample method from the random module\n",
    "# [ ] Use it to deal 5 cards and place them in \"hand3\"\n",
    "from random import sample\n",
    "\n",
    "hand3 = (sample(deck, 5))\n",
    "\n",
    "print(hand3)\n",
    "# Consider this method, is it better than the other two?"
   ]
  },
  {
   "cell_type": "markdown",
   "id": "0790d063",
   "metadata": {
    "id": "7Ps8UYr9yInD"
   },
   "source": [
    "---\n",
    "<font size=\"6\" color=\"#00A0B2\"  face=\"verdana\"> <B>Section 2</B></font>  \n",
    "\n",
    "\n",
    "## Working with Dates and Times in Python\n",
    "\n",
    "Certain applications require knowing the current date and/or time. For example, certain websites display a countdown timer to a launch date or an important event. There are several Python modules dedicated to dealing with date and time.  In this course, we will cover two related entities - the time module and the datetime module.\n",
    "\n",
    "<u>The `time` Module</u>\n",
    "\n",
    "The `time` module in Python provides functions for working with time-related operations, including measuring time intervals, getting the current time, and pausing program execution. It offers functionalities like `time()`, which returns the current time in seconds since the epoch, and `sleep()`, which suspends program execution for a specified duration. The module is useful for basic timing tasks, creating delays, and implementing simple timing-related functionalities in Python programs.\n",
    "\n",
    "<u>The `datetime` Module</u>\n",
    "\n",
    "`datetime` module contains a number of useful datatypes (classes) and functions (methods) to define and manipulate time and date variables. In this lesson, we will first explore ways to create variables that contain time and date information; we will then delve into ways to display the content of these variables in a human-readable way. In the next lesson, we will use these time/date variables to build some useful applications.\n",
    "\n",
    "The term `time` can be a little bit confusing because the `datetime` module has a class of objects of type \"time\" and the name of the `time` module is also \"time\".  These are actually two entirely different things with the same name.  This is a perfect example of how names can be in conflict if we don't import items properly.  Look at the example below, both the time and datetime modules have an item named time().  They both have a function with the same name, but they do different things!"
   ]
  },
  {
   "cell_type": "code",
   "execution_count": 192,
   "id": "b4ea155a",
   "metadata": {},
   "outputs": [
    {
     "name": "stdout",
     "output_type": "stream",
     "text": [
      "time() from time module 1705066683.1417103 \n",
      "time() from datetime module 00:00:00\n"
     ]
    }
   ],
   "source": [
    "import time as t\n",
    "import datetime as dt\n",
    "\n",
    "print(\"time() from time module\", t.time(),\"\\ntime() from datetime module\", dt.time())\n"
   ]
  },
  {
   "cell_type": "markdown",
   "id": "c6998989",
   "metadata": {},
   "source": [
    "---\n",
    "<font size=\"6\" color=\"#00A0B2\"  face=\"verdana\"> <B>The `time` Module</B></font>\n",
    "\n",
    "The `time` module contains useful functions for getting the current time, measuring time intervals and pausing program execution.  If you take a look at dir(time) you will see that it is a relative small module, but still very useful.  In this section, we will look at each of the three use cases mentioned above.\n",
    "\n",
    "The first step is to import the module\n",
    "\n",
    "\n",
    "```python\n",
    "import time\n",
    "```\n",
    "\n",
    "We can assign the current time (exact system time at the point when the compiled code is executed) to a variable like this:\n",
    "\n",
    "```python\n",
    "current_time = time.time()\n",
    "```\n",
    "\n",
    "The `time` module treats time as the number of seconds that have elapsed since a predefined time known as the \"epoch\" - currently the epoch is set to midnight (UTC) on January 1, 1970.  So the value that the `time()` function returns is a number of seconds as a float type.\n",
    "\n",
    "You can calculate the difference (in seconds) between two times by simply subtracting them like this:\n",
    "\n",
    "```python\n",
    "t1 = time.time()\n",
    "t2 = time.time()\n",
    "tc = t2 - t1\n",
    "print(tc)\n",
    "```\n",
    "\n",
    "This is a useful feature to see how long your code, or parts of it, are taking to run.  It can also be useful if you need to display how much time has elapsed to the user.\n",
    "\n",
    "You can pause your code using the `sleep()` function like this:\n",
    "\n",
    "```python\n",
    "time.sleep(3)\n",
    "```\n",
    "\n",
    "This code pauses execution for 3 seconds."
   ]
  },
  {
   "cell_type": "markdown",
   "id": "27e02aea",
   "metadata": {},
   "source": [
    "---\n",
    "<font size=\"6\" color=\"#00A0B2\"  face=\"verdana\"> <B>Examples</B></font>\n",
    "\n"
   ]
  },
  {
   "cell_type": "code",
   "execution_count": 194,
   "id": "3f5b3dfc",
   "metadata": {},
   "outputs": [
    {
     "name": "stdout",
     "output_type": "stream",
     "text": [
      "1.93 seconds\n"
     ]
    }
   ],
   "source": [
    "import time\n",
    "\n",
    "t1 = time.time()\n",
    "\n",
    "x = 51\n",
    "\n",
    "for n in range(10000000):\n",
    "    if x % 2 == 0:\n",
    "        x /= 2\n",
    "    else:\n",
    "        x = x*3 + 1\n",
    "\n",
    "t2 = time.time()\n",
    "tc = round(t2 - t1, 2)\n",
    "print(tc, \"seconds\")"
   ]
  },
  {
   "cell_type": "code",
   "execution_count": 154,
   "id": "e39f360b",
   "metadata": {},
   "outputs": [
    {
     "name": "stdout",
     "output_type": "stream",
     "text": [
      "1 total seconds has elapsed...2 total seconds has elapsed...3 total seconds has elapsed..."
     ]
    }
   ],
   "source": [
    "import time\n",
    "\n",
    "for n in range(1,4):\n",
    "    time.sleep(1)\n",
    "    print(f'{n} total seconds has elapsed', end = '...')"
   ]
  },
  {
   "cell_type": "markdown",
   "id": "7c6e0f47",
   "metadata": {
    "id": "doBnHEP6yInE"
   },
   "source": [
    "---\n",
    "<font size=\"6\" color=\"#00A0B2\"  face=\"verdana\"> <B>The `datetime` Module</B></font>\n",
    "\n",
    "The `datetime` module has several different classes of objects that you can work with.  We are going to focus on the following three classes:\n",
    "\n",
    "- `time` objects\n",
    "- `date` objects\n",
    "- `datetime` objects\n",
    "\n",
    "As the names suggest, the `time` and `date` classes deal with time and date respectively, but there is another more comprehensive class called the `datetime` class which can deal with both dates and times simultaneously.  Let's start with `time` objects:\n",
    "\n",
    "## `time` Objects\n",
    "[View video](https://youtu.be/szvqF2uGILg)\n",
    "\n",
    "### `time(hour = 0, minute = 0, second = 0, microsecond = 0)`\n",
    "### Assigning a `time` object\n",
    "The `datetime` module contains a `time` datatype (class) that can be used to store and manipulate time information. When assigning a variable (object) of type `time` you can specify the hour, minute, second, and microsecond attributes. Any attribute that you leave unspecified will be set to its default value of 0. When specifying an attribute, you should make sure it is within its valid range:\n",
    "* 0 &leq; hour < 24\n",
    "* 0 &leq; minute < 60\n",
    "* 0 &leq; second < 60\n",
    "* 0 &leq; microsecond < 1000000\n",
    "\n",
    "If any of the attributes is outside its valid range, you will get a `ValueError` message.\n",
    "\n",
    "Note: 1 second is equal to 1 million microseconds or 1 s = 10<sup>6</sup> &mu;s\n",
    "\n",
    "### Getting `time` object attributes (hour, minute... etc.)\n",
    "You can access the attributes of any `time` variable by specifying its name. For example, if you have a `time` variable named `StartTime`, you can get the value of the minute attribute from `StartTime.minute`.\n",
    "\n",
    "### Modifying `time` object attributes (hour, minute... etc.)\n",
    "You can not only access the attributes of a `time` variable, you can also modify them. For example, if you want to modify the hour of `StartTime`, you can use an expression similar to `StartTime.replace(hour = 5)` to set the hour attribute to 5 regardless of its previous value. You can also modify multiple attributes simultaneously by specifying all values to be changed. For example, if you want to modify the hour and second of `StartTime`, you can use an expression similar to `StartTime.replace(hour = 5, second = 2)`."
   ]
  },
  {
   "cell_type": "markdown",
   "id": "9cf90f49",
   "metadata": {
    "id": "nHx5f2Z5yInG"
   },
   "source": [
    "---\n",
    "<font size=\"6\" color=\"#00A0B2\"  face=\"verdana\"> <B>Examples</B></font>\n",
    "\n",
    "### Assigning a `time` object by specifying all attributes (hour, minute, second, microsecond) in order\n",
    "When assigning a new `time` object, you can specify all of its attributes by writing the numbers in the following order: hour, minute, second, microsecond."
   ]
  },
  {
   "cell_type": "code",
   "execution_count": 143,
   "id": "933e5ce5",
   "metadata": {
    "id": "SFnnEh8nyInG"
   },
   "outputs": [
    {
     "name": "stdout",
     "output_type": "stream",
     "text": [
      "20:55:20.000500\n"
     ]
    }
   ],
   "source": [
    "from datetime import time\n",
    "\n",
    "# Time is 8:55:20.000500 PM (or 20:55:20.000500)\n",
    "t = time(20, 55, 20, 500)\n",
    "print(t)"
   ]
  },
  {
   "cell_type": "markdown",
   "id": "6f866303",
   "metadata": {
    "id": "1DC_j1iByInH"
   },
   "source": [
    "### Assigning a `time` object by specifying all attributes (hour, minute, second, microsecond) by name\n",
    "If you specify the attributes with keyword arguments , they need not be in order."
   ]
  },
  {
   "cell_type": "code",
   "execution_count": 158,
   "id": "1729d634",
   "metadata": {
    "id": "xR5Wos8ZyInH"
   },
   "outputs": [
    {
     "name": "stdout",
     "output_type": "stream",
     "text": [
      "09:10:20.900000\n"
     ]
    }
   ],
   "source": [
    "from datetime import time\n",
    "\n",
    "# Time is 9:10:20.900000 AM (or 9:10:20.900000)\n",
    "t = time(minute = 10, hour = 9, microsecond = 900000, second = 20)\n",
    "print(t)"
   ]
  },
  {
   "cell_type": "markdown",
   "id": "ff7e2a62",
   "metadata": {
    "id": "d8BN8s-LyInI"
   },
   "source": [
    "### Assigning a `time` object by specifying some attributes\n",
    "If an attribute is not specified, it will be set to 0."
   ]
  },
  {
   "cell_type": "code",
   "execution_count": 160,
   "id": "5ffb5ee5",
   "metadata": {
    "id": "xIHappSjyInI"
   },
   "outputs": [
    {
     "name": "stdout",
     "output_type": "stream",
     "text": [
      "01:10:00\n"
     ]
    }
   ],
   "source": [
    "from datetime import time\n",
    "\n",
    "# Time is 1:10 PM (or 13:10:00:000000)\n",
    "t = time(hour = 1, minute = 10)\n",
    "print(t)"
   ]
  },
  {
   "cell_type": "markdown",
   "id": "462f83e9",
   "metadata": {
    "id": "linBMMU4yInJ"
   },
   "source": [
    "### Specifying a wrong attribute value\n",
    "When an attribute is set to an invalid value, a `ValueError` will be raised. This will happen whether you are assigning or changing the value of an existing variable."
   ]
  },
  {
   "cell_type": "code",
   "execution_count": 162,
   "id": "71eda87c",
   "metadata": {
    "id": "ekmLeOByyInJ"
   },
   "outputs": [
    {
     "ename": "ValueError",
     "evalue": "hour must be in 0..23",
     "output_type": "error",
     "traceback": [
      "\u001b[0;31m---------------------------------------------------------------------------\u001b[0m",
      "\u001b[0;31mValueError\u001b[0m                                Traceback (most recent call last)",
      "Input \u001b[0;32mIn [162]\u001b[0m, in \u001b[0;36m<cell line: 4>\u001b[0;34m()\u001b[0m\n\u001b[1;32m      1\u001b[0m \u001b[38;5;28;01mfrom\u001b[39;00m \u001b[38;5;21;01mdatetime\u001b[39;00m \u001b[38;5;28;01mimport\u001b[39;00m time\n\u001b[1;32m      3\u001b[0m \u001b[38;5;66;03m# Assigning a time variable with an invalid attribute\u001b[39;00m\n\u001b[0;32m----> 4\u001b[0m t \u001b[38;5;241m=\u001b[39m \u001b[43mtime\u001b[49m\u001b[43m(\u001b[49m\u001b[43mhour\u001b[49m\u001b[43m \u001b[49m\u001b[38;5;241;43m=\u001b[39;49m\u001b[43m \u001b[49m\u001b[38;5;241;43m29\u001b[39;49m\u001b[43m)\u001b[49m\n\u001b[1;32m      5\u001b[0m \u001b[38;5;28mprint\u001b[39m(t)\n",
      "\u001b[0;31mValueError\u001b[0m: hour must be in 0..23"
     ]
    }
   ],
   "source": [
    "from datetime import time\n",
    "\n",
    "# Assigning a time variable with an invalid attribute\n",
    "t = time(hour = 29)\n",
    "print(t)"
   ]
  },
  {
   "cell_type": "markdown",
   "id": "234bae73",
   "metadata": {
    "id": "PX8mWf57yInK"
   },
   "source": [
    "### Getting an attribute\n",
    "You can access a single attribute or all attributes of a `time` variable separately."
   ]
  },
  {
   "cell_type": "code",
   "execution_count": 164,
   "id": "63489b46",
   "metadata": {
    "id": "OU_bsKBLyInK"
   },
   "outputs": [
    {
     "name": "stdout",
     "output_type": "stream",
     "text": [
      "The time is:  9  hours  10  minutes 43  seconds and  100  microseconds\n"
     ]
    }
   ],
   "source": [
    "from datetime import time\n",
    "\n",
    "# assign a time variable t\n",
    "t = time(hour = 9, minute = 10, second = 43, microsecond = 100)\n",
    "\n",
    "# access each of the attributes separately\n",
    "h = t.hour # will be 9\n",
    "m = t.minute # will be 10 \n",
    "s = t.second # will be 43\n",
    "ms = t.microsecond # will be 100\n",
    "\n",
    "print(\"The time is: \", h,\" hours \", m, \" minutes\", s, \" seconds and \", ms, \" microseconds\" )"
   ]
  },
  {
   "cell_type": "markdown",
   "id": "65715c80",
   "metadata": {
    "id": "-IDdUSURyInK"
   },
   "source": [
    "### Modifying attributes of an assigned `time` variable\n",
    "You might think that an attribute can be changed by specifying it directly as `t.hour = 8`; however, this will result in an error message saying that the attribute is not writable. The solution is to use the `replace` function.\n",
    "\n",
    "`replace` copies the information of a `time` variable into a new `time` variable while modifying the specified  attributes, you can then reassign the new variable to the original variable `t`, which modifies `t` to reflect the desired changes. The following example illustrates this idea:"
   ]
  },
  {
   "cell_type": "code",
   "execution_count": 166,
   "id": "8e727ae7",
   "metadata": {
    "id": "oqVudbWxyInK"
   },
   "outputs": [
    {
     "name": "stdout",
     "output_type": "stream",
     "text": [
      "Old time:  09:10:43.000100\n",
      "New time:  08:08:43.000100\n"
     ]
    }
   ],
   "source": [
    "from datetime import time\n",
    "\n",
    "# assign t as 9:10:43:0000100\n",
    "t = time(hour = 9, minute = 10, second = 43, microsecond = 100)\n",
    "print(\"Old time: \", t)\n",
    "\n",
    "# modify hour and minute\n",
    "t = t.replace(hour = 8, minute = 8)\n",
    "\n",
    "print(\"New time: \", t)"
   ]
  },
  {
   "cell_type": "markdown",
   "id": "4486b136",
   "metadata": {
    "id": "xU5uACzRyInL"
   },
   "source": [
    "---\n",
    "<font size=\"6\" color=\"#B24C00\"  face=\"verdana\"> <B>Task 1</B></font>\n",
    "\n",
    "## `time` Objects"
   ]
  },
  {
   "cell_type": "code",
   "execution_count": 170,
   "id": "299f7d9a",
   "metadata": {
    "id": "P_6vOPECyInL"
   },
   "outputs": [
    {
     "name": "stdout",
     "output_type": "stream",
     "text": [
      "08:45:00\n"
     ]
    }
   ],
   "source": [
    "# [ ] Create a 't2' variable containing the time: 8:45 AM and print it\n",
    "from datetime import time\n",
    "\n",
    "t2 = time(8, 45)\n",
    "\n",
    "print(t2)"
   ]
  },
  {
   "cell_type": "code",
   "execution_count": 174,
   "id": "92e2d827",
   "metadata": {
    "id": "NgVRBob7yInL"
   },
   "outputs": [
    {
     "name": "stdout",
     "output_type": "stream",
     "text": [
      "20:45:01.000150\n"
     ]
    }
   ],
   "source": [
    "# [ ] Create a 't3' variable containing the time: 8:45:01:000150 PM and print it\n",
    "t3 = time(20, 45, 1, 150)\n",
    "\n",
    "print(t3)"
   ]
  },
  {
   "cell_type": "code",
   "execution_count": 176,
   "id": "d98caac8",
   "metadata": {
    "id": "9fLg2TEyyInL"
   },
   "outputs": [
    {
     "name": "stdout",
     "output_type": "stream",
     "text": [
      "20\n"
     ]
    }
   ],
   "source": [
    "# [ ] Print the hour (only) contained in 't3'\n",
    "print(t3.hour)"
   ]
  },
  {
   "cell_type": "code",
   "execution_count": 182,
   "id": "a495fc76",
   "metadata": {
    "id": "MRP_T9ESyInM"
   },
   "outputs": [
    {
     "name": "stdout",
     "output_type": "stream",
     "text": [
      "16:10:01.000150\n"
     ]
    }
   ],
   "source": [
    "# [ ] Modify t3 to: 4:10 PM\n",
    "t3 = t3.replace(16, 10)\n",
    "\n",
    "print(t3)"
   ]
  },
  {
   "cell_type": "markdown",
   "id": "6cafa032",
   "metadata": {
    "id": "sfdpbprlyInM"
   },
   "source": [
    "---\n",
    "<font size=\"6\" color=\"#00A0B2\"  face=\"verdana\"> <B>Concepts</B></font>  \n",
    "\n",
    "\n",
    "## `date` Objects\n",
    "[View video](https://youtu.be/tdF1LbUEVTg)\n",
    "\n",
    "### `date(year, month, day)`\n",
    "The `datetime` module contains a `date` datatype (class) that has the attributes year, month, and day. Assigning, modifying, and accessing a `date` object is similar to that of a `time` object. However, all of the `date` attributes are required because it doesn't make sense to set a month or a day to 0 by default. Therefore, all attributes of a `date` object should be specified and these attributes should be within their valid ranges:\n",
    "* 1 &leq; year &leq; 9999\n",
    "* 1 &leq; month &leq; 12\n",
    "* 1 &leq; day &leq; number of days in the given month and year\n",
    "\n",
    "The attributes of a `date` object can be accessed individually, in the same way you access the attributes of a `time` object. For example, to access the month of a variable `StartDate`, you should use the expression `StartDate.month`. \n",
    "\n",
    "### Current local date\n",
    "In most practical applications involving dates, it is very important to know the current local date of the machine executing the code. For example, if you want to build a counter to display how many days has passed since an important event, you will need to know the current date. This can be easily achieved by using the function `today()` as shown in the following examples."
   ]
  },
  {
   "cell_type": "markdown",
   "id": "780e9cd8",
   "metadata": {
    "id": "1IgIGOdPyInM"
   },
   "source": [
    "---\n",
    "<font size=\"6\" color=\"#00A0B2\"  face=\"verdana\"> <B>Examples</B></font>\n",
    "\n",
    "### Assigning a `date` object"
   ]
  },
  {
   "cell_type": "code",
   "execution_count": 184,
   "id": "8891ceb7",
   "metadata": {
    "id": "RZgbn68pyInM"
   },
   "outputs": [
    {
     "name": "stdout",
     "output_type": "stream",
     "text": [
      "date1 is:  2013-05-07\n",
      "date2 is:  1999-04-23\n"
     ]
    }
   ],
   "source": [
    "from datetime import date\n",
    "\n",
    "# using all attributes in order (year, month, day) w/o names\n",
    "# date1 is May 7 2013\n",
    "date1 = date(2013, 5, 7)\n",
    "print(\"date1 is: \", date1)\n",
    "\n",
    "# using all attributes with names and not necessarily in order\n",
    "# date2 is April 23 1999\n",
    "date2 = date(day = 23, month = 4, year = 1999)\n",
    "print(\"date2 is: \", date2) "
   ]
  },
  {
   "cell_type": "markdown",
   "id": "76ae3143",
   "metadata": {
    "id": "TZnwSqtJyInN"
   },
   "source": [
    "### Getting a `date` attribute"
   ]
  },
  {
   "cell_type": "code",
   "execution_count": 186,
   "id": "f09080ee",
   "metadata": {
    "id": "Tb5E9FUtyInN"
   },
   "outputs": [
    {
     "name": "stdout",
     "output_type": "stream",
     "text": [
      "The Special Date is: / month:  11 / day:  15 / year:  2017\n"
     ]
    }
   ],
   "source": [
    "from datetime import date\n",
    "\n",
    "# assign a date variable\n",
    "SpecialDate = date(year = 2017, month = 11, day = 15)\n",
    "\n",
    "y = SpecialDate.year # will be 2017\n",
    "m = SpecialDate.month # will be 11\n",
    "d = SpecialDate.day # will be 15\n",
    "\n",
    "print(\"The Special Date is: / month: \", m, \"/ day: \", d, \"/ year: \", y)"
   ]
  },
  {
   "cell_type": "markdown",
   "id": "49fc30a9",
   "metadata": {
    "id": "6Y-j2rC7yInN"
   },
   "source": [
    "### Modifying the attributes of an assigned `date` object\n",
    "The `replace` function can be used to modify the attributes of a `date` object in the same way it is used to modify attributes of an assigned `time` object."
   ]
  },
  {
   "cell_type": "code",
   "execution_count": 188,
   "id": "835fffbc",
   "metadata": {
    "id": "QvxXGrlRyInN"
   },
   "outputs": [
    {
     "name": "stdout",
     "output_type": "stream",
     "text": [
      "Old date:  2015-02-28\n",
      "New date:  2016-02-29\n"
     ]
    }
   ],
   "source": [
    "from datetime import date\n",
    "\n",
    "# assign a date\n",
    "SomeDate = date(year = 2015, day = 28, month = 2)\n",
    "print(\"Old date: \", SomeDate)\n",
    "\n",
    "# modify year and day\n",
    "# 2016 is a leap year, so we can set the date to Feb 29 2016\n",
    "SomeDate = SomeDate.replace(year = 2016, day = 29)\n",
    "print(\"New date: \", SomeDate)"
   ]
  },
  {
   "cell_type": "markdown",
   "id": "b51eccb3",
   "metadata": {
    "id": "L6VyjHltyInN"
   },
   "source": [
    "### Getting the current local date"
   ]
  },
  {
   "cell_type": "code",
   "execution_count": 190,
   "id": "f25dceaf",
   "metadata": {
    "id": "tK9huxVPyInN"
   },
   "outputs": [
    {
     "name": "stdout",
     "output_type": "stream",
     "text": [
      "2024-01-12\n"
     ]
    }
   ],
   "source": [
    "from datetime import date\n",
    "\n",
    "# get today's date\n",
    "d = date.today()\n",
    "\n",
    "print(d)"
   ]
  },
  {
   "cell_type": "markdown",
   "id": "50804043",
   "metadata": {
    "id": "l4yd4XaFyInO"
   },
   "source": [
    "---\n",
    "<font size=\"6\" color=\"#B24C00\"  face=\"verdana\"> <B>Task 2</B></font>\n",
    "\n",
    "## `date` Objects"
   ]
  },
  {
   "cell_type": "code",
   "execution_count": 3,
   "id": "131fd023",
   "metadata": {
    "id": "eGfT5cslyInO"
   },
   "outputs": [
    {
     "name": "stdout",
     "output_type": "stream",
     "text": [
      "2012-03-28\n"
     ]
    }
   ],
   "source": [
    "# [ ] Create a `date` variable containing: (March 28 2012)\n",
    "from datetime import date\n",
    "\n",
    "oldDate =  date(2012, 3, 28)\n",
    "\n",
    "print(oldDate)"
   ]
  },
  {
   "cell_type": "code",
   "execution_count": 15,
   "id": "31223d87",
   "metadata": {
    "id": "9H9YYMb_yInO"
   },
   "outputs": [
    {
     "name": "stdin",
     "output_type": "stream",
     "text": [
      "Enter a new month:  3\n",
      "Enter a new day:  23\n"
     ]
    },
    {
     "name": "stdout",
     "output_type": "stream",
     "text": [
      "(2024, 23, 3)\n"
     ]
    }
   ],
   "source": [
    "# [ ] Prompt the user to enter a month and a day, get the current year, then create a date object with the information collected\n",
    "from datetime import date\n",
    "\n",
    "newMonth = int(input(\"Enter a new month: \"))\n",
    "newDay = int(input(\"Enter a new day: \"))\n",
    "y = date.today()\n",
    "newDate = (y.year, newDay, newMonth)\n",
    "print(newDate)"
   ]
  },
  {
   "cell_type": "markdown",
   "id": "d49d2032",
   "metadata": {
    "id": "9_OqW34qyInO"
   },
   "source": [
    "---\n",
    "<font size=\"6\" color=\"#00A0B2\"  face=\"verdana\"> <B>Concepts</B></font>  \n",
    "\n",
    "\n",
    "## `datetime` Objects\n",
    "[View video](https://youtu.be/-WqXNjFeOGg)\n",
    "\n",
    "### `datetime(year, month, day, hour = 0, minute = 0, second = 0, microsecond = 0)`\n",
    "Some applications require knowing and/or manipulating both time and date information. The `datetime` module has a datatype (class) that combines both time and date information into the same variable. This general datatype has the same name as the `datetime` module. The `datetime` datatype combines the attributes of a `date` object and a `time` object, and can be assigned, modified, and accessed in a similar way. When assigning a new variable of type `datetime`, all the date attributes are required; the time attributes are optional and have default values of 0. The attributes have the same ranges as those of the individual `time` and `date` objects:\n",
    "* 1 &leq; year &leq; 9999\n",
    "* 1 &leq; month &leq; 12\n",
    "* 1 &leq; day &leq; number of days in the given month and year\n",
    "* 0 &leq; hour < 24\n",
    "* 0 &leq; minute < 60\n",
    "* 0 &leq; second < 60\n",
    "* 0 &leq; microsecond < 1000000\n",
    "\n",
    "The attributes of a `datetime` variable can be modified using the `replace` function. The new attribute values should be within the valid limits.\n",
    "\n",
    "### Setting a `datetime` object to the current local date and time\n",
    "The attributes of a `datetime` object can be set to the current local date and time using the `today` function. The function behaves in the same way it does with a `date` object, except that it also captures the current local time.\n",
    "\n",
    "```python\n",
    "# set dt to the current local date and time\n",
    "In [1]: dt = datetime.today()\n",
    "```\n",
    "\n",
    "### Splitting a `datetime` object into separate `date` and `time` objects\n",
    "A `datetime` object can be split into separate `date` and `time` objects, this can be achieved using the functions `date()` and `time()` as follows:\n",
    "\n",
    "```python\n",
    "# set dt to some date/time\n",
    "In [1]: dt = datetime(year = 2014, month = 1, day = 3, hour = 15, minute = 1)\n",
    "In [2]: t = dt.time() # set time t to 15:1:0.0\n",
    "In [3]: d = dt.date() # set date d to January 3 2014\n",
    "```\n",
    "\n",
    "### Combining separate `date` and `time` objects into a single `datetime` object\n",
    "Separate `date` and `time` variables can be combined into a single `datetime` variable using the `combine(date, time)` function.\n",
    "\n",
    "```python\n",
    "In [1]: t = time(hour = 15, minute = 1) # set time t to 15:1:0.0\n",
    "In [2]: d = date(year = 2014, month = 1, day = 3) # set date d to January 3 2014\n",
    "In [3]: dt = datetime.combine(d ,t) # or equivalently dt = datetime.combine(date = d, time = t)\n",
    "```"
   ]
  },
  {
   "cell_type": "markdown",
   "id": "944c2b14",
   "metadata": {
    "id": "W7ADpwwgyInO"
   },
   "source": [
    "---\n",
    "<font size=\"6\" color=\"#00A0B2\"  face=\"verdana\"> <B>Examples</B></font>\n",
    "\n",
    "### Assigning a `datetime` object"
   ]
  },
  {
   "cell_type": "code",
   "execution_count": 19,
   "id": "999f5272",
   "metadata": {
    "id": "343SGiH9yInO"
   },
   "outputs": [
    {
     "name": "stdout",
     "output_type": "stream",
     "text": [
      "Method 1:  2022-07-04 16:30:00\n",
      "Method 2:  2022-07-04 16:30:00\n"
     ]
    }
   ],
   "source": [
    "from datetime import datetime\n",
    "\n",
    "# July 4th 2022, at 4:30 PM\n",
    "\n",
    "# Method 1\n",
    "dt = datetime(2022, 7, 4, 16, 30)\n",
    "print(\"Method 1: \", dt)\n",
    "\n",
    "# Method 2\n",
    "dt = datetime(day = 4, month = 7, year = 2022, minute = 30, hour = 16)\n",
    "print(\"Method 2: \", dt)"
   ]
  },
  {
   "cell_type": "markdown",
   "id": "2fee4f67",
   "metadata": {
    "id": "smEkpy6EyInP"
   },
   "source": [
    "### Getting a `datetime` attribute"
   ]
  },
  {
   "cell_type": "code",
   "execution_count": 21,
   "id": "e77f46c1",
   "metadata": {
    "id": "v3xkyiV1yInP"
   },
   "outputs": [
    {
     "name": "stdout",
     "output_type": "stream",
     "text": [
      "Year is:  2022\n",
      "Minute is:  30\n"
     ]
    }
   ],
   "source": [
    "from datetime import datetime\n",
    "\n",
    "# July 4th 2022, at 4:30 PM\n",
    "dt = datetime(2022, 7, 4, 16, 30)\n",
    "\n",
    "# access year\n",
    "print(\"Year is: \", dt.year)\n",
    "\n",
    "# access minute\n",
    "print(\"Minute is: \", dt.minute)"
   ]
  },
  {
   "cell_type": "markdown",
   "id": "501b32cf",
   "metadata": {
    "id": "elPvKVMEyInP"
   },
   "source": [
    "### Modifying the attributes of an assigned `datetime` object"
   ]
  },
  {
   "cell_type": "code",
   "execution_count": 23,
   "id": "af9c8009",
   "metadata": {
    "id": "FjZjPgQAyInP"
   },
   "outputs": [
    {
     "name": "stdout",
     "output_type": "stream",
     "text": [
      "2020-07-04 16:30:30\n"
     ]
    }
   ],
   "source": [
    "from datetime import datetime\n",
    "\n",
    "# July 4th 2022, at 4:30 PM\n",
    "dt = datetime(2022, 7, 4, 16, 30)\n",
    "\n",
    "# change year to 2020 and second to 30\n",
    "dt = dt.replace(year = 2020, second = 30)\n",
    "print(dt)"
   ]
  },
  {
   "cell_type": "markdown",
   "id": "cb3e9996",
   "metadata": {
    "id": "hdthu0tJyInP"
   },
   "source": [
    "### Getting the current local date and time"
   ]
  },
  {
   "cell_type": "code",
   "execution_count": 57,
   "id": "30739cdd",
   "metadata": {
    "id": "l8ek8h63yInP"
   },
   "outputs": [
    {
     "name": "stdout",
     "output_type": "stream",
     "text": [
      "2024-01-17 14:50:55.467511\n"
     ]
    }
   ],
   "source": [
    "from datetime import datetime\n",
    "\n",
    "# get today's date and current local time\n",
    "dt = datetime.today()\n",
    "print(dt)"
   ]
  },
  {
   "cell_type": "markdown",
   "id": "2834f824",
   "metadata": {
    "id": "CLhEYTrhyInP"
   },
   "source": [
    "### Splitting a `datetime` object into separate `date` and `time` objects"
   ]
  },
  {
   "cell_type": "code",
   "execution_count": 59,
   "id": "bf983f2b",
   "metadata": {
    "id": "Uy4CfypxyInQ"
   },
   "outputs": [
    {
     "name": "stdout",
     "output_type": "stream",
     "text": [
      "Time is:  14:50:56.716223\n",
      "Date is:  2024-01-17\n"
     ]
    }
   ],
   "source": [
    "from datetime import datetime, time, date\n",
    "\n",
    "# get today's date and current local time\n",
    "dt = datetime.today()\n",
    "\n",
    "# split into time t and date d\n",
    "t = dt.time()\n",
    "print(\"Time is: \", t)\n",
    "\n",
    "d = dt.date()\n",
    "print(\"Date is: \", d)"
   ]
  },
  {
   "cell_type": "markdown",
   "id": "0a6813e1",
   "metadata": {
    "id": "i4HfehAcyInQ"
   },
   "source": [
    "### Combining separate `date` and `time` objects into a `datetime` object"
   ]
  },
  {
   "cell_type": "code",
   "execution_count": 61,
   "id": "17bf8be0",
   "metadata": {
    "id": "MGIno0ksyInQ"
   },
   "outputs": [
    {
     "name": "stdout",
     "output_type": "stream",
     "text": [
      "2024-01-17 06:45:00\n"
     ]
    }
   ],
   "source": [
    "from datetime import datetime, time, date\n",
    "\n",
    "# assign a time object\n",
    "t = time(hour = 6, minute = 45, second = 0)\n",
    "\n",
    "# assign a date object\n",
    "d = date.today()\n",
    "\n",
    "# combine t and d into a datetime object\n",
    "dt = datetime.combine(date = d, time = t)\n",
    "\n",
    "print(dt)"
   ]
  },
  {
   "cell_type": "markdown",
   "id": "c7e7aeb6",
   "metadata": {
    "id": "YALXMJRVyInQ"
   },
   "source": [
    "---\n",
    "<font size=\"6\" color=\"#B24C00\"  face=\"verdana\"> <B>Task 3</B></font>\n",
    "\n",
    "## `datetime` Objects"
   ]
  },
  {
   "cell_type": "code",
   "execution_count": 77,
   "id": "43728a3d",
   "metadata": {
    "id": "xmshKRuDyInQ"
   },
   "outputs": [
    {
     "name": "stdout",
     "output_type": "stream",
     "text": [
      "2012-03-28 00:55:10.300000\n"
     ]
    }
   ],
   "source": [
    "# [ ] Create a `datetime` variable containing: (March 28 2012 @ 12:55:10:30 AM)\n",
    "from datetime import datetime\n",
    "\n",
    "dt = datetime(2012, 3, 28, 0, 55, 10, 300000)\n",
    "\n",
    "print(dt)"
   ]
  },
  {
   "cell_type": "code",
   "execution_count": 95,
   "id": "82c1d2ee",
   "metadata": {
    "id": "lkUXNzy7yInQ"
   },
   "outputs": [
    {
     "name": "stdout",
     "output_type": "stream",
     "text": [
      "14\n"
     ]
    }
   ],
   "source": [
    "# [ ] Write code that prints the current hour\n",
    "from datetime import datetime\n",
    "\n",
    "dt = datetime.today()\n",
    "print(dt.hour)\n"
   ]
  },
  {
   "cell_type": "code",
   "execution_count": 11,
   "id": "78d74d00",
   "metadata": {
    "id": "FmhIU9JkyInQ"
   },
   "outputs": [
    {
     "name": "stdout",
     "output_type": "stream",
     "text": [
      "Date:  2024-01-17\n",
      "Time:  15:01:11.952511\n"
     ]
    }
   ],
   "source": [
    "# [ ] Write a program that prints the current date on one line and the current time on another line\n",
    "from datetime import datetime\n",
    "\n",
    "dt = datetime.today()\n",
    "print(f\"Date: \",dt.date())\n",
    "print(f\"Time: \",dt.time())"
   ]
  },
  {
   "cell_type": "code",
   "execution_count": 31,
   "id": "213b54d0",
   "metadata": {
    "id": "SzY1SO71yInQ"
   },
   "outputs": [
    {
     "name": "stdin",
     "output_type": "stream",
     "text": [
      "Enter the number of hours:  3\n",
      "Enter the number of minutes:  44\n"
     ]
    },
    {
     "name": "stdout",
     "output_type": "stream",
     "text": [
      "2024-01-17 03:44:00\n"
     ]
    }
   ],
   "source": [
    "# [ ] Write a program that:\n",
    "# 1) prompts the user for a time (hours and minutes only)\n",
    "# 2) gets the current date\n",
    "# 3) combines the collected information into a `datetime` variable\n",
    "from datetime import datetime, time, date\n",
    "\n",
    "inputHours = int(input(\"Enter the number of hours: \"))\n",
    "inputMins = int(input(\"Enter the number of minutes: \"))\n",
    "t = time(inputHours, inputMins)\n",
    "d = date.today()\n",
    "dt = datetime.combine(d, t)\n",
    "print(dt)"
   ]
  },
  {
   "cell_type": "markdown",
   "id": "f5f2581b",
   "metadata": {
    "id": "ndmuwmb5yInR"
   },
   "source": [
    "---\n",
    "<font size=\"6\" color=\"#00A0B2\"  face=\"verdana\"> <B>Concepts</B></font>  \n",
    "\n",
    "\n",
    "## Formatting Dates and Times\n",
    "[View video](https://youtu.be/FARyPPlzT0E)\n",
    "\n",
    "The date and time information is often shown to us humans; therefore, it is useful to display it in a human-friendly way. For example, you might want to show a date as Nov, 03, 1999, or display the time as 10:15 AM. The `strftime()` function will make this task easier. \n",
    "\n",
    "`strftime()` applies to `time`, `date`, and `datetime` objects. It reads the attributes of the object, applies a formatting directive, and returns a formatted string. There are different date and time directives; however, `time` directives shouldn't be used with `date` objects because they don't have such attributes; similarly, `date` directives shouldn't be used with `time` objects.\n",
    "\n",
    "The `strftime()` is passed a string containing all necessary formatting directives along with any necessary slashes, commas, colons, and so on. The following tables show a short list of commonly used directives. The Python Documentation site has more information on the `strftime()` function at https://docs.python.org/3/library/datetime.html#strftime-strptime-behavior.\n",
    "\n",
    "#### Date formatting directives\n",
    "\n",
    "|Directive| Meaning| Example|\n",
    "|---------|--------|--------|\n",
    "|%a| Abbreviated weekday name| Sun, Mon, ..., Fri|\n",
    "|%A| Full weekday name| Sunday, Monday, ..., Friday|\n",
    "|%d| Day of the month as a zero-padded decimal| 01, 02, 03, ... 31|\n",
    "|%b| Abbreviated month name| Jan, Feb, ..., Dec|\n",
    "|%B| Full month name| January, February, ..., December|\n",
    "|%m| Month as a zero-padded decimal| 01, 02,..., 12|\n",
    "|%y| 2 decimal year number (without century) | 00, 01, ..., 99|\n",
    "|%Y| 4 decimal year number (with century) | 1900, 1989, ..., 2015|\n",
    "\n",
    "#### Time formatting directives\n",
    "|Directive| Meaning| Example|\n",
    "|---------|--------|--------|\n",
    "|%H| Hour in 24-hour clock (zero-padded)| 00, 01, ..., 23|\n",
    "|%I| Hour in 12-hour clock (zero-padded)| 00, 01, ..., 12|\n",
    "|%p| AM or PM| AM, PM|\n",
    "|%M| Minutes as zero-padded decimal| 00, 01, ..., 59|\n",
    "|%S| Seconds as zero-padded decimal| 00, 01, ...,59|\n",
    "\n"
   ]
  },
  {
   "cell_type": "markdown",
   "id": "a3449da9",
   "metadata": {
    "id": "iCjg2bsDyInR"
   },
   "source": [
    "---\n",
    "<font size=\"6\" color=\"#00A0B2\"  face=\"verdana\"> <B>Examples</B></font>\n",
    "\n",
    "### Formatting `time` objects"
   ]
  },
  {
   "cell_type": "code",
   "execution_count": 33,
   "id": "556e57b7",
   "metadata": {
    "id": "ilcvGBwtyInR"
   },
   "outputs": [
    {
     "name": "stdout",
     "output_type": "stream",
     "text": [
      "First format:  10:15 AM\n",
      "Second format:  10:15:00\n"
     ]
    }
   ],
   "source": [
    "from datetime import time\n",
    "t = time(hour = 10, minute = 15)\n",
    "\n",
    "# display as 10:15 AM\n",
    "# string passed to strftim includes all necessary spaces and semicolons\n",
    "formatted_string = t.strftime(\"%I:%M %p\")\n",
    "print(\"First format: \", formatted_string)\n",
    "\n",
    "# display as 10:15:00 (24 hour clock, no AM/PM)\n",
    "formatted_string = t.strftime(\"%H:%M:%S\")\n",
    "print(\"Second format: \",formatted_string)"
   ]
  },
  {
   "cell_type": "markdown",
   "id": "20402b2c",
   "metadata": {
    "id": "fSND8srByInR"
   },
   "source": [
    "### Formatting `date` objects"
   ]
  },
  {
   "cell_type": "code",
   "execution_count": 35,
   "id": "874c0c53",
   "metadata": {
    "id": "u-gz2qzSyInR"
   },
   "outputs": [
    {
     "name": "stdout",
     "output_type": "stream",
     "text": [
      "First format:  November, 03, 1999\n",
      "Second format:  Nov 03 99\n"
     ]
    }
   ],
   "source": [
    "from datetime import date\n",
    "d = date(year = 1999, month = 11, day =3)\n",
    "\n",
    "# display as November, 03, 1999\n",
    "# string passed to strftime includes all necessary spaces and commas\n",
    "formatted_string = d.strftime(\"%B, %d, %Y\")\n",
    "print(\"First format: \", formatted_string)\n",
    "\n",
    "# display as Nov 03 99\n",
    "formatted_string = d.strftime(\"%b %d %y\")\n",
    "print(\"Second format: \", formatted_string)"
   ]
  },
  {
   "cell_type": "markdown",
   "id": "7c16dd02",
   "metadata": {
    "id": "fgGghdX8yInR"
   },
   "source": [
    "### Formatting `datetime` objects"
   ]
  },
  {
   "cell_type": "code",
   "execution_count": 37,
   "id": "57686421",
   "metadata": {
    "id": "lkpX-dejyInR"
   },
   "outputs": [
    {
     "name": "stdout",
     "output_type": "stream",
     "text": [
      "First format:  November, 03, 1999 @ 10:15 AM\n",
      "Second format:  Nov 03 99 / 10:15:00\n"
     ]
    }
   ],
   "source": [
    "from datetime import datetime \n",
    "dt = datetime(year = 1999, month = 11, day = 3, hour = 10, minute = 15)\n",
    "\n",
    "# display as November, 03, 1999 @ 10:15 AM\n",
    "formatted_string = dt.strftime(\"%B, %d, %Y @ %I:%M %p\")\n",
    "print(\"First format: \", formatted_string)\n",
    "\n",
    "# display as Nov 03 99 / 10:15:00\n",
    "formatted_string = dt.strftime(\"%b %d %y / %H:%M:%S\")\n",
    "print(\"Second format: \", formatted_string)"
   ]
  },
  {
   "cell_type": "markdown",
   "id": "812a80ec",
   "metadata": {
    "id": "XwlkRbePyInS"
   },
   "source": [
    "---\n",
    "<font size=\"6\" color=\"#B24C00\"  face=\"verdana\"> <B>Task 4</B></font>\n",
    "\n",
    "## Formatting Dates and Times"
   ]
  },
  {
   "cell_type": "code",
   "execution_count": 49,
   "id": "cfd364b4",
   "metadata": {
    "id": "mcK8ebDbyInS"
   },
   "outputs": [
    {
     "name": "stdout",
     "output_type": "stream",
     "text": [
      "05:39 PM\n",
      "17:39:10\n"
     ]
    }
   ],
   "source": [
    "# [ ] Write a program that displays the time: (17:39:10) as:\n",
    "# 1) 05:39:10 PM\n",
    "# 2) 17:39:10\n",
    "from datetime import time\n",
    "t = time(17, 39, 10)\n",
    "\n",
    "print(t.strftime(\"%I:%M %p\"))\n",
    "print(t.strftime(\"%H:%M:%S\"))"
   ]
  },
  {
   "cell_type": "code",
   "execution_count": 19,
   "id": "b407ad9c",
   "metadata": {
    "id": "nxZY3u76yInS"
   },
   "outputs": [
    {
     "name": "stdout",
     "output_type": "stream",
     "text": [
      "Oct 23, 2018\n",
      "10/23/18\n",
      "23/October/18\n",
      "Tuesday October 23\n"
     ]
    }
   ],
   "source": [
    "# [ ] Write a program that displays the date: (October 23rd 2018) as:\n",
    "# 1) Oct 23, 2018\n",
    "# 2) 10/23/18\n",
    "# 3) 23/October/2018\n",
    "# 4) Tuesday October 23\n",
    "from datetime import date\n",
    "d = date(2018, 10, 23)\n",
    "print(d.strftime(\"%b %d, %Y\"))\n",
    "print(d.strftime(\"%m/%d/%y\"))\n",
    "print(d.strftime(\"%d/%B/%y\"))\n",
    "print(d.strftime(\"%A %B %d\"))"
   ]
  },
  {
   "cell_type": "code",
   "execution_count": 7,
   "id": "3223db0b",
   "metadata": {
    "id": "FyjE9V5dyInS"
   },
   "outputs": [
    {
     "data": {
      "text/plain": [
       "'Tuesday'"
      ]
     },
     "execution_count": 7,
     "metadata": {},
     "output_type": "execute_result"
    }
   ],
   "source": [
    "# [ ] Complete the function `weekday` to return the weekday name of `some_date`\n",
    "# Use the function to find the weekday on which you were born\n",
    "from datetime import date\n",
    "    \n",
    "def weekday (d):\n",
    "    return(d.strftime(\"%A\"))\n",
    "# Modify to your birthdate\n",
    "some_date = date(2007, 1, 2)\n",
    "\n",
    "# Display the day on which you were born\n",
    "weekday(some_date)\n"
   ]
  }
 ],
 "metadata": {
  "colab": {
   "name": "Updated Math Module - 3-1.1_intro_Python.ipynb",
   "provenance": []
  },
  "kernelspec": {
   "display_name": "anaconda-2022.05-py39",
   "language": "python",
   "name": "conda-env-anaconda-2022.05-py39-py"
  },
  "language_info": {
   "codemirror_mode": {
    "name": "ipython",
    "version": 3
   },
   "file_extension": ".py",
   "mimetype": "text/x-python",
   "name": "python",
   "nbconvert_exporter": "python",
   "pygments_lexer": "ipython3",
   "version": "3.9.12"
  }
 },
 "nbformat": 4,
 "nbformat_minor": 5
}
