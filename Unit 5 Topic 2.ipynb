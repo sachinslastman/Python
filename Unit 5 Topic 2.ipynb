{
 "cells": [
  {
   "cell_type": "code",
   "execution_count": 7,
   "id": "d4164599-c3d2-417b-82c4-ceb6b13a48aa",
   "metadata": {},
   "outputs": [],
   "source": [
    "def area_circle():\n",
    "    pass"
   ]
  },
  {
   "cell_type": "code",
   "execution_count": 15,
   "id": "31a0c950-8afd-4219-b903-c0b91a5074ff",
   "metadata": {},
   "outputs": [
    {
     "name": "stdout",
     "output_type": "stream",
     "text": [
      "ARG Arg arg\n"
     ]
    }
   ],
   "source": [
    "def echo (strng):\n",
    "    print(strng.upper(), strng.capitalize(), strng.lower())\n",
    "    \n",
    "echo(\"arg\")"
   ]
  },
  {
   "cell_type": "code",
   "execution_count": 29,
   "id": "cb92b3e9-5508-4fdf-b958-0a7ea2dfc437",
   "metadata": {},
   "outputs": [
    {
     "name": "stdout",
     "output_type": "stream",
     "text": [
      "6.1544\n"
     ]
    }
   ],
   "source": [
    "def area_circle(radius):\n",
    "    print(3.14*(radius**2))\n",
    "    \n",
    "area_circle(1.4)"
   ]
  },
  {
   "cell_type": "code",
   "execution_count": 43,
   "id": "c2fb209f-ff61-4214-8885-a3ef5f834893",
   "metadata": {},
   "outputs": [
    {
     "name": "stdout",
     "output_type": "stream",
     "text": [
      "1.0000000007527463\n"
     ]
    }
   ],
   "source": [
    "def area_circle(radius):\n",
    "    return(3.14*(radius**2))\n",
    "    \n",
    "area = area_circle(1/1.772004514)\n",
    "print(area)"
   ]
  },
  {
   "cell_type": "code",
   "execution_count": 77,
   "id": "1793e8b6-50b4-4af9-968b-5eeac5e7f2dd",
   "metadata": {},
   "outputs": [
    {
     "data": {
      "text/plain": [
       "12.083045973594572"
      ]
     },
     "execution_count": 77,
     "metadata": {},
     "output_type": "execute_result"
    }
   ],
   "source": [
    "def hypo (a, b):\n",
    "    \n",
    "    '''\n",
    "    This function returns the length of the hypotenuese\n",
    "    \n",
    "    args: Length of sides a and b as intergers\n",
    "    \n",
    "    Returns the length of hypotenuese as a float\n",
    "    '''\n",
    "\n",
    "    return (a**2+b**2)**0.5\n",
    "\n",
    "\n",
    "hypo(5, 11)"
   ]
  },
  {
   "cell_type": "code",
   "execution_count": 79,
   "id": "1b4f6be3-4a32-41e6-a938-fd60e21c4fd2",
   "metadata": {},
   "outputs": [
    {
     "name": "stdout",
     "output_type": "stream",
     "text": [
      "Help on function hypo in module __main__:\n",
      "\n",
      "hypo(a, b)\n",
      "    This function returns the length of the hypotenuese\n",
      "    \n",
      "    args: Length of sides a and b as intergers\n",
      "    \n",
      "    Returns the length of hypotenuese as a float\n",
      "\n"
     ]
    }
   ],
   "source": [
    "help (hypo)"
   ]
  },
  {
   "cell_type": "code",
   "execution_count": 81,
   "id": "3bf1aaab-5f57-4dac-8d7b-b0c097884926",
   "metadata": {},
   "outputs": [
    {
     "name": "stdout",
     "output_type": "stream",
     "text": [
      "LOOKOUT!\n"
     ]
    }
   ],
   "source": [
    "strng = \"lookout\".upper() + \"!\"\n",
    "print(strng)"
   ]
  },
  {
   "cell_type": "code",
   "execution_count": 57,
   "id": "3d97e406-3fa1-42e0-a9ed-bf7b6297efe2",
   "metadata": {},
   "outputs": [
    {
     "name": "stdout",
     "output_type": "stream",
     "text": [
      "8.8\n",
      "7\n"
     ]
    }
   ],
   "source": [
    "def sqit(latitude, longitude=4):\n",
    "    global x; x = 7\n",
    "    answer = latitude**2/longitude + x\n",
    "    return answer\n",
    "\n",
    "print(sqit(3,5))\n",
    "print(x)"
   ]
  }
 ],
 "metadata": {
  "kernelspec": {
   "display_name": "anaconda-panel-2023.05-py310",
   "language": "python",
   "name": "conda-env-anaconda-panel-2023.05-py310-py"
  },
  "language_info": {
   "codemirror_mode": {
    "name": "ipython",
    "version": 3
   },
   "file_extension": ".py",
   "mimetype": "text/x-python",
   "name": "python",
   "nbconvert_exporter": "python",
   "pygments_lexer": "ipython3",
   "version": "3.11.5"
  }
 },
 "nbformat": 4,
 "nbformat_minor": 5
}
