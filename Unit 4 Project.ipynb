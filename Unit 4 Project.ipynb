{
 "cells": [
  {
   "cell_type": "markdown",
   "id": "94de8185",
   "metadata": {},
   "source": [
    "# Unit 4 Project Notebook"
   ]
  },
  {
   "cell_type": "markdown",
   "id": "38d16824",
   "metadata": {
    "cell_id": "044c33b6-fc3d-42fb-8d2e-f46e166810db",
    "deepnote_cell_type": "markdown",
    "slideshow": {
     "slide_type": "slide"
    },
    "tags": []
   },
   "source": [
    "## Quick Review of Prior Learning\n",
    "\n",
    "Terms:\n",
    "\n",
    "- Object: An instance of a class<br>\n",
    "- Variable: A name assigned to identify an object<br>\n",
    "- Type: The particular class of the object (i.e., string, integer, float, etc.)<br>\n",
    "- Assignment Operator: Use a single equal sign (=) to assign an object to a variable<br>\n",
    "- Comment: Text in code following a hashtag (#) to provide information about the code<br>\n",
    "- Docstring: Text encapsulated in triple quotes (''' or \"\"\") to provide information<br>\n",
    "\n",
    "Functions:\n",
    "\n",
    "- `type(obj)` returns the class of an object<br>\n",
    "- `print(out)` writes the out argument to the console<br>\n",
    "- `int(digit)` changes the type of item to an integer<br>\n",
    "- `float(digit)` changes the type of digit to a float<br>\n",
    "- `str(item)` changes the type of item to a string<br>\n"
   ]
  },
  {
   "cell_type": "markdown",
   "id": "219ab73b",
   "metadata": {},
   "source": [
    "Task - in the following code cell, enter your name and class section as a comment and enter a multi-line docstring with a reflection about something you learned so far in this Unit"
   ]
  },
  {
   "cell_type": "code",
   "execution_count": null,
   "id": "2bf0c11a",
   "metadata": {},
   "outputs": [
    {
     "data": {
      "text/plain": [
       "'\\nSachin Lalka, 1B\\nI learned how to use the \\ntry/except functions in Python\\n'"
      ]
     },
     "execution_count": 231,
     "metadata": {},
     "output_type": "execute_result"
    }
   ],
   "source": [
    "# Enter information here\n",
    "\n",
    "#Sachin Lalka, 1B\n",
    "\n",
    "'''\n",
    "I learned how to use the \n",
    "try/except functions in Python\n",
    "'''"
   ]
  },
  {
   "cell_type": "markdown",
   "id": "895e8ecf",
   "metadata": {
    "cell_id": "804be8bb-e1f2-4a35-bc22-f60dfce760ab",
    "deepnote_cell_type": "markdown"
   },
   "source": [
    "## Topic 1 - Standard Input & Exception Handling\n",
    "\n",
    "**Input**\n",
    "- input() - gathering user input from keyboard entry\n",
    "\n",
    "**Casting**\n",
    "- Student will cast input to a different type\n",
    "\n",
    "**Exception Handling**\n",
    "- Use try/except framework to handle possible exceptions\n"
   ]
  },
  {
   "cell_type": "markdown",
   "id": "43cbd5ba",
   "metadata": {
    "cell_id": "00002-fb80211f-6184-491f-83c0-92333e27ae3d",
    "deepnote_cell_type": "markdown"
   },
   "source": [
    "### Examples"
   ]
  },
  {
   "cell_type": "code",
   "execution_count": 3,
   "id": "7a5f4d6d",
   "metadata": {
    "cell_id": "00003-a2d47fde-2875-4e5a-84a3-244e9218f5ee",
    "collapsed": false,
    "deepnote_cell_type": "code",
    "jupyter": {
     "outputs_hidden": false
    }
   },
   "outputs": [
    {
     "name": "stdout",
     "output_type": "stream",
     "text": [
      "enter a small int: \n"
     ]
    },
    {
     "name": "stdin",
     "output_type": "stream",
     "text": [
      " 2\n"
     ]
    },
    {
     "name": "stdout",
     "output_type": "stream",
     "text": [
      "small int: \n",
      "2\n"
     ]
    }
   ],
   "source": [
    "# review and run code - enter a small integer in the text box\n",
    "print(\"enter a small int: \")\n",
    "small_int = input()\n",
    "print(\"small int: \")\n",
    "print(small_int)"
   ]
  },
  {
   "cell_type": "markdown",
   "id": "5f4eddbd",
   "metadata": {
    "cell_id": "00004-91057079-2546-410c-acf0-3b6ee363ba25",
    "deepnote_cell_type": "markdown"
   },
   "source": [
    "<font size=\"6\" color=\"#B24C00\"  face=\"verdana\"> <B>Task 1</B></font>\n",
    "\n",
    "Storing input in a variable\n",
    "- **[ ]** Create code to store input in student_name variable\n",
    "- **[ ]** determine the **`type()`** of **student_name** and `print()` it\n",
    "- **[ ]** Execute your code and check the type, it should be a string"
   ]
  },
  {
   "cell_type": "code",
   "execution_count": 7,
   "id": "be175f06",
   "metadata": {
    "cell_id": "00005-086f48a5-ce92-4591-9c55-55b5a30a2897",
    "collapsed": false,
    "deepnote_cell_type": "code",
    "jupyter": {
     "outputs_hidden": false
    }
   },
   "outputs": [
    {
     "name": "stdin",
     "output_type": "stream",
     "text": [
      "Enter your name:  sachin\n"
     ]
    },
    {
     "name": "stdout",
     "output_type": "stream",
     "text": [
      "<class 'str'>\n"
     ]
    }
   ],
   "source": [
    "# [ ] get input for the variable student_name\n",
    "student_name = input(\"Enter your name: \")\n",
    "# [ ] determine the type of student_name and print it\n",
    "print(type(student_name))"
   ]
  },
  {
   "cell_type": "markdown",
   "id": "02770a2a",
   "metadata": {
    "cell_id": "00006-b3ce3ed9-f6d3-4a3c-89e7-3e6b118ed7f2",
    "deepnote_cell_type": "markdown"
   },
   "source": [
    "<font size=\"6\" color=\"#B24C00\"  face=\"verdana\"> <B>Task 1 Continued</B></font>\n",
    "> **Note**: **`input()`** returns a string (type = str) regardless of entry\n",
    "- If a string is entered **`input()`** returns a string\n",
    "- If a number is entered **`input()`** returns a string  \n",
    "  \n",
    "- **[ ]** Determine the **`type()`**  of input below by entering\n",
    "  - A name\n",
    "  - An integer (whole number no decimal)\n",
    "  - A float number with a decimal point"
   ]
  },
  {
   "cell_type": "code",
   "execution_count": 11,
   "id": "6fa3dd8d",
   "metadata": {
    "cell_id": "00007-88645dbc-3d87-421a-b8d2-3aaa1d086195",
    "collapsed": false,
    "deepnote_cell_type": "code",
    "jupyter": {
     "outputs_hidden": false
    }
   },
   "outputs": [
    {
     "name": "stdout",
     "output_type": "stream",
     "text": [
      "enter a name or number\n"
     ]
    },
    {
     "name": "stdin",
     "output_type": "stream",
     "text": [
      " 5\n"
     ]
    },
    {
     "name": "stdout",
     "output_type": "stream",
     "text": [
      "<class 'str'>\n"
     ]
    }
   ],
   "source": [
    "# [ ] run cell several times, entering a name, an integer number, and a float number after adding code below\n",
    "print(\"enter a name or number\")\n",
    "test_input = input()\n",
    "# [ ] insert code below to check the type of test_input and print it\n",
    "print(type(test_input))"
   ]
  },
  {
   "cell_type": "markdown",
   "id": "2ec8a3cd",
   "metadata": {
    "cell_id": "00008-2db8b3b9-9964-4c22-ace5-11824d17d255",
    "deepnote_cell_type": "markdown"
   },
   "source": [
    "## Concept: User Prompts using `input()`\n",
    "\n",
    "The **`input()`** function has an optional string argument which displays the string intended to inform a user what to enter  \n",
    "**`input()`** works similar to **`print()`**&nbsp;in the way it displays arguments as output.\n"
   ]
  },
  {
   "cell_type": "markdown",
   "id": "de251129",
   "metadata": {
    "cell_id": "00009-09c7c533-ecb4-40de-86ff-7f5f8ca992bc",
    "deepnote_cell_type": "markdown"
   },
   "source": [
    "### Examples"
   ]
  },
  {
   "cell_type": "code",
   "execution_count": null,
   "id": "ba6b16aa",
   "metadata": {
    "cell_id": "00010-1855cd69-bb8f-48eb-b8d1-70d26585b123",
    "deepnote_cell_type": "code",
    "tags": []
   },
   "outputs": [],
   "source": [
    "student_name = input(\"enter the student name: \")  \n",
    "print(\"Hi \" + student_name)"
   ]
  },
  {
   "cell_type": "markdown",
   "id": "c82cf4a5",
   "metadata": {
    "cell_id": "00011-0e29eab9-0028-42d1-9757-768afe940bfb",
    "deepnote_cell_type": "markdown"
   },
   "source": [
    "<font size=\"6\" color=\"#B24C00\"  face=\"verdana\"> <B>Task 2</B></font>\n",
    "\n",
    "### Prompting the user for input\n",
    "- **[ ]** create a variable named **city** to store input, add a prompt for the name of a city\n",
    "- **[ ]** print \"the city name is \" followed by the value stored in **city**"
   ]
  },
  {
   "cell_type": "code",
   "execution_count": 17,
   "id": "cbe356f0",
   "metadata": {
    "cell_id": "00012-0ea77b48-fc4c-4943-bfe4-11ae243d9536",
    "collapsed": false,
    "deepnote_cell_type": "code",
    "jupyter": {
     "outputs_hidden": false
    }
   },
   "outputs": [
    {
     "name": "stdin",
     "output_type": "stream",
     "text": [
      "Enter the name of the city:  cary\n"
     ]
    },
    {
     "name": "stdout",
     "output_type": "stream",
     "text": [
      "The city name is cary\n"
     ]
    }
   ],
   "source": [
    "# [ ] get user input for a city name in the variable named city\n",
    "city = input(\"Enter the name of the city: \")\n",
    "# [ ] print the city name\n",
    "print(\"The city name is \"+str(city))"
   ]
  },
  {
   "cell_type": "markdown",
   "id": "ca6dd09c",
   "metadata": {
    "cell_id": "00013-7885a19f-9876-4dbc-b579-02b9fc48db07",
    "deepnote_cell_type": "markdown"
   },
   "source": [
    "<font size=\"6\" color=\"#B24C00\"  face=\"verdana\"> <B>Task 2 Continued</B></font>\n",
    "\n",
    "### Multiple prompts for user input\n",
    "Often programs need information on multiple items.\n",
    "- **[ ]** create variables to store input: **name**, **age**, **get_mail**\n",
    "- **[ ]** create prompts for name, age and yes/no to being on an email list\n",
    "- **[ ]** print description + input values   \n",
    "\n",
    ">Example print output:  \n",
    "`name = Alton`  \n",
    "`age =  17`  \n",
    "`wants email = yes`  \n",
    "  \n",
    "**Tip:** With multiple input statements, after each prompt, **click 'in' the input box** to continue entering input. "
   ]
  },
  {
   "cell_type": "code",
   "execution_count": null,
   "id": "677a31af",
   "metadata": {
    "cell_id": "00014-bbe19346-37e5-469e-aa8a-95ed84757797",
    "collapsed": false,
    "deepnote_cell_type": "code",
    "jupyter": {
     "outputs_hidden": false
    }
   },
   "outputs": [
    {
     "name": "stdin",
     "output_type": "stream",
     "text": [
      "Enter your name:  sachin\n",
      "Enter your age:  16\n",
      "Do you want emails (yes/no):  no\n"
     ]
    },
    {
     "name": "stdout",
     "output_type": "stream",
     "text": [
      "Name = sachin\n",
      "Age = 16\n",
      "Wants email = no\n"
     ]
    }
   ],
   "source": [
    "# [ ]create variables to store input: name, age, get_mail (yes or no) with prompts \n",
    "name = input(\"Enter your name: \")\n",
    "age = int(input(\"Enter your age: \"))\n",
    "email = input(\"Do you want emails (yes/no): \")\n",
    "\n",
    "# [ ] use print() to print a discription of each variable and the value of that variable (see example above)\n",
    "print(\"Name = \"+str(name))\n",
    "print(\"Age = \"+str(age))\n",
    "print(\"Wants email = \"+str(email))\n"
   ]
  },
  {
   "cell_type": "markdown",
   "id": "5181a47e",
   "metadata": {},
   "source": [
    "## Concept: Casting - changing the data type of `input()` using a function\n",
    "\n",
    "By default, the Python `input()` function returns a string.\n",
    "\n",
    "If you wanted to change the type of the value returned by the `input()` function, you can encapsulate it inside of another function that will change it:\n",
    "\n",
    "- `int()` will change it to type Integer\n",
    "- `float()` will change it to type Floating\n",
    "\n",
    "### Examples"
   ]
  },
  {
   "cell_type": "code",
   "execution_count": null,
   "id": "7b9d2dbf",
   "metadata": {},
   "outputs": [
    {
     "name": "stdin",
     "output_type": "stream",
     "text": [
      "What is your favorite integer? 8\n"
     ]
    },
    {
     "name": "stdout",
     "output_type": "stream",
     "text": [
      "<class 'int'>\n",
      "24\n"
     ]
    }
   ],
   "source": [
    "# This code gets an input from the user and converts it to an integer using int() function\n",
    "the_input = int(input(\"What is your favorite integer?\"))\n",
    "\n",
    "# We can verify the type by using the type() function\n",
    "print(type(the_input))\n",
    "\n",
    "# Another way we can verify is by printing the result of doing some math with the_input\n",
    "print(the_input * 3)"
   ]
  },
  {
   "cell_type": "code",
   "execution_count": null,
   "id": "949ec4c2",
   "metadata": {},
   "outputs": [
    {
     "name": "stdin",
     "output_type": "stream",
     "text": [
      "How many digits can you remember pi? 3.141592630\n"
     ]
    },
    {
     "name": "stdout",
     "output_type": "stream",
     "text": [
      "<class 'float'>\n",
      "9.42477789\n"
     ]
    }
   ],
   "source": [
    "# This code is similar to above, but we use the float() function to convert the type to floating\n",
    "the_input = float(input(\"How many digits can you remember pi?\"))\n",
    "\n",
    "# Let's check the data type using the type() function\n",
    "print(type(the_input))\n",
    "\n",
    "# And let's do some math with it and see the result\n",
    "print(the_input * 3)"
   ]
  },
  {
   "cell_type": "markdown",
   "id": "cc067637",
   "metadata": {
    "cell_id": "2a9b3d88-c2ae-432a-8041-d25b018a3e22",
    "deepnote_cell_type": "markdown",
    "tags": []
   },
   "source": [
    "## Concept: Exception Handling\n",
    "* try...except\n",
    "* try...except...except...\n",
    "\n",
    "### Students will be able to:\n",
    "* Differentiate between exception types and recognize their meaning\n",
    "* Handle a raised exception\n",
    "* Handle different exception types\n",
    "* Use `else` and `finally` to perform clean-up actions \n",
    "* Raise a forced exception of a specific type"
   ]
  },
  {
   "cell_type": "markdown",
   "id": "3f6490f3",
   "metadata": {
    "cell_id": "00002-e5327edb-cb1f-42e3-a4ec-01dd235ae099",
    "deepnote_cell_type": "markdown"
   },
   "source": [
    "---\n",
    "<font size=\"6\" color=\"#00A0B2\"  face=\"verdana\"> <B>Examples</B></font>\n",
    "\n",
    "### `ZeroDivisionError`\n",
    "Raised by trying to divide a numerator by 0."
   ]
  },
  {
   "cell_type": "code",
   "execution_count": null,
   "id": "9c48fcdb",
   "metadata": {
    "cell_id": "00003-79ea34e6-0eb3-4e05-a5b4-050e677c826c",
    "deepnote_cell_type": "code"
   },
   "outputs": [],
   "source": [
    "n = 5\n",
    "d = 0\n",
    "n / d"
   ]
  },
  {
   "cell_type": "markdown",
   "id": "d959fe43",
   "metadata": {
    "cell_id": "00004-25ae4da7-1bf7-404b-ba7d-e11a81c45e22",
    "deepnote_cell_type": "markdown"
   },
   "source": [
    "### `NameError`\n",
    "Raised by accessing an unspecified (undefined) variable."
   ]
  },
  {
   "cell_type": "code",
   "execution_count": null,
   "id": "1b6358d4",
   "metadata": {
    "cell_id": "00005-5c77e999-a8b0-4720-a031-c6f5a695bf8d",
    "deepnote_cell_type": "code"
   },
   "outputs": [],
   "source": [
    "# x is not defined anywhere\n",
    "print(x)"
   ]
  },
  {
   "cell_type": "markdown",
   "id": "82213627",
   "metadata": {
    "cell_id": "00006-3ad3bbba-a4ad-4863-8e42-41586de5d091",
    "deepnote_cell_type": "markdown"
   },
   "source": [
    "### `TypeError`\n",
    "Raised when performing an unsupported operation on a specific type, such us dividing strings."
   ]
  },
  {
   "cell_type": "code",
   "execution_count": null,
   "id": "e9196a32",
   "metadata": {
    "cell_id": "00007-aec752cc-bc79-4b56-b42d-e8f17e33f21f",
    "deepnote_cell_type": "code"
   },
   "outputs": [],
   "source": [
    "s1 = 'Word1'\n",
    "s2 = 'Word2'\n",
    "s1/s2"
   ]
  },
  {
   "cell_type": "markdown",
   "id": "538c263b",
   "metadata": {
    "cell_id": "00008-7887cb94-58a1-42be-abcd-142920ef6b2c",
    "deepnote_cell_type": "markdown"
   },
   "source": [
    "---\n",
    "<font size=\"6\" color=\"#B24C00\"  face=\"verdana\"> <B>Task 3</B></font>\n",
    "\n",
    "## Exception Types\n",
    "\n",
    "Before completing this task, visit the Python Documentation site at https://docs.python.org/3/library/exceptions.html#bltin-exceptions to learn about the built-in exception types."
   ]
  },
  {
   "cell_type": "code",
   "execution_count": 33,
   "id": "271d8178",
   "metadata": {
    "cell_id": "00009-4621b37e-94c9-44bf-95f0-3c6d8ee8a897",
    "deepnote_cell_type": "code"
   },
   "outputs": [
    {
     "ename": "TypeError",
     "evalue": "unsupported operand type(s) for +: 'int' and 'str'",
     "output_type": "error",
     "traceback": [
      "\u001b[0;31m---------------------------------------------------------------------------\u001b[0m",
      "\u001b[0;31mTypeError\u001b[0m                                 Traceback (most recent call last)",
      "Input \u001b[0;32mIn [33]\u001b[0m, in \u001b[0;36m<cell line: 2>\u001b[0;34m()\u001b[0m\n\u001b[1;32m      1\u001b[0m \u001b[38;5;66;03m# [ ] Write an expression to raise a `TypeError` exception\u001b[39;00m\n\u001b[0;32m----> 2\u001b[0m \u001b[38;5;28mprint\u001b[39m(\u001b[38;5;241;43m4\u001b[39;49m\u001b[43m \u001b[49m\u001b[38;5;241;43m+\u001b[39;49m\u001b[43m \u001b[49m\u001b[38;5;124;43m\"\u001b[39;49m\u001b[38;5;124;43mhello\u001b[39;49m\u001b[38;5;124;43m\"\u001b[39;49m)\n",
      "\u001b[0;31mTypeError\u001b[0m: unsupported operand type(s) for +: 'int' and 'str'"
     ]
    }
   ],
   "source": [
    "# [ ] Write an expression to raise a `TypeError` exception\n",
    "print(4 + \"hello\")"
   ]
  },
  {
   "cell_type": "code",
   "execution_count": 35,
   "id": "0a187622",
   "metadata": {
    "cell_id": "00010-f3e084f9-06a7-43de-a81a-b447843aaa77",
    "deepnote_cell_type": "code"
   },
   "outputs": [
    {
     "ename": "NameError",
     "evalue": "name 'x' is not defined",
     "output_type": "error",
     "traceback": [
      "\u001b[0;31m---------------------------------------------------------------------------\u001b[0m",
      "\u001b[0;31mNameError\u001b[0m                                 Traceback (most recent call last)",
      "Input \u001b[0;32mIn [35]\u001b[0m, in \u001b[0;36m<cell line: 2>\u001b[0;34m()\u001b[0m\n\u001b[1;32m      1\u001b[0m \u001b[38;5;66;03m# [ ] Write an expression to raise an `NameError` exception\u001b[39;00m\n\u001b[0;32m----> 2\u001b[0m \u001b[38;5;28mprint\u001b[39m(\u001b[43mx\u001b[49m\u001b[38;5;241m/\u001b[39m\u001b[38;5;241m2\u001b[39m)\n",
      "\u001b[0;31mNameError\u001b[0m: name 'x' is not defined"
     ]
    }
   ],
   "source": [
    "# [ ] Write an expression to raise an `NameError` exception\n",
    "print(x/2)"
   ]
  },
  {
   "cell_type": "code",
   "execution_count": 37,
   "id": "01ef379c",
   "metadata": {},
   "outputs": [
    {
     "ename": "ZeroDivisionError",
     "evalue": "division by zero",
     "output_type": "error",
     "traceback": [
      "\u001b[0;31m---------------------------------------------------------------------------\u001b[0m",
      "\u001b[0;31mZeroDivisionError\u001b[0m                         Traceback (most recent call last)",
      "Input \u001b[0;32mIn [37]\u001b[0m, in \u001b[0;36m<cell line: 2>\u001b[0;34m()\u001b[0m\n\u001b[1;32m      1\u001b[0m \u001b[38;5;66;03m# [ ] Write an expression to raise a \"ZeroDivisionError\" exception\u001b[39;00m\n\u001b[0;32m----> 2\u001b[0m \u001b[38;5;28mprint\u001b[39m(\u001b[38;5;241;43m24\u001b[39;49m\u001b[38;5;241;43m/\u001b[39;49m\u001b[43m(\u001b[49m\u001b[38;5;241;43m2\u001b[39;49m\u001b[38;5;241;43m-\u001b[39;49m\u001b[38;5;241;43m2\u001b[39;49m\u001b[43m)\u001b[49m)\n",
      "\u001b[0;31mZeroDivisionError\u001b[0m: division by zero"
     ]
    }
   ],
   "source": [
    "# [ ] Write an expression to raise a \"ZeroDivisionError\" exception\n",
    "print(24/(2-2))"
   ]
  },
  {
   "cell_type": "markdown",
   "id": "3be0caa9",
   "metadata": {
    "cell_id": "00011-ef36ddb6-a015-42d2-b821-b586d853f0b4",
    "deepnote_cell_type": "markdown"
   },
   "source": [
    "---\n",
    "<font size=\"6\" color=\"#00A0B2\"  face=\"verdana\"> <B>Concepts</B></font>  \n",
    "\n",
    "\n",
    "## Handling Exceptions\n",
    "[view video](https://youtu.be/kZ3WisNonwM)\n",
    "\n",
    "Up to this point in the course, if your code encountered an error it stopped execution and displayed an error message. You had to read the error message, understand the reason it was generated, and fix the code. \n",
    "\n",
    "There are situations in which you want your code to continue execution or display a friendly message to the user despite an error that you might or might not anticipate in advance. It is possible to modify your program to handle specific exceptions and to continue execution without stopping. The process is called exception handling, and can be done using a `try...except` statement with the following syntax:\n",
    "\n",
    "```python\n",
    "try:\n",
    "    code that may raise an exception\n",
    "except ExceptionType:\n",
    "    code block to handle exception\n",
    "```\n",
    "\n",
    "#### Handling multiple exceptions\n",
    "Your program can raise exceptions of different types. You can use the `try...except` statement to handle each of the types differently by adding another `except` clause and its associated code at the end:\n",
    "\n",
    "```python\n",
    "try:\n",
    "    code that may raise an exception\n",
    "except ExceptionType_1:\n",
    "    code block to handle exception of type ExceptionType_1\n",
    "except ExceptionType_2:\n",
    "    code block to handle exception of type ExceptionType_2\n",
    "```\n",
    "\n",
    "When an exception is raised, the rest of the code inside the `try` block is ignored and the execution jumps to the relevant `except` code block and executes it. Then the program continues normal execution.\n",
    "\n",
    "#### Handling unexpected exceptions\n",
    "If your code encounters an exception you did not anticipate or explicitly handle, your program will stop execution and display an error message. You can handle unexpected exceptions using an `except` clause without specifying the exception type:\n",
    "\n",
    "```python\n",
    "try:\n",
    "    code that may raise an exception\n",
    "except ExceptionType_1:\n",
    "    code block to handle exception of type ExceptionType_1\n",
    "except ExceptionType_2:\n",
    "    code block to handle exception of type ExceptionType_2\n",
    "except:\n",
    "    code block to handle unexpected exceptions of any type\n",
    "```\n",
    "\n",
    "#### Handling exceptions raised by other functions\n",
    "When a function raises an exception without handling it, the caller function must handle the exception or raise it up another level. For example, the `sqrt` function from the `math` module expects a positive number for an argument. Passing a negative number to `sqrt` will raise a `ValueError` exception. The `sqrt` function doesn't handle the exception internally, so your code should handle it or raise it to an upper level.\n",
    "\n",
    "#### Error messages\n",
    "The error message associated with a raised exception can be stored in a variable using (`as exception_object:`) in the `except` clause, right after the exception type:\n",
    "\n",
    "```python\n",
    "try:\n",
    "    code that may raise an exception\n",
    "except ExceptionType_1 as exception_object:\n",
    "    code block to handle exception of type ExceptionType_1\n",
    "except ExceptionType_2 as exception_object:\n",
    "    code block to handle exception of type ExceptionType_2\n",
    "except Exception as exception_object:\n",
    "    code block to handle unexpected exceptions of any type\n",
    "```\n",
    "\n",
    "NOTE: For unexpected exceptions, use (Exception as exception_object: or Exception as ex:) to store the error message."
   ]
  },
  {
   "cell_type": "markdown",
   "id": "523d589f",
   "metadata": {
    "cell_id": "00012-5579692b-a5a0-4e1a-8165-f3e7288ac679",
    "deepnote_cell_type": "markdown"
   },
   "source": [
    "---\n",
    "<font size=\"6\" color=\"#00A0B2\"  face=\"verdana\"> <B>Examples</B></font>\n"
   ]
  },
  {
   "cell_type": "markdown",
   "id": "1755e2cb",
   "metadata": {
    "cell_id": "00013-38f7da0e-438d-4418-8cc3-a9074c221594",
    "deepnote_cell_type": "markdown"
   },
   "source": [
    "### Not handling an exception --> The code stops running!\n",
    "\n",
    "In this example, we have a line of code that creates an error that is not handled.  As a result, the code stops running.  Notice that the code below does not execute once the error is encountered."
   ]
  },
  {
   "cell_type": "code",
   "execution_count": 39,
   "id": "d3359870",
   "metadata": {},
   "outputs": [
    {
     "ename": "ZeroDivisionError",
     "evalue": "division by zero",
     "output_type": "error",
     "traceback": [
      "\u001b[0;31m---------------------------------------------------------------------------\u001b[0m",
      "\u001b[0;31mZeroDivisionError\u001b[0m                         Traceback (most recent call last)",
      "Input \u001b[0;32mIn [39]\u001b[0m, in \u001b[0;36m<cell line: 3>\u001b[0;34m()\u001b[0m\n\u001b[1;32m      1\u001b[0m x \u001b[38;5;241m=\u001b[39m \u001b[38;5;241m5\u001b[39m\n\u001b[1;32m      2\u001b[0m y \u001b[38;5;241m=\u001b[39m \u001b[38;5;241m0\u001b[39m\n\u001b[0;32m----> 3\u001b[0m z \u001b[38;5;241m=\u001b[39m \u001b[43mx\u001b[49m\u001b[43m \u001b[49m\u001b[38;5;241;43m/\u001b[39;49m\u001b[43m \u001b[49m\u001b[43my\u001b[49m\n\u001b[1;32m      5\u001b[0m \u001b[38;5;28mprint\u001b[39m(\u001b[38;5;124m\"\u001b[39m\u001b[38;5;124mThe code is still running\u001b[39m\u001b[38;5;124m\"\u001b[39m)\n",
      "\u001b[0;31mZeroDivisionError\u001b[0m: division by zero"
     ]
    }
   ],
   "source": [
    "x = 5\n",
    "y = 0\n",
    "z = x / y\n",
    "\n",
    "print(\"The code is still running\")"
   ]
  },
  {
   "cell_type": "markdown",
   "id": "8915843a",
   "metadata": {
    "cell_id": "00013-38f7da0e-438d-4418-8cc3-a9074c221594",
    "deepnote_cell_type": "markdown"
   },
   "source": [
    "### Handling a single exception\n",
    "\n",
    "In this example, you will see how to handle the division by zero exception you saw earlier. You will see that the program does not terminate when it encounters the error, and continues running as expected."
   ]
  },
  {
   "cell_type": "code",
   "execution_count": 41,
   "id": "c4718750",
   "metadata": {
    "cell_id": "00014-fd3cd274-1625-4453-b331-0ca2165a5b8f",
    "deepnote_cell_type": "code"
   },
   "outputs": [
    {
     "name": "stdout",
     "output_type": "stream",
     "text": [
      "Cannot divide by zero!\n",
      "Program is still running\n"
     ]
    }
   ],
   "source": [
    "try:\n",
    "    5/0\n",
    "except ZeroDivisionError:\n",
    "    print(\"Cannot divide by zero!\")\n",
    "\n",
    "print(\"Program is still running\")"
   ]
  },
  {
   "cell_type": "markdown",
   "id": "ada40fe5",
   "metadata": {
    "cell_id": "00015-cf379aed-c24a-4d46-bd6a-0923f8087817",
    "deepnote_cell_type": "markdown"
   },
   "source": [
    "### Handling multiple exceptions\n",
    "The following example shows a program that asks the user for 2 numbers and then divides them. You can see that when an exception is raised, the program ignores the rest of the code inside the `try` block (`print(\"print executed\")`), jumps to the relevant `except` code block, and executes it. Run it several times trying to cause each exception to occur."
   ]
  },
  {
   "cell_type": "code",
   "execution_count": 43,
   "id": "39b97151",
   "metadata": {
    "cell_id": "00016-8c264ab9-1fc8-47fd-819d-fb75cc921edd",
    "deepnote_cell_type": "code"
   },
   "outputs": [
    {
     "name": "stdin",
     "output_type": "stream",
     "text": [
      "Please enter a number:  d\n",
      "Please enter a number:  f\n"
     ]
    },
    {
     "name": "stdout",
     "output_type": "stream",
     "text": [
      "Only enter numbers!\n"
     ]
    }
   ],
   "source": [
    "n = input(\"Please enter a number: \")\n",
    "d = input(\"Please enter a number: \")\n",
    "try:        \n",
    "    n = float(n)\n",
    "    d = float(d)\n",
    "    print(n / d)\n",
    "    print(\"print executed\")\n",
    "except ValueError:\n",
    "    print(\"Only enter numbers!\")\n",
    "except ZeroDivisionError:\n",
    "    print(\"Cannot divide by zero!\")"
   ]
  },
  {
   "cell_type": "markdown",
   "id": "bede8ce0",
   "metadata": {
    "cell_id": "00017-e2c99c9f-651d-4cd9-8550-dc7d28f7f714",
    "deepnote_cell_type": "markdown"
   },
   "source": [
    "### Handling unexpected exceptions\n",
    "\n",
    "If a program encounters unhandled exceptions, it will terminate and display an error message."
   ]
  },
  {
   "cell_type": "code",
   "execution_count": 45,
   "id": "40bbea0b",
   "metadata": {
    "cell_id": "00018-464a7fc6-0a8c-4336-904d-8a33b49e5f9e",
    "deepnote_cell_type": "code"
   },
   "outputs": [
    {
     "ename": "ZeroDivisionError",
     "evalue": "division by zero",
     "output_type": "error",
     "traceback": [
      "\u001b[0;31m---------------------------------------------------------------------------\u001b[0m",
      "\u001b[0;31mZeroDivisionError\u001b[0m                         Traceback (most recent call last)",
      "Input \u001b[0;32mIn [45]\u001b[0m, in \u001b[0;36m<cell line: 4>\u001b[0;34m()\u001b[0m\n\u001b[1;32m      3\u001b[0m x \u001b[38;5;241m=\u001b[39m \u001b[38;5;241m5\u001b[39m\n\u001b[1;32m      4\u001b[0m \u001b[38;5;28;01mtry\u001b[39;00m:\n\u001b[0;32m----> 5\u001b[0m     \u001b[43mx\u001b[49m\u001b[43m \u001b[49m\u001b[38;5;241;43m/\u001b[39;49m\u001b[43m \u001b[49m\u001b[38;5;241;43m0\u001b[39;49m\n\u001b[1;32m      6\u001b[0m \u001b[38;5;28;01mexcept\u001b[39;00m \u001b[38;5;167;01mTypeError\u001b[39;00m:\n\u001b[1;32m      7\u001b[0m     \u001b[38;5;28mprint\u001b[39m(\u001b[38;5;124m\"\u001b[39m\u001b[38;5;124mCannot add an integer and string together!\u001b[39m\u001b[38;5;124m\"\u001b[39m)\n",
      "\u001b[0;31mZeroDivisionError\u001b[0m: division by zero"
     ]
    }
   ],
   "source": [
    "# Without handling unexpected exception\n",
    "\n",
    "x = 5\n",
    "try:\n",
    "    x / 0\n",
    "except TypeError:\n",
    "    print(\"Cannot add an integer and string together!\")   "
   ]
  },
  {
   "cell_type": "code",
   "execution_count": 47,
   "id": "3a32062d",
   "metadata": {
    "cell_id": "00019-ac8cb8eb-541e-46ed-9267-11a961d72538",
    "deepnote_cell_type": "code"
   },
   "outputs": [
    {
     "name": "stdout",
     "output_type": "stream",
     "text": [
      "Unexpected error\n"
     ]
    }
   ],
   "source": [
    "# Handling unexpected exception\n",
    "\n",
    "x = \"5\"\n",
    "try:\n",
    "    x / 0\n",
    "except ZeroDivisionError:\n",
    "    print(\"Cannot divide by zero!\")\n",
    "except:\n",
    "    print(\"Unexpected error\")"
   ]
  },
  {
   "cell_type": "markdown",
   "id": "c76d95f6",
   "metadata": {
    "cell_id": "00020-1f3d8978-4aaa-4872-a54a-8e137a236215",
    "deepnote_cell_type": "markdown"
   },
   "source": [
    "### Handling unexpected exceptions\n",
    "\n",
    "In the following example, user input is stored as two variables.  Depending on the input, different errors can be thrown. Look at the last except.  When an unexpected exception (`IndexError`) is raised, the last `except` clause handles it by displaying a friendly error message.  This is an easy way to catch all exceptions without clearly defining each one."
   ]
  },
  {
   "cell_type": "code",
   "execution_count": 51,
   "id": "7596c88c",
   "metadata": {
    "cell_id": "00021-f357086c-429e-4a20-8f6d-9ddbca21fdee",
    "deepnote_cell_type": "code"
   },
   "outputs": [
    {
     "name": "stdin",
     "output_type": "stream",
     "text": [
      "Please enter a number:  h\n",
      "Please enter a number:  5\n"
     ]
    },
    {
     "name": "stdout",
     "output_type": "stream",
     "text": [
      "Cannot divide strings\n",
      "Because of the try...except, this line runs even if an exception is thrown.\n"
     ]
    }
   ],
   "source": [
    "n = input(\"Please enter a number: \")\n",
    "d = input(\"Please enter a number: \")\n",
    "try:        \n",
    "    print(float(n) / float(d))\n",
    "    print(\"print executed\")\n",
    "except ValueError:\n",
    "    print(\"Cannot divide strings\")\n",
    "except Exception as ex:\n",
    "    print(ex)\n",
    "        \n",
    "print(\"Because of the try...except, this line runs even if an exception is thrown.\")\n",
    "        "
   ]
  },
  {
   "cell_type": "markdown",
   "id": "c9bc4b08",
   "metadata": {
    "cell_id": "00022-a6d92c1f-84a5-4012-bf60-6b74c26d90c5",
    "deepnote_cell_type": "markdown"
   },
   "source": [
    "### Handling exceptions raised by other functions\n",
    "The `sqrt` function from the `math` module expects a positive number for an argument. Passing a negative number to `sqrt` will raise a `ValueError` exception. The `sqrt` function doesn't handle the exception internally, so your code should handle it or raise it to an upper level."
   ]
  },
  {
   "cell_type": "code",
   "execution_count": 53,
   "id": "9216bdf4",
   "metadata": {
    "cell_id": "00023-aa441d37-66c5-48da-91b6-5c9e051b09ca",
    "deepnote_cell_type": "code"
   },
   "outputs": [
    {
     "ename": "ValueError",
     "evalue": "math domain error",
     "output_type": "error",
     "traceback": [
      "\u001b[0;31m---------------------------------------------------------------------------\u001b[0m",
      "\u001b[0;31mValueError\u001b[0m                                Traceback (most recent call last)",
      "Input \u001b[0;32mIn [53]\u001b[0m, in \u001b[0;36m<cell line: 5>\u001b[0;34m()\u001b[0m\n\u001b[1;32m      3\u001b[0m \u001b[38;5;28;01mfrom\u001b[39;00m \u001b[38;5;21;01mmath\u001b[39;00m \u001b[38;5;28;01mimport\u001b[39;00m sqrt\n\u001b[1;32m      4\u001b[0m x \u001b[38;5;241m=\u001b[39m \u001b[38;5;241m-\u001b[39m\u001b[38;5;241m3\u001b[39m\n\u001b[0;32m----> 5\u001b[0m \u001b[43msqrt\u001b[49m\u001b[43m(\u001b[49m\u001b[43mx\u001b[49m\u001b[43m)\u001b[49m\n",
      "\u001b[0;31mValueError\u001b[0m: math domain error"
     ]
    }
   ],
   "source": [
    "# Without exception handling\n",
    "\n",
    "from math import sqrt\n",
    "x = -3\n",
    "sqrt(x)"
   ]
  },
  {
   "cell_type": "code",
   "execution_count": 55,
   "id": "516c5fc3",
   "metadata": {
    "cell_id": "00024-c9f2dbb0-c81c-402f-96d6-6e613a5633f4",
    "deepnote_cell_type": "code"
   },
   "outputs": [
    {
     "name": "stdout",
     "output_type": "stream",
     "text": [
      "math domain error\n"
     ]
    }
   ],
   "source": [
    "# With exception handling\n",
    "\n",
    "from math import sqrt\n",
    "x = -3\n",
    "try:\n",
    "    sqrt(x)\n",
    "except ValueError as ex: # Storing the error message in exception_object\n",
    "    print(ex)"
   ]
  },
  {
   "cell_type": "code",
   "execution_count": 59,
   "id": "b86070bf",
   "metadata": {
    "cell_id": "36adea7f-db70-4e4f-b0d3-9d7a869f1a27",
    "deepnote_cell_type": "code",
    "tags": []
   },
   "outputs": [
    {
     "name": "stdin",
     "output_type": "stream",
     "text": [
      "Enter an integer:  o\n"
     ]
    },
    {
     "name": "stdout",
     "output_type": "stream",
     "text": [
      "That wasn't an integer!\n"
     ]
    }
   ],
   "source": [
    "\"\"\"\n",
    "This program tries to retrieve an integer from the user. If the user enters\n",
    "something other than an integer, the program handles it by printing an error.\n",
    "\"\"\"\n",
    "\n",
    "try:\n",
    "    my_number = int(input(\"Enter an integer: \"))\n",
    "    print(\"Your number: \" + str(my_number))\n",
    "except ValueError:\n",
    "    print(\"That wasn't an integer!\")"
   ]
  },
  {
   "cell_type": "markdown",
   "id": "83f30a54",
   "metadata": {
    "cell_id": "00025-0a3b6287-cb6b-404d-aff9-d7dbf7b847b6",
    "deepnote_cell_type": "markdown"
   },
   "source": [
    "---\n",
    "<font size=\"6\" color=\"#B24C00\"  face=\"verdana\"> <B>Task 4</B></font>\n",
    "\n",
    "### Handling Exceptions\n"
   ]
  },
  {
   "cell_type": "code",
   "execution_count": 63,
   "id": "f32fdcf5",
   "metadata": {
    "cell_id": "00026-69278ce4-4049-4268-832f-1ce458000f61",
    "deepnote_cell_type": "code"
   },
   "outputs": [
    {
     "name": "stdout",
     "output_type": "stream",
     "text": [
      "0.5555555555555556\n",
      "Cannot divide by zero!\n",
      "0.5\n",
      "An error has occured\n",
      "An error has occured\n",
      "The code is complete\n"
     ]
    }
   ],
   "source": [
    "# [ ] The following program attempts to calculate the ratio of first name length to last name length\n",
    "# The data_list represents the lengths of the first and last names of 4 people\n",
    "# However, some errors were made in the data and it is causing problems in the code\n",
    "# Use try-except to handle the known errors and return useful messages\n",
    "# Also use a general Except handler so that the code will run completely without error\n",
    "\n",
    "data_list = [[5,8,6,'Paul'],[9,0,12,'Davis']]\n",
    "\n",
    "for i in range(0,5):\n",
    "    try:\n",
    "        print(data_list[0][i] / data_list[1][i])\n",
    "    except ZeroDivisionError:\n",
    "        print(\"Cannot divide by zero!\")\n",
    "    except:\n",
    "        print(\"An error has occured\")\n",
    "    \n",
    "print(\"The code is complete\")\n"
   ]
  },
  {
   "cell_type": "code",
   "execution_count": 76,
   "id": "80aa27c6",
   "metadata": {
    "cell_id": "00027-966378e3-a73c-4324-a6e7-660a244ae091",
    "deepnote_cell_type": "code"
   },
   "outputs": [
    {
     "ename": "SyntaxError",
     "evalue": "invalid syntax (535219700.py, line 21)",
     "output_type": "error",
     "traceback": [
      "\u001b[0;36m  Input \u001b[0;32mIn [78]\u001b[0;36m\u001b[0m\n\u001b[0;31m    print(def_age)\u001b[0m\n\u001b[0m    ^\u001b[0m\n\u001b[0;31mSyntaxError\u001b[0m\u001b[0;31m:\u001b[0m invalid syntax\n"
     ]
    }
   ],
   "source": [
    "# The following program asks the user for their name and age.\n",
    "# If the user enters an invalid value for age, the program should terminate.\n",
    "# Use exception handling to deal with unexpected user input and display a meaningful message.\n",
    "\n",
    "# Ask user for name and age.\n",
    "# Enter default value for age in case they do not enter an integer\n",
    "name = input(\"Enter your name: \")\n",
    "age = input(\"Enter your age: \")\n",
    "def_age = 50\n",
    "\n",
    "# [ ] Use try...except to check for a valid age\n",
    "try:\n",
    "    age = int(age)\n",
    "    print(name)\n",
    "    print(age)\n",
    "\n",
    "# [ ] Print name and age, using default age if user did not enter an integer\n",
    "except:\n",
    "    print(\"Age is not an int, reverting to average age\")\n",
    "    print(name)\n",
    "    print(def_age)\n"
   ]
  },
  {
   "cell_type": "markdown",
   "id": "21189974",
   "metadata": {
    "cell_id": "00028-522a748d-1ded-4998-bc62-3e002450be4f",
    "deepnote_cell_type": "markdown"
   },
   "source": [
    "---\n",
    "<font size=\"6\" color=\"#00A0B2\"  face=\"verdana\"> <B>Concepts</B></font>  \n",
    "\n",
    "\n",
    "## `else` and `finally`\n",
    "[view video](https://youtu.be/rX7l5UtrPBQ)\n",
    "\n",
    "#### `else`\n",
    "\n",
    "Occasionally, you might want to run some code when a `try` statement does not raise an exception. This can be achieved using the optional `else` statement. The code block within the `else` statement will be executed when the code reaches the end of the `try` code block without raising any exceptions. \n",
    "\n",
    "Use the following syntax for an `else` clause:\n",
    "\n",
    "```python\n",
    "try:\n",
    "    code that may raise an exception\n",
    "except ExceptionType_1:\n",
    "    code block to handle exception of type ExceptionType_1\n",
    "except ExceptionType_2:\n",
    "    code block to handle exception of type ExceptionType_2\n",
    "except:\n",
    "    code block to handle unexpected exceptions of any type\n",
    "else:\n",
    "    code block to run when no exceptions were raised\n",
    "```\n",
    "\n",
    "#### `finally`\n",
    "\n",
    "Sometimes you need to execute some code whether or not an exception has been raised. The optional `finally` clause can handle this situation and run a code block whenever you exit a `try...except` statement. The code block within the `finally` statement will be executed in the following situations: when an exception has been raised, upon reaching the end of the `try` statement without raising an exception, and when exiting a `try` statement by using `break`, `continue`, or `return`.\n",
    "\n",
    "`finally` is typically used for clean-up actions, i.e. releasing external resources such as files or network connections.\n",
    "\n",
    "Use the following syntax for a `finally` clause:\n",
    "\n",
    "```python\n",
    "try:\n",
    "    code that may raise an exception\n",
    "except ExceptionType_1:\n",
    "    code block to handle exception of type ExceptionType_1\n",
    "except ExceptionType_2:\n",
    "    code block to handle exception of type ExceptionType_2\n",
    "except:\n",
    "    code block to handle unexpected exceptions of any type\n",
    "finally:\n",
    "    code that will always execute whether an exception was raised or not\n",
    "```\n",
    "\n",
    "NOTE: Though Python allows you to use an `else` clause followed by a `finally` clause, the code generated will be difficult to understand and you should avoid using these two clauses together.\n"
   ]
  },
  {
   "cell_type": "markdown",
   "id": "aa683964",
   "metadata": {
    "cell_id": "00029-a66eac47-0214-46f0-b399-e01c2a2958fe",
    "deepnote_cell_type": "markdown"
   },
   "source": [
    "---\n",
    "<font size=\"6\" color=\"#00A0B2\"  face=\"verdana\"> <B>Examples</B></font>\n",
    "\n",
    "### `else`\n",
    "In this example, the code performs 3 &divide; 2 successfully and without exceptions. Therefore, the `else` clause will be executed, displaying the \"All good\" message."
   ]
  },
  {
   "cell_type": "code",
   "execution_count": 80,
   "id": "ca09fc33",
   "metadata": {
    "cell_id": "00030-6c3805fa-27b5-47e0-80a6-e76bca05b3eb",
    "deepnote_cell_type": "code"
   },
   "outputs": [
    {
     "name": "stdout",
     "output_type": "stream",
     "text": [
      "1.5\n",
      "All good! No exceptions were raised.\n"
     ]
    }
   ],
   "source": [
    "x = 3\n",
    "y = 2\n",
    "try:\n",
    "    print(x/y)\n",
    "except ZeroDivisionError:\n",
    "    print(\"Cannot divide by zero\")\n",
    "else:\n",
    "    print(\"All good! No exceptions were raised.\")"
   ]
  },
  {
   "cell_type": "markdown",
   "id": "3136dac2",
   "metadata": {
    "cell_id": "00031-f17f589a-7145-49bc-88d0-169a13fd7f48",
    "deepnote_cell_type": "markdown"
   },
   "source": [
    "### `finally`\n",
    "In the following examples, the code performs 3 &divide; 2, which does NOT raise an exception, and then performs 3 &divide; 0, which does raise an exception. In both cases, the `finally` clause will be executed."
   ]
  },
  {
   "cell_type": "code",
   "execution_count": 82,
   "id": "0a1be83a",
   "metadata": {
    "cell_id": "00032-77723194-39a4-4ad1-ad8e-1c40339b3ae8",
    "deepnote_cell_type": "code"
   },
   "outputs": [
    {
     "name": "stdout",
     "output_type": "stream",
     "text": [
      "1.5\n",
      "Code that will run whether an exception was raised or not\n"
     ]
    }
   ],
   "source": [
    "x = 3\n",
    "y = 2\n",
    "try:\n",
    "    print(x/y)\n",
    "except ZeroDivisionError:\n",
    "    print(\"Cannot divide by zero\")\n",
    "finally:\n",
    "    print(\"Code that will run whether an exception was raised or not\")"
   ]
  },
  {
   "cell_type": "code",
   "execution_count": 84,
   "id": "ddd80cf4",
   "metadata": {
    "cell_id": "00033-e19ad5c7-c01a-478c-9d27-4a20712f7cfd",
    "deepnote_cell_type": "code"
   },
   "outputs": [
    {
     "name": "stdout",
     "output_type": "stream",
     "text": [
      "Cannot divide by zero\n",
      "Code that will run whether an exception was raised or not\n"
     ]
    }
   ],
   "source": [
    "x = 3\n",
    "y = 0\n",
    "try:\n",
    "    print(x/y)\n",
    "except ZeroDivisionError:\n",
    "    print(\"Cannot divide by zero\")\n",
    "finally:\n",
    "    print(\"Code that will run whether an exception was raised or not\")"
   ]
  },
  {
   "cell_type": "markdown",
   "id": "c0d8ba89",
   "metadata": {
    "cell_id": "00034-79789037-f383-4680-b345-b0c1eb7a9e07",
    "deepnote_cell_type": "markdown"
   },
   "source": [
    "---\n",
    "<font size=\"6\" color=\"#B24C00\"  face=\"verdana\"> <B>Task 5</B></font>\n",
    "\n",
    "### `else` and `finally`"
   ]
  },
  {
   "cell_type": "markdown",
   "id": "0224e0c8",
   "metadata": {
    "cell_id": "00035-f60074b6-d325-44af-89ad-4e2993d89b53",
    "deepnote_cell_type": "markdown"
   },
   "source": [
    "### `else`"
   ]
  },
  {
   "cell_type": "code",
   "execution_count": 92,
   "id": "f07894fd",
   "metadata": {
    "cell_id": "00036-d4e19667-d7ab-480f-af4a-c4a78adbb5cc",
    "deepnote_cell_type": "code"
   },
   "outputs": [
    {
     "name": "stdin",
     "output_type": "stream",
     "text": [
      "Enter an integer:  3\n"
     ]
    },
    {
     "name": "stdout",
     "output_type": "stream",
     "text": [
      "1.5\n"
     ]
    }
   ],
   "source": [
    "# The following program asks the user for an integer `x` then assigns `y` as the result of dividing `x` by 2.\n",
    "# If the user enters an invalid value (i.e. \"4.3\" or \"Hello\"), the program terminates.\n",
    "# [ ] Use exception handling to deal with unexpected user inputs, then use an `else` clause to print the value of `y`.\n",
    "\n",
    "\n",
    "x = input(\"Enter an integer: \")\n",
    "try:\n",
    "    x = int(x)\n",
    "    y = x / 2\n",
    "except:\n",
    "    print(\"Invalid input\")\n",
    "else:\n",
    "    print(y)\n",
    "\n"
   ]
  },
  {
   "cell_type": "markdown",
   "id": "96d39ee3",
   "metadata": {
    "cell_id": "00037-4b96d854-1c67-43ea-95f6-debe35b4aca2",
    "deepnote_cell_type": "markdown"
   },
   "source": [
    "### `finally`"
   ]
  },
  {
   "cell_type": "code",
   "execution_count": 94,
   "id": "4e7e37af",
   "metadata": {
    "cell_id": "00038-73c7b2b7-ced1-4b58-9d88-5f3ff35ec5f1",
    "deepnote_cell_type": "code"
   },
   "outputs": [
    {
     "name": "stdin",
     "output_type": "stream",
     "text": [
      "Enter an integer:  5\n"
     ]
    },
    {
     "name": "stdout",
     "output_type": "stream",
     "text": [
      "2.5\n",
      "Goodbye\n"
     ]
    }
   ],
   "source": [
    "# [ ] Use the previous code and add a 'finally' clause to have the program tell the user goodbye.\n",
    "x = input(\"Enter an integer: \")\n",
    "try:\n",
    "    x = int(x)\n",
    "    y = x / 2\n",
    "except:\n",
    "    print(\"Invalid input\")\n",
    "else:\n",
    "    print(y)\n",
    "finally:\n",
    "    print(\"Goodbye\")\n"
   ]
  },
  {
   "cell_type": "markdown",
   "id": "7cf116ad",
   "metadata": {
    "cell_id": "520e66ee-fd69-422b-8152-f9c49ebde5db",
    "deepnote_cell_type": "markdown",
    "tags": []
   },
   "source": [
    "# Topic 2 - Standard Output\n",
    "\n",
    "**Print Formatting**\n",
    "- `print()` function options and syntax\n",
    "\n",
    "**String Formatting Methods**\n",
    "- methods to evaluate and alter strings\n",
    "\n",
    "**Advanced String Formatting**\n",
    "- using .format() string method and creating f-style strings\n"
   ]
  },
  {
   "cell_type": "markdown",
   "id": "61664ce9",
   "metadata": {
    "cell_id": "00001-ce7893f0-c27d-4aca-89be-e239a679c452",
    "deepnote_cell_type": "markdown"
   },
   "source": [
    "## Concept: Print Formatting\n",
    "\n",
    "- Using **commas** to combine literals, variables or expressions in output\n",
    "\n",
    "Use commas to insert multiple literals, variables or expressions in your print output.  Wherever Python encounters a comma inside the parenthesis, it add a space to the output. Each of the literals, variables or expressions will be printed in the order in which they appear.  Unlike string addition, you do not need to cast all items to the float type\n",
    "\n",
    "- Using **string addition** to customize output\n",
    "\n",
    "String addition simply creates one long string consisting of the elements you add to it using the (+) operator.  Note that you can only add strings to a string, so any other data type will need to be cast to string for this to work without error."
   ]
  },
  {
   "cell_type": "markdown",
   "id": "a834f1a7",
   "metadata": {
    "cell_id": "00002-ab7b893b-d621-4757-8c88-31cca46a202e",
    "deepnote_cell_type": "markdown"
   },
   "source": [
    "### Examples"
   ]
  },
  {
   "cell_type": "code",
   "execution_count": 96,
   "id": "42c9254b",
   "metadata": {
    "cell_id": "00003-8ffc5e46-e88d-44a9-b424-b113c0f6f661",
    "collapsed": false,
    "deepnote_cell_type": "code",
    "jupyter": {
     "outputs_hidden": false
    }
   },
   "outputs": [
    {
     "name": "stdout",
     "output_type": "stream",
     "text": [
      "My name is Collette and I am 37 years old.\n",
      "My name is Collette and I am 37 years old.\n",
      "In 10 years, Collette will be 47 years old!\n"
     ]
    }
   ],
   "source": [
    "# review and run code\n",
    "\n",
    "name = \"Collette\"\n",
    "age = 37\n",
    "\n",
    "# string addition - notice the use of spaces in the string segments\n",
    "# also notice that age must be cast from integer to string for this to work\n",
    "print(\"My name is \" + name + \" and I am \" + str(age) + \" years old.\")\n",
    "\n",
    "# comma separation formatting - notice the commas add the space for you\n",
    "# also notice that we did not have to cast the age variable to string\n",
    "print(\"My name is\", name, \"and I am\", age, \"years old.\")\n",
    "\n",
    "# Here is an example using an expression inside of the print function\n",
    "print(\"In 10 years,\", name, \"will be\", age+10, \"years old!\")"
   ]
  },
  {
   "cell_type": "markdown",
   "id": "fc0df5f3",
   "metadata": {
    "cell_id": "00004-3d9aa176-f487-4026-8f1a-87d0496651d4",
    "deepnote_cell_type": "markdown"
   },
   "source": [
    "<font size=\"6\" color=\"#B24C00\"  face=\"verdana\"> <B>Task 6</B></font>\n",
    "\n",
    "**Print 3 strings on the same line using commas inside the print() function.**"
   ]
  },
  {
   "cell_type": "code",
   "execution_count": 98,
   "id": "34710341",
   "metadata": {
    "cell_id": "00005-e10e83ad-c827-44bb-b353-ddc4df533f1f",
    "collapsed": false,
    "deepnote_cell_type": "code",
    "jupyter": {
     "outputs_hidden": false
    }
   },
   "outputs": [
    {
     "name": "stdout",
     "output_type": "stream",
     "text": [
      "Running is hard because you lose energy and get very hot\n"
     ]
    }
   ],
   "source": [
    "# [ ] print 3 strings on the same line using commas inside the print() function \n",
    "print(\"Running is hard \" + \"because you lose energy \" + \"and get very hot\")"
   ]
  },
  {
   "cell_type": "markdown",
   "id": "9a38ead1",
   "metadata": {
    "cell_id": "00010-78cde70f-8199-40d2-9528-292b51ce31fd",
    "deepnote_cell_type": "markdown"
   },
   "source": [
    "<font size=\"6\" color=\"#B24C00\"  face=\"verdana\"> <B>Task 7</B></font>\n",
    "\n",
    "**Use a print() function with comma separation to combine 2 numbers and 2 strings**"
   ]
  },
  {
   "cell_type": "code",
   "execution_count": 106,
   "id": "9dcf4f70",
   "metadata": {
    "cell_id": "00011-75b1e1ae-90e2-43fe-a1fa-2a2c95fed5f8",
    "collapsed": false,
    "deepnote_cell_type": "code",
    "jupyter": {
     "outputs_hidden": false
    }
   },
   "outputs": [
    {
     "name": "stdout",
     "output_type": "stream",
     "text": [
      "I ran 2 days ago for 15 miles.\n"
     ]
    }
   ],
   "source": [
    "# [ ] use a print() function with comma separation to combine 2 numbers and 2 strings\n",
    "print(\"I ran\", 2, \"days ago for\", 15, \"miles.\")"
   ]
  },
  {
   "cell_type": "markdown",
   "id": "2942f5d6",
   "metadata": {
    "cell_id": "00012-3483f879-11ba-46fd-979f-92a49c2faa84",
    "deepnote_cell_type": "markdown"
   },
   "source": [
    "<font size=\"6\" color=\"#B24C00\"  face=\"verdana\"> <B>Task 8</B></font>\n",
    "\n",
    "**print() comma separated mixing of strings and variables**  \n",
    "  \n",
    "**Display text describing an address, made from strings and variables of different types**\n",
    "- Initialize variables with input()\n",
    "  - street\n",
    "  - st_number\n",
    "- Display a message about the street and street number using comma separation formatting\n",
    "\n",
    "Example Output: \"Steve lives at 301 Carlton Avenue\""
   ]
  },
  {
   "cell_type": "code",
   "execution_count": 1,
   "id": "fa8ebf52",
   "metadata": {
    "cell_id": "00013-ec7a5016-dc49-442c-9326-b8412fcb4089",
    "collapsed": false,
    "deepnote_cell_type": "code",
    "jupyter": {
     "outputs_hidden": false
    }
   },
   "outputs": [
    {
     "name": "stdin",
     "output_type": "stream",
     "text": [
      "Enter your street:  king Charles\n",
      "Enter your street number:  1208\n"
     ]
    },
    {
     "name": "stdout",
     "output_type": "stream",
     "text": [
      "You live at 1208 king Charles\n"
     ]
    }
   ],
   "source": [
    "# [ ] get user input for a street name in the variable, street\n",
    "street = input(\"Enter your street: \")\n",
    "# [ ] get user input for a street number in the variable, st_number\n",
    "st_number = int(input(\"Enter your street number: \"))\n",
    "# [ ] display a message about the street and st_number\n",
    "print(\"You live at\", st_number, street)"
   ]
  },
  {
   "cell_type": "markdown",
   "id": "ae237893",
   "metadata": {
    "cell_id": "00014-e2883ab8-24b6-4db6-a097-a3bab0761f0e",
    "deepnote_cell_type": "markdown"
   },
   "source": [
    "<font size=\"6\" color=\"#B24C00\"  face=\"verdana\"> <B>Task 9</B></font>\n",
    "\n",
    "**`print()` number, strings, variables**\n",
    "- [ ] Display text made from combining a variable, a literal string and a number"
   ]
  },
  {
   "cell_type": "code",
   "execution_count": 7,
   "id": "feb0c65c",
   "metadata": {
    "cell_id": "00015-43ece7a3-49bf-4bb7-9270-8c07b45c1378",
    "collapsed": false,
    "deepnote_cell_type": "code",
    "jupyter": {
     "outputs_hidden": false
    }
   },
   "outputs": [
    {
     "name": "stdout",
     "output_type": "stream",
     "text": [
      "My var is: 28.6 and a number is: 7\n"
     ]
    }
   ],
   "source": [
    "# [ ] define a variable with a string or numeric value\n",
    "myVar = 28.6\n",
    "# [ ] display a message combining the variable, 1 or more literal strings and a number\n",
    "print(\"My var is:\", myVar, \"and a number is:\", 7)"
   ]
  },
  {
   "cell_type": "markdown",
   "id": "bb193d88",
   "metadata": {
    "cell_id": "00016-67620900-e330-44ff-971a-ee964ab2ec1e",
    "deepnote_cell_type": "markdown"
   },
   "source": [
    "<font size=\"6\" color=\"#B24C00\"  face=\"verdana\"> <B>Task 10</B></font>\n",
    "\n",
    "Create a program that prints out a reservation for a training class. Gather the name of the party, the number attending and the time using input from the user. Use an escape code to create a new line so the second part of your output prints on a new line.\n",
    ">**Example** of what input/output might look like:\n",
    "```\n",
    "Enter name for contact person for training group: Hiroto Yamaguchi  \n",
    "Enter the total number attending the course: 7  \n",
    "Enter the training time selected: 3:25 PM  \n",
    "------------------------------  \n",
    "Reminder: Training is scheduled at 3:25 PM for the Hiroto Yamaguchi group of 7 attendees.  \n",
    "Please arrive 10 minutes early for the first class.  \n",
    "```  \n",
    "  \n",
    "Design and create your own reminder style.  \n",
    "- **[ ]** Get user input for variables.\n",
    "  - **owner**: name of person the reservation is for  \n",
    "  - **num_people**: how many are attending  \n",
    "  - **training_time**: class time\n",
    "- **[ ]** Create an integer variable **min_early**: number of minutes early the party should arrive.\n",
    "- **[ ]** Using comma separation, print reminder text.\n",
    "  - Use all of the variables in the text\n",
    "  - Use additional strings as needed\n",
    "  - Use an escape code and newline character to format message on multiple lines"
   ]
  },
  {
   "cell_type": "code",
   "execution_count": 109,
   "id": "12a12b21",
   "metadata": {
    "cell_id": "00017-ad066619-4a44-4b2c-aae1-6a4f4aa97f72",
    "collapsed": false,
    "deepnote_cell_type": "code",
    "jupyter": {
     "outputs_hidden": false
    }
   },
   "outputs": [
    {
     "name": "stdin",
     "output_type": "stream",
     "text": [
      "Enter name for contact person for training group:  he\n",
      "Enter the total number attending the course:  hr\n",
      "Enter the training time selected:  hr\n"
     ]
    },
    {
     "name": "stdout",
     "output_type": "stream",
     "text": [
      "--------------------------------------------- \n",
      "Reminder: Training is scheduled at hr for the he group of hr attendees.\n",
      "Please arrive 15 minutes early for the first class.\n"
     ]
    }
   ],
   "source": [
    "# [ ] get input for variables: owner, num_people, training_time  - use descriptive prompt text\n",
    "owner = input(\"Enter name for contact person for training group: \")\n",
    "num_people = input(\"Enter the total number attending the course: \")\n",
    "training_time = input(\"Enter the training time selected: \")\n",
    "# [ ] create an integer variable min_early and \"hard code\" the integer value (e.g.  5, 10 or 15)\n",
    "min_early = 15\n",
    "# [ ] print reminder text using all variables & add additional strings -  use comma separated print formatting\n",
    "print(('-'*45),\"\\nReminder: Training is scheduled at\", training_time, \"for the\", owner, \"group of\", num_people, \"attendees.\"\"\\nPlease arrive\", min_early, \"minutes early for the first class.\")\n"
   ]
  },
  {
   "cell_type": "markdown",
   "id": "7aa79f60",
   "metadata": {
    "cell_id": "00001-971bb29c-c7dd-4d2c-a43e-88eb5a4c44dd",
    "deepnote_cell_type": "markdown"
   },
   "source": [
    "## Concept: String Formatting Methods\n",
    "[view video](https://youtu.be/GGjBkIFRBwA)\n",
    "The following methods are applied to string objects:\n",
    "- **.capitalize()** - capitalizes the first character of a string\n",
    "- **.lower()** - all characters of a string are made lowercase\n",
    "- **.upper()** - all characters of a string are made uppercase\n",
    "- **.swapcase()** - all characters of a string are made to switch case upper becomes lower and vice versa  \n",
    "- **.title()** - each 'word' separated by a space is capitalized"
   ]
  },
  {
   "cell_type": "markdown",
   "id": "2d72c750",
   "metadata": {
    "cell_id": "00002-3d6361bd-52ce-4e19-82e2-48f08e407da1",
    "deepnote_cell_type": "markdown"
   },
   "source": [
    "### Examples"
   ]
  },
  {
   "cell_type": "code",
   "execution_count": null,
   "id": "54a39f64",
   "metadata": {},
   "outputs": [],
   "source": [
    "print(\"andrew\".capitalize())"
   ]
  },
  {
   "cell_type": "code",
   "execution_count": null,
   "id": "605f2669",
   "metadata": {
    "cell_id": "00003-f81874b6-aa20-456e-b59d-177390530650",
    "collapsed": false,
    "deepnote_cell_type": "code",
    "jupyter": {
     "outputs_hidden": false
    }
   },
   "outputs": [],
   "source": [
    "print(\"catcher in the rye\".title())"
   ]
  },
  {
   "cell_type": "code",
   "execution_count": 110,
   "id": "b62e7fdd",
   "metadata": {
    "cell_id": "00004-9342154c-1abd-4f66-9055-add5629f854d",
    "collapsed": false,
    "deepnote_cell_type": "code",
    "jupyter": {
     "outputs_hidden": false
    }
   },
   "outputs": [
    {
     "name": "stdout",
     "output_type": "stream",
     "text": [
      "Green green and GREEN!\n"
     ]
    }
   ],
   "source": [
    "fav_color = \"green\"\n",
    "print(fav_color.capitalize(), fav_color,\"and\", fav_color.upper()+\"!\")"
   ]
  },
  {
   "cell_type": "code",
   "execution_count": null,
   "id": "934ae389",
   "metadata": {},
   "outputs": [],
   "source": [
    "new_color = \"Blue\"\n",
    "print(new_color.swapcase())"
   ]
  },
  {
   "cell_type": "markdown",
   "id": "f9573223",
   "metadata": {
    "cell_id": "00005-8a99ad40-d60c-4909-86a6-665fcbffea39",
    "deepnote_cell_type": "markdown",
    "tags": []
   },
   "source": [
    "<font size=\"6\" color=\"#B24C00\"  face=\"verdana\"> <B>Task 11 - Part 1</B></font>\n",
    "\n",
    "- [ ] Format strings with `.capitalize(), .lower(), .upper(), .swapcase()` methods\n",
    "- [ ] Use **input()** function to get the value of variable `fav_food`\n",
    "- [ ] Use **print()** function to display results\n"
   ]
  },
  {
   "cell_type": "code",
   "execution_count": 20,
   "id": "cd8040f8",
   "metadata": {
    "cell_id": "00006-d766018e-d259-4d79-a853-d251c41d1a90",
    "collapsed": false,
    "deepnote_cell_type": "code",
    "jupyter": {
     "outputs_hidden": false
    }
   },
   "outputs": [
    {
     "name": "stdin",
     "output_type": "stream",
     "text": [
      "What's your favorite food?  green eggs and ham\n"
     ]
    },
    {
     "name": "stdout",
     "output_type": "stream",
     "text": [
      "Your favorite food is: GREEN EGGS AND HAM\n",
      "Your favorite food is: green eggs and ham\n",
      "Your favorite food is: GREEN EGGS AND HAM\n",
      "Your favorite food is: Green eggs and ham\n"
     ]
    }
   ],
   "source": [
    "# [ ] get input for a variable, fav_food, that describes a favorite food\n",
    "fav_food = input(\"What's your favorite food? \")\n",
    "\n",
    "# [ ] display fav_food as ALL CAPS, used in a sentence\n",
    "print(\"Your favorite food is:\", fav_food.upper())\n",
    "\n",
    "# [ ] dispaly fav_food as all lower case, used in a sentence\n",
    "print(\"Your favorite food is:\", fav_food.lower())\n",
    "\n",
    "# [] display fav_food with swapped case, used in a sentence\n",
    "print(\"Your favorite food is:\", fav_food.swapcase())\n",
    "\n",
    "# [] display fav_food with capitalization, used in a sentence\n",
    "print(\"Your favorite food is:\", fav_food.capitalize())\n"
   ]
  },
  {
   "cell_type": "markdown",
   "id": "e068dfea",
   "metadata": {},
   "source": [
    "<font size=\"6\" color=\"#B24C00\"  face=\"verdana\"> <B>Task 11 - Part 2</B></font>"
   ]
  },
  {
   "cell_type": "code",
   "execution_count": 45,
   "id": "c4c8b867",
   "metadata": {
    "cell_id": "00007-eda6d7f9-f796-4c46-a7b8-e16c1eeaf191",
    "collapsed": false,
    "deepnote_cell_type": "code",
    "jupyter": {
     "outputs_hidden": false
    }
   },
   "outputs": [
    {
     "name": "stdout",
     "output_type": "stream",
     "text": [
      "Your favorite color is: FOREST GREEN \n",
      "Your favorite color is: forest green \n",
      "Your favorite color is: fOREST gREEN \n",
      "Your favorite color is: Forest green\n"
     ]
    }
   ],
   "source": [
    "\n",
    "fav_color = \"Forest Green\"\n",
    "# [] display the fav_color variable as upper, lower, swapcase, and capitalize formatting\n",
    "# Do this in a single print() statement\n",
    "# Hint: What character allows you to 'string' together multiple strings/variables in a print()?\n",
    "print(\"Your favorite color is:\",fav_color.upper(),\"\\nYour favorite color is:\",fav_color.lower(),\"\\nYour favorite color is:\",fav_color.swapcase(),\"\\nYour favorite color is:\",fav_color.capitalize())\n",
    "\n"
   ]
  },
  {
   "cell_type": "markdown",
   "id": "6906d23b",
   "metadata": {
    "cell_id": "00008-a0cedb8a-61e2-4b6e-aca8-3d3afafe2d32",
    "deepnote_cell_type": "markdown"
   },
   "source": [
    "## Concept: Formatting String Input()\n",
    "\n",
    "[view video](https://youtu.be/qv1lFJQ1M6I)\n",
    "\n",
    "When storing input, sometimes a specific format is needed and formatting is applied to the **`input()`** function.\n",
    "> **Note:** this technique overwrites the original user input in the variable with the formatted value "
   ]
  },
  {
   "cell_type": "markdown",
   "id": "b5600fbd",
   "metadata": {
    "cell_id": "00009-abcbdd39-c777-4212-8c21-acc27ec79fc0",
    "deepnote_cell_type": "markdown"
   },
   "source": [
    "### Example"
   ]
  },
  {
   "cell_type": "code",
   "execution_count": 49,
   "id": "00284afd",
   "metadata": {
    "cell_id": "00010-662e545b-eeea-4e4d-bdcf-ae4465ee3d34",
    "collapsed": false,
    "deepnote_cell_type": "code",
    "jupyter": {
     "outputs_hidden": false
    }
   },
   "outputs": [
    {
     "name": "stdin",
     "output_type": "stream",
     "text": [
      "What is your favorite color?:  RED\n"
     ]
    },
    {
     "name": "stdout",
     "output_type": "stream",
     "text": [
      "red\n"
     ]
    }
   ],
   "source": [
    "# review and run code - test a capitalized color input\n",
    "fav_color = input('What is your favorite color?: ').lower()\n",
    "print(fav_color)\n"
   ]
  },
  {
   "cell_type": "markdown",
   "id": "c79fdda1",
   "metadata": {
    "cell_id": "00011-2525b9f3-2d81-498e-a850-421a77ee8e57",
    "deepnote_cell_type": "markdown"
   },
   "source": [
    "<font size=\"6\" color=\"#B24C00\"  face=\"verdana\"> <B>Task 12</B></font>\n",
    "\n",
    " \n",
    "### [ ] format &nbsp; ` input()` with ` .upper()`"
   ]
  },
  {
   "cell_type": "code",
   "execution_count": 51,
   "id": "e0e8abb7",
   "metadata": {
    "cell_id": "00012-0a72914b-702e-4dcd-b744-fd6e2903bd42",
    "collapsed": false,
    "deepnote_cell_type": "code",
    "jupyter": {
     "outputs_hidden": false
    }
   },
   "outputs": [
    {
     "name": "stdin",
     "output_type": "stream",
     "text": [
      "What is your favorite color?  blue\n"
     ]
    },
    {
     "name": "stdout",
     "output_type": "stream",
     "text": [
      "BLUE\n"
     ]
    }
   ],
   "source": [
    "# [] input variable fav_color as upper\n",
    "fav_color = input(\"What is your favorite color? \").upper()\n",
    "\n",
    "# [] print fav_color\n",
    "print(fav_color)\n"
   ]
  },
  {
   "cell_type": "markdown",
   "id": "f43f961c",
   "metadata": {
    "cell_id": "00013-fea32cd5-c490-47fd-8ba8-3f10ac7ee8c2",
    "deepnote_cell_type": "markdown"
   },
   "source": [
    "## Concept: Boolean `in` Keyword \n",
    "\n",
    "[view video](https://youtu.be/5XuC98EQYsE)\n",
    "\n",
    "In programming, a keyword is a “reserved word” by the language which conveys special meaning to the interpreter. It may be a command or a parameter. Keywords cannot be used as a variable name in your code - you will get a syntax error if you do. Python language also reserves some of the keywords that convey special meaning. In Python, keywords are case sensitive.\n",
    "\n",
    "For more information about Python keywords, check out this [webpage](https://realpython.com/python-keywords/).\n",
    "\n",
    "`in` Keyword:\n",
    "The `in` keyword has two purposes:\n",
    "\n",
    "- To check if a value is present in a list, tuple, range, string, etc. (we will learn about these later)\n",
    "- To iterate through a sequence in a for loop.\n",
    "\n",
    "In these examples and tasks, we will be learning how to use the `in` keyword to identify if a particular string is present in a target string.  The `in` keyword will return a Boolean result - `True` if the value is present and `False` if it is not.  The `in` keyword can be used to check of the presence of other data types, but today we are just using it to check for the presence of particular characters inside of strings.\n",
    "\n",
    "### Comparing strings is case sensitive\n",
    "`'Hello'` is not the same as `'hello'`"
   ]
  },
  {
   "cell_type": "markdown",
   "id": "bc35efcf",
   "metadata": {
    "cell_id": "00014-aac5f356-80cb-41d5-b17f-ab3b8cff36c7",
    "deepnote_cell_type": "markdown"
   },
   "source": [
    "### Examples\n",
    "\n",
    "Notice in the examples below the importance of case when using `in` to test for particular strings"
   ]
  },
  {
   "cell_type": "code",
   "execution_count": 53,
   "id": "26edf484",
   "metadata": {
    "cell_id": "00015-f241112e-7dfa-4dd6-b2ea-67c2b7d9d855",
    "collapsed": false,
    "deepnote_cell_type": "code",
    "jupyter": {
     "outputs_hidden": false
    },
    "scrolled": true
   },
   "outputs": [
    {
     "name": "stdout",
     "output_type": "stream",
     "text": [
      "True\n",
      "False\n"
     ]
    }
   ],
   "source": [
    "# review and run code to test if a string is to be found in another string\n",
    "menu = \"salad, pasta, sandwich, pizza, drinks, dessert\"\n",
    "print('pizza' in menu)\n",
    "print('Pizza' in menu)"
   ]
  },
  {
   "cell_type": "code",
   "execution_count": 55,
   "id": "491e9dd7",
   "metadata": {
    "cell_id": "00016-c071d87c-61b3-428f-9b71-80155e51a47e",
    "deepnote_cell_type": "code",
    "tags": []
   },
   "outputs": [
    {
     "name": "stdout",
     "output_type": "stream",
     "text": [
      "'hello' in greeting =  False\n",
      "'Hello' in greeting =  True\n"
     ]
    }
   ],
   "source": [
    "# review and run code to test case sensitive examples \n",
    "greeting = \"Hello World!\"\n",
    "print(\"'hello' in greeting = \",'hello' in greeting)\n",
    "print(\"'Hello' in greeting = \", 'Hello' in greeting)"
   ]
  },
  {
   "cell_type": "markdown",
   "id": "ace71666",
   "metadata": {
    "cell_id": "00017-02707a12-8c7e-4bc7-a181-6f825462aad2",
    "deepnote_cell_type": "markdown"
   },
   "source": [
    "Example below: **Remove case sensitivity from a string comparison**"
   ]
  },
  {
   "cell_type": "code",
   "execution_count": 57,
   "id": "ffe7d668",
   "metadata": {
    "cell_id": "00018-54688429-889a-4555-953a-db43a3a1f0e0",
    "deepnote_cell_type": "code",
    "tags": []
   },
   "outputs": [
    {
     "name": "stdout",
     "output_type": "stream",
     "text": [
      "'hello' in greeting =  False\n",
      "'Hello' in greeting =  True\n",
      "'hello' in greeting if lower used =  True\n"
     ]
    }
   ],
   "source": [
    "# review and run code to test removing case sensitivity from a string comparison\n",
    "greeting = \"Hello World!\"\n",
    "print(\"'hello' in greeting = \",'hello' in greeting)\n",
    "print(\"'Hello' in greeting = \", 'Hello' in greeting)\n",
    "print(\"'hello' in greeting if lower used = \", 'hello' in greeting.lower())"
   ]
  },
  {
   "cell_type": "markdown",
   "id": "978fb223",
   "metadata": {
    "cell_id": "00019-4c8e8a60-c1f9-4553-8a2c-0aef0cfbe7e3",
    "deepnote_cell_type": "markdown"
   },
   "source": [
    "<font size=\"6\" color=\"#B24C00\"  face=\"verdana\"> <B>Task 13 - Multi-Part</B></font>\n",
    "\n",
    "\n",
    "**[ ] Add code below** testing the **`menu`** string variable for `'pizza'`, `'soup'`, and `'dessert'` using keyword **`in`**\n",
    "- Print each test on a separate line\n",
    "- Include a description string for each test (e.g. - \"`Pizza in menu = True`\")"
   ]
  },
  {
   "cell_type": "code",
   "execution_count": 61,
   "id": "1fbf0311",
   "metadata": {
    "cell_id": "00020-b42cceb1-19af-4f80-9c5e-168a74766804",
    "collapsed": false,
    "deepnote_cell_type": "code",
    "jupyter": {
     "outputs_hidden": false
    }
   },
   "outputs": [
    {
     "name": "stdout",
     "output_type": "stream",
     "text": [
      "pizza in menu = True\n",
      "soup in menu = False\n",
      "dessert in menu = True\n"
     ]
    }
   ],
   "source": [
    "# [] print 3 tests, with description text, testing the menu variable for 'pizza', 'soup' and 'dessert'\n",
    "menu = \"salad, pasta, sandwich, pizza, drinks, dessert\"\n",
    "print(\"pizza in menu =\", \"pizza\" in menu)\n",
    "print(\"soup in menu =\", \"soup\" in menu)\n",
    "print(\"dessert in menu =\", \"dessert\" in menu)"
   ]
  },
  {
   "cell_type": "markdown",
   "id": "096a9446",
   "metadata": {
    "cell_id": "00021-0b0062dd-b0a6-4fd4-a3b0-50e0e703c1b3",
    "deepnote_cell_type": "markdown"
   },
   "source": [
    "## Program: What is on the menu?\n",
    "### [ ] Create a program where a user can check if an item is on the menu\n",
    "- store the user response in a variable menu_ask\n",
    "- use the menu from above and add some additional items\n",
    "- the program should be able to ignore case mismatch"
   ]
  },
  {
   "cell_type": "code",
   "execution_count": 65,
   "id": "c0cd492a",
   "metadata": {
    "cell_id": "00022-3f1087bd-4a76-4878-a205-af3683138ac6",
    "collapsed": false,
    "deepnote_cell_type": "code",
    "jupyter": {
     "outputs_hidden": false
    }
   },
   "outputs": [
    {
     "name": "stdin",
     "output_type": "stream",
     "text": [
      "What food would you like?  salad\n"
     ]
    },
    {
     "name": "stdout",
     "output_type": "stream",
     "text": [
      "salad in menu: True\n"
     ]
    }
   ],
   "source": [
    "# [ ] First, add a few items to the menu above using string addition\n",
    "menu = \"bread, candy, salad, pasta, sandwich, pizza, drinks, dessert\"\n",
    "\n",
    "# [ ] Next, ask the user for a food item to see if it is on the menu, format the input string to avoid case error\n",
    "user_item = input(\"What food would you like? \").lower()\n",
    "\n",
    "# [ ] Now, print a string to let the user know if the item is in the menu\n",
    "print(user_item, \"in menu:\", user_item in menu)\n"
   ]
  },
  {
   "cell_type": "markdown",
   "id": "468d0f1f",
   "metadata": {
    "cell_id": "00023-d6bae904-ff1b-416c-86b4-c8d5d6c67443",
    "deepnote_cell_type": "markdown"
   },
   "source": [
    "### [ ] Challenge: Add to the menu\n",
    "\n",
    "In the code blocks below, you are going to get a new item to add to the menu based on user input.  You will then test to make sure new item is in the menu and print the result.  Here are a few tips to help you:\n",
    "\n",
    "- You might want to start by printing the current menu\n",
    "- When you ask the user for the new item, make sure to format case to avoid error\n",
    "- You can create a 'new_menu' variable by adding the 'new_item' to the old 'menu' using string addition\n",
    "- check if a user defined item is on the menu and print an appropriate string with the result"
   ]
  },
  {
   "cell_type": "code",
   "execution_count": 126,
   "id": "327e67db",
   "metadata": {
    "cell_id": "00024-dba2c619-42e8-479b-a46b-b3e41b84be7d",
    "collapsed": false,
    "deepnote_cell_type": "code",
    "jupyter": {
     "outputs_hidden": false
    }
   },
   "outputs": [
    {
     "name": "stdout",
     "output_type": "stream",
     "text": [
      "The menu is: bread, candy, salad, pasta, sandwich, pizza, drinks, dessert\n"
     ]
    },
    {
     "name": "stdin",
     "output_type": "stream",
     "text": [
      "Enter a new food item:  one slice of deli ham\n"
     ]
    },
    {
     "name": "stdout",
     "output_type": "stream",
     "text": [
      "bread, candy, salad, pasta, sandwich, pizza, drinks, dessert, one slice of deli ham\n"
     ]
    },
    {
     "name": "stdin",
     "output_type": "stream",
     "text": [
      "What would you like?  one slice of deli ham\n"
     ]
    },
    {
     "name": "stdout",
     "output_type": "stream",
     "text": [
      "one slice of deli ham in menu: True\n"
     ]
    }
   ],
   "source": [
    "# [ ] Print the current menu\n",
    "menu = \"bread, candy, salad, pasta, sandwich, pizza, drinks, dessert\"\n",
    "print(\"The menu is:\",menu)\n",
    "# [ ] Ask user for a new food item to add to the menu using input, store as 'new_item'\n",
    "new_item = input(\"Enter a new food item: \").lower()\n",
    "# [ ] Use 'new_item' and 'menu' to create 'new_menu' using string addition\n",
    "new_menu = menu + \", \"+new_item\n",
    "# [ ] Check to see if 'new_item' is in 'new_menu' using the 'in' keyword and print result\n",
    "print(new_menu)\n",
    "# [ ] Get another item from the user 'test_item' and check if it is in 'new_menu'\n",
    "test_item = input(\"What would you like? \").lower()\n",
    "print(test_item,\"in menu:\", test_item in new_menu)"
   ]
  },
  {
   "cell_type": "markdown",
   "id": "52962952",
   "metadata": {
    "cell_id": "00026-5602de69-6306-476e-bbe7-1b6367f3923a",
    "deepnote_cell_type": "markdown"
   },
   "source": [
    "<font size=\"6\" color=\"#B24C00\"  face=\"verdana\"> <B>Task 14</B></font>\n"
   ]
  },
  {
   "cell_type": "code",
   "execution_count": 129,
   "id": "ba08eba7",
   "metadata": {
    "cell_id": "00027-50fc9df2-f28f-4d8d-bdda-66c787250e0f",
    "collapsed": false,
    "deepnote_cell_type": "code",
    "jupyter": {
     "outputs_hidden": false
    }
   },
   "outputs": [
    {
     "name": "stdout",
     "output_type": "stream",
     "text": [
      "Red in paint colors =  True\n"
     ]
    }
   ],
   "source": [
    "# [ ] fix the error\n",
    "paint_colors = \"red, blue, green, black, orange, pink\"\n",
    "print('Red in paint colors = ',\"red\" in paint_colors)\n"
   ]
  },
  {
   "cell_type": "markdown",
   "id": "27cbd2d3",
   "metadata": {
    "tags": []
   },
   "source": [
    "---\n",
    "<font size=\"6\" color=\"#00A0B2\"  face=\"verdana\"> <B>Concepts</B></font>  \n",
    "\n",
    "\n",
    "### Using Python-Style Formatting\n",
    "\n",
    "[view video](https://youtu.be/nluvd5rZ-9Q)\n",
    "\n",
    "A good overview of Python 3's new formatting method can be found at this [website](https://realpython.com/python-string-formatting/#2-new-style-string-formatting-strformat).\n",
    "\n",
    "The .format() method gives you much more control over how to format a print output. The general form of this style is:\n",
    "\n",
    "`string_sequence'.format(value1, value2)\n",
    "\n",
    "### Using flags\n",
    "\n",
    "The formatter string in the placeholder follows a similar syntax to that of the old-style formatter.\n",
    "\n",
    "`:[flags][width][precision][type]`\n",
    "\n",
    "The following table shows commonly used flags for the Python display style\n",
    "\n",
    "|Flag| Meaning|\n",
    "|---|---|\n",
    "|<| Left-align within available space|\n",
    "|>| Right-align within available space|\n",
    "|^| Center-align within available space|\n",
    "|0| The conversion will be padded by zeros for numeric values|\n",
    "|,| Use a comma as thousands separator|\n",
    "|' '| A blank will be placed in front of positive numbers, `-` will be placed in front of negative numbers|\n",
    "|+| A sign (+ or -) will be placed in front of the converted number|\n",
    "\n",
    "Format codes to remember:\n",
    "\n",
    "|Code| Type|\n",
    "|---|---|\n",
    "|d| Signed integer|\n",
    "|e| Floating exponential|\n",
    "|E| Floating Exponential|\n",
    "|f| Floating point decimal|\n",
    "|c| Single character|\n",
    "|s| String|\n",
    "|%| Inserts % character"
   ]
  },
  {
   "cell_type": "markdown",
   "id": "f11b796e",
   "metadata": {},
   "source": [
    "---\n",
    "<font size=\"6\" color=\"#00A0B2\"  face=\"verdana\"> <B>Examples</B></font>\n"
   ]
  },
  {
   "cell_type": "code",
   "execution_count": 131,
   "id": "0fd6dfc2",
   "metadata": {},
   "outputs": [
    {
     "name": "stdout",
     "output_type": "stream",
     "text": [
      "The national average gas price in 2017 was $2.420110\n"
     ]
    }
   ],
   "source": [
    "year = 2017\n",
    "price = 2.42011\n",
    "print('The national average gas price in {:d} was ${:f}'.format(year, price))"
   ]
  },
  {
   "cell_type": "code",
   "execution_count": 133,
   "id": "32bf7d1d",
   "metadata": {},
   "outputs": [
    {
     "name": "stdout",
     "output_type": "stream",
     "text": [
      "The national average gas price in 2017 was $ 2.42\n"
     ]
    }
   ],
   "source": [
    "year = 2017\n",
    "price = 2.42011\n",
    "print('The national average gas price in {0:d} was $ {1:3.2F}'.format(year, price))"
   ]
  },
  {
   "cell_type": "code",
   "execution_count": 135,
   "id": "0d7843c7",
   "metadata": {},
   "outputs": [
    {
     "name": "stdout",
     "output_type": "stream",
     "text": [
      "The national average gas price in 2017 was $ 2.42e+00\n"
     ]
    }
   ],
   "source": [
    "year = 2017\n",
    "price = 2.42011\n",
    "print('The national average gas price in {y:d} was $ {p:1.2e}'.format(y = year, p = price))"
   ]
  },
  {
   "cell_type": "code",
   "execution_count": 137,
   "id": "d4ef6cbe",
   "metadata": {},
   "outputs": [
    {
     "name": "stdout",
     "output_type": "stream",
     "text": [
      "The national average gas price in 2017 was $ 0000002.42\n"
     ]
    }
   ],
   "source": [
    "year = 2017\n",
    "price = 2.42011\n",
    "print('The national average gas price in {:d} was $ {:010.2f}'.format(year, price))"
   ]
  },
  {
   "cell_type": "markdown",
   "id": "36568625",
   "metadata": {},
   "source": [
    "### Setting alignment and size\n",
    "\n",
    "The examples below sets a 20-character wide space for the replacement value and sets alignment to left, center and right respectively."
   ]
  },
  {
   "cell_type": "code",
   "execution_count": 139,
   "id": "29f1092a",
   "metadata": {},
   "outputs": [
    {
     "name": "stdout",
     "output_type": "stream",
     "text": [
      "Right adjusted : 3.14                \n",
      "Center adjusted:         3.14        \n",
      "Left adjusted  :                 3.14\n"
     ]
    }
   ],
   "source": [
    "from math import pi\n",
    "\n",
    "print('Right adjusted : {:<20.2f}'.format(pi))\n",
    "print('Center adjusted: {:^20.2f}'.format(pi))\n",
    "print('Left adjusted  : {:>20.2f}'.format(pi))"
   ]
  },
  {
   "cell_type": "markdown",
   "id": "9f2b7b86",
   "metadata": {},
   "source": [
    "### Setting padding and alignment"
   ]
  },
  {
   "cell_type": "code",
   "execution_count": 141,
   "id": "81a1dcd5",
   "metadata": {},
   "outputs": [
    {
     "name": "stdout",
     "output_type": "stream",
     "text": [
      "Right adjusted : 3.140000000000000000\n",
      "Center adjusted: 000000003.1400000000\n",
      "Left adjusted  : 00000000000000003.14\n"
     ]
    }
   ],
   "source": [
    "from math import pi\n",
    "\n",
    "# Padding with zeros\n",
    "\n",
    "print('Right adjusted : {:0<20.2f}'.format(pi))\n",
    "print('Center adjusted: {:0^20.2f}'.format(pi))\n",
    "print('Left adjusted  : {:0>20.2f}'.format(pi))\n"
   ]
  },
  {
   "cell_type": "code",
   "execution_count": 17,
   "id": "0fa55839",
   "metadata": {},
   "outputs": [
    {
     "name": "stdout",
     "output_type": "stream",
     "text": [
      "Right adjusted : 3.14________________\n",
      "Center adjusted: ________3.14________\n",
      "Left adjusted  : ________________3.14\n"
     ]
    }
   ],
   "source": [
    "from math import pi\n",
    "\n",
    "# Padding with underscore characters\n",
    "\n",
    "print('Right adjusted : {:_<20.2f}'.format(pi))\n",
    "print('Center adjusted: {:_^20.2f}'.format(pi))\n",
    "print('Left adjusted  : {:_>20.2f}'.format(pi))"
   ]
  },
  {
   "cell_type": "markdown",
   "id": "ccb30aac",
   "metadata": {},
   "source": [
    "---\n",
    "<font size=\"6\" color=\"#B24C00\"  face=\"verdana\"> <B>Task 15</B></font>\n",
    "\n",
    "## Using Python-Style Formatting"
   ]
  },
  {
   "cell_type": "markdown",
   "id": "cf61342f",
   "metadata": {},
   "source": [
    "### Number formatting and alignment using .format() method"
   ]
  },
  {
   "cell_type": "code",
   "execution_count": 241,
   "id": "a3162db3",
   "metadata": {},
   "outputs": [
    {
     "name": "stdout",
     "output_type": "stream",
     "text": [
      "75 Fahrenheit = 23.888900 Celsius\n",
      "75 Fahrenheit = 23.89 Celsius\n",
      "75 Fahrenheit = 0000023.89 Celsius\n",
      "75 Fahrenheit = 23.889     Celsius\n",
      "75 Fahrenheit =   23.889   Celsius\n",
      "75 Fahrenheit =     23.889 Celsius\n",
      "75 Fahrenheit = 2.389e+01 Celsius\n"
     ]
    }
   ],
   "source": [
    "# [ ] Use Python-style formatting and the variables `F` and `C` to generate the following print outputs\n",
    "'''\n",
    "75 Fahrenheit = 23.888900 Celsius\n",
    "75 Fahrenheit = 23.89 Celsius\n",
    "75 Fahrenheit = 0000023.89 Celsius\n",
    "75 Fahrenheit = 23.889     Celsius\n",
    "75 Fahrenheit =   23.889   Celsius\n",
    "75 Fahrenheit =     23.889 Celsius\n",
    "75 Fahrenheit = 2.389E+01 Celsius\n",
    "'''\n",
    "\n",
    "F = 75\n",
    "C = 23.8889\n",
    "\n",
    "# --Write your code below this line--\n",
    "print(\"{0} Fahrenheit = {1:.6F} Celsius\".format(F,C)) \n",
    "print(\"{0} Fahrenheit = {1:.2F} Celsius\".format(F,C)) \n",
    "print(\"{0} Fahrenheit = {1:010.2F} Celsius\".format(F,C))\n",
    "print(\"{0} Fahrenheit = {1:<10.3f} Celsius\".format(F,C)) \n",
    "print(\"{0} Fahrenheit = {1:^10.3f} Celsius\".format(F,C)) \n",
    "print(\"{0} Fahrenheit = {1:>10.3f} Celsius\".format(F,C)) \n",
    "print(\"{0} Fahrenheit = {1:.3e} Celsius\".format(F,C)) "
   ]
  },
  {
   "cell_type": "markdown",
   "id": "566f0c45",
   "metadata": {},
   "source": [
    "### String formatting and alignment using f-string technique"
   ]
  },
  {
   "cell_type": "code",
   "execution_count": 29,
   "id": "f8353291",
   "metadata": {},
   "outputs": [
    {
     "name": "stdout",
     "output_type": "stream",
     "text": [
      "Name: Tamara Babic\n",
      "Name: Tamara          Babic\n",
      "Name: Tamara____ _____Babic\n",
      "Name: __Tamara__ __Babic___\n",
      "Name: ____Tamara Babic_____\n",
      "Name:     Tamara Babic     \n"
     ]
    }
   ],
   "source": [
    "# [ ] Use f-string formatting and the string variables below to generate the following print outputs\n",
    "# HINT: Set the name formatter width to 10 characters\n",
    "\n",
    "first_name = 'Tamara'\n",
    "last_name = 'Babic'\n",
    "\n",
    "'''\n",
    "Name: Tamara Babic\n",
    "Name: Tamara          Babic\n",
    "Name: Tamara____ _____Babic\n",
    "Name: __Tamara__ __Babic___\n",
    "Name: ____Tamara Babic_____\n",
    "Name:     Tamara Babic     \n",
    "'''   \n",
    "\n",
    "# --Write your code below this line--\n",
    "print(f\"Name: {first_name} {last_name}\")\n",
    "print(f\"Name: {first_name:<10} {last_name:>10}\")\n",
    "print(f\"Name: {first_name:_<10} {last_name:_>10}\")\n",
    "print(f\"Name: {first_name:_^10} {last_name:_^10}\")\n",
    "print(f\"Name: {first_name:_>10} {last_name:_<10}\")\n",
    "print(f\"Name: {first_name:>10} {last_name:<10}\")"
   ]
  },
  {
   "cell_type": "markdown",
   "id": "3e2f0d25",
   "metadata": {},
   "source": [
    "### Example: Personnel information printout"
   ]
  },
  {
   "cell_type": "code",
   "execution_count": 7,
   "id": "06fe9b19",
   "metadata": {},
   "outputs": [
    {
     "name": "stdout",
     "output_type": "stream",
     "text": [
      "        Name         |     ID     |        Email        \n",
      "________________________________________________________\n",
      "    Suresh Datta     |   57394    |   suresh@example.com\n",
      "  Colette Browning   |   48539    |  colette@example.com\n",
      "     Skye Homsi      |   58302    |     skye@example.com\n",
      "  Hiroto Yamaguchi   |   48502    |   hiroto@example.com\n",
      "   Tobias Ledford    |   48291    |   tobias@example.com\n",
      "       Jin Xu        |   48293    |      jin@example.com\n",
      "     Joana Dias      |   23945    |    joana@example.com\n",
      "    Alton Derosa     |   85823    |    alton@example.com\n"
     ]
    }
   ],
   "source": [
    "# [ ] The list `data` contains personnel information (Name, ID, email)\n",
    "# Write a program using Python-style formatting to print out the data as follows:\n",
    "'''\n",
    "        Name         |     ID     |        Email        \n",
    "________________________________________________________\n",
    "    Suresh Datta     |   57394    |   suresh@example.com\n",
    "  Colette Browning   |   48539    |  colette@example.com\n",
    "     Skye Homsi      |   58302    |     skye@example.com\n",
    "  Hiroto Yamaguchi   |   48502    |   hiroto@example.com\n",
    "   Tobias Ledford    |   48291    |   tobias@example.com\n",
    "       Jin Xu        |   48293    |      jin@example.com\n",
    "     Joana Dias      |   23945    |    joana@example.com\n",
    "    Alton Derosa     |   85823    |    alton@example.com\n",
    "'''\n",
    "\n",
    "data = [[\"Suresh Datta\", 57394, \"suresh@example.com\"], [\"Colette Browning\", 48539, \"colette@example.com\"], \\\n",
    "        [\"Skye Homsi\", 58302, \"skye@example.com\"], [\"Hiroto Yamaguchi\", 48502, \"hiroto@example.com\"], \\\n",
    "        [\"Tobias Ledford\", 48291, \"tobias@example.com\", \"Tamara Babic\", 58201, \"tamara@example.com\"], \\\n",
    "        [\"Jin Xu\", 48293, \"jin@example.com\"], [\"Joana Dias\", 23945, \"joana@example.com\"], \\\n",
    "        [\"Alton Derosa\", 85823, \"alton@example.com\"]]\n",
    "\n",
    "\n",
    "# --Completed--\n",
    "\n",
    "# Display the header\n",
    "print(\"{0:^20s} | {1:^10s} | {2:^20s}\".format(\"Name\", \"ID\", \"Email\"))\n",
    "print(56 * '_')\n",
    "\n",
    "# Display the data\n",
    "for record in data:\n",
    "    name = record[0]\n",
    "    ID = record[1]\n",
    "    email = record[2] \n",
    "    print(\"{0:^20s} | {1:^10d} | {2:>20s}\".format(name, ID, email))"
   ]
  }
 ],
 "metadata": {
  "anaconda-cloud": {},
  "deepnote": {},
  "deepnote_execution_queue": [],
  "deepnote_notebook_id": "a1120935-ddd2-4636-9c5f-6d607a0e7912",
  "kernelspec": {
   "display_name": "anaconda-2022.05-py39",
   "language": "python",
   "name": "conda-env-anaconda-2022.05-py39-py"
  },
  "language_info": {
   "codemirror_mode": {
    "name": "ipython",
    "version": 3
   },
   "file_extension": ".py",
   "mimetype": "text/x-python",
   "name": "python",
   "nbconvert_exporter": "python",
   "pygments_lexer": "ipython3",
   "version": "3.9.12"
  }
 },
 "nbformat": 4,
 "nbformat_minor": 5
}
