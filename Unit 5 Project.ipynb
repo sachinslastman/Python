{
 "cells": [
  {
   "cell_type": "markdown",
   "id": "278acdfa",
   "metadata": {
    "id": "AxRz9lEls96Q"
   },
   "source": [
    "# Unit 5 Project Notebook\n",
    "\n",
    "## Simple Functions\n",
    "- **Creating a simple function with a parameter**\n",
    "- Exploring functions with `return` values \n",
    "- Creating functions with multiple parameters\n",
    "- Sequence in Python  \n",
    "\n",
    "-----\n",
    "\n",
    "### Student will be able to\n",
    "- **Create functions with a parameter**  \n",
    "- Create functions with a `return` value \n",
    "- Create functions with multiple parameters\n",
    "- Use knowledge of sequence in coding tasks  \n",
    "- Use coding best practices\n",
    "\n",
    "-----"
   ]
  },
  {
   "cell_type": "markdown",
   "id": "17122f5e",
   "metadata": {
    "id": "3arncNfSs96R"
   },
   "source": [
    "## Concept: Functions\n",
    "Functions are used for code tasks that are intended to be reused. \n",
    "\n",
    "Python allows us to create **User Defined Functions** and provides many **Built-in Functions** such as **`print()`**.  \n",
    "- **`print()`** can be called using arguments (or without) and sends text to standard output, such as the console. \n",
    "- **`print()`** uses **Parameters** to define the variable Arguments that can be passed to the Function. \n",
    "- **`print()`** defines multiple string/numbers parameters which means we can send a long list of Arguments to **`print()`**, separated by commas.   \n",
    "- **`print()`** can also be called directly with just its name and empty parenthesis and it will return a blank line to standard output.\n",
    "\n",
    "You can create your own functions and, similar to the built-in `print()` function, they will have a name that you give them, they may take arguments that go inside of the parenthesis, and they will do something and maybe even return a value.\n",
    "\n",
    "-----"
   ]
  },
  {
   "cell_type": "markdown",
   "id": "3ea6fe1c",
   "metadata": {
    "id": "nE3zWok5s96T"
   },
   "source": [
    "<font size=\"6\" color=\"#00A0B2\"  face=\"verdana\"> <B></B></font>\n",
    "## Concept: User Defined Functions\n",
    "Creating user-defined functions is at the core of computer programming.  Functions enable code reuse and make code easier to develop and maintain.\n",
    "\n",
    "[view video](https://youtu.be/Ch3R6Hucml4)\n",
    "\n",
    "### Basics of a user-defined function\n",
    "- Define a function with **`def`** \n",
    "- Use indentation (4 spaces)\n",
    "- Define parameters\n",
    "- Optional parameters \n",
    "- **`return`** values (or none)\n",
    "- Function scope (basics defaults)  \n"
   ]
  },
  {
   "cell_type": "markdown",
   "id": "6e53bf2d",
   "metadata": {
    "id": "GcVfcTFMs96T"
   },
   "source": [
    "### `def some_function():`\n",
    "Use the &nbsp;**`def`** &nbsp;statement when creating a **function**.  \n",
    "- Use a function name that **starts with a letter** or underscore (usually a lowercase letter).\n",
    "- Function names can contain **letters, numbers or underscores**.\n",
    "- Parentheses &nbsp; **()**  &nbsp; follow the function name.\n",
    "- A colon &nbsp; **:**  &nbsp; follows the parenthesis.\n",
    "- The code for the function is indented under the function definition (use 4 spaces for this course).\n",
    "\n",
    "```python\n",
    "def some_function():\n",
    "   #code the function tasks indented here    \n",
    "```\n",
    "The **end of the function** is denoted by returning to **no indentation**."
   ]
  },
  {
   "cell_type": "markdown",
   "id": "fec4d36c",
   "metadata": {
    "id": "NBlwGk0ps96U"
   },
   "source": [
    "### Examples"
   ]
  },
  {
   "cell_type": "code",
   "execution_count": null,
   "id": "8935a5e7",
   "metadata": {
    "id": "oFzT3uAQs96U"
   },
   "outputs": [],
   "source": [
    "# defines a function named say_hi\n",
    "def say_hi():      \n",
    "    print(\"Hello there!\")\n",
    "    print(\"goodbye\")\n",
    "    \n",
    "# Any following code that you don't want as part of the function itself, should have no indentation\n",
    "print(\"this code is not part of the function\")"
   ]
  },
  {
   "cell_type": "code",
   "execution_count": null,
   "id": "d3cc982f",
   "metadata": {
    "id": "OLUhA09es96U"
   },
   "outputs": [],
   "source": [
    "# define three_three \n",
    "def three_three():\n",
    "    print(33) "
   ]
  },
  {
   "cell_type": "markdown",
   "id": "891096c4",
   "metadata": {
    "id": "9sZ7se_vs96U"
   },
   "source": [
    "-----\n",
    "\n",
    "## Concept: Calling Functions\n",
    "Call a simple function using the function name followed by parentheses.  For instance, calling print is  \n",
    "**`print()`**"
   ]
  },
  {
   "cell_type": "markdown",
   "id": "158f6527",
   "metadata": {
    "id": "ckLmer2js96U"
   },
   "source": [
    "### Examples"
   ]
  },
  {
   "cell_type": "code",
   "execution_count": null,
   "id": "2717df5a",
   "metadata": {
    "id": "4sBuc06Ms96U"
   },
   "outputs": [],
   "source": [
    "# Program defines and calls the say_hi & three_three functions\n",
    "# [ ] review and run the code\n",
    "\n",
    "def say_hi():\n",
    "    print(\"Hello there!\")\n",
    "    print(\"goodbye\")\n",
    "# end of indentation ends the function\n",
    "\n",
    "# define three_three \n",
    "def three_three():\n",
    "    print(33) \n",
    "\n",
    "# calling the functions\n",
    "say_hi()\n",
    "print()\n",
    "three_three()"
   ]
  },
  {
   "cell_type": "markdown",
   "id": "e4c0e39e",
   "metadata": {
    "id": "mKhf8q_Ns96V"
   },
   "source": [
    "<font size=\"6\" color=\"#B24C00\"  face=\"verdana\"> <B>Task 1</B></font>\n",
    "\n",
    "\n",
    "### Define and call a simple function called `yell_it()` \n",
    "### `yell_it()`&nbsp; prints a phrase with \"!\" concatenated to the end\n",
    "- Takes no arguments\n",
    "- Indented function code does the following\n",
    "  - Defines a variable called **`phrase`** and intializes it with a short *phrase*\n",
    "  - Prints **`phrase`** as all upper-case letters followed by \"!\"\n",
    "- Call &nbsp; `yell_it` &nbsp; at the bottom of the cell after the function &nbsp;**`def`**.&nbsp; (**Tip:** no indentation should be used.)\n"
   ]
  },
  {
   "cell_type": "code",
   "execution_count": 3,
   "id": "2d12ca9b",
   "metadata": {
    "id": "6CGjFHp7s96V"
   },
   "outputs": [
    {
     "name": "stdout",
     "output_type": "stream",
     "text": [
      "YOU CAN RUN BUT YOU CAN'T HIDE!\n"
     ]
    }
   ],
   "source": [
    "# [ ] define (def) a simple function called yell_it()\n",
    "# [ ] yell_it defines a variable 'phrase' and assigns it to a short lowercase phrase\n",
    "# [ ] it then prints the phrase as all uppercase with a \"!\" added\n",
    "\n",
    "def yell_it ():\n",
    "    phrase = \"You can run but you can't hide\"\n",
    "    print(phrase.upper() + \"!\")\n",
    "\n",
    "# [ ] call the function\n",
    "\n",
    "yell_it()"
   ]
  },
  {
   "cell_type": "markdown",
   "id": "ad767d9a",
   "metadata": {
    "id": "IyvehDWgs96V"
   },
   "source": [
    "-----\n",
    "\n",
    "## Concept: Function Parameters\n",
    "\n",
    "[view video](https://youtu.be/jby4xSg7cT8)\n",
    "\n",
    "[view video](https://youtu.be/UlRA_1tPPKE)\n",
    "\n",
    "**`print()`** and **`type()`** are examples of built-in functions that have **parameters** defined.  \n",
    "  \n",
    "**`type()`** has a parameter for a **Python Object** and sends back the *type* of the object.\n",
    "  \n",
    "An **Argument** is a value given for a parameter when calling a function.  \n",
    "- **`type`** is called providing an **Argument** - in this case the string *\"Hello\"*\n",
    "```python\n",
    "type(\"Hello\")\n",
    "```  \n",
    "\n",
    "### Defining function parameters\n",
    "- Parameters are defined inside of the parentheses as part of a function **`def`** statement\n",
    "- Parameters are typically copies of objects that are available for use in function code\n",
    "```python\n",
    "def say_this(phrase):  \n",
    "      print(phrase)\n",
    "```  \n",
    "### Functions can have default arguments\n",
    "- Default arguments are used if no argument is supplied\n",
    "- Default arguments are assigned when creating the parameter list\n",
    "```python\n",
    "def say_this(phrase = \"Hi\"):  \n",
    "      print(phrase)\n",
    "```"
   ]
  },
  {
   "cell_type": "markdown",
   "id": "f484e40f",
   "metadata": {
    "id": "rIntkbNBs96V",
    "tags": []
   },
   "source": [
    "### Example"
   ]
  },
  {
   "cell_type": "code",
   "execution_count": null,
   "id": "210e7b63",
   "metadata": {
    "id": "YMySGKiCs96V"
   },
   "outputs": [],
   "source": [
    "# use a default argument\n",
    "\n",
    "def say_this(phrase = \"Hi\"):  \n",
    "    print(phrase)\n",
    "        \n",
    "say_this()\n",
    "say_this(\"Bye\")\n",
    "\n",
    "# Notice the first time say_this() was called, no argument was given so it printed \"Hi\", the defalut value"
   ]
  },
  {
   "cell_type": "markdown",
   "id": "9573e289",
   "metadata": {
    "id": "NnAZGBLAs96W",
    "tags": []
   },
   "source": [
    "<font size=\"6\" color=\"#B24C00\"  face=\"verdana\"> <B>Task 2</B></font>\n",
    "\n",
    "\n",
    "### Task 3: Define `yell_this()` and call with variable argument \n",
    "- Define variable &nbsp; **`words_to_yell`** &nbsp; as a string gathered from user&nbsp; `input()`\n",
    "- Call &nbsp;**`yell_this()`** &nbsp;with &nbsp; **`words_to_yell`** &nbsp;as argument\n",
    "- Get user input() for the string words_to_yell\n",
    "- add appropriate documentation"
   ]
  },
  {
   "cell_type": "code",
   "execution_count": 5,
   "id": "5256c720",
   "metadata": {
    "id": "uWxXdfV_s96W"
   },
   "outputs": [
    {
     "name": "stdin",
     "output_type": "stream",
     "text": [
      "Gimme a phrase:  hellos\n"
     ]
    },
    {
     "name": "stdout",
     "output_type": "stream",
     "text": [
      "HELLOS!\n"
     ]
    }
   ],
   "source": [
    "# [ ] define yell_this()\n",
    "def yell_this (words_to_yell):\n",
    "    print(words_to_yell.upper() + \"!\")\n",
    "\n",
    "# [ ] get user input in variable words_to_yell\n",
    "words_to_yell = input(\"Gimme a phrase: \")\n",
    "\n",
    "# [ ] call yell_this function with words_to_yell as argument\n",
    "yell_this(words_to_yell)"
   ]
  },
  {
   "cell_type": "markdown",
   "id": "3e49db99-9c7f-4910-aec2-e123efe59763",
   "metadata": {},
   "source": [
    "-----\n",
    "\n",
    "## Concept: Documenting User-Defined Functions\n",
    "\n",
    "When you create a function, it is best practice to also document how your function works so users and other programmers can understand it.  The way to do this is to add what is called a Docstring to your function.\n",
    "\n",
    "[view video](https://youtu.be/eOPjyOIq2To)\n",
    "\n",
    "\n",
    "### Documentation requirements for functions with parameters\n",
    "- A docstring is a string that appears below your `def:` line in the function definition\n",
    "- Docstrings provide a description of the function and are accessible using the Python help() function\n",
    "- Multi-line docstrings are more elaborate and start with a summary line written as a command ending with a period. \n",
    "- The summary line is followed by a blank line and then descriptions of the parameters(arguments), exceptions raised, if any, and the return value(s). \n",
    "- Multi-line docstrings begin and end with triple quotes and a blank line.\n",
    "- Docstrings are indented under the function def line"
   ]
  },
  {
   "cell_type": "markdown",
   "id": "964a35b7-c677-4cd7-8a84-b7de7a6d62cf",
   "metadata": {
    "id": "rIntkbNBs96V",
    "tags": []
   },
   "source": [
    "### Example"
   ]
  },
  {
   "cell_type": "code",
   "execution_count": null,
   "id": "a262e911",
   "metadata": {
    "id": "w9l80hBWs96V"
   },
   "outputs": [],
   "source": [
    "# yell_this() yells the string Argument provided\n",
    "\n",
    "def yell_this(phrase):\n",
    "    \"\"\"\n",
    "    Change all characters to uppercase and add exclamation point.\n",
    "\n",
    "    args:\n",
    "      phrase: string to be capitalized\n",
    "    returns:\n",
    "      none\n",
    "    \"\"\"\n",
    "\n",
    "    print(phrase.upper() + \"!\")\n",
    "    \n",
    "# call function with a string\n",
    "yell_this(\"It is time to save the notebook\")"
   ]
  },
  {
   "cell_type": "code",
   "execution_count": null,
   "id": "4868c783-bf3f-4556-9ccd-4c9d88de9203",
   "metadata": {},
   "outputs": [],
   "source": [
    "# Here is a way to see the Docstring using the help() function\n",
    "\n",
    "help(yell_this)"
   ]
  },
  {
   "cell_type": "markdown",
   "id": "38aa6eaa-62e1-48fd-b098-1b6e51c0bdd2",
   "metadata": {
    "id": "NnAZGBLAs96W",
    "tags": []
   },
   "source": [
    "<font size=\"6\" color=\"#B24C00\"  face=\"verdana\"> <B>Task 3</B></font>\n",
    "\n",
    "\n",
    "### Define a custom function with one argument\n",
    "- The argument will be a simple string\n",
    "- The function will print the argument\n",
    "- Add a multiline Docstring that provides documentation for your function\n",
    "- Call your function with an input\n",
    "- Use help() to see the Docstring for your function"
   ]
  },
  {
   "cell_type": "code",
   "execution_count": 12,
   "id": "889bb156-b253-4814-ad16-e2defaafccdd",
   "metadata": {},
   "outputs": [
    {
     "name": "stdout",
     "output_type": "stream",
     "text": [
      "hello\n",
      "Help on function print_string in module __main__:\n",
      "\n",
      "print_string(strng)\n",
      "    This function prints out a string\n",
      "    \n",
      "    args: string\n",
      "    \n",
      "    returns: none\n",
      "\n"
     ]
    }
   ],
   "source": [
    "# [ ] Write a custom function below including a multi-line Docstring, call your function and access help()\n",
    "\n",
    "def print_string (strng):\n",
    "    '''\n",
    "    This function prints out a string\n",
    "    \n",
    "    args: string\n",
    "    \n",
    "    returns: none\n",
    "    '''\n",
    "    print(strng)\n",
    "\n",
    "    \n",
    "print_string(\"hello\")\n",
    "\n",
    "help(print_string)"
   ]
  },
  {
   "cell_type": "markdown",
   "id": "c580ef4b-d7e0-44a1-a830-44f0e6e807ed",
   "metadata": {},
   "source": [
    "### Pydoc\n",
    "\n",
    "Python also has a built-in module to help you document your code called Pydoc.  Here is a video with more information:\n",
    "\n",
    "[view video](https://youtu.be/LWqBQZ9dl84)"
   ]
  },
  {
   "cell_type": "markdown",
   "id": "d7ec4222",
   "metadata": {
    "id": "o1iXfAqDw3b4"
   },
   "source": [
    "-----\n",
    "\n",
    "## Concept: Function Return and Multi-Parameters\n",
    "- Creating a simple function with a parameter\n",
    "- Exploring functions with `return` values\n",
    "- Creating functions with multiple parameters\n",
    "- Sequence in Python  \n",
    "\n",
    "-----\n",
    "\n",
    "### Student will be able to\n",
    "- Create functions with a parameter  \n",
    "- Create functions with a `return` value\n",
    "- Create functions with multiple parameters\n",
    "- Use knowledge of sequence in coding tasks \n",
    "- Use coding best practices "
   ]
  },
  {
   "cell_type": "markdown",
   "id": "c6a288d2",
   "metadata": {
    "id": "JRtbV0vMw3b8"
   },
   "source": [
    "## Concept: Functions with Return Values\n",
    "\n",
    "[view video](https://youtu.be/mQTcPoaOiMI)\n",
    "\n",
    "Example:\n",
    "- **`type()`** returns an object type.\n",
    "-  **`type()`** can be called with a float the return value can be stored in a variable.\n",
    "```python\n",
    "object_type = type(2.33)\n",
    "```  \n",
    "\n",
    "## Creating a function with a return value  \n",
    "- **`return`** keyword in a function *returns* a value after *exiting* the function.  \n",
    "\n",
    "```python\n",
    "def msg_double(phrase):\n",
    "      double = phrase + \" \" + phrase\n",
    "      return double\n",
    "```  \n"
   ]
  },
  {
   "cell_type": "markdown",
   "id": "40f32e23",
   "metadata": {
    "id": "_qSIucElw3b8"
   },
   "source": [
    "### Example \n",
    "  \n",
    "Review and run the code."
   ]
  },
  {
   "cell_type": "code",
   "execution_count": null,
   "id": "3a2b6b41",
   "metadata": {
    "id": "k0XCONE6w3b9"
   },
   "outputs": [],
   "source": [
    "# Message double returns the string Argument doubled\n",
    "def msg_double(phrase):\n",
    "    '''\n",
    "    Repeat and concatenate a phrase.\n",
    "\n",
    "    args:\n",
    "      phrase: string to be repeated\n",
    "    returns:\n",
    "      double: phrase repeated and concatenated\n",
    "    '''\n",
    "    \n",
    "    double = phrase + \" \" + phrase\n",
    "    return double\n",
    "\n",
    "# save return value in variable\n",
    "msg_2x = msg_double(\"let's go\")\n",
    "print(msg_2x)"
   ]
  },
  {
   "cell_type": "code",
   "execution_count": null,
   "id": "4c17bc9e",
   "metadata": {
    "id": "tMeQ3nwBw3b9"
   },
   "outputs": [],
   "source": [
    "# example of functions with return values used in functions\n",
    "def msg_double(phrase):\n",
    "    \"\"\"\n",
    "    Repeat and concatenate a phrase.\n",
    "\n",
    "    args:\n",
    "      phrase: string to be repeated\n",
    "    returns:\n",
    "      double: phrase repeated and concatenated\n",
    "    \"\"\"\n",
    "    \n",
    "    double = phrase + \" \" + phrase\n",
    "    return double\n",
    "\n",
    "# prints the returned object\n",
    "print(msg_double(\"Save Now!\"))\n",
    "\n",
    "# echo the type of the returned object\n",
    "type(msg_double(\"Save Now!\"))"
   ]
  },
  {
   "cell_type": "markdown",
   "id": "866048af",
   "metadata": {
    "id": "ta8QH2pDw3b-"
   },
   "source": [
    "<font size=\"6\" color=\"#B24C00\"  face=\"verdana\"> <B>Task 4</B></font>\n",
    "\n",
    "\n",
    "### A function that adds the \"Doctor\" title to a name\n",
    "- Define function `make_doctor()`&nbsp; that takes a parameter `name`\n",
    "- Get user **input** for variable **`full_name`**\n",
    "- Call the function using `full_name` &nbsp; as argument\n",
    "- Print the return value"
   ]
  },
  {
   "cell_type": "code",
   "execution_count": 16,
   "id": "ba989b35",
   "metadata": {
    "id": "lLesxW6nw3b-"
   },
   "outputs": [
    {
     "name": "stdin",
     "output_type": "stream",
     "text": [
      "Enter your full name:  johny depp\n"
     ]
    },
    {
     "data": {
      "text/plain": [
       "'johny depp'"
      ]
     },
     "execution_count": 16,
     "metadata": {},
     "output_type": "execute_result"
    }
   ],
   "source": [
    "# [ ] define function make_doctor() with full_name argument\n",
    "# [ ] assign 'full_name' to input from user\n",
    "# [ ] return 'full_name'\n",
    "def make_doctor ():\n",
    "    full_name = input(\"Enter your full name: \")\n",
    "    return full_name\n",
    "\n",
    "# [ ] call the function and print the value\n",
    "\n",
    "make_doctor()"
   ]
  },
  {
   "cell_type": "markdown",
   "id": "c8466bd7",
   "metadata": {
    "id": "OnMZH8iHw3b_"
   },
   "source": [
    "-----\n",
    "\n",
    "## Concept: Functions with Multiple Parameters\n",
    "Functions can have multiple parameters separated by commas.\n",
    "\n",
    "[view video](https://youtu.be/sCP1XiG3zJ8)"
   ]
  },
  {
   "cell_type": "markdown",
   "id": "4e374201",
   "metadata": {
    "id": "tKnYZkkDw3b_"
   },
   "source": [
    "### Example\n",
    "  \n",
    "Review and run the code."
   ]
  },
  {
   "cell_type": "code",
   "execution_count": null,
   "id": "2f3e99c7",
   "metadata": {
    "id": "8WBAQuaaw3b_"
   },
   "outputs": [],
   "source": [
    "def make_schedule(period1, period2):\n",
    "    \"\"\"\n",
    "    Create schedule with period numbers and courses in title case.\n",
    "\n",
    "    args:\n",
    "      period1, period 2: courses to be made into a schedule\n",
    "\n",
    "    returns:\n",
    "      schedule: student schedule\n",
    "    \"\"\"\n",
    "    \n",
    "    schedule = (\"[1st] \" + period1.title() + \", [2nd] \" + period2.title())\n",
    "    return schedule\n",
    "\n",
    "student_schedule = make_schedule(\"mathematics\", \"history\")\n",
    "print(\"SCHEDULE:\", student_schedule)"
   ]
  },
  {
   "cell_type": "markdown",
   "id": "9c3ffb84",
   "metadata": {
    "id": "IoBCA8Yrw3cA",
    "tags": []
   },
   "source": [
    "<font size=\"6\" color=\"#B24C00\"  face=\"verdana\"> <B>Task 5</B></font>\n",
    "\n",
    "\n",
    "## Define `make_schedule()` and add a 3rd period \n",
    "- Start with the above example code\n",
    "- Add a parameter period3\n",
    "- Update function code to add period3 to the schedule\n",
    "- Call **`student_schedule()`** with an additional argument such as 'science'\n",
    "- Print the schedule"
   ]
  },
  {
   "cell_type": "code",
   "execution_count": 51,
   "id": "88308d43",
   "metadata": {
    "id": "WoC5fZbTw3cA"
   },
   "outputs": [
    {
     "name": "stdout",
     "output_type": "stream",
     "text": [
      "SCHEDULE: [1st] Mathematics, [2nd] History, [3rd] Science\n"
     ]
    }
   ],
   "source": [
    "# [ ] copy code from example above\n",
    "# [ ] add a 3rd parameter to function def (period3)\n",
    "# [ ] alter function code to amend variable 'schedule'\n",
    "\n",
    "def make_schedule(period1, period2, period3):\n",
    "    \"\"\"\n",
    "    Create schedule with period numbers and courses in title case.\n",
    "\n",
    "    args:\n",
    "      period1, period 2: courses to be made into a schedule\n",
    "\n",
    "    returns:\n",
    "      schedule: student schedule\n",
    "    \"\"\"\n",
    "    \n",
    "    schedule = (\"[1st] \" + period1.title() + \", [2nd] \" + period2.title() + \", [3rd] \" + period3.title())\n",
    "    return schedule\n",
    "\n",
    "# [ ] add the third parameter 'science' to the function call and print\n",
    "\n",
    "student_schedule = make_schedule(\"mathematics\", \"history\", \"science\")\n",
    "print(\"SCHEDULE:\", student_schedule)   \n",
    "\n"
   ]
  },
  {
   "cell_type": "markdown",
   "id": "a12d9236",
   "metadata": {
    "id": "tffzkkKwzl2-"
   },
   "source": [
    "-----\n",
    "\n",
    "## Concept: Sequence\n",
    "In programming, **sequence** refers to the order that code is processed.  Objects in Python, such as variables and functions, are not available until they have been processed. \n",
    "\n",
    "Processing sequence flows from the top of a page of code to the bottom. This often means that **Function definitions are placed at the beginning of a page of code.**\n",
    "\n",
    "In the sample below, the function **`hat_available`** cannot be accessed since it is initialized after it is called at the bottom of the code.  \n",
    "```python\n",
    "have_hat = hat_available('green')  \n",
    "  \n",
    "print('hat available is', have_hat)\n",
    "\n",
    "def hat_available(color):\n",
    "    hat_colors = 'black, red, blue, green, white, grey, brown, pink'\n",
    "    return(color.lower() in hat_colors)\n",
    "```  \n",
    "This results in an error - the code flows from top to bottom is in the incorrect **sequence**. \n",
    "```python\n",
    "NameError: name 'hat_available' is not defined\n",
    "```\n",
    "In the statement &nbsp; **`have_hat = hat_available('green')`** &nbsp; the function &nbsp; **`hat_available()`** &nbsp; needs to be called after the function has been defined.\n",
    "> **Note:** an argument or variable is said to be **hard coded** when assigned a literal or constant value.  \n",
    "    It is a good habit to avoid creating hard coded values in functions, such as  \n",
    "    `hat_colors = 'black, red, blue, green, white, grey, brown, pink'`."
   ]
  },
  {
   "cell_type": "markdown",
   "id": "1cd641ed",
   "metadata": {
    "id": "CVzvom3Vzl2_"
   },
   "source": [
    "### Examples"
   ]
  },
  {
   "cell_type": "code",
   "execution_count": null,
   "id": "35123445",
   "metadata": {
    "id": "2BRekGznzl2_"
   },
   "outputs": [
    {
     "ename": "NameError",
     "evalue": "name 'hat_available' is not defined",
     "output_type": "error",
     "traceback": [
      "\u001b[0;31m---------------------------------------------------------------------------\u001b[0m",
      "\u001b[0;31mNameError\u001b[0m                                 Traceback (most recent call last)",
      "Input \u001b[0;32mIn [26]\u001b[0m, in \u001b[0;36m<cell line: 2>\u001b[0;34m()\u001b[0m\n\u001b[1;32m      1\u001b[0m \u001b[38;5;66;03m# review and run code - note: fix error in the following \"tasks\" section \u001b[39;00m\n\u001b[0;32m----> 2\u001b[0m have_hat \u001b[38;5;241m=\u001b[39m \u001b[43mhat_available\u001b[49m(\u001b[38;5;124m'\u001b[39m\u001b[38;5;124mgreen\u001b[39m\u001b[38;5;124m'\u001b[39m)  \n\u001b[1;32m      4\u001b[0m \u001b[38;5;28mprint\u001b[39m(\u001b[38;5;124m'\u001b[39m\u001b[38;5;124mhat available is\u001b[39m\u001b[38;5;124m'\u001b[39m, have_hat)\n\u001b[1;32m      6\u001b[0m \u001b[38;5;28;01mdef\u001b[39;00m \u001b[38;5;21mhat_available\u001b[39m(color):\n",
      "\u001b[0;31mNameError\u001b[0m: name 'hat_available' is not defined"
     ]
    }
   ],
   "source": [
    "# review and run code - note: fix error in the following \"tasks\" section \n",
    "have_hat = hat_available('green')  \n",
    "  \n",
    "print('hat available is', have_hat)\n",
    "\n",
    "def hat_available(color):\n",
    "    hat_colors = 'black, red, blue, green, white, grey, brown, pink'\n",
    "    # return Boolean\n",
    "    return(color.lower() in hat_colors)"
   ]
  },
  {
   "cell_type": "markdown",
   "id": "645fe02d",
   "metadata": {
    "id": "BmFRIshszl3A"
   },
   "source": [
    "<font size=\"6\" color=\"#B24C00\"  face=\"verdana\"> <B>Task 6</B></font>\n",
    "\n",
    "\n",
    "## Change the Sequence to fix the `NameError`\n",
    "- [ ] Fix the code **sequence** so the &nbsp;**`hat_available()`** &nbsp;function is available when called and the code runs without error\n",
    "- [ ] Add documentation (docstring) and a comment(#) explaining why the error occured and how you fixed it"
   ]
  },
  {
   "cell_type": "code",
   "execution_count": null,
   "id": "cceecf66",
   "metadata": {
    "id": "IMYhrCodzl3B"
   },
   "outputs": [
    {
     "ename": "NameError",
     "evalue": "name 'hat_available' is not defined",
     "output_type": "error",
     "traceback": [
      "\u001b[0;31m---------------------------------------------------------------------------\u001b[0m",
      "\u001b[0;31mNameError\u001b[0m                                 Traceback (most recent call last)",
      "Input \u001b[0;32mIn [29]\u001b[0m, in \u001b[0;36m<cell line: 3>\u001b[0;34m()\u001b[0m\n\u001b[1;32m      1\u001b[0m \u001b[38;5;66;03m# [ ] fix the sequence of the code to remove the NameError\u001b[39;00m\n\u001b[0;32m----> 3\u001b[0m have_hat \u001b[38;5;241m=\u001b[39m \u001b[43mhat_available\u001b[49m(\u001b[38;5;124m'\u001b[39m\u001b[38;5;124mgreen\u001b[39m\u001b[38;5;124m'\u001b[39m)  \n\u001b[1;32m      5\u001b[0m \u001b[38;5;28mprint\u001b[39m(\u001b[38;5;124m'\u001b[39m\u001b[38;5;124mhat available is\u001b[39m\u001b[38;5;124m'\u001b[39m, have_hat)\n\u001b[1;32m      7\u001b[0m \u001b[38;5;28;01mdef\u001b[39;00m \u001b[38;5;21mhat_available\u001b[39m(color):\n",
      "\u001b[0;31mNameError\u001b[0m: name 'hat_available' is not defined"
     ]
    }
   ],
   "source": [
    "# [ ] fix the sequence of the code to remove the NameError\n",
    "\n",
    "have_hat = hat_available('green')  \n",
    "  \n",
    "print('hat available is', have_hat)\n",
    "\n",
    "def hat_available(color):\n",
    "    hat_colors = 'black, red, blue, green, white, grey, brown, pink'\n",
    "    return(color.lower() in hat_colors)\n",
    "\n"
   ]
  },
  {
   "cell_type": "markdown",
   "id": "1f6e9bd5",
   "metadata": {
    "id": "7cM1L0rzzl3B"
   },
   "source": [
    "-----\n",
    "\n",
    "## Concept: Avoid Hard-Coding\n",
    "### \"Hard-coding\" is placing data values directly into code\n",
    "An example of hard-coding from above is **`have_hat = hat_available('green')`**  where the argument `'green'` is hard-coded.\n",
    "\n",
    "A programming best practice is to **avoid hard-coding values when possible**.\n",
    "- Use variables and verse hard-coded \n",
    "- Often preferable to use input such as a configuration file (advanced topic) or user input.\n",
    "These practices allow changing the data without disturbing the main code and makes code more reusable.\n"
   ]
  },
  {
   "cell_type": "markdown",
   "id": "bb11d5fe",
   "metadata": {
    "id": "Ra6oVFzvzl3B"
   },
   "source": [
    "<font size=\"6\" color=\"#B24C00\"  face=\"verdana\"> <B>Task 7</B></font>\n",
    "\n",
    "### Create a Boolean function `bird_available()`\n",
    "- Has parameter that takes the name of a type of bird\n",
    "- Checks to see if the value passed is in `bird_types` (use in keyword)\n",
    "- For this exercise the variable `bird_types`` = 'crow robin parrot eagle sandpiper hawk piegon'`\n",
    "- Return `True` or `False` (we are making a Boolean Function)\n",
    "- Call the function using the name of a bird type from user input\n",
    "- Print a sentence that indicates the availablity of the type of bird checked\n"
   ]
  },
  {
   "cell_type": "code",
   "execution_count": 5,
   "id": "df52bee5",
   "metadata": {
    "id": "qlYyRssHzl3C"
   },
   "outputs": [
    {
     "name": "stdin",
     "output_type": "stream",
     "text": [
      "Enter a type of bird crow\n"
     ]
    },
    {
     "data": {
      "text/plain": [
       "True"
      ]
     },
     "execution_count": 5,
     "metadata": {},
     "output_type": "execute_result"
    }
   ],
   "source": [
    "# [ ] create function bird_available\n",
    "def bird_available(bird_type):\n",
    "    bird_types = 'crow, robin, parrot, eagle, sandpiper, hawk, piegon'\n",
    "    return(bird_type.lower() in bird_types)\n",
    "    \n",
    "# [ ] user input\n",
    "bird_type = input(\"Enter a type of bird\")\n",
    "\n",
    "# [ ] print availbility status using the bird_available function\n",
    "bird_available(bird_type)\n"
   ]
  },
  {
   "cell_type": "markdown",
   "id": "188dac7a",
   "metadata": {
    "id": "jStDeD3Szl3C"
   },
   "source": [
    "<font size=\"6\" color=\"#B24C00\"  face=\"verdana\"> <B>Task 8</B></font>\n",
    "\n",
    "\n",
    "### Fix the error\n",
    "- find and fix the error in the code block below\n",
    "- indicate with a comment what the error was and how you fixed it.\n"
   ]
  },
  {
   "cell_type": "code",
   "execution_count": 9,
   "id": "67bc737f",
   "metadata": {
    "id": "rzOzAWddzl3C"
   },
   "outputs": [
    {
     "name": "stdin",
     "output_type": "stream",
     "text": [
      "enter how many you want:  45\n"
     ]
    },
    {
     "name": "stdout",
     "output_type": "stream",
     "text": [
      "45 will be ordered\n"
     ]
    }
   ],
   "source": [
    "\n",
    "def how_many(): #the function was not defined; missing the 'def' keyword\n",
    "    \"\"\"\n",
    "    Ask user how many they want.\n",
    "\n",
    "    args:\n",
    "      none\n",
    "    returns:\n",
    "      requested: number user wants\n",
    "    \"\"\"\n",
    "\n",
    "    requested = input(\"enter how many you want: \")\n",
    "    return requested\n",
    "\n",
    "# get the number_needed\n",
    "number_needed = how_many()\n",
    "print(number_needed, \"will be ordered\")\n",
    "\n"
   ]
  },
  {
   "cell_type": "markdown",
   "id": "dab74df2",
   "metadata": {
    "id": "01SAjIyAZgj3"
   },
   "source": [
    "-----\n",
    "\n",
    "## Concept: Variable Scope and Namespaces\n",
    "\n",
    "* What is Namespace?\n",
    "* What is Scope?\n",
    "* local vs. global scope\n",
    "\n",
    "### Students will be able to:\n",
    "\n",
    "* Define local variables\n",
    "* Read and modify the values of local variables\n",
    "* Identify the scope of a variable\n",
    "* Define global variables\n",
    "* Read and modify the values of global variables from local scopes"
   ]
  },
  {
   "cell_type": "markdown",
   "id": "e03b4cf6",
   "metadata": {
    "id": "jA8DxcuCZgj7"
   },
   "source": [
    "--- \n",
    "\n",
    "## Namespace\n",
    "\n",
    "Before we learn about variable scope, we need to learn about \"Namespace\".  Namespace is a dictionary of information that maps names to their associated objects.  But there isn't just one namespace in Python, there are several.\n",
    "\n",
    "**Built-In Namespace:** This is the dictionary that maps all of the built-in names to their objects.\n",
    "\n",
    "**Global Namespace:** This is the dictionary that maps all of the names defined at the main level of your program to their objects.\n",
    "\n",
    "**Local Namespace:** This is the dictionary that maps the names defined inside of functions to their objects.\n",
    "\n",
    "[Click to learn more](https://realpython.com/python-namespaces-scope/)\n",
    "\n",
    "Ok, so now we know about the Namespaces, let's distinguish between names in Local vs. Global Namespaces.\n",
    "\n",
    "## Local Variables\n",
    "\n",
    "\n",
    "A variable in Python lives within a scope; the scope determines how the variable is accessed and when it is deleted. A variable scope is determined by the place where it is initially assigned. There are two types of scopes: local and global. Parameters passed to a function and variables assigned within it are within the local scope of the function and are called local variables; variables assigned outside all functions in a module are within the global scope of the module and are called global variables. \n",
    "\n",
    "Local scopes are created when a function is called, and destroyed when the function return to its caller. This means that you might have several local scopes that have different local variables within them. These local variables can be accessed and changed within their own local scopes; however, they cannot interact with variables from other local scopes and they cannot be accessed from the global scope. This is important because it allows you to use the same variable name in different functions without worrying about name conflicts or the collision of variables.\n",
    "\n",
    "The concept of a local scope guides you to think about functions as black boxes that can interact with your code only through arguments and returned values. When developing a function, you do not have to worry about a variable name being used in another function because you know that each will be local within its own function and can be accessed only from within that function.\n",
    "\n",
    "Generally speaking:\n",
    "* Local variables cannot be read or modified from the global scope\n",
    "* Local variables cannot be read or modified from other local scopes\n",
    "* The same variable name can be used in different functions without causing a conflict\n",
    "\n",
    "So **Local Variables** are stored in the **Local Namespace** and can't be accessed outside of the functions in which they are created.  \n",
    "Alternatively, **Global Variables** are stored in the **Global Namespace** and are available anywhere in your program, including inside of functions."
   ]
  },
  {
   "cell_type": "markdown",
   "id": "4215ff0e",
   "metadata": {
    "id": "zMFHIkMwZgj7"
   },
   "source": [
    "<font size=\"6\" color=\"#00A0B2\"  face=\"verdana\"> <B>Examples</B></font>\n",
    "\n",
    "In the following examples, functions compute the areas and volumes of different geometric figures. The variable name `area` will be used in all functions to demonstrate the concepts of local scope and global scope. The demonstrated concepts also apply to other data types (such as lists and strings)."
   ]
  },
  {
   "cell_type": "markdown",
   "id": "22e2600f",
   "metadata": {
    "id": "1PBUjLfvZgj8"
   },
   "source": [
    "### Local variables cannot be read or modified from the global scope"
   ]
  },
  {
   "cell_type": "code",
   "execution_count": 19,
   "id": "9a20e956",
   "metadata": {
    "id": "OupbdNfBZgj8"
   },
   "outputs": [
    {
     "ename": "NameError",
     "evalue": "name 'area' is not defined",
     "output_type": "error",
     "traceback": [
      "\u001b[0;31m---------------------------------------------------------------------------\u001b[0m",
      "\u001b[0;31mNameError\u001b[0m                                 Traceback (most recent call last)",
      "Input \u001b[0;32mIn [19]\u001b[0m, in \u001b[0;36m<cell line: 13>\u001b[0;34m()\u001b[0m\n\u001b[1;32m      9\u001b[0m square_area(\u001b[38;5;241m2\u001b[39m)\n\u001b[1;32m     11\u001b[0m \u001b[38;5;66;03m# area is not within scope anymore and cannot be\u001b[39;00m\n\u001b[1;32m     12\u001b[0m \u001b[38;5;66;03m# accessed from this global scope\u001b[39;00m\n\u001b[0;32m---> 13\u001b[0m \u001b[38;5;28mprint\u001b[39m(\u001b[43marea\u001b[49m)\n",
      "\u001b[0;31mNameError\u001b[0m: name 'area' is not defined"
     ]
    }
   ],
   "source": [
    "# Compute the area of a square\n",
    "def square_area (side):\n",
    "    # area is a local variable in square_area\n",
    "    area = side ** 2\n",
    "    return area\n",
    "\n",
    "\n",
    "# Global scope\n",
    "square_area(2)\n",
    "\n",
    "# area is not within scope anymore and cannot be\n",
    "# accessed from this global scope\n",
    "print(area)"
   ]
  },
  {
   "cell_type": "markdown",
   "id": "3fec02b9",
   "metadata": {
    "id": "wN15PsQWZgj9"
   },
   "source": [
    "### Local variables cannot be read or modified from other local scopes\n",
    "\n",
    "A local variable in one function cannot be accessed from another function."
   ]
  },
  {
   "cell_type": "code",
   "execution_count": 13,
   "id": "e6db72ce",
   "metadata": {
    "id": "MSskMnEMZgj9"
   },
   "outputs": [
    {
     "ename": "NameError",
     "evalue": "name 'area' is not defined",
     "output_type": "error",
     "traceback": [
      "\u001b[0;31m---------------------------------------------------------------------------\u001b[0m",
      "\u001b[0;31mNameError\u001b[0m                                 Traceback (most recent call last)",
      "Input \u001b[0;32mIn [13]\u001b[0m, in \u001b[0;36m<cell line: 17>\u001b[0;34m()\u001b[0m\n\u001b[1;32m     15\u001b[0m square_area(s)\n\u001b[1;32m     16\u001b[0m \u001b[38;5;66;03m# area was deleted when the local scope of square_area was destroyed\u001b[39;00m\n\u001b[0;32m---> 17\u001b[0m \u001b[43mcube_volume\u001b[49m\u001b[43m(\u001b[49m\u001b[43ms\u001b[49m\u001b[43m)\u001b[49m\n",
      "Input \u001b[0;32mIn [13]\u001b[0m, in \u001b[0;36mcube_volume\u001b[0;34m(side)\u001b[0m\n\u001b[1;32m      8\u001b[0m \u001b[38;5;28;01mdef\u001b[39;00m \u001b[38;5;21mcube_volume\u001b[39m (side):\n\u001b[1;32m      9\u001b[0m     \u001b[38;5;66;03m# cube volume = area of base X side\u001b[39;00m\n\u001b[0;32m---> 10\u001b[0m     volume \u001b[38;5;241m=\u001b[39m \u001b[43marea\u001b[49m \u001b[38;5;241m*\u001b[39m side \u001b[38;5;66;03m# area is not defined within this scope\u001b[39;00m\n\u001b[1;32m     11\u001b[0m     \u001b[38;5;28;01mreturn\u001b[39;00m volume\n",
      "\u001b[0;31mNameError\u001b[0m: name 'area' is not defined"
     ]
    }
   ],
   "source": [
    "# Compute the area of a square\n",
    "def square_area (side):\n",
    "    # area is a local variable in square_area\n",
    "    area = side ** 2\n",
    "    return area\n",
    "\n",
    "# Compute the volume of a cube\n",
    "def cube_volume (side):\n",
    "    # cube volume = area of base X side\n",
    "    volume = area * side # area is not defined within this scope\n",
    "    return volume\n",
    "\n",
    "# Global scope\n",
    "s = 2\n",
    "square_area(s)\n",
    "# area was deleted when the local scope of square_area was destroyed\n",
    "cube_volume(s)"
   ]
  },
  {
   "cell_type": "markdown",
   "id": "ee35ee62",
   "metadata": {
    "id": "3N7LJyVHZgj-"
   },
   "source": [
    "### The same variable name can be used in different functions without causing a conflict"
   ]
  },
  {
   "cell_type": "code",
   "execution_count": 35,
   "id": "31d0bcc4",
   "metadata": {
    "id": "YXbvUrqjZgj-"
   },
   "outputs": [
    {
     "name": "stdout",
     "output_type": "stream",
     "text": [
      "square area = 4\n",
      "rectangle area = 6\n"
     ]
    }
   ],
   "source": [
    "# Compute the area of a square\n",
    "def square_area (side):\n",
    "    # area is a local variable in square_area\n",
    "    # area does not conflict with the variable area in rectangle_area\n",
    "    area = side ** 2\n",
    "    print(\"square area =\", area)\n",
    "\n",
    "# Compute the area of a rectangle\n",
    "def rectangle_area (length, width):\n",
    "    # area is a local variable in rectangle_area\n",
    "    # area does not conflict with the variable area in square_area\n",
    "    area = length * width\n",
    "    print(\"rectangle area =\", area)\n",
    "\n",
    "# Global scope\n",
    "square_area(2)\n",
    "rectangle_area(2, 3)"
   ]
  },
  {
   "cell_type": "markdown",
   "id": "04a7293e",
   "metadata": {
    "id": "k63DViFUZgj_"
   },
   "source": [
    "<font size=\"6\" color=\"#B24C00\"  face=\"verdana\"> <B>Task 9</B></font>\n",
    "\n",
    "## Local Variables"
   ]
  },
  {
   "cell_type": "markdown",
   "id": "8cbf5d4e",
   "metadata": {
    "id": "Ur6KvjJdZgj_"
   },
   "source": [
    "### Fix the Errors\n",
    "\n",
    "Return to the examples that generated errors and fix them so they function as expected."
   ]
  },
  {
   "cell_type": "code",
   "execution_count": 17,
   "id": "6e6ae363",
   "metadata": {
    "id": "U9ZEU7OOZgj_"
   },
   "outputs": [
    {
     "data": {
      "text/plain": [
       "4"
      ]
     },
     "execution_count": 17,
     "metadata": {},
     "output_type": "execute_result"
    }
   ],
   "source": [
    "# [ ] Fix the program below so it displays the area of a square with a side = 2\n",
    "\n",
    "# [ ] Compute the area of a square\n",
    "def square_area (side):\n",
    "    # area is a local variable in square_area\n",
    "    area = side ** 2\n",
    "    return area\n",
    "\n",
    "# [ ] Global scope\n",
    "square_area(2)\n",
    "\n",
    "# [ ] area is not within scope anymore and cannot be accessed here\n",
    "\n"
   ]
  },
  {
   "cell_type": "code",
   "execution_count": 39,
   "id": "53656647",
   "metadata": {
    "id": "q1Hkcbf1Zgj_"
   },
   "outputs": [
    {
     "name": "stdout",
     "output_type": "stream",
     "text": [
      "4\n",
      "8\n"
     ]
    }
   ],
   "source": [
    "# [ ] Fix the program below so it displays the area of a square with side = 2\n",
    "# [ ] and the volume of a cube with side = 2\n",
    "\n",
    "# [ ] Compute the area of a square\n",
    "def square_area (side):\n",
    "    # area is a local variable in square_area\n",
    "    area = side ** 2\n",
    "    print (area)\n",
    "\n",
    "# [ ] Compute the volume of a cube\n",
    "def cube_volume (side):\n",
    "    # cube volume = area of base X side\n",
    "    area = side**2\n",
    "    volume = area * side # area is not defined within this scope\n",
    "    print (volume)\n",
    "\n",
    "# Global scope\n",
    "s = 2\n",
    "square_area(s)\n",
    "# area was deleted when the local scope of square_area was destroyed\n",
    "cube_volume(s)"
   ]
  },
  {
   "cell_type": "markdown",
   "id": "82f95844",
   "metadata": {
    "id": "TuwA8S0DZgkA"
   },
   "source": [
    "<font size=\"6\" color=\"#B24C00\"  face=\"verdana\"> <B>Task 10</B></font>\n",
    "\n",
    "### Currency Converter\n",
    "\n",
    "- [ ] Complete the code in each of the 3 functions below\n",
    "- [ ] Look in the docstring to see the calculation to be calculated\n",
    "- [ ] Put your code where it says #TODO\n",
    "- [ ] You are simply assigning the variable 'value' to the appropriate expression"
   ]
  },
  {
   "cell_type": "code",
   "execution_count": 18,
   "id": "c52727a2",
   "metadata": {
    "id": "_DTgdv2zZgkA"
   },
   "outputs": [
    {
     "name": "stdout",
     "output_type": "stream",
     "text": [
      "9.977604\n",
      "8.873664\n",
      "1351.872\n"
     ]
    }
   ],
   "source": [
    "# [ ] The program below creates 3 functions that convert US Dollars to Euros, British Pounds, and Japanese Yen\n",
    "# [ ] Complete the functions USD2EUR, USD2GBP, USD2JPY so they all return the correct value using the given args and returns.\n",
    "# [ ] Retrieve an amount of dollars from the user and call each function from a separate print statement\n",
    "\n",
    "def USD2EUR(amount):\n",
    "    \"\"\"\n",
    "    Convert amount from US Dollars to Euros.\n",
    "    \n",
    "    Use 1 USD = 0.831467 EUR\n",
    "    \n",
    "    args:\n",
    "        amount: US dollar amount (float)\n",
    "        \n",
    "    returns:\n",
    "        value: the equivalent of amount in Euros (float)\n",
    "    \"\"\"\n",
    "    #TODO: Your code goes here\n",
    "    value = amount * .831467\n",
    "    return value\n",
    "\n",
    "def USD2GBP(amount):\n",
    "    \"\"\"\n",
    "    Convert amount from US Dollars to British Pounds.\n",
    "    \n",
    "    Use 1 USD = 0.739472 GBP\n",
    "    \n",
    "    args:\n",
    "        amount: US dollar amount (float)\n",
    "        \n",
    "    returns:\n",
    "        value: the equivalent of amount in British Pounds (float)\n",
    "    \"\"\"\n",
    "    #TODO: Your code goes here\n",
    "    value = amount * .739472\n",
    "    return value\n",
    "\n",
    "def USD2JPY(amount):\n",
    "    \"\"\"\n",
    "    Convert amount from US Dollars to Japanese Yen.\n",
    "    \n",
    "    Use 1 USD = 112.656 JPY\n",
    "    \n",
    "    args:\n",
    "        amount: US dollar amount (float)\n",
    "        \n",
    "    returns:\n",
    "        value: the equivalent of amount in Japanese Yen (float)\n",
    "    \"\"\"\n",
    "    #TODO: Your code goes here\n",
    "    value = amount * 112.656\n",
    "    return value\n",
    "\n",
    "# Now call each of your functions passing in the appropriate argument and see if they work\n",
    "print(USD2EUR(12))\n",
    "print(USD2GBP(12))\n",
    "print(USD2JPY(12))\n"
   ]
  },
  {
   "cell_type": "markdown",
   "id": "78a7b5e3",
   "metadata": {
    "id": "ZHL1nCbiZgkB"
   },
   "source": [
    "## Isolated Local Scopes\n",
    "\n",
    "When a function calls a subfunction, the current variables within the function scope are stored in memory, and another temporary local scope is created to accommodate the subfunction variables. The temporary local scope is destroyed when the subfunction returns; at that point, the original local scope becomes active again."
   ]
  },
  {
   "cell_type": "markdown",
   "id": "3ddf1e76",
   "metadata": {
    "id": "oj1eP-o8ZgkB"
   },
   "source": [
    "<font size=\"6\" color=\"#00A0B2\"  face=\"verdana\"> <B>Examples</B></font>\n",
    "\n",
    "In this example, the function `area_diff` computes the area difference between a rectangle and a square. The `area_diff` function calls `square_area` and `rectangle_area`. All three functions use a local variable named `area` without any conflict. As you can see, using the same variable name in all three functions does not create an issue.\n",
    "\n",
    "When `area_diff` calls `square_area`, the current local variables within `area_diff` are stored in a location in memory called the _stack_, then a new local scope is created with new variables for `square_area`. The local scope of `area_diff` is still alive; however, it's inaccessible until `square_area` returns. Both `area_diff` and `square_area` use the variable `area`; however, the two variables live in two different local scopes and cannot affect each other. After `square_area` returns, the local scope of `area_diff` becomes active again until calling `rectangle_area`, and the cycle repeats.\n",
    "\n",
    "In summary, a variable called `area` is used in all three functions without any conflict. The content of the three variables are kept separate because they belong to three different local scopes.\n",
    "\n",
    "[view video](https://youtu.be/zOyJKJ6JU0k)"
   ]
  },
  {
   "cell_type": "code",
   "execution_count": 1,
   "id": "84d4d469",
   "metadata": {
    "id": "xOJjyG_IZgkB"
   },
   "outputs": [
    {
     "name": "stdout",
     "output_type": "stream",
     "text": [
      "Area difference =  2\n"
     ]
    }
   ],
   "source": [
    "# Compute the area of a square\n",
    "def square_area (side):\n",
    "    # area is a local variable in square_area\n",
    "    # area does not conflict with the variable area in rectangle_area or area_diff\n",
    "    area = side ** 2\n",
    "    return area\n",
    "\n",
    "# Compute the area of a rectangle\n",
    "def rectangle_area (length, width):\n",
    "    # area is a local variable in rectangle_area\n",
    "    # area does not conflict with the variable area in square_aream or area_diff\n",
    "    area = length * width\n",
    "    return area\n",
    "\n",
    "# Compute the area difference between a square and a rectangle\n",
    "def area_diff (side, length, width):\n",
    "    # square area\n",
    "    area1 = square_area(side) # defines area in its local scope\n",
    "    \n",
    "    # rectangle area\n",
    "    area2 = rectangle_area(length, width) # defines area in its local scope\n",
    "    \n",
    "    # area difference \n",
    "    area = area2 - area1 # area is local in area_diff local scope\n",
    "    \n",
    "    return area\n",
    "\n",
    "# Call the area_diff function\n",
    "print(\"Area difference = \", area_diff(2, 2, 3))"
   ]
  },
  {
   "cell_type": "markdown",
   "id": "02a9da8c",
   "metadata": {
    "id": "oJC-PGzmZgkC"
   },
   "source": [
    "## Global Variables\n",
    "\n",
    "A global variable is assigned outside all functions and lives within the global scope of the program. It exists from the time of its assignment until the program ends. Global variables are visible to all functions within the module and can be used within their different local scopes. Additionally, global variables can be used by expressions in the global scope. The value of a global variable can be changed from the global scope, and can also be modified from a local scope using the `global` statement (i.e. `global x = 4`). If (`global`) was not used, a local variable would be defined instead, and any changes to this new variable will not affect the global variable that bears the same name.\n",
    "\n",
    "Global variables are highly discouraged because they make your code hard to understand and follow. Imagine that 20 functions written by different developers all change one global variable; tracking the functionality of the program will be very challenging. Global variables are covered in this lesson because some developers use them for very specialized applications when there are no alternatives. You can write very complicated Python scripts without using global variables. It is OK, however, to use constant global variables that are accessible from all functions but will not (and cannot) be changed.\n",
    "\n",
    "Generally speaking:\n",
    "* Global variables are accessible from local scopes\n",
    "* Global variables can be changed from the global scope \n",
    "* Global variables can be changed  from a local scope using the `global` statement\n",
    "* If a local variable shares the same name with a global variable, changes in the local will not affect the global"
   ]
  },
  {
   "cell_type": "markdown",
   "id": "12184d47",
   "metadata": {
    "id": "XeoxORQrZgkC"
   },
   "source": [
    "<font size=\"6\" color=\"#00A0B2\"  face=\"verdana\"> <B>Examples</B></font>\n",
    "\n",
    "In the following examples, you will see how to define, read, and modify global variables."
   ]
  },
  {
   "cell_type": "markdown",
   "id": "98bdc765",
   "metadata": {
    "id": "vsSFknsFZgkC"
   },
   "source": [
    "## Global Variables\n",
    "\n",
    "### Global variables are accessible from local scopes"
   ]
  },
  {
   "cell_type": "markdown",
   "id": "dd78f19d",
   "metadata": {
    "id": "erpn2i_DZgkC"
   },
   "source": [
    "#### Numeric variables"
   ]
  },
  {
   "cell_type": "code",
   "execution_count": 3,
   "id": "fe1f9f6e",
   "metadata": {
    "id": "goGgWuskZgkD"
   },
   "outputs": [
    {
     "name": "stdout",
     "output_type": "stream",
     "text": [
      "circle area = 50.24\n"
     ]
    }
   ],
   "source": [
    "# Global variable\n",
    "pi = 3.14\n",
    "\n",
    "# Compute the area of a circle\n",
    "def circle_area (radius):\n",
    "    # pi is accessible from this local scope\n",
    "    area = pi * radius ** 2\n",
    "    return area\n",
    "\n",
    "# Global scope\n",
    "a = circle_area(4)\n",
    "print(\"circle area =\", a)"
   ]
  },
  {
   "cell_type": "markdown",
   "id": "7cc1d7c7",
   "metadata": {
    "id": "hSjMJc19ZgkD"
   },
   "source": [
    "#### String variables"
   ]
  },
  {
   "cell_type": "code",
   "execution_count": 5,
   "id": "3d3b4ffa",
   "metadata": {
    "id": "_GhrHmJ3ZgkD"
   },
   "outputs": [
    {
     "name": "stdout",
     "output_type": "stream",
     "text": [
      "Number of vowels in \"Monty Python\" = 4\n"
     ]
    }
   ],
   "source": [
    "# Global variable\n",
    "vowels = 'AaEeIiOoUiYy'\n",
    "\n",
    "# Count the number of vowels in a sentence\n",
    "def count_vowels(sentence):\n",
    "    # vowels is accessible from this local scope\n",
    "    count = 0\n",
    "    for c in sentence:\n",
    "        if c in vowels:\n",
    "            count = count + 1\n",
    "    return count\n",
    "\n",
    "# Global scope\n",
    "s = 'Monty Python'\n",
    "print('Number of vowels in \"{:s}\" = {:d}'.format(s, count_vowels(s)))"
   ]
  },
  {
   "cell_type": "markdown",
   "id": "b19ee5f9",
   "metadata": {
    "id": "DaJ8AJ0HZgkD"
   },
   "source": [
    "### Global variables can be changed from a local scope\n",
    "When the value of a global variable is changed from a local scope, it stays changed even after the local scope has been destroyed."
   ]
  },
  {
   "cell_type": "markdown",
   "id": "fd874c77",
   "metadata": {
    "id": "kzOO9fMnZgkD"
   },
   "source": [
    "#### Numeric variables"
   ]
  },
  {
   "cell_type": "code",
   "execution_count": 7,
   "id": "5a7dcf14",
   "metadata": {
    "id": "3K_rZAF4ZgkD"
   },
   "outputs": [
    {
     "name": "stdout",
     "output_type": "stream",
     "text": [
      "pi = 3.14\n",
      "More accurate circle area = 50.26548245744\n",
      "Updated pi = 3.14159265359\n"
     ]
    }
   ],
   "source": [
    "# Global variable\n",
    "pi = 3.14\n",
    "\n",
    "# Compute the area of a circle\n",
    "def circle_area (radius):\n",
    "    # Define pi as a global variable in this scope\n",
    "    global pi \n",
    "    pi = 3.14159265359 # More accurate pi\n",
    "    area = pi * radius ** 2\n",
    "    return area\n",
    "\n",
    "# Global scope\n",
    "print(\"pi =\", pi)\n",
    "a = circle_area(4)\n",
    "print(\"More accurate circle area =\", a)\n",
    "print(\"Updated pi =\", pi) # Global variable pi changed in circle_area"
   ]
  },
  {
   "cell_type": "markdown",
   "id": "5c38974b",
   "metadata": {
    "id": "eaOSyT0hZgkD"
   },
   "source": [
    "#### String variables"
   ]
  },
  {
   "cell_type": "code",
   "execution_count": null,
   "id": "d9b8897f",
   "metadata": {
    "id": "v5gow0xvZgkD"
   },
   "outputs": [],
   "source": [
    "# String global variable\n",
    "planet = 'Mercury'\n",
    "\n",
    "# function to change the current planet\n",
    "def planet_change(new_planet):\n",
    "    # Define planet as a global variable in this scope\n",
    "    global planet\n",
    "    planet = new_planet\n",
    "   \n",
    "# Global scope\n",
    "print(\"Planet =\", planet)\n",
    "planet_change('Mars')\n",
    "print(\"Planet =\", planet)"
   ]
  },
  {
   "cell_type": "markdown",
   "id": "d830f8bf",
   "metadata": {
    "id": "EQjJGj8vZgkD"
   },
   "source": [
    "### Assigning a value to a global variable in a local scope without `global`\n",
    "Changes to a local variable sharing the same name as a global variable are not reflected in the global variable."
   ]
  },
  {
   "cell_type": "markdown",
   "id": "21953ba2",
   "metadata": {
    "id": "CI-HhhpIZgkD"
   },
   "source": [
    "#### Numeric variables"
   ]
  },
  {
   "cell_type": "code",
   "execution_count": null,
   "id": "d092173f",
   "metadata": {
    "id": "OUWR1SBzZgkD"
   },
   "outputs": [],
   "source": [
    "# Global variable\n",
    "pi = 3.14\n",
    "\n",
    "# Compute the area of a circle\n",
    "def circle_area (radius):\n",
    "    # Assigning a value to pi without (global) makes it a local variable\n",
    "    pi = 3.14159265359 # more accurate pi\n",
    "    area = pi * radius ** 2\n",
    "    return area\n",
    "\n",
    "# Global scope\n",
    "print(\"pi =\", pi)\n",
    "a = circle_area(4)\n",
    "print(\"More accurate circle area =\", a)\n",
    "print(\"Unchanged pi =\", pi) # Global pi didn't change"
   ]
  },
  {
   "cell_type": "markdown",
   "id": "cb081572",
   "metadata": {
    "id": "McCj_iOaZgkE"
   },
   "source": [
    "#### String variables"
   ]
  },
  {
   "cell_type": "code",
   "execution_count": null,
   "id": "1e89114b",
   "metadata": {
    "id": "pbW4M9V_ZgkE"
   },
   "outputs": [],
   "source": [
    "# String global variable\n",
    "planet = 'Mercury'\n",
    "\n",
    "# Function to change the current planet\n",
    "def planet_change(new_planet):\n",
    "    planet = new_planet # planet is a local variable\n",
    "   \n",
    "# Global scope\n",
    "print(\"Planet = \", planet)\n",
    "planet_change('Mars')\n",
    "print(\"Planet = \", planet)"
   ]
  },
  {
   "cell_type": "markdown",
   "id": "e33a907e",
   "metadata": {
    "id": "dmxo2IIcZgkE"
   },
   "source": [
    "### Global variables can be changed from the global scope"
   ]
  },
  {
   "cell_type": "markdown",
   "id": "9c0f6aa4",
   "metadata": {
    "id": "uPRHcDMWZgkE"
   },
   "source": [
    "#### Numeric variables"
   ]
  },
  {
   "cell_type": "code",
   "execution_count": null,
   "id": "27a15ed1",
   "metadata": {
    "id": "k6BUrHuiZgkE"
   },
   "outputs": [],
   "source": [
    "# Global variable\n",
    "pi = 3.14\n",
    "\n",
    "# Compute the area of a circle\n",
    "def circle_area (radius):\n",
    "    # pi is accessible from this local scope\n",
    "    area = pi * radius ** 2\n",
    "    return area\n",
    "\n",
    "# Global scope\n",
    "# pi is changed before it is used in circle_area\n",
    "pi = 0\n",
    "a = circle_area(4)\n",
    "print(\"pi =\", pi)\n",
    "print(\"Wrong circle area =\", a)\n"
   ]
  },
  {
   "cell_type": "markdown",
   "id": "76771f89",
   "metadata": {
    "id": "lb1qCKULZgkE"
   },
   "source": [
    "#### String variables"
   ]
  },
  {
   "cell_type": "code",
   "execution_count": null,
   "id": "074b778f",
   "metadata": {
    "id": "xKMW9PmOZgkE"
   },
   "outputs": [],
   "source": [
    "# String global variable\n",
    "planet = 'Mercury'\n",
    "\n",
    "# Function to change the current planet\n",
    "def planet_change(new_planet):\n",
    "    planet = new_planet # planet is a local variable\n",
    "   \n",
    "print(\"Planet = \", planet)\n",
    "planet_change('Mars')\n",
    "print(\"Planet = \", planet) # Global variable (planet) did not change\n",
    "planet = \"Earth\" # Changing global variable (planet)\n",
    "print(\"Planet = \", planet)"
   ]
  },
  {
   "cell_type": "markdown",
   "id": "479a4172",
   "metadata": {
    "id": "tcKoKrifZgkE"
   },
   "source": [
    "<font size=\"6\" color=\"B24C00 \"  face=\"verdana\"> <B>Task 11</B></font>\n",
    "\n",
    "## Global Variables"
   ]
  },
  {
   "cell_type": "markdown",
   "id": "b64ab41d",
   "metadata": {
    "id": "l4GtoKBlZgkF"
   },
   "source": [
    "### Part 1 - Currency Converter\n",
    "\n",
    "- [ ] Complete the function USD2INR to perform the conversion from Dollars to Rupees\n",
    "- [ ] Use the global variable XCHANGE_RATE in your calculation expression"
   ]
  },
  {
   "cell_type": "code",
   "execution_count": 10,
   "id": "6480ac99",
   "metadata": {
    "id": "QYKmuhs_ZgkF"
   },
   "outputs": [
    {
     "name": "stdout",
     "output_type": "stream",
     "text": [
      "Current exchange rate $1 USD = 63.6856 rupees\n",
      "$ 220 = 14010.832 rupees\n"
     ]
    }
   ],
   "source": [
    "# [ ] The following program converts an amount from US Dollars to Indian Rupees using the XCHANGE_RATE variable\n",
    "# [ ] Complete the function USD2INR so it performs the conversion\n",
    "\n",
    "XCHANGE_RATE = 63.6856 # = 1 USD\n",
    "\n",
    "def USD2INR(amount):\n",
    "    \"\"\"\n",
    "    Convert amount from US Dollars to Indian Rupees.\n",
    "    \n",
    "    Use XCHANGE_RATE\n",
    "    \n",
    "    args:\n",
    "        amount: US dollar amount (float)\n",
    "        \n",
    "    returns:\n",
    "        value: the equivalent of amount in Indian Rupees (float)\n",
    "    \"\"\"\n",
    "    #TODO: Your code goes here\n",
    "    value = amount * XCHANGE_RATE\n",
    "    return value\n",
    "\n",
    "print(\"Current exchange rate $1 USD =\", XCHANGE_RATE, \"rupees\")\n",
    "amount = 220 #USD\n",
    "inr = USD2INR(amount)\n",
    "print(\"$\",amount,\"=\",inr,\"rupees\")\n"
   ]
  },
  {
   "cell_type": "markdown",
   "id": "07f31c5e",
   "metadata": {},
   "source": [
    "### Part 2 - Change a global variable in a function\n",
    "\n",
    "- [ ] Complete the function USD2INR to perform the conversion from Dollars to Rupees\n",
    "- [ ] Use the global variable XCHANGE_RATE in your calculation expression\n",
    "- [ ] Complete the change_rate function to change the value of the global variable XCHANGE_RATE to the value specified\n",
    "- [ ] Check to see if the results are different from the first function call to the second"
   ]
  },
  {
   "cell_type": "code",
   "execution_count": 12,
   "id": "415b8abd",
   "metadata": {
    "id": "In0o3NvDZgkF"
   },
   "outputs": [
    {
     "name": "stdout",
     "output_type": "stream",
     "text": [
      "Current exchange rate $1 USD = 63.6856 rupees\n",
      "$ 220 = 14010.832 rupees\n",
      "\n",
      "After changing the exchange rate $1 USD = 63.6782 rupees\n",
      "$ 220 = 14009.204 rupees\n"
     ]
    }
   ],
   "source": [
    "# [ ] The following program calculates the equivalent of $220 USD in Indian Rupees, \n",
    "# [ ] then updates the exchange rate and performs the conversion again\n",
    "# [ ] Complete the functions USD2INR and change_rate so they function according to the specifications below\n",
    "\n",
    "XCHANGE_RATE = 63.6856 # = 1 USD\n",
    "\n",
    "def USD2INR(amount):\n",
    "    \"\"\"\n",
    "    Convert amount from US Dollars to Indian Rupees.\n",
    "    \n",
    "    Use XCHANGE_RATE\n",
    "    \n",
    "    args:\n",
    "        amount: US dollar amount (float)\n",
    "        \n",
    "    returns:\n",
    "        value: the equivalent of amount in Indian Rupees (float)\n",
    "    \"\"\"\n",
    "    #TODO: Your code goes here\n",
    "    value = amount * XCHANGE_RATE\n",
    "    return value\n",
    "\n",
    "def change_rate():\n",
    "    \"\"\"\n",
    "    Change the exchange rate to 63.6782\n",
    "    \n",
    "    args:\n",
    "        None\n",
    "    \n",
    "    returns:\n",
    "        None\n",
    "    \"\"\"\n",
    "    #TODO: Your code goes here\n",
    "    global XCHANGE_RATE\n",
    "    XCHANGE_RATE = 63.6782\n",
    "    \n",
    "print(\"Current exchange rate $1 USD =\", XCHANGE_RATE, \"rupees\")\n",
    "amount = 220 #USD\n",
    "inr = USD2INR(amount)\n",
    "print(\"$\",amount,\"=\",inr,\"rupees\")\n",
    "\n",
    "print()\n",
    "change_rate()\n",
    "\n",
    "print(\"After changing the exchange rate $1 USD =\", XCHANGE_RATE, \"rupees\")\n",
    "inr = USD2INR(amount)\n",
    "print(\"$\",amount,\"=\",inr,\"rupees\")\n"
   ]
  }
 ],
 "metadata": {
  "anaconda-cloud": {},
  "colab": {
   "collapsed_sections": [],
   "name": "Updated_40460_Mod02_2.1.ipynb",
   "provenance": []
  },
  "kernelspec": {
   "display_name": "anaconda-2022.05-py39",
   "language": "python",
   "name": "conda-env-anaconda-2022.05-py39-py"
  },
  "language_info": {
   "codemirror_mode": {
    "name": "ipython",
    "version": 3
   },
   "file_extension": ".py",
   "mimetype": "text/x-python",
   "name": "python",
   "nbconvert_exporter": "python",
   "pygments_lexer": "ipython3",
   "version": "3.9.12"
  }
 },
 "nbformat": 4,
 "nbformat_minor": 5
}
