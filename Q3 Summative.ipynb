{
 "cells": [
  {
   "cell_type": "markdown",
   "id": "78613dc3-883d-42d3-8026-eefad16b481e",
   "metadata": {},
   "source": [
    "## Q3 Summative Challenge\n",
    "\n",
    "This project will count as a major assessment.  Read each task carefully and type your code into the code cells provided.  Make sure to complete the tasks exactly as described.  Use the provided variable names and values that are specified.\n",
    "\n",
    "**Note: Once this challenge begins, do not navigate away from this screen.  Moreover, do not use the Anaconda Assistant during this project.  You are to have this challenge and only this challenge open for the entirety.**"
   ]
  },
  {
   "cell_type": "markdown",
   "id": "cd7b2641-6ffe-4b37-a3a0-a611521a7ba1",
   "metadata": {},
   "source": [
    "1. Create a variable called \"first_name\" and assign it the value equal to your name as a string."
   ]
  },
  {
   "cell_type": "code",
   "execution_count": 3,
   "id": "e3964bcc-5adc-470b-a1f9-06245bc6b1df",
   "metadata": {},
   "outputs": [],
   "source": [
    "# Write your code here\n",
    "first_name = \"Sachin\""
   ]
  },
  {
   "cell_type": "markdown",
   "id": "5d5c31c0-099c-49f4-bea4-01446a528463",
   "metadata": {},
   "source": [
    "2. Create a variable called \"age\" and assign it the value equal to your age as an integer."
   ]
  },
  {
   "cell_type": "code",
   "execution_count": 5,
   "id": "89ada356-738c-4bb4-a8ff-b8bf43de1ae4",
   "metadata": {},
   "outputs": [],
   "source": [
    "# Write your code here\n",
    "age = 17"
   ]
  },
  {
   "cell_type": "markdown",
   "id": "b2e64130-24d8-44c2-a603-938f4230f525",
   "metadata": {},
   "source": [
    "3. Create a formatted string called \"out_string\" with the following structure:\n",
    "\n",
    "   \"My name is ________ and I am __ years old.\"\n",
    "\n",
    "Replace the _________ with your name and age respectively using the variables you created in steps 1 and 2."
   ]
  },
  {
   "cell_type": "code",
   "execution_count": 9,
   "id": "1628dbc2-fa4f-45a0-8bdc-f21f4d7b93c0",
   "metadata": {},
   "outputs": [
    {
     "name": "stdout",
     "output_type": "stream",
     "text": [
      "My name is Sachin and I am 17 years old.\n"
     ]
    }
   ],
   "source": [
    "# Write your code here\n",
    "print(f\"My name is {first_name} and I am {age} years old.\")"
   ]
  },
  {
   "cell_type": "markdown",
   "id": "0a31b885-6bc3-4bae-98e7-214ff72455e5",
   "metadata": {},
   "source": [
    "4. Use any method to import the math module."
   ]
  },
  {
   "cell_type": "code",
   "execution_count": 13,
   "id": "8bf130b0-c214-4005-9a3b-f3c497911ccd",
   "metadata": {},
   "outputs": [],
   "source": [
    "# Write your code here\n",
    "import math"
   ]
  },
  {
   "cell_type": "markdown",
   "id": "bea97a00-a31a-4aa6-8c97-580857bfc0a3",
   "metadata": {},
   "source": [
    "5. Print the type of pi, using math to access the value of pi."
   ]
  },
  {
   "cell_type": "code",
   "execution_count": 17,
   "id": "7b30cb46-0bc0-4bec-ba02-36f381e2c7d6",
   "metadata": {},
   "outputs": [
    {
     "name": "stdout",
     "output_type": "stream",
     "text": [
      "<class 'float'>\n"
     ]
    }
   ],
   "source": [
    "# Write your code here\n",
    "print(type(math.pi))"
   ]
  },
  {
   "cell_type": "markdown",
   "id": "417c9c1d-8d36-4f0b-b477-0c64d8506c7e",
   "metadata": {},
   "source": [
    "6. define a function called \"func1\" that has no parameters and prints out the formatted string you created in #3 above."
   ]
  },
  {
   "cell_type": "code",
   "execution_count": 19,
   "id": "7548ad47-dd0b-4945-a207-db862bcdf2bd",
   "metadata": {},
   "outputs": [
    {
     "name": "stdout",
     "output_type": "stream",
     "text": [
      "My name is Sachin and I am 17 years old.\n"
     ]
    }
   ],
   "source": [
    "# Write your code here\n",
    "def func1 ():\n",
    "    print(f\"My name is {first_name} and I am {age} years old.\")\n",
    "\n",
    "func1()"
   ]
  },
  {
   "cell_type": "markdown",
   "id": "6d1d788c-d1a7-4f9f-8ddf-b518cc100a24",
   "metadata": {},
   "source": [
    "7. Create an if/else block that will print the message \"I am old enough to drive\" if your age is greater than or equal to 16 otherwise it prints \"I am not old enough to drive\".  Make sure to use the age variable you created above."
   ]
  },
  {
   "cell_type": "code",
   "execution_count": 23,
   "id": "404cf82f-b1f2-461b-8c21-8f4ef73f96d1",
   "metadata": {},
   "outputs": [
    {
     "name": "stdout",
     "output_type": "stream",
     "text": [
      "I am old enough to drive\n"
     ]
    }
   ],
   "source": [
    "# Enter your code here\n",
    "if age >= 16:\n",
    "    print(\"I am old enough to drive\")\n",
    "else:\n",
    "    print(\"I am not old enough to drive\")"
   ]
  },
  {
   "cell_type": "markdown",
   "id": "a5d325f3-1048-4398-abc2-68d7bf11b0ad",
   "metadata": {},
   "source": [
    "8. Create a list called \"evens\" that consists of the even integers from 2 to 8 inclusive."
   ]
  },
  {
   "cell_type": "code",
   "execution_count": 59,
   "id": "e4fba77b-d3ce-400f-8de6-a82f5b5f1586",
   "metadata": {},
   "outputs": [],
   "source": [
    "# Enter your code here\n",
    "evens = [2, 4, 6, 8]"
   ]
  },
  {
   "cell_type": "markdown",
   "id": "e3634f94-3f1b-4295-aea9-72657099789a",
   "metadata": {},
   "source": [
    "9. Create an empty list called \"odds\""
   ]
  },
  {
   "cell_type": "code",
   "execution_count": 61,
   "id": "22a7b0f0-7bb9-420d-a461-98f9cfe56cbd",
   "metadata": {},
   "outputs": [],
   "source": [
    "# Enter your code here\n",
    "odds = []"
   ]
  },
  {
   "cell_type": "markdown",
   "id": "37623c9e-0c89-41da-b706-12f74b1df67a",
   "metadata": {},
   "source": [
    "10. Loop through the list \"evens\" using a for loop.  Use your loop to populate the list \"odds\" by adding each element of \"evens\" + 1 to the \"odds\" list."
   ]
  },
  {
   "cell_type": "code",
   "execution_count": 63,
   "id": "720ac58e-8a30-40a7-bd97-1d9af91b5281",
   "metadata": {},
   "outputs": [
    {
     "name": "stdout",
     "output_type": "stream",
     "text": [
      "[3, 5, 7, 9]\n"
     ]
    }
   ],
   "source": [
    "# Enter your code here\n",
    "for num in evens:\n",
    "    odds.append(num+1)\n",
    "\n",
    "print(odds)"
   ]
  },
  {
   "cell_type": "markdown",
   "id": "087519c0-6e41-48f9-97cb-b74053bc2ca1",
   "metadata": {},
   "source": [
    "11. Define a function called \"is_even\" and takes a single parameter which is an integer.  The function will determine if the integer is even or odd and return either True or False respectively."
   ]
  },
  {
   "cell_type": "code",
   "execution_count": null,
   "id": "d22abb24-73c3-4f6b-8ec5-33b17a97d93b",
   "metadata": {},
   "outputs": [],
   "source": [
    "# Enter your code here\n",
    "def is_even (int):\n",
    "    return int%2 == 0"
   ]
  },
  {
   "cell_type": "markdown",
   "id": "d80260ab-547e-4a8e-aa0d-8afdbbe75587",
   "metadata": {},
   "source": [
    "12. Use the code from #7 above but change it so that it will print \"I can get my permit\" in the event that your age is 15.  Otherwise, it will function in the same way as before."
   ]
  },
  {
   "cell_type": "code",
   "execution_count": 65,
   "id": "495bf766-f863-4ba4-8263-ce70d0064539",
   "metadata": {},
   "outputs": [
    {
     "name": "stdout",
     "output_type": "stream",
     "text": [
      "I am old enough to drive\n"
     ]
    }
   ],
   "source": [
    "# Enter your code here\n",
    "if age == 15:\n",
    "    print(\"I can get my permit\")\n",
    "if age >= 16:\n",
    "    print(\"I am old enough to drive\")\n",
    "else:\n",
    "    print(\"I am not old enough to drive\")"
   ]
  },
  {
   "cell_type": "markdown",
   "id": "f7d9a036-2760-42ba-a553-d4c7273a8dac",
   "metadata": {},
   "source": [
    "13. Use indexing of the list \"evens\" to print out the product of the first and last elements of the list."
   ]
  },
  {
   "cell_type": "code",
   "execution_count": 67,
   "id": "687f8850-50ea-42f3-8d1f-68e806d551b0",
   "metadata": {},
   "outputs": [
    {
     "name": "stdout",
     "output_type": "stream",
     "text": [
      "10\n"
     ]
    }
   ],
   "source": [
    "# Enter your code here\n",
    "product = evens[0] + evens[-1]\n",
    "print(product)"
   ]
  },
  {
   "cell_type": "markdown",
   "id": "4d3a5e83-c0c5-4d80-a9a2-4b1da8619672",
   "metadata": {},
   "source": [
    "14. Write an expression that gets input from the user from the user.  The result will be saved in the variable \"answer\".  The prompt for your input function will be \"Enter a number between 1 and 100\"."
   ]
  },
  {
   "cell_type": "code",
   "execution_count": 69,
   "id": "e9eca8b3-2f62-49ef-bc03-a7049161ebe6",
   "metadata": {},
   "outputs": [
    {
     "name": "stdin",
     "output_type": "stream",
     "text": [
      "Enter a number between 1 and 100 77\n"
     ]
    }
   ],
   "source": [
    "# Enter your code here\n",
    "answer = int(input(\"Enter a number between 1 and 100:\"))"
   ]
  },
  {
   "cell_type": "markdown",
   "id": "1c7359ff-af56-48a0-9058-76237c1735ff",
   "metadata": {},
   "source": [
    "15. Take a look at the code inside of the docstring below.  Replace the _______ with a keyword that would prevent this code from entering an endless loop.  Leave the code inside of the docstring - you do not need to run this code."
   ]
  },
  {
   "cell_type": "code",
   "execution_count": 83,
   "id": "51d4a722-eb44-4bc2-acae-428633a4b1f2",
   "metadata": {},
   "outputs": [
    {
     "data": {
      "text/plain": [
       "'\\n\\nwhile True:\\n    pwd = input(\"Enter the password\")\\n    if pwd == \"python24\":\\n        return (\"Correct\")\\n    else:\\n        print(\"Incorrect, try again!\")\\n\\n'"
      ]
     },
     "execution_count": 83,
     "metadata": {},
     "output_type": "execute_result"
    }
   ],
   "source": [
    "'''\n",
    "\n",
    "while True:\n",
    "    pwd = input(\"Enter the password\")\n",
    "    if pwd == \"python24\":\n",
    "        return (\"Correct\")\n",
    "    else:\n",
    "        print(\"Incorrect, try again!\")\n",
    "\n",
    "'''"
   ]
  },
  {
   "cell_type": "markdown",
   "id": "29701227-99f9-42cd-9389-339f2b28ebdf",
   "metadata": {},
   "source": [
    "16. Correct the errors in the code below."
   ]
  },
  {
   "cell_type": "code",
   "execution_count": 89,
   "id": "c0ad85da-857e-4034-9d0d-f2d56b61da08",
   "metadata": {},
   "outputs": [
    {
     "name": "stdout",
     "output_type": "stream",
     "text": [
      "5\n",
      "10\n",
      "15\n",
      "20\n",
      "25\n",
      "30\n",
      "35\n",
      "40\n",
      "45\n",
      "50\n"
     ]
    }
   ],
   "source": [
    "for n in range(1,11):\n",
    "    print(n * 5)"
   ]
  },
  {
   "cell_type": "markdown",
   "id": "5dbb58c9-cc89-4160-895a-fd460f289745",
   "metadata": {},
   "source": [
    "17.  Create a variable called \"x\" that is equal to a floating point value."
   ]
  },
  {
   "cell_type": "code",
   "execution_count": 91,
   "id": "8929ca9b-3fe8-46bb-9851-b12a1663b921",
   "metadata": {},
   "outputs": [],
   "source": [
    "# Enter your code here\n",
    "x = 6.234"
   ]
  },
  {
   "cell_type": "markdown",
   "id": "6017cabd-e89e-48da-b617-36dcf56b6f32",
   "metadata": {},
   "source": [
    "18. Replace the ______ with the correct keyword/operator in the code below.  Also, fix any errors that prevent the code from running. The code should print \"Hello World!\" and the value of n 10 times."
   ]
  },
  {
   "cell_type": "code",
   "execution_count": 97,
   "id": "ebd6d18c-a956-4534-ad41-88cfcadf8172",
   "metadata": {},
   "outputs": [
    {
     "name": "stdout",
     "output_type": "stream",
     "text": [
      "Hello World!, 0\n",
      "Hello World!, 1\n",
      "Hello World!, 2\n",
      "Hello World!, 3\n",
      "Hello World!, 4\n",
      "Hello World!, 5\n",
      "Hello World!, 6\n",
      "Hello World!, 7\n",
      "Hello World!, 8\n",
      "Hello World!, 9\n"
     ]
    }
   ],
   "source": [
    "n = 0\n",
    "\n",
    "while n < 10:\n",
    "    print(f\"Hello World!, {n}\")\n",
    "    n += 1"
   ]
  },
  {
   "cell_type": "markdown",
   "id": "672d2c47-196f-48d0-8a57-32c848279fe0",
   "metadata": {},
   "source": [
    "19.Replace the _____ with correct keywords/expressions. Replace the ? with the correct index. Also, fix any errors to get this code block running."
   ]
  },
  {
   "cell_type": "code",
   "execution_count": 105,
   "id": "a444c95b-f72d-4b3e-9183-aea198aa9769",
   "metadata": {},
   "outputs": [
    {
     "name": "stdin",
     "output_type": "stream",
     "text": [
      "Enter a city Raleigh\n"
     ]
    },
    {
     "name": "stdout",
     "output_type": "stream",
     "text": [
      "I live there!\n"
     ]
    }
   ],
   "source": [
    "answer = input(\"Enter a city\")\n",
    "city = \"Raleigh\"\n",
    "\n",
    "if answer == city:\n",
    "    print(\"I live there!\")\n",
    "elif answer.startswith(city[0]):\n",
    "    print(\"You are close\")\n",
    "else:\n",
    "    print(\"Not even close\")"
   ]
  },
  {
   "cell_type": "markdown",
   "id": "f383ef0a-8ec3-49e0-af9d-b88ea2e70be9",
   "metadata": {},
   "source": [
    "20.  Change the operator in the range function so that this loop prints 5 times without error.  do not change the numbers, only the operator."
   ]
  },
  {
   "cell_type": "code",
   "execution_count": 111,
   "id": "d9a22da1-65a8-44aa-9cb4-6795a0ea2068",
   "metadata": {},
   "outputs": [
    {
     "name": "stdout",
     "output_type": "stream",
     "text": [
      "0\n",
      "1\n",
      "2\n",
      "3\n",
      "4\n"
     ]
    }
   ],
   "source": [
    "for n in range(16//3):\n",
    "    print(n)"
   ]
  }
 ],
 "metadata": {
  "kernelspec": {
   "display_name": "anaconda-panel-2023.05-py310",
   "language": "python",
   "name": "conda-env-anaconda-panel-2023.05-py310-py"
  },
  "language_info": {
   "codemirror_mode": {
    "name": "ipython",
    "version": 3
   },
   "file_extension": ".py",
   "mimetype": "text/x-python",
   "name": "python",
   "nbconvert_exporter": "python",
   "pygments_lexer": "ipython3",
   "version": "3.11.5"
  }
 },
 "nbformat": 4,
 "nbformat_minor": 5
}
