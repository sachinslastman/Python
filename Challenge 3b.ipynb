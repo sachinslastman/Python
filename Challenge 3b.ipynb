{
 "cells": [
  {
   "cell_type": "markdown",
   "id": "4ab10ed8-8bfb-4e0f-88ee-a930dd3e299c",
   "metadata": {
    "editable": true,
    "slideshow": {
     "slide_type": ""
    },
    "tags": []
   },
   "source": [
    "### Challenge 3b - The ROT13 cypher\n",
    "\n",
    "The ROT13 cypher is a special case of the Caesar Cypher.  In the ROT13 cypher, each character in the phrase is converted to another character that is shifted to the right by 13 places. For example, the letter \"e\" would be changed to \"r\" becuase the \"r\" occurs 13 places in the alphabet after the \"e\".\n",
    "\n",
    "<pre>\n",
    "  0  1  2  3  4  5  6  7  8  9 10 11 12 13\n",
    "  e  f  g  h  i  j  k  l  m  n  o  p  q  r\n",
    "</pre>\n",
    "\n",
    "The ROT13 is a simple to decode since you just run the encrypted string back through the same cypher and you will get the original message. In your function, we will restrict the input to lower-case letters only.\n",
    "\n",
    "The way to do this in Python is to first convert the character into its Unicode point value like this:\n",
    "\n",
    "`ord(char)`  For example `ord('e')` returns 101.  If we then shift it 13 to the right like this: `ord('e') + 13` we get 114.  We can then convert that back into a letter character using `chr(114)`, which is 'r'.\n",
    "\n",
    "Your challenge is to create a function called \"rot13\" that will take a string as an argument (made up of lower-case letters).  It will change each of the characters in the string using the rot13 allgorithm described above and then return back the encrypted string.  Here are they key specifications of your function:\n",
    "\n",
    "1) Each character in the input string will be shifted right 13 places.\n",
    "2) If the resulting shift of 13 places exceeds 'z', your algorithm should return back to the beginning of the alphabet.  For example shifting 'x' by 13 should return 'k'.\n",
    "3) Your function will return the encrypted string.\n",
    "\n",
    "For an added challenge, enable your function to handle capital letters and numbers/symbols.  In the ROT13 cypher, numbers/symbols are not shifted.  Note that the Unicode point values of capital letters is different than lower-case letters."
   ]
  },
  {
   "cell_type": "code",
   "execution_count": 231,
   "id": "bcd19de5-b7b2-4699-b789-88e89b67041c",
   "metadata": {},
   "outputs": [
    {
     "name": "stdout",
     "output_type": "stream",
     "text": [
      "Encrypted: hello-world\n"
     ]
    }
   ],
   "source": [
    "# Write your code here\n",
    "\n",
    "# Define your function here\n",
    "def rot13 (txt):\n",
    "    # Initialize your variable to hold the encrypted string\n",
    "    letters = []\n",
    "    strng = \"\"\n",
    "    # Loop through each of the letters in the input string\n",
    "    for i in range (len(txt)):\n",
    "        # Calculate the shifted unicode value\n",
    "        tempLet = ord(txt[i]) + 13\n",
    "        # Check if the shifted Unicode value is greater than the unicode value of 'z'\n",
    "        if tempLet > 122:\n",
    "        # Adjust the shifted Unicode value as needed\n",
    "            tempLet = tempLet - 26\n",
    "        # Add the character corresponding to the shifted Unicode value to your encrypted string\n",
    "        \n",
    "        letters.append(chr(tempLet))\n",
    "        \n",
    "    # return the encrypted string\n",
    "    return(strng.join(letters))\n",
    "\n",
    "# Example usage:\n",
    "text = \"uryyb jbeyq\"\n",
    "encrypted_text = rot13(text)\n",
    "print(\"Encrypted:\", encrypted_text)\n"
   ]
  },
  {
   "cell_type": "code",
   "execution_count": null,
   "id": "e61498a1-c5d4-492e-8140-e0bfb963b0c7",
   "metadata": {},
   "outputs": [],
   "source": []
  }
 ],
 "metadata": {
  "kernelspec": {
   "display_name": "anaconda-panel-2023.05-py310",
   "language": "python",
   "name": "conda-env-anaconda-panel-2023.05-py310-py"
  },
  "language_info": {
   "codemirror_mode": {
    "name": "ipython",
    "version": 3
   },
   "file_extension": ".py",
   "mimetype": "text/x-python",
   "name": "python",
   "nbconvert_exporter": "python",
   "pygments_lexer": "ipython3",
   "version": "3.11.5"
  }
 },
 "nbformat": 4,
 "nbformat_minor": 5
}
